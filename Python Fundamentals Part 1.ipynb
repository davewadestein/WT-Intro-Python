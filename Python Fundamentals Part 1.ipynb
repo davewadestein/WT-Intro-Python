{
 "cells": [
  {
   "cell_type": "markdown",
   "metadata": {
    "id": "f-3Regf5CBnD"
   },
   "source": [
    "# Recurring Themes\n",
    "* Programming \"Pythonically\"\n",
    "  * What does this mean?\n",
    "* Using AI to be more efficient\n",
    "  * We're going to leverage AI to\n",
    "    * write code for us (but this only makes sense if we understand it writes\n",
    "    * ...explain code we don't understand (but again, we need to have a solid foundation or we won't understand the explanation)\n",
    "   * critique our code\n",
    "* How to get help\n",
    "* Best practices"
   ]
  },
  {
   "cell_type": "markdown",
   "metadata": {
    "id": "QFUSSDx95_fW"
   },
   "source": [
    "# What is Python?\n",
    "* a scripting language\n",
    "* a programming language\n",
    "* a command interpreter\n",
    "* a dynamically typed language\n",
    "* an object-oriented language"
   ]
  },
  {
   "cell_type": "code",
   "execution_count": null,
   "metadata": {
    "id": "BfqQaedG5_fX"
   },
   "outputs": [],
   "source": [
    "print('Hello, world!')"
   ]
  },
  {
   "cell_type": "markdown",
   "metadata": {
    "id": "I5YccdET5_fY"
   },
   "source": [
    "## How to get around in Jupyter:\n",
    "* Each place for you to enter text is called a _cell_\n",
    "* Usually you enter __`Python`__ code, but you can also enter text in a _markup_ language called __`Markdown`__ (that's what's going on in _this_ cell)\n",
    "* To \"run\" the code in the cell, hit __Shift-Return__ (i.e., hold down __Shift__ key, then hit __Return__)\n",
    "* Try it with the cell below..."
   ]
  },
  {
   "cell_type": "code",
   "execution_count": null,
   "metadata": {
    "id": "vxORAlkA5_fY"
   },
   "outputs": [],
   "source": [
    "count = 451\n",
    "count"
   ]
  },
  {
   "cell_type": "markdown",
   "metadata": {
    "id": "_i18JaG35_fY"
   },
   "source": [
    "* we'll work inside the Jupyter notebook and you'll be able to take it with you as a living, breathing document of your work in this class\n",
    "* the __Insert__ menu will allow you to add a cell above or below the current cell\n",
    "* the __Kernel__ menu will allow you to \"talk\" to the Python interpreter on your machine\n",
    "  * (when you type into a cell, you are \"talking\" to the web browser, and the web browser sends the text to the __`Python`__ interpreter to be \"run\")\n",
    "  * the __Kernel__ menu will allow you to _restart_ your __`Python`__ interpreter in case something goes wrong and it stops responding to you\n",
    "  "
   ]
  },
  {
   "cell_type": "markdown",
   "metadata": {
    "id": "DA5iRGzh5_fY"
   },
   "source": [
    "## Who/When\n",
    "* created by Guido van Rossum / first release 1991\n",
    "* \"pythonic\""
   ]
  },
  {
   "cell_type": "markdown",
   "metadata": {
    "id": "nnSCkQIp5_fZ"
   },
   "source": [
    "## Variables/Types\n",
    "* what are variables?\n",
    "  * what makes a good/bad variable name?\n",
    "* no declarations–Python is dynamically typed\n",
    "* basic data types are __int, float, string, boolean__\n",
    "* everything is an object (this is a difficult concept we will understand over time)"
   ]
  },
  {
   "cell_type": "code",
   "execution_count": null,
   "metadata": {
    "id": "Oic4mOLo5_fZ"
   },
   "outputs": [],
   "source": [
    "first = 3 # \"assignment statement\"\n",
    "second = 24.99\n",
    "third = 0\n",
    "print(first, second, third)"
   ]
  },
  {
   "cell_type": "code",
   "execution_count": null,
   "metadata": {
    "id": "ssWWy41f5_fZ"
   },
   "outputs": [],
   "source": [
    "second # asking Python to evaluate the expression we typed, i.e., tell us the value"
   ]
  },
  {
   "cell_type": "markdown",
   "metadata": {
    "id": "zixGG3l85_fZ"
   },
   "source": [
    "## ...but strongly typed!\n",
    "* that is, you cannot mix types"
   ]
  },
  {
   "cell_type": "code",
   "execution_count": null,
   "metadata": {
    "id": "NUwOWVBA5_fZ"
   },
   "outputs": [],
   "source": [
    "prince = 'Prince'"
   ]
  },
  {
   "cell_type": "code",
   "execution_count": null,
   "metadata": {
    "id": "p2Rks8jw5_fZ"
   },
   "outputs": [],
   "source": [
    "prince + 1999"
   ]
  },
  {
   "cell_type": "code",
   "execution_count": null,
   "metadata": {
    "id": "GvIMO5WX5_fZ"
   },
   "outputs": [],
   "source": [
    "prince + str(1999) # 'Prince' + '1999'"
   ]
  },
  {
   "cell_type": "code",
   "execution_count": null,
   "metadata": {
    "id": "wdZ7r1u-5_fa"
   },
   "outputs": [],
   "source": [
    "# Basic datatypes in Python\n",
    "count = 12\n",
    "price = 14.95\n",
    "is_done = True\n",
    "name = 'Guido'\n",
    "print(count, price, is_done, name)"
   ]
  },
  {
   "cell_type": "code",
   "execution_count": null,
   "metadata": {
    "id": "YCgiVObD5_fa"
   },
   "outputs": [],
   "source": [
    "name # tell me the value of name"
   ]
  },
  {
   "cell_type": "code",
   "execution_count": null,
   "metadata": {},
   "outputs": [],
   "source": [
    "print(name) # vs. printing name w/built-in print function"
   ]
  },
  {
   "cell_type": "code",
   "execution_count": null,
   "metadata": {
    "id": "y7hSscQc5_fa"
   },
   "outputs": [],
   "source": [
    "is_done"
   ]
  },
  {
   "cell_type": "markdown",
   "metadata": {
    "id": "vb9FaTkE5_fa"
   },
   "source": [
    "# Some [Builtin Python Functions](https://docs.python.org/3/library/functions.html)"
   ]
  },
  {
   "cell_type": "markdown",
   "metadata": {
    "id": "k3dyFvmhiEHX"
   },
   "source": [
    "## What's a function?\n",
    "* think of a function as an appliance, e.g.,\n",
    "  * blender\n",
    "  * toaster\n",
    "* a function can...\n",
    "  * take input\n",
    "  * change that input\n",
    "  * produce output\n",
    "* what's the input to a blender?\n",
    "  * what's the output?\n",
    "  * was the input changed?\n"
   ]
  },
  {
   "cell_type": "markdown",
   "metadata": {
    "id": "CqLuyqe65_fa"
   },
   "source": [
    "## __`str()`__\n",
    "* \"string-ifies\" whatever is passed as an argument, i.e., returns a string *version*\n",
    "* important to understand that the __`str()`__ function does not alter the object that was passed to it\n",
    "* any object can be string-ified–that is, you can pass any object to the __`str()`__ function and it will work"
   ]
  },
  {
   "cell_type": "code",
   "execution_count": null,
   "metadata": {
    "id": "wd2OF-wW5_fa"
   },
   "outputs": [],
   "source": [
    "str(1999)"
   ]
  },
  {
   "cell_type": "code",
   "execution_count": null,
   "metadata": {
    "id": "I_vYfqGz60y2"
   },
   "outputs": [],
   "source": [
    "str(1.33)"
   ]
  },
  {
   "cell_type": "code",
   "execution_count": null,
   "metadata": {
    "id": "UMpt34Sk5_fa"
   },
   "outputs": [],
   "source": [
    "str('a string')"
   ]
  },
  {
   "cell_type": "markdown",
   "metadata": {
    "id": "oMN8Sk3o5_fa"
   },
   "source": [
    "## __`int()`__\n",
    "* __int__-ifies whatever is passed as an argument, i.e., returns an int verson\n",
    "* will not always work, cf. __`str()`__"
   ]
  },
  {
   "cell_type": "code",
   "execution_count": null,
   "metadata": {
    "id": "mVdPewZD5_fa"
   },
   "outputs": [],
   "source": [
    "value = '503'\n",
    "int(value)"
   ]
  },
  {
   "cell_type": "code",
   "execution_count": null,
   "metadata": {
    "id": "0oTLEaMn5_fa"
   },
   "outputs": [],
   "source": [
    "value = '503a'\n",
    "int(value) # will this work?"
   ]
  },
  {
   "cell_type": "code",
   "execution_count": null,
   "metadata": {
    "id": "qhE5PBw6Kaz9"
   },
   "outputs": [],
   "source": [
    "int(13.72)"
   ]
  },
  {
   "cell_type": "markdown",
   "metadata": {
    "id": "yQYRbb2xbxN7"
   },
   "source": [
    "# __`float()`__"
   ]
  },
  {
   "cell_type": "code",
   "execution_count": null,
   "metadata": {
    "id": "Rg3r4gtN5_fc"
   },
   "outputs": [],
   "source": [
    "number = 1\n",
    "float(number)"
   ]
  },
  {
   "cell_type": "code",
   "execution_count": null,
   "metadata": {
    "id": "XN-I04LB5_fc"
   },
   "outputs": [],
   "source": [
    "float('-1.23')"
   ]
  },
  {
   "cell_type": "code",
   "execution_count": null,
   "metadata": {
    "id": "5SgFet_uQ2np"
   },
   "outputs": [],
   "source": [
    "float('-1.23x') # will this work?"
   ]
  },
  {
   "cell_type": "markdown",
   "metadata": {
    "id": "-4_mY9ew5_fa"
   },
   "source": [
    "## __`type()`__\n",
    "* returns the type of the object you pass to it"
   ]
  },
  {
   "cell_type": "code",
   "execution_count": null,
   "metadata": {
    "id": "6AXb-Nd65_fa"
   },
   "outputs": [],
   "source": [
    "value = 1\n",
    "value, type(value) # ok to ask for Python to evaluate *mutiple* values in a single response"
   ]
  },
  {
   "cell_type": "code",
   "execution_count": null,
   "metadata": {
    "id": "_dq4bMk05_fb"
   },
   "outputs": [],
   "source": [
    "value = value + 0.33 # val += 0.33\n",
    "value, type(value)"
   ]
  },
  {
   "cell_type": "code",
   "execution_count": null,
   "metadata": {
    "id": "cNtHoJJQ5_fb"
   },
   "outputs": [],
   "source": [
    "type(is_done)"
   ]
  },
  {
   "cell_type": "markdown",
   "metadata": {
    "id": "6TybDRk25_fb"
   },
   "source": [
    "## __`print()`__"
   ]
  },
  {
   "cell_type": "code",
   "execution_count": null,
   "metadata": {
    "id": "NrNz99oz5_fb"
   },
   "outputs": [],
   "source": [
    "name = 'Bruce Lee'\n",
    "print(name)"
   ]
  },
  {
   "cell_type": "code",
   "execution_count": null,
   "metadata": {
    "id": "usI47Az15_fb"
   },
   "outputs": [],
   "source": [
    "first_name, middle_name, last_name = 'Taylor', 'Alison', 'Swift' # only do this is variables are related\n",
    "print(first_name, middle_name, last_name)"
   ]
  },
  {
   "cell_type": "code",
   "execution_count": null,
   "metadata": {
    "id": "2CMPn95O5_fb"
   },
   "outputs": [],
   "source": [
    "print(first_name, middle_name, last_name, sep='...') # sep is called a \"keyword argument\""
   ]
  },
  {
   "cell_type": "code",
   "execution_count": null,
   "metadata": {
    "id": "pkBElPyY5_fb",
    "scrolled": true
   },
   "outputs": [],
   "source": [
    "print(last_name, first_name, sep=', ', end=' ')\n",
    "# ... intervening code ...\n",
    "print(middle_name)"
   ]
  },
  {
   "cell_type": "markdown",
   "metadata": {
    "id": "ldGfwnCn5_fb"
   },
   "source": [
    "# Python Arithmetic\n",
    "* the Python interpreter can perform arithmetic"
   ]
  },
  {
   "cell_type": "code",
   "execution_count": null,
   "metadata": {
    "id": "1vzP1FBi5_fb"
   },
   "outputs": [],
   "source": [
    "8 / 3"
   ]
  },
  {
   "cell_type": "code",
   "execution_count": null,
   "metadata": {
    "id": "u7wZerWN5_fb"
   },
   "outputs": [],
   "source": [
    "8 // 3 # \"int\" division"
   ]
  },
  {
   "cell_type": "markdown",
   "metadata": {
    "id": "fALeN5JT5_fb"
   },
   "source": [
    "# div/mod/divmod"
   ]
  },
  {
   "cell_type": "code",
   "execution_count": null,
   "metadata": {
    "id": "WP3IC-OZ5_fc"
   },
   "outputs": [],
   "source": [
    "23 // 4 # \"quotient\""
   ]
  },
  {
   "cell_type": "code",
   "execution_count": null,
   "metadata": {
    "id": "VM2xlJBr5_fc"
   },
   "outputs": [],
   "source": [
    "23 % 4 # remainder (modulus) when dividing 23 by 4"
   ]
  },
  {
   "cell_type": "code",
   "execution_count": null,
   "metadata": {
    "id": "KyEf1B0I5_fc"
   },
   "outputs": [],
   "source": [
    "divmod(23, 4) # Python functions can and often do return multiple values"
   ]
  },
  {
   "cell_type": "code",
   "execution_count": null,
   "metadata": {
    "id": "baFB1pE65_fc"
   },
   "outputs": [],
   "source": [
    "quotient, remainder = divmod(23, 4) # how many things does divmod() return?\n",
    "print(quotient)\n",
    "print(remainder)"
   ]
  },
  {
   "cell_type": "markdown",
   "metadata": {
    "id": "N_QzLEXu5_fc"
   },
   "source": [
    "# Strings"
   ]
  },
  {
   "cell_type": "markdown",
   "metadata": {
    "id": "qn-zYsy-5_fd"
   },
   "source": [
    "## Strings\n",
    "* \"strings\" are nothing more than text surrounded by quotes\n",
    "* you may use single or double quotes\n",
    "* you rarely need it, but `\\` lets you escape the next character, i.e., avoid its usual meaning\n",
    "* string operators: __`+, *`__"
   ]
  },
  {
   "cell_type": "code",
   "execution_count": null,
   "metadata": {
    "id": "QAEGzprh5_fd"
   },
   "outputs": [],
   "source": [
    "string1 = \"This string isn't a problem\"\n",
    "string1"
   ]
  },
  {
   "cell_type": "code",
   "execution_count": null,
   "metadata": {
    "id": "A1Sc__-B5_fd"
   },
   "outputs": [],
   "source": [
    "string2 = 'This string is a \"good\" example'\n",
    "string2"
   ]
  },
  {
   "cell_type": "code",
   "execution_count": null,
   "metadata": {
    "id": "9CR2sRWd5_fd"
   },
   "outputs": [],
   "source": [
    "string3 = 'This string isn\\'t \"more difficult\" to read'\n",
    "print(string3)"
   ]
  },
  {
   "cell_type": "markdown",
   "metadata": {
    "id": "l7F9EwJe5_fd"
   },
   "source": [
    "* __`+`__ = concatenation operator\n",
    "* __`*`__ = duplication operator"
   ]
  },
  {
   "cell_type": "code",
   "execution_count": null,
   "metadata": {
    "id": "aRT01wTK5_fd"
   },
   "outputs": [],
   "source": [
    "s, t = \"hello\", 'bye' # bad practice in THREE ways\n",
    "print(s + t)"
   ]
  },
  {
   "cell_type": "code",
   "execution_count": null,
   "metadata": {
    "id": "CJKSQZ8R5_fd"
   },
   "outputs": [],
   "source": [
    "print(s, t)"
   ]
  },
  {
   "cell_type": "code",
   "execution_count": null,
   "metadata": {
    "id": "cu0Brs0o5_fd"
   },
   "outputs": [],
   "source": [
    "s * 4"
   ]
  },
  {
   "cell_type": "code",
   "execution_count": null,
   "metadata": {
    "id": "J6z7U-au5_fd"
   },
   "outputs": [],
   "source": [
    "print('0123456789' * 8)\n",
    "print('-' * 80)"
   ]
  },
  {
   "cell_type": "markdown",
   "metadata": {
    "id": "zrEDku-Y5_fd"
   },
   "source": [
    "## Multi-Line Strings\n",
    "* triple quotes allow for easy multi-line strings (i.e., strings that span multiple lines)"
   ]
  },
  {
   "cell_type": "code",
   "execution_count": null,
   "metadata": {
    "id": "wkOOcfRo5_fd"
   },
   "outputs": [],
   "source": [
    "s = \"\"\"\n",
    "isn't this a\n",
    "multi-line string\n",
    "?\n",
    "\"\"\"\n",
    "\n",
    "print(s)"
   ]
  },
  {
   "cell_type": "markdown",
   "metadata": {
    "id": "SZZ8NKmg5_fd"
   },
   "source": [
    "## Exercise: Strings\n",
    "* after typing this in...\n",
    "\n",
    "<pre><b>a, b, o, p = 'b', 'a', 'p', 'o'\n",
    "</pre>\n",
    "\n",
    "<pre><b>What will be the result of these expressions?\n",
    "\n",
    "(Type them in and see, but first, think about what you expect the result to be)\n",
    "o + p + o\n",
    "a * 3 + b\n",
    "a + p * 2 + 'k' * 2 + 'e' * 2 + o + 'er'\n"
   ]
  },
  {
   "cell_type": "markdown",
   "metadata": {
    "id": "Y3OrerQK5_fd"
   },
   "source": [
    "## __`len()`__\n",
    "* returns the length of a string\n",
    "  * (or more correctly returns the length/size of any \"container\")"
   ]
  },
  {
   "cell_type": "code",
   "execution_count": null,
   "metadata": {
    "id": "6Flk024_5_fd"
   },
   "outputs": [],
   "source": [
    "name = 'Prince'\n",
    "len(name)"
   ]
  },
  {
   "cell_type": "code",
   "execution_count": null,
   "metadata": {
    "id": "h_uGrC0x5_fd"
   },
   "outputs": [],
   "source": [
    "len('')"
   ]
  },
  {
   "cell_type": "code",
   "execution_count": null,
   "metadata": {
    "id": "u1hDG7qb5_fe"
   },
   "outputs": [],
   "source": [
    "len(name * 5)"
   ]
  },
  {
   "cell_type": "markdown",
   "metadata": {
    "id": "9jKkcMwS5_fe"
   },
   "source": [
    "## Indexing Strings with __`[]`__\n",
    "* access a single character via its offset\n",
    "* easier to think of offset as opposed to index\n",
    "* negative offsets count from end of string"
   ]
  },
  {
   "cell_type": "code",
   "execution_count": null,
   "metadata": {
    "id": "0td3D-Kg5_fe"
   },
   "outputs": [],
   "source": [
    "alphabet = 'abcdefghijklmnopqrstuvwxyz'\n",
    "         #  01234567890123456789012345\n",
    "         #                         321-"
   ]
  },
  {
   "cell_type": "code",
   "execution_count": null,
   "metadata": {
    "id": "W344MnXB5_fe"
   },
   "outputs": [],
   "source": [
    "alphabet[0] # \"alphabet of 0\""
   ]
  },
  {
   "cell_type": "code",
   "execution_count": null,
   "metadata": {
    "id": "F6l8LRHC5_fe"
   },
   "outputs": [],
   "source": [
    "alphabet[23] # len(alphabet)-3"
   ]
  },
  {
   "cell_type": "code",
   "execution_count": null,
   "metadata": {
    "id": "qMHPYn7k5_fe"
   },
   "outputs": [],
   "source": [
    "alphabet[-1] # idiomatic"
   ]
  },
  {
   "cell_type": "code",
   "execution_count": null,
   "metadata": {
    "id": "uoUeDtBH5_fe"
   },
   "outputs": [],
   "source": [
    "alphabet[-3]"
   ]
  },
  {
   "cell_type": "markdown",
   "metadata": {
    "id": "-NbV0nag5_fe"
   },
   "source": [
    "# Let's run a small program in the notebook...and then run it outside of the notebook"
   ]
  },
  {
   "cell_type": "code",
   "execution_count": null,
   "metadata": {
    "id": "wq1-czN55_fe"
   },
   "outputs": [],
   "source": [
    "name = input('Enter your name: ')\n",
    "print('You entered', name)"
   ]
  },
  {
   "cell_type": "markdown",
   "metadata": {
    "id": "d3fFuj8N5_fe"
   },
   "source": [
    "## Lab: putting our Python code in a file\n",
    "* it's important to understand how to create Python code outside of a notebook\n",
    "* we can use Visual Studio Code to create a new Python file"
   ]
  },
  {
   "cell_type": "markdown",
   "metadata": {
    "id": "hCu5CBH95_fe"
   },
   "source": [
    "## Indentation\n",
    "* colons and indentation delineate blocks in Python\n",
    "* no braces {...} like you will find in other languages\n",
    "* this will trip you up at first but once you're used to it, you'll love it"
   ]
  },
  {
   "cell_type": "code",
   "execution_count": null,
   "metadata": {
    "id": "JqXBR4dT5_fe"
   },
   "outputs": [],
   "source": [
    "number = 10\n",
    "\n",
    "if number % 2 == 0: # even?\n",
    "    print('Hey, number is even!')\n",
    "    print('This is part of the if block')\n",
    "\n",
    "print('this is not part of the if block and is printed regardless')\n"
   ]
  },
  {
   "cell_type": "markdown",
   "metadata": {
    "id": "3yhLYgUu5_fe"
   },
   "source": [
    "## Indentation (continued)\n",
    "*  indentation must be consistent throughout the block"
   ]
  },
  {
   "cell_type": "code",
   "execution_count": null,
   "metadata": {
    "id": "fXfSzkgKuFdx"
   },
   "outputs": [],
   "source": [
    "if number == 1:\n",
    "    print('number is 1')\n",
    "    print('something else')"
   ]
  },
  {
   "cell_type": "markdown",
   "metadata": {
    "id": "t8wnUev35_fe"
   },
   "source": [
    "*  you can use any indentation you want as long as it's 4 spaces (PEP-8\n",
    "https://www.python.org/dev/peps/pep-0008/)"
   ]
  },
  {
   "cell_type": "markdown",
   "metadata": {
    "id": "IO9hLBvX5_fe"
   },
   "source": [
    "# __`if`__ statements\n",
    "* enable us to ask a question\n",
    "* no parens needed as they are in some other languages\n",
    "* __`elif`__ = else if"
   ]
  },
  {
   "cell_type": "code",
   "execution_count": null,
   "metadata": {
    "id": "UqAs7qJ35_fe"
   },
   "outputs": [],
   "source": [
    "my_number = 37\n",
    "guess = int(input('Enter your guess (make sure it is an integer): '))\n",
    "\n",
    "if guess > my_number:\n",
    "    print('Guess was too high')\n",
    "elif guess < my_number:\n",
    "    print('Guess was too low')\n",
    "else:\n",
    "    print('You got it!')"
   ]
  },
  {
   "cell_type": "markdown",
   "metadata": {
    "id": "JwLcBjta5_fe"
   },
   "source": [
    "# Comparison Operators\n",
    "\n",
    "| operator | meaning |\n",
    "|---|---|\n",
    "| == | equality  |\n",
    "| != | inequality|\n",
    "| < | less than |\n",
    "| <= | less than or equals |\n",
    "| > | greater than |\n",
    "| >= | greater than or equals |\n",
    "| in | membership"
   ]
  },
  {
   "cell_type": "code",
   "execution_count": null,
   "metadata": {
    "id": "-YrTmlx15_ff"
   },
   "outputs": [],
   "source": [
    "x = 7"
   ]
  },
  {
   "cell_type": "code",
   "execution_count": null,
   "metadata": {
    "id": "RVE44Geb5_ff"
   },
   "outputs": [],
   "source": [
    "5 < x"
   ]
  },
  {
   "cell_type": "code",
   "execution_count": null,
   "metadata": {
    "id": "stcknKzW5_ff"
   },
   "outputs": [],
   "source": [
    "x < 9"
   ]
  },
  {
   "cell_type": "code",
   "execution_count": null,
   "metadata": {
    "id": "iWPYuIeB5_ff"
   },
   "outputs": [],
   "source": [
    "5 < x and x < 9 # many programming languages use &&"
   ]
  },
  {
   "cell_type": "code",
   "execution_count": null,
   "metadata": {
    "id": "fybvz3Ou5_ff"
   },
   "outputs": [],
   "source": [
    "(5 < x) and (x < 9)"
   ]
  },
  {
   "cell_type": "code",
   "execution_count": null,
   "metadata": {
    "id": "X57y6-4I5_ff"
   },
   "outputs": [],
   "source": [
    "5 < x < 9 # only language I know of that does this right"
   ]
  },
  {
   "cell_type": "markdown",
   "metadata": {
    "id": "njH9wj755_ff"
   },
   "source": [
    "## Loops\n",
    "* enable us to repeat an action\n",
    "* two kinds of loops in Python\n",
    " * __`while`__ loops (\"do something until a condition becomes false\")\n",
    " * __`for`__ loops (\"do something a certain number of times\")"
   ]
  },
  {
   "cell_type": "markdown",
   "metadata": {
    "id": "7_3TtB9l5_ff"
   },
   "source": [
    "## __`while`__ loop example"
   ]
  },
  {
   "cell_type": "code",
   "execution_count": null,
   "metadata": {
    "colab": {
     "base_uri": "https://localhost:8080/"
    },
    "id": "WnDewh8j5_ff",
    "outputId": "bd93c9bf-79cc-47cf-af64-5bae4842eb99"
   },
   "outputs": [],
   "source": [
    "import random # \"batteries included\"\n",
    "\n",
    "my_number = random.randint(1, 100)\n",
    "guess = 0 # \"prime the pump\"\n",
    "guess_count = 0\n",
    "\n",
    "while guess != my_number: # loop until...?\n",
    "    guess = int(input('Enter your guess (enter 0 to give up): ')) # get input\n",
    "    # deal with invalid input...\n",
    "    if guess < 1 or guess > 100:\n",
    "        print('Invalid guess: must be between 1 and 100')\n",
    "        continue\n",
    "    guess_count += 1 # increment the guess count\n",
    "\n",
    "    # respond to user, based on valid input\n",
    "    if guess == 0:\n",
    "        print(\"Sorry that you're giving up!\")\n",
    "        break # leave the loop immediately (abnormal termination)\n",
    "    elif guess > my_number:\n",
    "        print(\"Guess was too high\")\n",
    "    elif guess < my_number:\n",
    "        print(\"Guess was too low\")\n",
    "    else:\n",
    "        print(\"You got it!\")"
   ]
  },
  {
   "cell_type": "markdown",
   "metadata": {
    "id": "2i1rIggX5_ff"
   },
   "source": [
    "## __`for`__ loop example\n",
    "* typically used to iterate through an _container_ (string and others we haven't learned yet) one element at a time\n",
    "* _\"for thing in container\"_"
   ]
  },
  {
   "cell_type": "code",
   "execution_count": null,
   "metadata": {
    "colab": {
     "base_uri": "https://localhost:8080/"
    },
    "id": "vk881_Fj5_ff",
    "outputId": "ceaf2afc-0900-4b0a-8690-acfeb4fa2d8d",
    "scrolled": true
   },
   "outputs": [],
   "source": [
    "for character in 'Python': # for each element in the container\n",
    "    print(character)"
   ]
  },
  {
   "cell_type": "markdown",
   "metadata": {
    "id": "aC65bPk-5_ff"
   },
   "source": [
    "## Sequences are also iterable\n"
   ]
  },
  {
   "cell_type": "code",
   "execution_count": null,
   "metadata": {
    "colab": {
     "base_uri": "https://localhost:8080/"
    },
    "id": "RLepP8cY5_ff",
    "outputId": "f56e61b4-b517-48ca-c893-571fa9108c92"
   },
   "outputs": [],
   "source": [
    "for number in range(1, 10): # \"for thing in container\"\n",
    "    print(number)"
   ]
  },
  {
   "cell_type": "code",
   "execution_count": null,
   "metadata": {
    "colab": {
     "base_uri": "https://localhost:8080/"
    },
    "id": "EXCLbEBDUYZz",
    "outputId": "b6581f11-333d-4864-a8fc-cb37304617d3"
   },
   "outputs": [],
   "source": [
    "for number in range(1, 10, 2): # \"for thing in container\"\n",
    "    print(number)"
   ]
  },
  {
   "cell_type": "code",
   "execution_count": null,
   "metadata": {
    "colab": {
     "base_uri": "https://localhost:8080/"
    },
    "id": "a0S6VRo15_ff",
    "outputId": "b28866e5-96a8-4474-a6bd-cf800fc2805f",
    "scrolled": true
   },
   "outputs": [],
   "source": [
    "for num in range(10, 0):\n",
    "    print(num)\n",
    "print('blast off!')"
   ]
  },
  {
   "cell_type": "code",
   "execution_count": null,
   "metadata": {
    "colab": {
     "base_uri": "https://localhost:8080/"
    },
    "id": "fB4cdPsP5_ff",
    "outputId": "f17a6d2c-dc48-48e4-b504-25f0272b1178",
    "scrolled": true
   },
   "outputs": [],
   "source": [
    "for num in range(-5, 6): # -5 ... 5\n",
    "    if num == 0:\n",
    "        continue # \"syntactic sugar\" (not needed, but nice to have)\n",
    "    print(1 / num, end=' ')"
   ]
  },
  {
   "cell_type": "markdown",
   "metadata": {
    "id": "HZah9Su45_ff"
   },
   "source": [
    "## Quick Lab: Loops/Strings\n",
    "* have the user enter a string, then loop through the string to generate (or print) a new string in which every character is duplicated, e.g., \"Python\" => \"PPyytthhoonn\""
   ]
  },
  {
   "cell_type": "markdown",
   "metadata": {
    "id": "5q9k5xNdUs6d"
   },
   "source": [
    "## Quick Lab: Loops/Numbers\n",
    "* write Python code to generate a 6-digit access/security code, like you get when your try to log in to a website and it sends a code to your phone...e.g., 031728"
   ]
  },
  {
   "cell_type": "markdown",
   "metadata": {
    "id": "UJ22Z3N-5_ff"
   },
   "source": [
    "## Lab: Fibonacci\n",
    "* write code to print out the Fibonacci sequence up to a number of the user's choosing\n",
    "* user will enter either number of Fibonacci numbers they want to see or the maximum Fibonacci number they want to see (either a for loop or while loop)\n",
    "* first Fibonacci is 1, second Fibonacci is also 1, and every subsequent Fibonacci number is the sum of the previous two (1, 1, 2, 3, 5, 8, 13, 21, 34, ...)"
   ]
  },
  {
   "cell_type": "markdown",
   "metadata": {
    "id": "EZQgau7k5_fg"
   },
   "source": [
    "## Loops: Recap\n",
    "* __`for`__ loop is more common\n",
    "* __`break`__ exits loop immediately (abnormal termination)\n",
    "* __`continue`__ skips remainder of loop and starts next iteration"
   ]
  },
  {
   "cell_type": "markdown",
   "metadata": {
    "id": "Q3Wvy8Ru5_fg"
   },
   "source": [
    "## Revisiting Strings"
   ]
  },
  {
   "cell_type": "markdown",
   "metadata": {
    "id": "RVqMAxFY5_fg"
   },
   "source": [
    "## Slices\n",
    "* __`[start:stop:step]`__\n",
    "* extracts the substring from __`start`__ to __`stop`__ _minus 1_, skipping __`step`__ characters at a time\n",
    "* each of the st... are optional"
   ]
  },
  {
   "cell_type": "code",
   "execution_count": null,
   "metadata": {
    "id": "-DvSKzI_5_fg"
   },
   "outputs": [],
   "source": [
    "alphabet = 'abcdefghijklmnopqrstuvwxyz'\n",
    "         #  01234567890123456789012345\n",
    "         #                         321-"
   ]
  },
  {
   "cell_type": "code",
   "execution_count": null,
   "metadata": {
    "colab": {
     "base_uri": "https://localhost:8080/",
     "height": 35
    },
    "id": "Ek0NrjeH5_fg",
    "outputId": "7fa061e3-42df-4a4d-e76e-3b3e1b0ab200"
   },
   "outputs": [],
   "source": [
    "alphabet[10:15]"
   ]
  },
  {
   "cell_type": "code",
   "execution_count": null,
   "metadata": {
    "colab": {
     "base_uri": "https://localhost:8080/",
     "height": 35
    },
    "id": "HxS3UTt35_fg",
    "outputId": "80f0d4e2-a5ec-4d8b-a88e-f1c479d51ccf"
   },
   "outputs": [],
   "source": [
    "alphabet[:5] # first 5 chars"
   ]
  },
  {
   "cell_type": "code",
   "execution_count": null,
   "metadata": {
    "colab": {
     "base_uri": "https://localhost:8080/",
     "height": 35
    },
    "id": "XgWuKItU5_fg",
    "outputId": "ca24798d-ca8c-4495-b199-73da4fb2291b"
   },
   "outputs": [],
   "source": [
    "alphabet[23:]"
   ]
  },
  {
   "cell_type": "code",
   "execution_count": null,
   "metadata": {
    "colab": {
     "base_uri": "https://localhost:8080/",
     "height": 35
    },
    "id": "Uldse7u75_fg",
    "outputId": "a7183564-73b6-43dc-ae0c-d1fa029abd52"
   },
   "outputs": [],
   "source": [
    "alphabet[3:23:3]"
   ]
  },
  {
   "cell_type": "code",
   "execution_count": null,
   "metadata": {
    "colab": {
     "base_uri": "https://localhost:8080/",
     "height": 35
    },
    "id": "Zs3-PEF65_fg",
    "outputId": "ea37626e-93e6-4f6c-863d-60155d8eb551"
   },
   "outputs": [],
   "source": [
    "alphabet[10:2:-1]"
   ]
  },
  {
   "cell_type": "code",
   "execution_count": null,
   "metadata": {
    "colab": {
     "base_uri": "https://localhost:8080/",
     "height": 35
    },
    "id": "Y1F5VlVm5_fg",
    "outputId": "a2745b51-c5cc-4381-b8a9-319031dc03bc"
   },
   "outputs": [],
   "source": [
    "alphabet[-3:]"
   ]
  },
  {
   "cell_type": "code",
   "execution_count": null,
   "metadata": {
    "colab": {
     "base_uri": "https://localhost:8080/",
     "height": 35
    },
    "id": "aEQqV8l85_fg",
    "outputId": "c8b7fb81-d873-4ab3-9362-54ebb2c11d57"
   },
   "outputs": [],
   "source": [
    "alphabet[::-1]"
   ]
  },
  {
   "cell_type": "markdown",
   "metadata": {
    "id": "rp6dFn2y5_fg"
   },
   "source": [
    "## More String Functions (Methods)\n",
    "* \"methods\" are functions which are specific to a given datatype (e.g., string functions)\n",
    "* methods are called using a new syntax"
   ]
  },
  {
   "cell_type": "code",
   "execution_count": null,
   "metadata": {
    "id": "Q9GnnNr65_fg"
   },
   "outputs": [],
   "source": [
    "poem = '''TWO roads diverged in a yellow wood,\n",
    "And sorry I could not travel both\n",
    "And be one traveler, long I stood\n",
    "And looked down one as far as I could\n",
    "To where it bent in the undergrowth;\n",
    "\n",
    "Then took the other, as just as fair,\n",
    "And having perhaps the better claim,\n",
    "Because it was grassy and wanted wear;\n",
    "Though as for that the passing there\n",
    "Had worn them really about the same,\n",
    "\n",
    "And both that morning equally lay\n",
    "In leaves no step had trodden black.\n",
    "Oh, I kept the first for another day!\n",
    "Yet knowing how way leads on to way,\n",
    "I doubted if I should ever come back.\n",
    "\n",
    "I shall be telling this with a sigh\n",
    "Somewhere ages and ages hence:\n",
    "Two roads diverged in a wood, and I—\n",
    "I took the one less traveled by,\n",
    "And that has made all the difference.'''"
   ]
  },
  {
   "cell_type": "code",
   "execution_count": null,
   "metadata": {
    "colab": {
     "base_uri": "https://localhost:8080/"
    },
    "id": "BUpfAIz55_fg",
    "outputId": "97dae01b-0b9c-40fa-a6ef-e2684ed606a7"
   },
   "outputs": [],
   "source": [
    "len(poem) # built-in function"
   ]
  },
  {
   "cell_type": "code",
   "execution_count": null,
   "metadata": {
    "colab": {
     "base_uri": "https://localhost:8080/",
     "height": 35
    },
    "id": "HSdO6_775_fg",
    "outputId": "c8955864-aa37-43ba-9d14-976f3b83d224"
   },
   "outputs": [],
   "source": [
    "poem[:17]"
   ]
  },
  {
   "cell_type": "code",
   "execution_count": null,
   "metadata": {
    "colab": {
     "base_uri": "https://localhost:8080/"
    },
    "id": "p-6WjSOe5_fg",
    "outputId": "99edbdaa-ea06-4739-b598-5bc32b69a1b7"
   },
   "outputs": [],
   "source": [
    "poem.startswith('TWO') # startswith is a function...a \"method\"\n",
    "# NOT startswith(poem, 'TWO')"
   ]
  },
  {
   "cell_type": "code",
   "execution_count": null,
   "metadata": {
    "colab": {
     "base_uri": "https://localhost:8080/"
    },
    "id": "4qKDWIa25_fg",
    "outputId": "431dbf3c-9f7e-46d1-d712-3afdb65a0601"
   },
   "outputs": [],
   "source": [
    "poem.endswith('And miles to go before I sleep.')"
   ]
  },
  {
   "cell_type": "code",
   "execution_count": null,
   "metadata": {
    "colab": {
     "base_uri": "https://localhost:8080/"
    },
    "id": "X9RMQtD75_fg",
    "outputId": "3a29ba1f-74ef-4e6f-b31a-2b4e9062b970"
   },
   "outputs": [],
   "source": [
    "poem.find('the')"
   ]
  },
  {
   "cell_type": "code",
   "execution_count": null,
   "metadata": {
    "colab": {
     "base_uri": "https://localhost:8080/",
     "height": 35
    },
    "id": "YLQrSxHG5_fh",
    "outputId": "d8d77973-ccfa-48c8-d73c-1ae1c9e24bd3"
   },
   "outputs": [],
   "source": [
    "poem[163:178] # how long is this slice?"
   ]
  },
  {
   "cell_type": "code",
   "execution_count": null,
   "metadata": {
    "colab": {
     "base_uri": "https://localhost:8080/"
    },
    "id": "-OQ603zZ5_fh",
    "outputId": "9b21ebff-a385-4134-c1f0-ab2140d8a0dc"
   },
   "outputs": [],
   "source": [
    "poem.rfind('the')"
   ]
  },
  {
   "cell_type": "code",
   "execution_count": null,
   "metadata": {
    "colab": {
     "base_uri": "https://localhost:8080/"
    },
    "id": "IE4eVki65_fh",
    "outputId": "f1ffbfc7-7be1-436c-c47f-4f12e73e92df"
   },
   "outputs": [],
   "source": [
    "poem.count('the')"
   ]
  },
  {
   "cell_type": "markdown",
   "metadata": {
    "id": "BFQc9tNs5_fh"
   },
   "source": [
    "## __`strip()`__"
   ]
  },
  {
   "cell_type": "code",
   "execution_count": null,
   "metadata": {
    "colab": {
     "base_uri": "https://localhost:8080/",
     "height": 35
    },
    "id": "rR09gl015_fh",
    "outputId": "af8dab55-1dcc-4318-c478-2e0db9ba0c66"
   },
   "outputs": [],
   "source": [
    "s = '  \\t\\t\\t \\n\\n  Now is the time   '\n",
    "s.strip() # generates a new string in which leading/trailing..."
   ]
  },
  {
   "cell_type": "code",
   "execution_count": null,
   "metadata": {
    "colab": {
     "base_uri": "https://localhost:8080/",
     "height": 35
    },
    "id": "Pua9ahRa5_fh",
    "outputId": "3e6d4912-47b6-4d1e-f68e-324b2a02dd65"
   },
   "outputs": [],
   "source": [
    "s"
   ]
  },
  {
   "cell_type": "code",
   "execution_count": null,
   "metadata": {
    "id": "VTukbHIn5_fh"
   },
   "outputs": [],
   "source": [
    "s = s.strip()"
   ]
  },
  {
   "cell_type": "code",
   "execution_count": null,
   "metadata": {
    "colab": {
     "base_uri": "https://localhost:8080/",
     "height": 35
    },
    "id": "QR7ipjnh5_fh",
    "outputId": "4cac883c-3cc1-4b73-ba84-4755767d4704"
   },
   "outputs": [],
   "source": [
    "s"
   ]
  },
  {
   "cell_type": "code",
   "execution_count": null,
   "metadata": {
    "colab": {
     "base_uri": "https://localhost:8080/",
     "height": 35
    },
    "id": "Gdf_aosx5_fh",
    "outputId": "b3712008-094a-44d6-b5c7-5f3d8ec8bfb3"
   },
   "outputs": [],
   "source": [
    "s = '.' + s + '...'\n",
    "s"
   ]
  },
  {
   "cell_type": "code",
   "execution_count": null,
   "metadata": {
    "colab": {
     "base_uri": "https://localhost:8080/",
     "height": 35
    },
    "id": "ZAF4fAjY5_fh",
    "outputId": "a8c53cb8-a025-4a75-e392-9fdcc876a18f"
   },
   "outputs": [],
   "source": [
    "s.strip('.')"
   ]
  },
  {
   "cell_type": "markdown",
   "metadata": {
    "id": "TcUaGkfl5_fh"
   },
   "source": [
    "## Even More String Functions (Methods)..."
   ]
  },
  {
   "cell_type": "code",
   "execution_count": null,
   "metadata": {
    "colab": {
     "base_uri": "https://localhost:8080/",
     "height": 35
    },
    "id": "ocZm_Woj5_fh",
    "outputId": "cb525cb2-ad20-4745-b85b-74c8f05023d2"
   },
   "outputs": [],
   "source": [
    "s = 'now IS the time'\n",
    "s.capitalize()"
   ]
  },
  {
   "cell_type": "code",
   "execution_count": null,
   "metadata": {
    "colab": {
     "base_uri": "https://localhost:8080/",
     "height": 35
    },
    "id": "ttSz9aKj5_fh",
    "outputId": "44d1298d-368e-42e4-aeb5-02c8a8576712"
   },
   "outputs": [],
   "source": [
    "s.title()"
   ]
  },
  {
   "cell_type": "code",
   "execution_count": null,
   "metadata": {
    "colab": {
     "base_uri": "https://localhost:8080/",
     "height": 35
    },
    "id": "EYBs1ldu5_fh",
    "outputId": "e71d7119-3900-45c4-dd15-e6857cfe2f3a"
   },
   "outputs": [],
   "source": [
    "s.upper()"
   ]
  },
  {
   "cell_type": "code",
   "execution_count": null,
   "metadata": {
    "colab": {
     "base_uri": "https://localhost:8080/",
     "height": 35
    },
    "id": "DpesNOjt5_fh",
    "outputId": "e397d3ad-fc59-4544-e12f-7c1c3b5429b2"
   },
   "outputs": [],
   "source": [
    "s.lower()"
   ]
  },
  {
   "cell_type": "code",
   "execution_count": null,
   "metadata": {
    "colab": {
     "base_uri": "https://localhost:8080/",
     "height": 35
    },
    "id": "YIPLYaeX5_fh",
    "outputId": "7d20e40a-cc6b-414a-9e9f-69c670bfc9c5"
   },
   "outputs": [],
   "source": [
    "s.replace('the', 'not the') # be careful of the naming"
   ]
  },
  {
   "cell_type": "code",
   "execution_count": null,
   "metadata": {
    "colab": {
     "base_uri": "https://localhost:8080/",
     "height": 35
    },
    "id": "BbDxuN9M5_fh",
    "outputId": "321add05-63e4-46d1-f66b-d204a3fa49ed"
   },
   "outputs": [],
   "source": [
    "s.replace('t', 'T')"
   ]
  },
  {
   "cell_type": "markdown",
   "metadata": {
    "id": "e1ZZuuTo5_fi"
   },
   "source": [
    "## Quick Lab: String Functions\n",
    "* write a Python program to read in a sentence and tell the user how many vowels are in that sentence\n",
    "* so if the user entered \"Apples are my favorite fruit\", your program would respond with 10 (or 11 if you count 'y' as a vowel)\n",
    "* output the original string with any vowels \"highlighted\" by making them upper case, e.g., **ApplEs ArE my fAvOrItE frUIt**"
   ]
  },
  {
   "cell_type": "markdown",
   "metadata": {
    "id": "8L7SrhfA5_fi"
   },
   "source": [
    "## Lab: String Functions\n",
    "* write a Python program to read in a string/sentence and then read in a number __`n`__ (give it a better name, but we'll use __`n`__ for this explanation)\n",
    "* your program will print out the sentence such that the first __`n`__ characters (including any spaces) are upper case, then the next __`n`__ characters (including any spaces) are lower case, and so on\n",
    "  * so if the user entered __`Now is the time`__ followed by __`4`__, your program would output __`NOW is tHE Time`__\n",
    "  * notice that spaces are characters, so in the above example, __`Now `__ are the first 4 characters and they are printed as upper case (the space will of course not be printed any differently, it will just be a space)"
   ]
  },
  {
   "cell_type": "markdown",
   "metadata": {
    "id": "hlJEE7Wz5_fi"
   },
   "source": [
    "## __`split()/join()`__\n",
    "* important string methods which are inverses of one another\n",
    "* __`.split()`__ splits a string into a __`list`__, a new datatype\n",
    "* __`.join()`__ takes a list of words and joins them back together into a string"
   ]
  },
  {
   "cell_type": "code",
   "execution_count": null,
   "metadata": {
    "colab": {
     "base_uri": "https://localhost:8080/"
    },
    "id": "9Q1zH_n35_fi",
    "outputId": "25a874d0-da76-44ae-f5d7-e06203a5ba3d"
   },
   "outputs": [],
   "source": [
    "'Now is the time'.split() # this is a string method"
   ]
  },
  {
   "cell_type": "code",
   "execution_count": null,
   "metadata": {
    "colab": {
     "base_uri": "https://localhost:8080/"
    },
    "id": "6rcJz-Uv5_fi",
    "outputId": "d553be08-cdc9-4af8-f1d2-3d412fc85490"
   },
   "outputs": [],
   "source": [
    "'eggs, bread, milk, yogurt'.split(', ')"
   ]
  },
  {
   "cell_type": "markdown",
   "metadata": {
    "id": "Ta6CLHgq5_fi"
   },
   "source": [
    "* Now we want to demonstrate that we can put back together a \"splitted\" string\n",
    "  * it would be nice if we could write __`['eggs', 'bread', 'milk', 'yogurt'].join(', ')`__\n",
    "  * but we can't because __`.join()`__ is actually a string method...WHY?"
   ]
  },
  {
   "cell_type": "code",
   "execution_count": null,
   "metadata": {
    "colab": {
     "base_uri": "https://localhost:8080/",
     "height": 35
    },
    "id": "y_RWOgJ-5_fi",
    "outputId": "083d5944-e353-4f0c-8f81-5bdd3f164024"
   },
   "outputs": [],
   "source": [
    "''.join(['anti', 'dis', 'establish', 'men', 'tarian', 'ism'])"
   ]
  },
  {
   "cell_type": "code",
   "execution_count": null,
   "metadata": {
    "colab": {
     "base_uri": "https://localhost:8080/",
     "height": 35
    },
    "id": "C2U4FpiV5_fi",
    "outputId": "24b475be-86a6-4d10-e868-857e10bc0513"
   },
   "outputs": [],
   "source": [
    "', '.join(['Anne', 'Robert', 'Nancy'])"
   ]
  },
  {
   "cell_type": "markdown",
   "metadata": {
    "id": "GwDTSRJj5_fi"
   },
   "source": [
    "## Lists\n",
    "* usually homogeneous, but may contain any objects\n",
    "* unbounded / not a fixed size\n",
    "* duplicates allowed\n",
    "* __`list()`__ function creates a list from another sequence or container"
   ]
  },
  {
   "cell_type": "code",
   "execution_count": null,
   "metadata": {
    "colab": {
     "base_uri": "https://localhost:8080/"
    },
    "id": "jZ6zn6ug5_fi",
    "outputId": "51722b1c-d558-4a8d-d2ae-50ae60a59adf"
   },
   "outputs": [],
   "source": [
    "mylist = [1, 3, 5, 7, 5, 3, 1]\n",
    "mylist"
   ]
  },
  {
   "cell_type": "code",
   "execution_count": null,
   "metadata": {
    "colab": {
     "base_uri": "https://localhost:8080/"
    },
    "id": "mZCAlABR5_fi",
    "outputId": "9cfe0789-9241-42b9-836e-d587596e53e9"
   },
   "outputs": [],
   "source": [
    "days = ['Mon', 'Tue', 'Wed', 'Thu', 'Fri', 'Sat', 'Sun']\n",
    "days"
   ]
  },
  {
   "cell_type": "code",
   "execution_count": null,
   "metadata": {
    "colab": {
     "base_uri": "https://localhost:8080/"
    },
    "id": "e97j4AZF5_fi",
    "outputId": "e2c235ac-77ba-4a1b-be8d-dc99b311371a"
   },
   "outputs": [],
   "source": [
    "list('hello')"
   ]
  },
  {
   "cell_type": "code",
   "execution_count": null,
   "metadata": {
    "colab": {
     "base_uri": "https://localhost:8080/"
    },
    "id": "u7rJ4xw25_fi",
    "outputId": "e26c387d-6553-4998-990c-d5e95b697b16"
   },
   "outputs": [],
   "source": [
    "stuff = input('Enter something: ')\n",
    "stuff.split()"
   ]
  },
  {
   "cell_type": "code",
   "execution_count": null,
   "metadata": {
    "id": "XMkYH8Zq5_fi"
   },
   "outputs": [],
   "source": [
    "cars = ['Tesla', 'Rivian', 'Lucid', 'Polestar', 'Aptera']"
   ]
  },
  {
   "cell_type": "code",
   "execution_count": null,
   "metadata": {
    "colab": {
     "base_uri": "https://localhost:8080/",
     "height": 35
    },
    "id": "cU_GQz5c5_fk",
    "outputId": "c2d2be5e-1810-42cb-a9f4-baf2adfd45fa"
   },
   "outputs": [],
   "source": [
    "cars[0]"
   ]
  },
  {
   "cell_type": "code",
   "execution_count": null,
   "metadata": {
    "colab": {
     "base_uri": "https://localhost:8080/",
     "height": 35
    },
    "id": "r3-OpTxs5_fk",
    "outputId": "5b565cac-4c47-4fe2-f209-9dd883285fbb"
   },
   "outputs": [],
   "source": [
    "cars[-1] # always the last element of the list/container"
   ]
  },
  {
   "cell_type": "code",
   "execution_count": null,
   "metadata": {
    "colab": {
     "base_uri": "https://localhost:8080/"
    },
    "id": "bs8DIxQy5_fk",
    "outputId": "19c9cf77-bd9f-4427-ee61-bd0497b3ff78"
   },
   "outputs": [],
   "source": [
    "vehicles = [cars, 'bus']\n",
    "vehicles"
   ]
  },
  {
   "cell_type": "code",
   "execution_count": null,
   "metadata": {
    "colab": {
     "base_uri": "https://localhost:8080/"
    },
    "id": "kvHsfYau5_fk",
    "outputId": "a475e62b-1cfd-4a23-edac-75899b5ab480"
   },
   "outputs": [],
   "source": [
    "vehicles[0]"
   ]
  },
  {
   "cell_type": "code",
   "execution_count": null,
   "metadata": {
    "colab": {
     "base_uri": "https://localhost:8080/",
     "height": 35
    },
    "id": "0sqCIjqu5_fk",
    "outputId": "f13f0dbf-4e3b-4935-f46e-3b58f9fb7513"
   },
   "outputs": [],
   "source": [
    "vehicles[0][0]"
   ]
  },
  {
   "cell_type": "code",
   "execution_count": null,
   "metadata": {
    "colab": {
     "base_uri": "https://localhost:8080/"
    },
    "id": "lpU2usAW5_fk",
    "outputId": "6bbcf6e6-098d-4780-d480-3d005596c9b0"
   },
   "outputs": [],
   "source": [
    "cars[-1] = 'Aptera Motors'\n",
    "cars"
   ]
  },
  {
   "cell_type": "code",
   "execution_count": null,
   "metadata": {
    "colab": {
     "base_uri": "https://localhost:8080/"
    },
    "id": "qeBnBTQk5_fl",
    "outputId": "cd3959ce-0c48-4092-8d43-48395feb8ad1"
   },
   "outputs": [],
   "source": [
    "cars[:2] # first 2 items in a container"
   ]
  },
  {
   "cell_type": "code",
   "execution_count": null,
   "metadata": {
    "colab": {
     "base_uri": "https://localhost:8080/"
    },
    "id": "9By3Iiuf5_fl",
    "outputId": "6493e17d-f09b-41e0-cd63-a632dfb17e79"
   },
   "outputs": [],
   "source": [
    "cars[::2] # the \"evens\", every other item"
   ]
  },
  {
   "cell_type": "code",
   "execution_count": null,
   "metadata": {
    "colab": {
     "base_uri": "https://localhost:8080/"
    },
    "id": "GKqIjk7d5_fl",
    "outputId": "3c37c219-881a-44e0-a095-d5fc0c1cab82"
   },
   "outputs": [],
   "source": [
    "cars[1::2] # the \"odds\", every other item"
   ]
  },
  {
   "cell_type": "code",
   "execution_count": null,
   "metadata": {
    "colab": {
     "base_uri": "https://localhost:8080/"
    },
    "id": "sJyZ2vDE5_fl",
    "outputId": "f283eaf7-50ba-45ed-b104-bdcbbd89f8de"
   },
   "outputs": [],
   "source": [
    "cars[::-1] # also idiomatic"
   ]
  },
  {
   "cell_type": "markdown",
   "metadata": {
    "id": "vRSZzXQx5_fl"
   },
   "source": [
    "## Looping Through a List"
   ]
  },
  {
   "cell_type": "code",
   "execution_count": null,
   "metadata": {
    "colab": {
     "base_uri": "https://localhost:8080/"
    },
    "id": "bFO5Fad05_fl",
    "outputId": "0a5f1ae4-1c22-4be1-9778-3260a98b38ae"
   },
   "outputs": [],
   "source": [
    "index = 0\n",
    "while index < len(cars):\n",
    "    print(cars[index])\n",
    "    index += 1 # index = index + 1"
   ]
  },
  {
   "cell_type": "code",
   "execution_count": null,
   "metadata": {
    "colab": {
     "base_uri": "https://localhost:8080/"
    },
    "id": "2UghPG6_5_fl",
    "outputId": "00a1ba6c-9b21-4322-e4c3-612ebeefc722"
   },
   "outputs": [],
   "source": [
    "for index in range(len(cars)):\n",
    "    print(cars[index])"
   ]
  },
  {
   "cell_type": "markdown",
   "metadata": {
    "id": "f6_-aabY5_fl"
   },
   "source": [
    "* that works, but it's not the way we'd write it in Python...it's not _Pythonic_"
   ]
  },
  {
   "cell_type": "code",
   "execution_count": null,
   "metadata": {
    "colab": {
     "base_uri": "https://localhost:8080/"
    },
    "id": "qdnHOnWz5_fl",
    "outputId": "ab84823b-6501-445e-a949-40074aa73425"
   },
   "outputs": [],
   "source": [
    "for car in cars: # for \"thing in container\"\n",
    "    print(car)"
   ]
  },
  {
   "cell_type": "markdown",
   "metadata": {
    "id": "yVAGLAKK5_fl"
   },
   "source": [
    "## Adding to a List (\"mutator\" methods)\n",
    "* __`append()`__: add an item the end of a list\n",
    "* __`insert()`__: add an item to a particular place in the list\n",
    "* __`extend()`__ (also __`+=`__): add a list to a list"
   ]
  },
  {
   "cell_type": "code",
   "execution_count": null,
   "metadata": {
    "colab": {
     "base_uri": "https://localhost:8080/"
    },
    "id": "NCRX0EBn5_fl",
    "outputId": "7d03e157-624a-4f3d-bca8-ac7da99c6073"
   },
   "outputs": [],
   "source": [
    "cars.append('BYD')\n",
    "cars"
   ]
  },
  {
   "cell_type": "code",
   "execution_count": null,
   "metadata": {
    "colab": {
     "base_uri": "https://localhost:8080/"
    },
    "id": "Spl93NEg5_fl",
    "outputId": "23fb62fd-ee8b-4da3-8e7f-4bd6b464b887"
   },
   "outputs": [],
   "source": [
    "cars.insert(2, 'Faraday')\n",
    "cars"
   ]
  },
  {
   "cell_type": "code",
   "execution_count": null,
   "metadata": {
    "colab": {
     "base_uri": "https://localhost:8080/"
    },
    "id": "Mncpm-wX5_fl",
    "outputId": "5b4a555f-e78a-43e9-d00b-62cf0c656b01"
   },
   "outputs": [],
   "source": [
    "others = ['VinFast', 'Nikola']\n",
    "cars += others # cars.extend(others)\n",
    "cars"
   ]
  },
  {
   "cell_type": "code",
   "execution_count": null,
   "metadata": {
    "colab": {
     "base_uri": "https://localhost:8080/"
    },
    "id": "dEWAVREu5_fl",
    "outputId": "91be97a0-55ed-4d90-fc8d-a47cfd7a387e"
   },
   "outputs": [],
   "source": [
    "cars.append(others)\n",
    "cars"
   ]
  },
  {
   "cell_type": "code",
   "execution_count": null,
   "metadata": {
    "id": "GAGywvjN5_fl"
   },
   "outputs": [],
   "source": [
    "print(cars)"
   ]
  },
  {
   "cell_type": "markdown",
   "metadata": {
    "id": "-HViMCog5_fl"
   },
   "source": [
    "## Removing from a List\n",
    "* __`del`__: delete by position\n",
    "* __`remove(item)`__: remove by value\n",
    "* __`pop()`__: remove last item (or specified item)"
   ]
  },
  {
   "cell_type": "code",
   "execution_count": null,
   "metadata": {
    "colab": {
     "base_uri": "https://localhost:8080/"
    },
    "id": "HxQmN4pI5_fl",
    "outputId": "1315d4d5-eb99-4e22-fefa-1fa192301c75"
   },
   "outputs": [],
   "source": [
    "cars"
   ]
  },
  {
   "cell_type": "code",
   "execution_count": null,
   "metadata": {
    "colab": {
     "base_uri": "https://localhost:8080/"
    },
    "id": "iHstrbsF5_fl",
    "outputId": "8cd4ed08-6e0e-4610-8182-a0b7b19c5b9a"
   },
   "outputs": [],
   "source": [
    "del cars[-1]\n",
    "cars"
   ]
  },
  {
   "cell_type": "code",
   "execution_count": null,
   "metadata": {
    "colab": {
     "base_uri": "https://localhost:8080/",
     "height": 141
    },
    "id": "58Vem0Gf5_fl",
    "outputId": "30aad304-fa2e-487d-d00f-89d15ed38c0e",
    "scrolled": true
   },
   "outputs": [],
   "source": [
    "cars.remove('Lucid')"
   ]
  },
  {
   "cell_type": "code",
   "execution_count": null,
   "metadata": {
    "colab": {
     "base_uri": "https://localhost:8080/"
    },
    "id": "KqbEE9L85_fm",
    "outputId": "105f142b-3465-42ce-bdfe-2eeda0e977c0"
   },
   "outputs": [],
   "source": [
    "cars"
   ]
  },
  {
   "cell_type": "code",
   "execution_count": null,
   "metadata": {
    "colab": {
     "base_uri": "https://localhost:8080/",
     "height": 35
    },
    "id": "T5bRpHZ95_fm",
    "outputId": "973a6076-0bb0-4607-fc13-cc7a186554b1"
   },
   "outputs": [],
   "source": [
    "cars.pop() # last item by default"
   ]
  },
  {
   "cell_type": "code",
   "execution_count": null,
   "metadata": {
    "colab": {
     "base_uri": "https://localhost:8080/"
    },
    "id": "r5hLy_Jk5_fm",
    "outputId": "2e100f6a-eb3a-41c1-f000-31b041ae1192"
   },
   "outputs": [],
   "source": [
    "cars"
   ]
  },
  {
   "cell_type": "code",
   "execution_count": null,
   "metadata": {
    "colab": {
     "base_uri": "https://localhost:8080/",
     "height": 35
    },
    "id": "OTxnv7UJ5_fm",
    "outputId": "4c83fa0d-163d-4dfa-9d1b-911b1579679d"
   },
   "outputs": [],
   "source": [
    "cars.pop(1) # pop() or remove the second item"
   ]
  },
  {
   "cell_type": "code",
   "execution_count": null,
   "metadata": {
    "colab": {
     "base_uri": "https://localhost:8080/"
    },
    "id": "3IFl9Iem5_fm",
    "outputId": "b0ee4648-c2bc-47e3-ca90-cb5bbbf7b7df"
   },
   "outputs": [],
   "source": [
    "cars"
   ]
  },
  {
   "cell_type": "markdown",
   "metadata": {
    "id": "pHCFWaxC5_fm"
   },
   "source": [
    "## Examining Lists (inspectors)\n",
    "* __`index(item)`__: return position of item\n",
    "* __`count(item)`__: count occurrences of item\n",
    "* __`in`__: test for membership"
   ]
  },
  {
   "cell_type": "code",
   "execution_count": null,
   "metadata": {
    "colab": {
     "base_uri": "https://localhost:8080/"
    },
    "id": "OvBy-WdI5_fm",
    "outputId": "2f2cfe15-a739-414d-9b9a-f7f835098c5f"
   },
   "outputs": [],
   "source": [
    "cars"
   ]
  },
  {
   "cell_type": "code",
   "execution_count": null,
   "metadata": {
    "colab": {
     "base_uri": "https://localhost:8080/"
    },
    "id": "EgAJwVWO5_fm",
    "outputId": "2cebfbad-e80e-4331-d2fb-034b17e8676b"
   },
   "outputs": [],
   "source": [
    "cars.index('Polestar')"
   ]
  },
  {
   "cell_type": "code",
   "execution_count": null,
   "metadata": {
    "colab": {
     "base_uri": "https://localhost:8080/"
    },
    "id": "aQifqOoZ5_fm",
    "outputId": "6cccafec-cceb-43a4-e384-113de7cad586"
   },
   "outputs": [],
   "source": [
    "'BYD' in cars"
   ]
  },
  {
   "cell_type": "code",
   "execution_count": null,
   "metadata": {
    "id": "ULxJPsQq5_fm"
   },
   "outputs": [],
   "source": [
    "for _ in range(10): # do something 10 times\n",
    "    cars.append('Nikola')"
   ]
  },
  {
   "cell_type": "code",
   "execution_count": null,
   "metadata": {
    "colab": {
     "base_uri": "https://localhost:8080/"
    },
    "id": "5SqPoh7I5_fm",
    "outputId": "14485913-5bca-401b-f3b6-c2299c8f46e3"
   },
   "outputs": [],
   "source": [
    "cars"
   ]
  },
  {
   "cell_type": "code",
   "execution_count": null,
   "metadata": {
    "colab": {
     "base_uri": "https://localhost:8080/"
    },
    "id": "fv_gt1f85_fm",
    "outputId": "75ff2d11-2221-481b-b6b8-6acaadc29ce9"
   },
   "outputs": [],
   "source": [
    "cars.count('Nikola')"
   ]
  },
  {
   "cell_type": "code",
   "execution_count": null,
   "metadata": {
    "colab": {
     "base_uri": "https://localhost:8080/"
    },
    "id": "v2cy0wVT5_fm",
    "outputId": "10eca3e7-f807-495c-b4d6-54227c929e36"
   },
   "outputs": [],
   "source": [
    "while 'Nikola' in cars:\n",
    "    cars.remove('Nikola') # each call only removes one\n",
    "cars"
   ]
  },
  {
   "cell_type": "code",
   "execution_count": null,
   "metadata": {
    "colab": {
     "base_uri": "https://localhost:8080/"
    },
    "id": "furtdP_x5_fm",
    "outputId": "2942c00a-ba8f-4ce2-ea2b-f8a8acc95e2c"
   },
   "outputs": [],
   "source": [
    "for _ in range(cars.count('Nikola')): # do this 10 times\n",
    "    cars.remove('Nikola')\n",
    "cars"
   ]
  },
  {
   "cell_type": "markdown",
   "metadata": {
    "id": "cC6CzZZn5_fm"
   },
   "source": [
    "## __`join()/split()`__ ... redux"
   ]
  },
  {
   "cell_type": "code",
   "execution_count": null,
   "metadata": {
    "colab": {
     "base_uri": "https://localhost:8080/",
     "height": 35
    },
    "id": "4F9-Jug_5_fn",
    "outputId": "4cdc4377-e2df-4264-9ca1-091f57ab7324"
   },
   "outputs": [],
   "source": [
    "joined = ', '.join(cars)\n",
    "joined # string which represents the \"joined\" items in the list"
   ]
  },
  {
   "cell_type": "code",
   "execution_count": null,
   "metadata": {
    "colab": {
     "base_uri": "https://localhost:8080/"
    },
    "id": "XEPimwF05_fn",
    "outputId": "1bd8d78a-a02f-4fd7-d1ac-55aa9ecd6f57"
   },
   "outputs": [],
   "source": [
    "unjoined = joined.split(', ')\n",
    "unjoined # split into a new list"
   ]
  },
  {
   "cell_type": "code",
   "execution_count": null,
   "metadata": {
    "colab": {
     "base_uri": "https://localhost:8080/"
    },
    "id": "nJ5qbwVO5_fn",
    "outputId": "9518716d-b5a3-4fcc-8c36-802c32d4b16e"
   },
   "outputs": [],
   "source": [
    "cars == unjoined # are they the same? (They should be...)"
   ]
  },
  {
   "cell_type": "markdown",
   "metadata": {
    "id": "wrSmt5L55_fn"
   },
   "source": [
    "## Sorting Lists\n",
    "* __`sorted()`__: _built-in function_ which returns a sorted list created\n",
    "from an iterable/sequence\n",
    "* __`sort()`__: _method_ to sort a list in place\n",
    "* __`len()`__: _built-in function_ which returns length of a list"
   ]
  },
  {
   "cell_type": "code",
   "execution_count": null,
   "metadata": {
    "colab": {
     "base_uri": "https://localhost:8080/"
    },
    "id": "1Q554Xv95_fn",
    "outputId": "28684ae6-36e5-485d-f7c0-3447017e4de5"
   },
   "outputs": [],
   "source": [
    "sorted(cars) # let's explain what this does"
   ]
  },
  {
   "cell_type": "code",
   "execution_count": null,
   "metadata": {
    "colab": {
     "base_uri": "https://localhost:8080/"
    },
    "id": "uz98dYeM5_fn",
    "outputId": "f8500166-d41a-4f67-f76d-33efe01b9db0"
   },
   "outputs": [],
   "source": [
    "cars.sort() # vs. this\n",
    "cars"
   ]
  },
  {
   "cell_type": "code",
   "execution_count": null,
   "metadata": {
    "colab": {
     "base_uri": "https://localhost:8080/"
    },
    "id": "hzVpil8J5_fn",
    "outputId": "e25e6430-dbd1-4c0b-b494-d9493f7ecc72"
   },
   "outputs": [],
   "source": [
    "cars.sort(reverse=True)\n",
    "cars"
   ]
  },
  {
   "cell_type": "code",
   "execution_count": null,
   "metadata": {
    "colab": {
     "base_uri": "https://localhost:8080/"
    },
    "id": "FUu_pu5z5_fn",
    "outputId": "a1146d5c-eca4-44cb-b087-c4e7b0b208d6",
    "scrolled": true
   },
   "outputs": [],
   "source": [
    "# Is this correct?\n",
    "cars = sorted(cars) # cars.sort()\n",
    "print(cars)"
   ]
  },
  {
   "cell_type": "code",
   "execution_count": null,
   "metadata": {
    "colab": {
     "base_uri": "https://localhost:8080/"
    },
    "id": "TRLqrsvT5_fn",
    "outputId": "d2473dcd-05f1-42fb-8def-148120081495"
   },
   "outputs": [],
   "source": [
    "cars"
   ]
  },
  {
   "cell_type": "code",
   "execution_count": null,
   "metadata": {
    "colab": {
     "base_uri": "https://localhost:8080/"
    },
    "id": "WBteym6w5_fn",
    "outputId": "6bd87312-7061-4bd6-907e-9839a3e278ea"
   },
   "outputs": [],
   "source": [
    "# What about this?\n",
    "cars = cars.sort() # cars.sort()\n",
    "print(cars)"
   ]
  },
  {
   "cell_type": "markdown",
   "metadata": {
    "id": "d9r98AIb5_fn"
   },
   "source": [
    "## Quick Lab: Lists\n",
    "* Write a program that asks the user to input two lists and then finds and prints the common elements between them\n",
    "<pre>\n",
    "Enter a list of items: <b>apple cherry banana lemon</b>\n",
    "Enter a second list of items: <b>apple guava banana lime</b>\n",
    "Common elements: apple banana"
   ]
  },
  {
   "cell_type": "markdown",
   "metadata": {
    "id": "IrwVH76l5_fn"
   },
   "source": [
    "## Group Lab: Lists\n",
    "* Write a Python program to maintain a list\n",
    "  * Read input until the user enters 'quit'\n",
    "  * Words that the user enters should be added to the list\n",
    "  * If a word begins with '-' (e.g., '-foo') it should be removed from the list\n",
    "  * If the user enters only a '-', the list should be reversed\n",
    "  * After each operation, print the list\n",
    "  * Extras:\n",
    "      * If user enters more than one word (e.g, __foo bar__), add \"foo\" and \"bar\" to the list, rather than \"foo bar\"\n",
    "      * Same for \"-\", i.e., __-foo bar__ would remove \"foo\" and \"bar\" from the  list"
   ]
  }
 ],
 "metadata": {
  "celltoolbar": "Slideshow",
  "colab": {
   "provenance": []
  },
  "kernelspec": {
   "display_name": "Python 3 (ipykernel)",
   "language": "python",
   "name": "python3"
  },
  "language_info": {
   "codemirror_mode": {
    "name": "ipython",
    "version": 3
   },
   "file_extension": ".py",
   "mimetype": "text/x-python",
   "name": "python",
   "nbconvert_exporter": "python",
   "pygments_lexer": "ipython3",
   "version": "3.13.1"
  }
 },
 "nbformat": 4,
 "nbformat_minor": 4
}
