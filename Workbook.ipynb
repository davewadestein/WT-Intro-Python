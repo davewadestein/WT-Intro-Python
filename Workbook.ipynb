{
  "nbformat": 4,
  "nbformat_minor": 0,
  "metadata": {
    "colab": {
      "provenance": []
    },
    "kernelspec": {
      "name": "python3",
      "display_name": "Python 3"
    },
    "language_info": {
      "name": "python"
    }
  },
  "cells": [
    {
      "cell_type": "code",
      "execution_count": null,
      "metadata": {
        "id": "QfbVwyxz8Mrm"
      },
      "outputs": [],
      "source": []
    },
    {
      "cell_type": "markdown",
      "source": [
        "# Important Things about Python\n",
        "* the built-in functions DO NOT change the arguments that are passed in to them\n",
        "* scalars vs. container\n",
        "  * scalar = single object, e.g., int, float, bool\n",
        "  * container = 0+ objects inside, e.g., str, list, tuple, dict, set\n",
        "* mutable vs. immutable objects\n",
        "  * immutable: str, tuple\n",
        "  * mutable: list, dict, set\n",
        "* \"batteries included\"\n",
        "* the built-in functions are \"general purpose\"\n",
        "  * they work on many different datatypes\n",
        "  * they DO NOT change the arguments that are passed into them\n",
        "  * if you want to change an object in Python, you MUST call/invoke/apply a method on/to that object\n",
        "    * NOT every method modifies the object is was called/invoked/applied on/to\n",
        "* Python practices \"truthiness\"\n",
        "  * in a Boolean context:\n",
        "    * 0 and 0.0 are **considered** False; all other numbers **considered** True\n",
        "    * empty containers are **considered** False; non-empty **considered** True\n"
      ],
      "metadata": {
        "id": "3_NKo5_q8PF-"
      }
    },
    {
      "cell_type": "markdown",
      "source": [
        "# Pythonic\n",
        "* if a data type is difficult to work with, consider changing its type\n",
        "* __`container[-1]`__ always means last item in the container\n",
        "* __`for _ in range(n)`__ always means DO THIS n TIMES\n",
        "* __`container[:n]`__ always means first n items in the container\n",
        "* __`container[n:]`__ always means the rest, starting from n\n",
        "* __`container[-n:]`__ always means the last n items\n",
        "* __`container[::-1]`__ always means a reversed version of the container\n",
        "* composing function, e.g., __`input('Enter a sentence:').lower()`__\n",
        "* __`fruit = 'apple lemon cherry fig lime watermelon'.split()`__"
      ],
      "metadata": {
        "id": "ztcUJDiRIOKh"
      }
    },
    {
      "cell_type": "markdown",
      "source": [
        "# Important Things About Programming\n",
        "* DWS's two ways to get better at programming\n",
        "  1. once it works, try to write the code another way\n",
        "  1.\n",
        "* \"Efficiency doesn't matter until it matters, and it rarely matters\" –DWS\n",
        "* the three banes of a programmer's existence:\n",
        "  1. uninitialized/incorrectly initialized variables\n",
        "  1. off-by-one errors\n",
        "* DRY = Don't Repeat Yourself"
      ],
      "metadata": {
        "id": "L8pHRJv9wX-I"
      }
    },
    {
      "cell_type": "code",
      "source": [],
      "metadata": {
        "id": "sBxRx1DzINBm"
      },
      "execution_count": null,
      "outputs": []
    },
    {
      "cell_type": "code",
      "source": [
        "number = 123\n",
        "number"
      ],
      "metadata": {
        "colab": {
          "base_uri": "https://localhost:8080/"
        },
        "id": "2cidcjGjHxeF",
        "outputId": "de12f798-e268-4e3c-970b-c84bc7accd47"
      },
      "execution_count": null,
      "outputs": [
        {
          "output_type": "execute_result",
          "data": {
            "text/plain": [
              "123"
            ]
          },
          "metadata": {},
          "execution_count": 21
        }
      ]
    },
    {
      "cell_type": "code",
      "source": [
        "number = 5\n",
        "number"
      ],
      "metadata": {
        "colab": {
          "base_uri": "https://localhost:8080/"
        },
        "id": "hNza4plcHz0V",
        "outputId": "cf1ba980-50ee-4c60-ce1a-bdbb4a62c8e0"
      },
      "execution_count": null,
      "outputs": [
        {
          "output_type": "execute_result",
          "data": {
            "text/plain": [
              "5"
            ]
          },
          "metadata": {},
          "execution_count": 6
        }
      ]
    },
    {
      "cell_type": "code",
      "source": [
        "str(4)"
      ],
      "metadata": {
        "colab": {
          "base_uri": "https://localhost:8080/",
          "height": 35
        },
        "id": "hnG-82I68ahf",
        "outputId": "960a4450-cc25-43d1-9f9e-df562537a2a3"
      },
      "execution_count": null,
      "outputs": [
        {
          "output_type": "execute_result",
          "data": {
            "text/plain": [
              "'4'"
            ],
            "application/vnd.google.colaboratory.intrinsic+json": {
              "type": "string"
            }
          },
          "metadata": {},
          "execution_count": 1
        }
      ]
    },
    {
      "cell_type": "code",
      "source": [
        "name = 'Dave'\n",
        "print(name)"
      ],
      "metadata": {
        "colab": {
          "base_uri": "https://localhost:8080/"
        },
        "id": "bAVXim9D8cQz",
        "outputId": "b422761a-3ef6-43c9-ecaa-b4416c8f1aa8"
      },
      "execution_count": null,
      "outputs": [
        {
          "output_type": "stream",
          "name": "stdout",
          "text": [
            "Dave\n"
          ]
        }
      ]
    },
    {
      "cell_type": "code",
      "source": [
        "len(45)"
      ],
      "metadata": {
        "colab": {
          "base_uri": "https://localhost:8080/",
          "height": 178
        },
        "id": "z-XeEsDT8fi5",
        "outputId": "350d96bf-5c45-4977-b989-2e6274307c98"
      },
      "execution_count": null,
      "outputs": [
        {
          "output_type": "error",
          "ename": "TypeError",
          "evalue": "object of type 'int' has no len()",
          "traceback": [
            "\u001b[0;31m---------------------------------------------------------------------------\u001b[0m",
            "\u001b[0;31mTypeError\u001b[0m                                 Traceback (most recent call last)",
            "\u001b[0;32m<ipython-input-7-8368e6e49239>\u001b[0m in \u001b[0;36m<cell line: 0>\u001b[0;34m()\u001b[0m\n\u001b[0;32m----> 1\u001b[0;31m \u001b[0mlen\u001b[0m\u001b[0;34m(\u001b[0m\u001b[0;36m45\u001b[0m\u001b[0;34m)\u001b[0m\u001b[0;34m\u001b[0m\u001b[0;34m\u001b[0m\u001b[0m\n\u001b[0m",
            "\u001b[0;31mTypeError\u001b[0m: object of type 'int' has no len()"
          ]
        }
      ]
    },
    {
      "cell_type": "code",
      "source": [
        "num = 12345"
      ],
      "metadata": {
        "id": "DqgKJtwdH_r2"
      },
      "execution_count": null,
      "outputs": []
    },
    {
      "cell_type": "code",
      "source": [
        "len(num)"
      ],
      "metadata": {
        "colab": {
          "base_uri": "https://localhost:8080/",
          "height": 178
        },
        "id": "TPlFR09yIHxQ",
        "outputId": "4c510ba0-66cd-4048-ac56-d1ff17896a30"
      },
      "execution_count": null,
      "outputs": [
        {
          "output_type": "error",
          "ename": "TypeError",
          "evalue": "object of type 'int' has no len()",
          "traceback": [
            "\u001b[0;31m---------------------------------------------------------------------------\u001b[0m",
            "\u001b[0;31mTypeError\u001b[0m                                 Traceback (most recent call last)",
            "\u001b[0;32m<ipython-input-9-04dd5b0b64a9>\u001b[0m in \u001b[0;36m<cell line: 0>\u001b[0;34m()\u001b[0m\n\u001b[0;32m----> 1\u001b[0;31m \u001b[0mlen\u001b[0m\u001b[0;34m(\u001b[0m\u001b[0mnum\u001b[0m\u001b[0;34m)\u001b[0m\u001b[0;34m\u001b[0m\u001b[0;34m\u001b[0m\u001b[0m\n\u001b[0m",
            "\u001b[0;31mTypeError\u001b[0m: object of type 'int' has no len()"
          ]
        }
      ]
    },
    {
      "cell_type": "code",
      "source": [
        "len(str(num))"
      ],
      "metadata": {
        "colab": {
          "base_uri": "https://localhost:8080/"
        },
        "id": "o7bbTFaUIIvC",
        "outputId": "c8a0b6ae-847c-476b-b313-76db0d48f8aa"
      },
      "execution_count": null,
      "outputs": [
        {
          "output_type": "execute_result",
          "data": {
            "text/plain": [
              "5"
            ]
          },
          "metadata": {},
          "execution_count": 10
        }
      ]
    },
    {
      "cell_type": "code",
      "source": [
        "2 + 2"
      ],
      "metadata": {
        "colab": {
          "base_uri": "https://localhost:8080/"
        },
        "id": "EkzTUS_QIKRQ",
        "outputId": "13e1653e-25ff-491a-d152-7db3d997534b"
      },
      "execution_count": null,
      "outputs": [
        {
          "output_type": "execute_result",
          "data": {
            "text/plain": [
              "4"
            ]
          },
          "metadata": {},
          "execution_count": 11
        }
      ]
    },
    {
      "cell_type": "code",
      "source": [
        "'2' + '2'"
      ],
      "metadata": {
        "colab": {
          "base_uri": "https://localhost:8080/",
          "height": 35
        },
        "id": "_VJA-JjOJwqt",
        "outputId": "99b24503-7e5e-4ce8-f74b-75197645c1b5"
      },
      "execution_count": null,
      "outputs": [
        {
          "output_type": "execute_result",
          "data": {
            "text/plain": [
              "'22'"
            ],
            "application/vnd.google.colaboratory.intrinsic+json": {
              "type": "string"
            }
          },
          "metadata": {},
          "execution_count": 12
        }
      ]
    },
    {
      "cell_type": "code",
      "source": [
        "num = 123"
      ],
      "metadata": {
        "id": "rDWLkZ76JxgN"
      },
      "execution_count": null,
      "outputs": []
    },
    {
      "cell_type": "code",
      "source": [
        "str(num)[0] + str(num)[2]"
      ],
      "metadata": {
        "colab": {
          "base_uri": "https://localhost:8080/",
          "height": 35
        },
        "id": "LP2d9NNcKOAz",
        "outputId": "206859ba-fd9d-475f-ac54-e10f073d7f8f"
      },
      "execution_count": null,
      "outputs": [
        {
          "output_type": "execute_result",
          "data": {
            "text/plain": [
              "'13'"
            ],
            "application/vnd.google.colaboratory.intrinsic+json": {
              "type": "string"
            }
          },
          "metadata": {},
          "execution_count": 15
        }
      ]
    },
    {
      "cell_type": "code",
      "source": [
        "'hitng' in 'Whiting-Turner'"
      ],
      "metadata": {
        "colab": {
          "base_uri": "https://localhost:8080/"
        },
        "id": "4noHVyJAKRYh",
        "outputId": "57803f4a-62d6-46a0-ddca-62dc6e4b34cb"
      },
      "execution_count": null,
      "outputs": [
        {
          "output_type": "execute_result",
          "data": {
            "text/plain": [
              "False"
            ]
          },
          "metadata": {},
          "execution_count": 20
        }
      ]
    },
    {
      "cell_type": "code",
      "source": [
        "import keyword\n",
        "keyword.kwlist"
      ],
      "metadata": {
        "colab": {
          "base_uri": "https://localhost:8080/"
        },
        "id": "TDIOUbCIm6bp",
        "outputId": "a87c63b1-46e2-4bef-be19-c2dc45167c88"
      },
      "execution_count": null,
      "outputs": [
        {
          "output_type": "execute_result",
          "data": {
            "text/plain": [
              "['False',\n",
              " 'None',\n",
              " 'True',\n",
              " 'and',\n",
              " 'as',\n",
              " 'assert',\n",
              " 'async',\n",
              " 'await',\n",
              " 'break',\n",
              " 'class',\n",
              " 'continue',\n",
              " 'def',\n",
              " 'del',\n",
              " 'elif',\n",
              " 'else',\n",
              " 'except',\n",
              " 'finally',\n",
              " 'for',\n",
              " 'from',\n",
              " 'global',\n",
              " 'if',\n",
              " 'import',\n",
              " 'in',\n",
              " 'is',\n",
              " 'lambda',\n",
              " 'nonlocal',\n",
              " 'not',\n",
              " 'or',\n",
              " 'pass',\n",
              " 'raise',\n",
              " 'return',\n",
              " 'try',\n",
              " 'while',\n",
              " 'with',\n",
              " 'yield']"
            ]
          },
          "metadata": {},
          "execution_count": 24
        }
      ]
    },
    {
      "cell_type": "code",
      "source": [
        "import random"
      ],
      "metadata": {
        "id": "iK_0gMgem9Cq"
      },
      "execution_count": null,
      "outputs": []
    },
    {
      "cell_type": "code",
      "source": [
        "dir(random)"
      ],
      "metadata": {
        "colab": {
          "base_uri": "https://localhost:8080/"
        },
        "id": "Zva6p3OknVRB",
        "outputId": "f46d057a-3ac6-4276-fc44-fcab2adbaca0"
      },
      "execution_count": null,
      "outputs": [
        {
          "output_type": "execute_result",
          "data": {
            "text/plain": [
              "['BPF',\n",
              " 'LOG4',\n",
              " 'NV_MAGICCONST',\n",
              " 'RECIP_BPF',\n",
              " 'Random',\n",
              " 'SG_MAGICCONST',\n",
              " 'SystemRandom',\n",
              " 'TWOPI',\n",
              " '_ONE',\n",
              " '_Sequence',\n",
              " '_Set',\n",
              " '__all__',\n",
              " '__builtins__',\n",
              " '__cached__',\n",
              " '__doc__',\n",
              " '__file__',\n",
              " '__loader__',\n",
              " '__name__',\n",
              " '__package__',\n",
              " '__spec__',\n",
              " '_accumulate',\n",
              " '_acos',\n",
              " '_bisect',\n",
              " '_ceil',\n",
              " '_cos',\n",
              " '_e',\n",
              " '_exp',\n",
              " '_floor',\n",
              " '_index',\n",
              " '_inst',\n",
              " '_isfinite',\n",
              " '_log',\n",
              " '_os',\n",
              " '_pi',\n",
              " '_random',\n",
              " '_repeat',\n",
              " '_sha512',\n",
              " '_sin',\n",
              " '_sqrt',\n",
              " '_test',\n",
              " '_test_generator',\n",
              " '_urandom',\n",
              " '_warn',\n",
              " 'betavariate',\n",
              " 'choice',\n",
              " 'choices',\n",
              " 'expovariate',\n",
              " 'gammavariate',\n",
              " 'gauss',\n",
              " 'getrandbits',\n",
              " 'getstate',\n",
              " 'lognormvariate',\n",
              " 'normalvariate',\n",
              " 'paretovariate',\n",
              " 'randbytes',\n",
              " 'randint',\n",
              " 'random',\n",
              " 'randrange',\n",
              " 'sample',\n",
              " 'seed',\n",
              " 'setstate',\n",
              " 'shuffle',\n",
              " 'triangular',\n",
              " 'uniform',\n",
              " 'vonmisesvariate',\n",
              " 'weibullvariate']"
            ]
          },
          "metadata": {},
          "execution_count": 26
        }
      ]
    },
    {
      "cell_type": "code",
      "source": [
        "help(random.randint)"
      ],
      "metadata": {
        "colab": {
          "base_uri": "https://localhost:8080/"
        },
        "id": "ZMLJZwy-ncvn",
        "outputId": "ef917926-f36f-40ff-a6ea-8575840510f6"
      },
      "execution_count": null,
      "outputs": [
        {
          "output_type": "stream",
          "name": "stdout",
          "text": [
            "Help on method randint in module random:\n",
            "\n",
            "randint(a, b) method of random.Random instance\n",
            "    Return random integer in range [a, b], including both end points.\n",
            "\n"
          ]
        }
      ]
    },
    {
      "cell_type": "code",
      "source": [
        "\n",
        "good_input = False\n",
        "\n",
        "for _ in range(5):\n",
        "    number = int(input('Enter a positive number: '))\n",
        "    if number > 0:\n",
        "        good_input = True\n",
        "        break\n",
        "    print('That is not a positive number')\n",
        "\n",
        "# when here, we don't know how/we are here"
      ],
      "metadata": {
        "colab": {
          "base_uri": "https://localhost:8080/"
        },
        "id": "a8ghpvcInmkT",
        "outputId": "44ad7e7a-5b0c-4fee-9693-e1e45d7870fb"
      },
      "execution_count": null,
      "outputs": [
        {
          "name": "stdout",
          "output_type": "stream",
          "text": [
            "Enter a positive number: -1\n",
            "That is not a positive number\n",
            "Enter a positive number: 2\n"
          ]
        }
      ]
    },
    {
      "cell_type": "code",
      "source": [
        "good_input"
      ],
      "metadata": {
        "colab": {
          "base_uri": "https://localhost:8080/"
        },
        "id": "kf_VN_AS_96m",
        "outputId": "74b7bf1e-dba5-47a3-fef7-2ad3af9763a7"
      },
      "execution_count": null,
      "outputs": [
        {
          "output_type": "execute_result",
          "data": {
            "text/plain": [
              "True"
            ]
          },
          "metadata": {},
          "execution_count": 38
        }
      ]
    },
    {
      "cell_type": "code",
      "source": [
        "for _ in range(5):\n",
        "    number = int(input('Enter a positive number: '))\n",
        "    if number > 0:\n",
        "        break\n",
        "    print('That is not a positive number')\n",
        "# turns out you can add an \"else\" clause to a loop and what that does is\n",
        "# all code in the else clause is run if AND ONLY if we did not break (out of the loop)\n",
        "else:\n",
        "    print('You blew it!')\n",
        "\n",
        "print('after the loop')"
      ],
      "metadata": {
        "colab": {
          "base_uri": "https://localhost:8080/"
        },
        "id": "Pc6mB303AQI9",
        "outputId": "d8cf3fb3-300d-4263-f6ef-c8c641642960"
      },
      "execution_count": null,
      "outputs": [
        {
          "output_type": "stream",
          "name": "stdout",
          "text": [
            "Enter a positive number: 0\n",
            "That is not a positive number\n",
            "Enter a positive number: 0\n",
            "That is not a positive number\n",
            "Enter a positive number: 0\n",
            "That is not a positive number\n",
            "Enter a positive number: 0\n",
            "That is not a positive number\n",
            "Enter a positive number: 0\n",
            "That is not a positive number\n",
            "You blew it!\n"
          ]
        }
      ]
    },
    {
      "cell_type": "code",
      "source": [
        "sentence = 'this is a test'"
      ],
      "metadata": {
        "id": "fWlzW616B_LC"
      },
      "execution_count": null,
      "outputs": []
    },
    {
      "cell_type": "code",
      "source": [
        "sentence[:]"
      ],
      "metadata": {
        "colab": {
          "base_uri": "https://localhost:8080/",
          "height": 35
        },
        "id": "k1iVpjWwHJlg",
        "outputId": "2c4f3fcd-0631-4f85-d5a6-ed26cda1670f"
      },
      "execution_count": null,
      "outputs": [
        {
          "output_type": "execute_result",
          "data": {
            "text/plain": [
              "'this is a test'"
            ],
            "application/vnd.google.colaboratory.intrinsic+json": {
              "type": "string"
            }
          },
          "metadata": {},
          "execution_count": 42
        }
      ]
    },
    {
      "cell_type": "code",
      "source": [
        "sentence2 = sentence"
      ],
      "metadata": {
        "id": "JbdB9UsOHKv7"
      },
      "execution_count": null,
      "outputs": []
    },
    {
      "cell_type": "code",
      "source": [
        "sentence2"
      ],
      "metadata": {
        "colab": {
          "base_uri": "https://localhost:8080/",
          "height": 35
        },
        "id": "S7CLzEEcHRm6",
        "outputId": "d9ab7b23-dd18-4588-c2f4-0cad2fdf0c7d"
      },
      "execution_count": null,
      "outputs": [
        {
          "output_type": "execute_result",
          "data": {
            "text/plain": [
              "'this is a test'"
            ],
            "application/vnd.google.colaboratory.intrinsic+json": {
              "type": "string"
            }
          },
          "metadata": {},
          "execution_count": 44
        }
      ]
    },
    {
      "cell_type": "code",
      "source": [
        "id(sentence)"
      ],
      "metadata": {
        "colab": {
          "base_uri": "https://localhost:8080/"
        },
        "id": "yZQCpBmaHSY_",
        "outputId": "55a90e0a-89f0-426f-a652-157e9f6784fa"
      },
      "execution_count": null,
      "outputs": [
        {
          "output_type": "execute_result",
          "data": {
            "text/plain": [
              "134048262215408"
            ]
          },
          "metadata": {},
          "execution_count": 45
        }
      ]
    },
    {
      "cell_type": "code",
      "source": [
        "id(sentence2)"
      ],
      "metadata": {
        "colab": {
          "base_uri": "https://localhost:8080/"
        },
        "id": "0KPtDokQHfvc",
        "outputId": "cbeebd6c-7a76-43e8-8899-7a74c0413448"
      },
      "execution_count": null,
      "outputs": [
        {
          "output_type": "execute_result",
          "data": {
            "text/plain": [
              "134048262215408"
            ]
          },
          "metadata": {},
          "execution_count": 46
        }
      ]
    },
    {
      "cell_type": "code",
      "source": [
        "name = 'dave'\n",
        "id(name)"
      ],
      "metadata": {
        "colab": {
          "base_uri": "https://localhost:8080/"
        },
        "id": "LPksr_spHiYG",
        "outputId": "e57154a6-931c-41cd-c046-68e1f077ed26"
      },
      "execution_count": null,
      "outputs": [
        {
          "output_type": "execute_result",
          "data": {
            "text/plain": [
              "134048263173360"
            ]
          },
          "metadata": {},
          "execution_count": 51
        }
      ]
    },
    {
      "cell_type": "code",
      "source": [
        "name[0] = 'D'"
      ],
      "metadata": {
        "colab": {
          "base_uri": "https://localhost:8080/",
          "height": 178
        },
        "id": "YOkleT3BIZLn",
        "outputId": "27675fe6-cbf3-4701-d10d-765108bc4477"
      },
      "execution_count": null,
      "outputs": [
        {
          "output_type": "error",
          "ename": "TypeError",
          "evalue": "'str' object does not support item assignment",
          "traceback": [
            "\u001b[0;31m---------------------------------------------------------------------------\u001b[0m",
            "\u001b[0;31mTypeError\u001b[0m                                 Traceback (most recent call last)",
            "\u001b[0;32m<ipython-input-48-ece03925d452>\u001b[0m in \u001b[0;36m<cell line: 0>\u001b[0;34m()\u001b[0m\n\u001b[0;32m----> 1\u001b[0;31m \u001b[0mname\u001b[0m\u001b[0;34m[\u001b[0m\u001b[0;36m0\u001b[0m\u001b[0;34m]\u001b[0m \u001b[0;34m=\u001b[0m \u001b[0;34m'D'\u001b[0m\u001b[0;34m\u001b[0m\u001b[0;34m\u001b[0m\u001b[0m\n\u001b[0m",
            "\u001b[0;31mTypeError\u001b[0m: 'str' object does not support item assignment"
          ]
        }
      ]
    },
    {
      "cell_type": "code",
      "source": [
        "name = 'Dave'\n",
        "id(name)"
      ],
      "metadata": {
        "colab": {
          "base_uri": "https://localhost:8080/"
        },
        "id": "-xn4TpGvIlq2",
        "outputId": "86770ea6-ae94-4590-e652-8a5d226a6f72"
      },
      "execution_count": null,
      "outputs": [
        {
          "output_type": "execute_result",
          "data": {
            "text/plain": [
              "134048263169456"
            ]
          },
          "metadata": {},
          "execution_count": 52
        }
      ]
    },
    {
      "cell_type": "code",
      "source": [
        "str(1)"
      ],
      "metadata": {
        "id": "l2WXyKpnImh0",
        "colab": {
          "base_uri": "https://localhost:8080/",
          "height": 35
        },
        "outputId": "b2113952-48fc-4955-e537-18cd1fd5ece5"
      },
      "execution_count": null,
      "outputs": [
        {
          "output_type": "execute_result",
          "data": {
            "text/plain": [
              "'1'"
            ],
            "application/vnd.google.colaboratory.intrinsic+json": {
              "type": "string"
            }
          },
          "metadata": {},
          "execution_count": 1
        }
      ]
    },
    {
      "cell_type": "code",
      "source": [
        "str(1.1)"
      ],
      "metadata": {
        "colab": {
          "base_uri": "https://localhost:8080/",
          "height": 35
        },
        "id": "9FTQtfSpzXVZ",
        "outputId": "cda06c6d-388e-4cc0-d6a5-57a47e5a0a64"
      },
      "execution_count": null,
      "outputs": [
        {
          "output_type": "execute_result",
          "data": {
            "text/plain": [
              "'1.1'"
            ],
            "application/vnd.google.colaboratory.intrinsic+json": {
              "type": "string"
            }
          },
          "metadata": {},
          "execution_count": 2
        }
      ]
    },
    {
      "cell_type": "code",
      "source": [
        "str('1')"
      ],
      "metadata": {
        "colab": {
          "base_uri": "https://localhost:8080/",
          "height": 35
        },
        "id": "GSL8RtBBzaGs",
        "outputId": "7a1b6ed0-e93d-4579-eb95-715fc2228490"
      },
      "execution_count": null,
      "outputs": [
        {
          "output_type": "execute_result",
          "data": {
            "text/plain": [
              "'1'"
            ],
            "application/vnd.google.colaboratory.intrinsic+json": {
              "type": "string"
            }
          },
          "metadata": {},
          "execution_count": 3
        }
      ]
    },
    {
      "cell_type": "code",
      "source": [
        "import math"
      ],
      "metadata": {
        "id": "I43mbPHlzbbw"
      },
      "execution_count": null,
      "outputs": []
    },
    {
      "cell_type": "code",
      "source": [
        "dir(math)"
      ],
      "metadata": {
        "colab": {
          "base_uri": "https://localhost:8080/"
        },
        "id": "QCbYZb0Yzhhn",
        "outputId": "05fb1539-2250-4a6d-924f-9b17213825ac"
      },
      "execution_count": null,
      "outputs": [
        {
          "output_type": "execute_result",
          "data": {
            "text/plain": [
              "['__doc__',\n",
              " '__loader__',\n",
              " '__name__',\n",
              " '__package__',\n",
              " '__spec__',\n",
              " 'acos',\n",
              " 'acosh',\n",
              " 'asin',\n",
              " 'asinh',\n",
              " 'atan',\n",
              " 'atan2',\n",
              " 'atanh',\n",
              " 'cbrt',\n",
              " 'ceil',\n",
              " 'comb',\n",
              " 'copysign',\n",
              " 'cos',\n",
              " 'cosh',\n",
              " 'degrees',\n",
              " 'dist',\n",
              " 'e',\n",
              " 'erf',\n",
              " 'erfc',\n",
              " 'exp',\n",
              " 'exp2',\n",
              " 'expm1',\n",
              " 'fabs',\n",
              " 'factorial',\n",
              " 'floor',\n",
              " 'fmod',\n",
              " 'frexp',\n",
              " 'fsum',\n",
              " 'gamma',\n",
              " 'gcd',\n",
              " 'hypot',\n",
              " 'inf',\n",
              " 'isclose',\n",
              " 'isfinite',\n",
              " 'isinf',\n",
              " 'isnan',\n",
              " 'isqrt',\n",
              " 'lcm',\n",
              " 'ldexp',\n",
              " 'lgamma',\n",
              " 'log',\n",
              " 'log10',\n",
              " 'log1p',\n",
              " 'log2',\n",
              " 'modf',\n",
              " 'nan',\n",
              " 'nextafter',\n",
              " 'perm',\n",
              " 'pi',\n",
              " 'pow',\n",
              " 'prod',\n",
              " 'radians',\n",
              " 'remainder',\n",
              " 'sin',\n",
              " 'sinh',\n",
              " 'sqrt',\n",
              " 'tan',\n",
              " 'tanh',\n",
              " 'tau',\n",
              " 'trunc',\n",
              " 'ulp']"
            ]
          },
          "metadata": {},
          "execution_count": 5
        }
      ]
    },
    {
      "cell_type": "code",
      "source": [
        "str(math)"
      ],
      "metadata": {
        "colab": {
          "base_uri": "https://localhost:8080/",
          "height": 35
        },
        "id": "o58eSQYdzjXV",
        "outputId": "f893448b-f858-42b5-dd1c-e4d253440467"
      },
      "execution_count": null,
      "outputs": [
        {
          "output_type": "execute_result",
          "data": {
            "text/plain": [
              "\"<module 'math' (built-in)>\""
            ],
            "application/vnd.google.colaboratory.intrinsic+json": {
              "type": "string"
            }
          },
          "metadata": {},
          "execution_count": 6
        }
      ]
    },
    {
      "cell_type": "code",
      "source": [
        "min(2, 3, 1)"
      ],
      "metadata": {
        "colab": {
          "base_uri": "https://localhost:8080/"
        },
        "id": "Ow1N65Owzndx",
        "outputId": "14fef104-d7ec-405f-bd31-1a8f0b9dff97"
      },
      "execution_count": null,
      "outputs": [
        {
          "output_type": "execute_result",
          "data": {
            "text/plain": [
              "1"
            ]
          },
          "metadata": {},
          "execution_count": 7
        }
      ]
    },
    {
      "cell_type": "code",
      "source": [
        "min('this', 'that', 'other')"
      ],
      "metadata": {
        "colab": {
          "base_uri": "https://localhost:8080/",
          "height": 35
        },
        "id": "iIaRPNTbzvSs",
        "outputId": "2016d15a-2901-406b-cb0a-148ad964622b"
      },
      "execution_count": null,
      "outputs": [
        {
          "output_type": "execute_result",
          "data": {
            "text/plain": [
              "'other'"
            ],
            "application/vnd.google.colaboratory.intrinsic+json": {
              "type": "string"
            }
          },
          "metadata": {},
          "execution_count": 8
        }
      ]
    },
    {
      "cell_type": "code",
      "source": [
        "print(1, 1.1, '1', math)"
      ],
      "metadata": {
        "colab": {
          "base_uri": "https://localhost:8080/"
        },
        "id": "NpAJOqrkz57j",
        "outputId": "ac426665-aa75-40dd-ca9f-0cc9a54a39fa"
      },
      "execution_count": null,
      "outputs": [
        {
          "output_type": "stream",
          "name": "stdout",
          "text": [
            "1 1.1 1 <module 'math' (built-in)>\n"
          ]
        }
      ]
    },
    {
      "cell_type": "code",
      "source": [
        "string = 'hello'"
      ],
      "metadata": {
        "id": "6qUyroKlz8Lb"
      },
      "execution_count": null,
      "outputs": []
    },
    {
      "cell_type": "code",
      "source": [
        "help(str)"
      ],
      "metadata": {
        "colab": {
          "base_uri": "https://localhost:8080/"
        },
        "id": "jNzL3Rqq1J-j",
        "outputId": "3bd2ff26-7577-464e-ba05-a6ff8cdd05be"
      },
      "execution_count": null,
      "outputs": [
        {
          "output_type": "stream",
          "name": "stdout",
          "text": [
            "Help on class str in module builtins:\n",
            "\n",
            "class str(object)\n",
            " |  str(object='') -> str\n",
            " |  str(bytes_or_buffer[, encoding[, errors]]) -> str\n",
            " |  \n",
            " |  Create a new string object from the given object. If encoding or\n",
            " |  errors is specified, then the object must expose a data buffer\n",
            " |  that will be decoded using the given encoding and error handler.\n",
            " |  Otherwise, returns the result of object.__str__() (if defined)\n",
            " |  or repr(object).\n",
            " |  encoding defaults to sys.getdefaultencoding().\n",
            " |  errors defaults to 'strict'.\n",
            " |  \n",
            " |  Methods defined here:\n",
            " |  \n",
            " |  __add__(self, value, /)\n",
            " |      Return self+value.\n",
            " |  \n",
            " |  __contains__(self, key, /)\n",
            " |      Return key in self.\n",
            " |  \n",
            " |  __eq__(self, value, /)\n",
            " |      Return self==value.\n",
            " |  \n",
            " |  __format__(self, format_spec, /)\n",
            " |      Return a formatted version of the string as described by format_spec.\n",
            " |  \n",
            " |  __ge__(self, value, /)\n",
            " |      Return self>=value.\n",
            " |  \n",
            " |  __getattribute__(self, name, /)\n",
            " |      Return getattr(self, name).\n",
            " |  \n",
            " |  __getitem__(self, key, /)\n",
            " |      Return self[key].\n",
            " |  \n",
            " |  __getnewargs__(...)\n",
            " |  \n",
            " |  __gt__(self, value, /)\n",
            " |      Return self>value.\n",
            " |  \n",
            " |  __hash__(self, /)\n",
            " |      Return hash(self).\n",
            " |  \n",
            " |  __iter__(self, /)\n",
            " |      Implement iter(self).\n",
            " |  \n",
            " |  __le__(self, value, /)\n",
            " |      Return self<=value.\n",
            " |  \n",
            " |  __len__(self, /)\n",
            " |      Return len(self).\n",
            " |  \n",
            " |  __lt__(self, value, /)\n",
            " |      Return self<value.\n",
            " |  \n",
            " |  __mod__(self, value, /)\n",
            " |      Return self%value.\n",
            " |  \n",
            " |  __mul__(self, value, /)\n",
            " |      Return self*value.\n",
            " |  \n",
            " |  __ne__(self, value, /)\n",
            " |      Return self!=value.\n",
            " |  \n",
            " |  __repr__(self, /)\n",
            " |      Return repr(self).\n",
            " |  \n",
            " |  __rmod__(self, value, /)\n",
            " |      Return value%self.\n",
            " |  \n",
            " |  __rmul__(self, value, /)\n",
            " |      Return value*self.\n",
            " |  \n",
            " |  __sizeof__(self, /)\n",
            " |      Return the size of the string in memory, in bytes.\n",
            " |  \n",
            " |  __str__(self, /)\n",
            " |      Return str(self).\n",
            " |  \n",
            " |  capitalize(self, /)\n",
            " |      Return a capitalized version of the string.\n",
            " |      \n",
            " |      More specifically, make the first character have upper case and the rest lower\n",
            " |      case.\n",
            " |  \n",
            " |  casefold(self, /)\n",
            " |      Return a version of the string suitable for caseless comparisons.\n",
            " |  \n",
            " |  center(self, width, fillchar=' ', /)\n",
            " |      Return a centered string of length width.\n",
            " |      \n",
            " |      Padding is done using the specified fill character (default is a space).\n",
            " |  \n",
            " |  count(...)\n",
            " |      S.count(sub[, start[, end]]) -> int\n",
            " |      \n",
            " |      Return the number of non-overlapping occurrences of substring sub in\n",
            " |      string S[start:end].  Optional arguments start and end are\n",
            " |      interpreted as in slice notation.\n",
            " |  \n",
            " |  encode(self, /, encoding='utf-8', errors='strict')\n",
            " |      Encode the string using the codec registered for encoding.\n",
            " |      \n",
            " |      encoding\n",
            " |        The encoding in which to encode the string.\n",
            " |      errors\n",
            " |        The error handling scheme to use for encoding errors.\n",
            " |        The default is 'strict' meaning that encoding errors raise a\n",
            " |        UnicodeEncodeError.  Other possible values are 'ignore', 'replace' and\n",
            " |        'xmlcharrefreplace' as well as any other name registered with\n",
            " |        codecs.register_error that can handle UnicodeEncodeErrors.\n",
            " |  \n",
            " |  endswith(...)\n",
            " |      S.endswith(suffix[, start[, end]]) -> bool\n",
            " |      \n",
            " |      Return True if S ends with the specified suffix, False otherwise.\n",
            " |      With optional start, test S beginning at that position.\n",
            " |      With optional end, stop comparing S at that position.\n",
            " |      suffix can also be a tuple of strings to try.\n",
            " |  \n",
            " |  expandtabs(self, /, tabsize=8)\n",
            " |      Return a copy where all tab characters are expanded using spaces.\n",
            " |      \n",
            " |      If tabsize is not given, a tab size of 8 characters is assumed.\n",
            " |  \n",
            " |  find(...)\n",
            " |      S.find(sub[, start[, end]]) -> int\n",
            " |      \n",
            " |      Return the lowest index in S where substring sub is found,\n",
            " |      such that sub is contained within S[start:end].  Optional\n",
            " |      arguments start and end are interpreted as in slice notation.\n",
            " |      \n",
            " |      Return -1 on failure.\n",
            " |  \n",
            " |  format(...)\n",
            " |      S.format(*args, **kwargs) -> str\n",
            " |      \n",
            " |      Return a formatted version of S, using substitutions from args and kwargs.\n",
            " |      The substitutions are identified by braces ('{' and '}').\n",
            " |  \n",
            " |  format_map(...)\n",
            " |      S.format_map(mapping) -> str\n",
            " |      \n",
            " |      Return a formatted version of S, using substitutions from mapping.\n",
            " |      The substitutions are identified by braces ('{' and '}').\n",
            " |  \n",
            " |  index(...)\n",
            " |      S.index(sub[, start[, end]]) -> int\n",
            " |      \n",
            " |      Return the lowest index in S where substring sub is found,\n",
            " |      such that sub is contained within S[start:end].  Optional\n",
            " |      arguments start and end are interpreted as in slice notation.\n",
            " |      \n",
            " |      Raises ValueError when the substring is not found.\n",
            " |  \n",
            " |  isalnum(self, /)\n",
            " |      Return True if the string is an alpha-numeric string, False otherwise.\n",
            " |      \n",
            " |      A string is alpha-numeric if all characters in the string are alpha-numeric and\n",
            " |      there is at least one character in the string.\n",
            " |  \n",
            " |  isalpha(self, /)\n",
            " |      Return True if the string is an alphabetic string, False otherwise.\n",
            " |      \n",
            " |      A string is alphabetic if all characters in the string are alphabetic and there\n",
            " |      is at least one character in the string.\n",
            " |  \n",
            " |  isascii(self, /)\n",
            " |      Return True if all characters in the string are ASCII, False otherwise.\n",
            " |      \n",
            " |      ASCII characters have code points in the range U+0000-U+007F.\n",
            " |      Empty string is ASCII too.\n",
            " |  \n",
            " |  isdecimal(self, /)\n",
            " |      Return True if the string is a decimal string, False otherwise.\n",
            " |      \n",
            " |      A string is a decimal string if all characters in the string are decimal and\n",
            " |      there is at least one character in the string.\n",
            " |  \n",
            " |  isdigit(self, /)\n",
            " |      Return True if the string is a digit string, False otherwise.\n",
            " |      \n",
            " |      A string is a digit string if all characters in the string are digits and there\n",
            " |      is at least one character in the string.\n",
            " |  \n",
            " |  isidentifier(self, /)\n",
            " |      Return True if the string is a valid Python identifier, False otherwise.\n",
            " |      \n",
            " |      Call keyword.iskeyword(s) to test whether string s is a reserved identifier,\n",
            " |      such as \"def\" or \"class\".\n",
            " |  \n",
            " |  islower(self, /)\n",
            " |      Return True if the string is a lowercase string, False otherwise.\n",
            " |      \n",
            " |      A string is lowercase if all cased characters in the string are lowercase and\n",
            " |      there is at least one cased character in the string.\n",
            " |  \n",
            " |  isnumeric(self, /)\n",
            " |      Return True if the string is a numeric string, False otherwise.\n",
            " |      \n",
            " |      A string is numeric if all characters in the string are numeric and there is at\n",
            " |      least one character in the string.\n",
            " |  \n",
            " |  isprintable(self, /)\n",
            " |      Return True if the string is printable, False otherwise.\n",
            " |      \n",
            " |      A string is printable if all of its characters are considered printable in\n",
            " |      repr() or if it is empty.\n",
            " |  \n",
            " |  isspace(self, /)\n",
            " |      Return True if the string is a whitespace string, False otherwise.\n",
            " |      \n",
            " |      A string is whitespace if all characters in the string are whitespace and there\n",
            " |      is at least one character in the string.\n",
            " |  \n",
            " |  istitle(self, /)\n",
            " |      Return True if the string is a title-cased string, False otherwise.\n",
            " |      \n",
            " |      In a title-cased string, upper- and title-case characters may only\n",
            " |      follow uncased characters and lowercase characters only cased ones.\n",
            " |  \n",
            " |  isupper(self, /)\n",
            " |      Return True if the string is an uppercase string, False otherwise.\n",
            " |      \n",
            " |      A string is uppercase if all cased characters in the string are uppercase and\n",
            " |      there is at least one cased character in the string.\n",
            " |  \n",
            " |  join(self, iterable, /)\n",
            " |      Concatenate any number of strings.\n",
            " |      \n",
            " |      The string whose method is called is inserted in between each given string.\n",
            " |      The result is returned as a new string.\n",
            " |      \n",
            " |      Example: '.'.join(['ab', 'pq', 'rs']) -> 'ab.pq.rs'\n",
            " |  \n",
            " |  ljust(self, width, fillchar=' ', /)\n",
            " |      Return a left-justified string of length width.\n",
            " |      \n",
            " |      Padding is done using the specified fill character (default is a space).\n",
            " |  \n",
            " |  lower(self, /)\n",
            " |      Return a copy of the string converted to lowercase.\n",
            " |  \n",
            " |  lstrip(self, chars=None, /)\n",
            " |      Return a copy of the string with leading whitespace removed.\n",
            " |      \n",
            " |      If chars is given and not None, remove characters in chars instead.\n",
            " |  \n",
            " |  partition(self, sep, /)\n",
            " |      Partition the string into three parts using the given separator.\n",
            " |      \n",
            " |      This will search for the separator in the string.  If the separator is found,\n",
            " |      returns a 3-tuple containing the part before the separator, the separator\n",
            " |      itself, and the part after it.\n",
            " |      \n",
            " |      If the separator is not found, returns a 3-tuple containing the original string\n",
            " |      and two empty strings.\n",
            " |  \n",
            " |  removeprefix(self, prefix, /)\n",
            " |      Return a str with the given prefix string removed if present.\n",
            " |      \n",
            " |      If the string starts with the prefix string, return string[len(prefix):].\n",
            " |      Otherwise, return a copy of the original string.\n",
            " |  \n",
            " |  removesuffix(self, suffix, /)\n",
            " |      Return a str with the given suffix string removed if present.\n",
            " |      \n",
            " |      If the string ends with the suffix string and that suffix is not empty,\n",
            " |      return string[:-len(suffix)]. Otherwise, return a copy of the original\n",
            " |      string.\n",
            " |  \n",
            " |  replace(self, old, new, count=-1, /)\n",
            " |      Return a copy with all occurrences of substring old replaced by new.\n",
            " |      \n",
            " |        count\n",
            " |          Maximum number of occurrences to replace.\n",
            " |          -1 (the default value) means replace all occurrences.\n",
            " |      \n",
            " |      If the optional argument count is given, only the first count occurrences are\n",
            " |      replaced.\n",
            " |  \n",
            " |  rfind(...)\n",
            " |      S.rfind(sub[, start[, end]]) -> int\n",
            " |      \n",
            " |      Return the highest index in S where substring sub is found,\n",
            " |      such that sub is contained within S[start:end].  Optional\n",
            " |      arguments start and end are interpreted as in slice notation.\n",
            " |      \n",
            " |      Return -1 on failure.\n",
            " |  \n",
            " |  rindex(...)\n",
            " |      S.rindex(sub[, start[, end]]) -> int\n",
            " |      \n",
            " |      Return the highest index in S where substring sub is found,\n",
            " |      such that sub is contained within S[start:end].  Optional\n",
            " |      arguments start and end are interpreted as in slice notation.\n",
            " |      \n",
            " |      Raises ValueError when the substring is not found.\n",
            " |  \n",
            " |  rjust(self, width, fillchar=' ', /)\n",
            " |      Return a right-justified string of length width.\n",
            " |      \n",
            " |      Padding is done using the specified fill character (default is a space).\n",
            " |  \n",
            " |  rpartition(self, sep, /)\n",
            " |      Partition the string into three parts using the given separator.\n",
            " |      \n",
            " |      This will search for the separator in the string, starting at the end. If\n",
            " |      the separator is found, returns a 3-tuple containing the part before the\n",
            " |      separator, the separator itself, and the part after it.\n",
            " |      \n",
            " |      If the separator is not found, returns a 3-tuple containing two empty strings\n",
            " |      and the original string.\n",
            " |  \n",
            " |  rsplit(self, /, sep=None, maxsplit=-1)\n",
            " |      Return a list of the substrings in the string, using sep as the separator string.\n",
            " |      \n",
            " |        sep\n",
            " |          The separator used to split the string.\n",
            " |      \n",
            " |          When set to None (the default value), will split on any whitespace\n",
            " |          character (including \\n \\r \\t \\f and spaces) and will discard\n",
            " |          empty strings from the result.\n",
            " |        maxsplit\n",
            " |          Maximum number of splits.\n",
            " |          -1 (the default value) means no limit.\n",
            " |      \n",
            " |      Splitting starts at the end of the string and works to the front.\n",
            " |  \n",
            " |  rstrip(self, chars=None, /)\n",
            " |      Return a copy of the string with trailing whitespace removed.\n",
            " |      \n",
            " |      If chars is given and not None, remove characters in chars instead.\n",
            " |  \n",
            " |  split(self, /, sep=None, maxsplit=-1)\n",
            " |      Return a list of the substrings in the string, using sep as the separator string.\n",
            " |      \n",
            " |        sep\n",
            " |          The separator used to split the string.\n",
            " |      \n",
            " |          When set to None (the default value), will split on any whitespace\n",
            " |          character (including \\n \\r \\t \\f and spaces) and will discard\n",
            " |          empty strings from the result.\n",
            " |        maxsplit\n",
            " |          Maximum number of splits.\n",
            " |          -1 (the default value) means no limit.\n",
            " |      \n",
            " |      Splitting starts at the front of the string and works to the end.\n",
            " |      \n",
            " |      Note, str.split() is mainly useful for data that has been intentionally\n",
            " |      delimited.  With natural text that includes punctuation, consider using\n",
            " |      the regular expression module.\n",
            " |  \n",
            " |  splitlines(self, /, keepends=False)\n",
            " |      Return a list of the lines in the string, breaking at line boundaries.\n",
            " |      \n",
            " |      Line breaks are not included in the resulting list unless keepends is given and\n",
            " |      true.\n",
            " |  \n",
            " |  startswith(...)\n",
            " |      S.startswith(prefix[, start[, end]]) -> bool\n",
            " |      \n",
            " |      Return True if S starts with the specified prefix, False otherwise.\n",
            " |      With optional start, test S beginning at that position.\n",
            " |      With optional end, stop comparing S at that position.\n",
            " |      prefix can also be a tuple of strings to try.\n",
            " |  \n",
            " |  strip(self, chars=None, /)\n",
            " |      Return a copy of the string with leading and trailing whitespace removed.\n",
            " |      \n",
            " |      If chars is given and not None, remove characters in chars instead.\n",
            " |  \n",
            " |  swapcase(self, /)\n",
            " |      Convert uppercase characters to lowercase and lowercase characters to uppercase.\n",
            " |  \n",
            " |  title(self, /)\n",
            " |      Return a version of the string where each word is titlecased.\n",
            " |      \n",
            " |      More specifically, words start with uppercased characters and all remaining\n",
            " |      cased characters have lower case.\n",
            " |  \n",
            " |  translate(self, table, /)\n",
            " |      Replace each character in the string using the given translation table.\n",
            " |      \n",
            " |        table\n",
            " |          Translation table, which must be a mapping of Unicode ordinals to\n",
            " |          Unicode ordinals, strings, or None.\n",
            " |      \n",
            " |      The table must implement lookup/indexing via __getitem__, for instance a\n",
            " |      dictionary or list.  If this operation raises LookupError, the character is\n",
            " |      left untouched.  Characters mapped to None are deleted.\n",
            " |  \n",
            " |  upper(self, /)\n",
            " |      Return a copy of the string converted to uppercase.\n",
            " |  \n",
            " |  zfill(self, width, /)\n",
            " |      Pad a numeric string with zeros on the left, to fill a field of the given width.\n",
            " |      \n",
            " |      The string is never truncated.\n",
            " |  \n",
            " |  ----------------------------------------------------------------------\n",
            " |  Static methods defined here:\n",
            " |  \n",
            " |  __new__(*args, **kwargs)\n",
            " |      Create and return a new object.  See help(type) for accurate signature.\n",
            " |  \n",
            " |  maketrans(...)\n",
            " |      Return a translation table usable for str.translate().\n",
            " |      \n",
            " |      If there is only one argument, it must be a dictionary mapping Unicode\n",
            " |      ordinals (integers) or characters to Unicode ordinals, strings or None.\n",
            " |      Character keys will be then converted to ordinals.\n",
            " |      If there are two arguments, they must be strings of equal length, and\n",
            " |      in the resulting dictionary, each character in x will be mapped to the\n",
            " |      character at the same position in y. If there is a third argument, it\n",
            " |      must be a string, whose characters will be mapped to None in the result.\n",
            "\n"
          ]
        }
      ]
    },
    {
      "cell_type": "code",
      "source": [
        "help(str.find)"
      ],
      "metadata": {
        "colab": {
          "base_uri": "https://localhost:8080/"
        },
        "id": "TAXoOeEL1TIl",
        "outputId": "25564a81-ad60-4e5e-d0cd-2991ddd6b840"
      },
      "execution_count": null,
      "outputs": [
        {
          "output_type": "stream",
          "name": "stdout",
          "text": [
            "Help on method_descriptor:\n",
            "\n",
            "find(...) unbound builtins.str method\n",
            "    S.find(sub[, start[, end]]) -> int\n",
            "    \n",
            "    Return the lowest index in S where substring sub is found,\n",
            "    such that sub is contained within S[start:end].  Optional\n",
            "    arguments start and end are interpreted as in slice notation.\n",
            "    \n",
            "    Return -1 on failure.\n",
            "\n"
          ]
        }
      ]
    },
    {
      "cell_type": "code",
      "source": [
        "s = 'the is the test'"
      ],
      "metadata": {
        "id": "RN5ydDsc4OgH"
      },
      "execution_count": null,
      "outputs": []
    },
    {
      "cell_type": "markdown",
      "source": [],
      "metadata": {
        "id": "i8_B0xsF6XHl"
      }
    },
    {
      "cell_type": "code",
      "source": [
        "s.find(' the ')"
      ],
      "metadata": {
        "colab": {
          "base_uri": "https://localhost:8080/"
        },
        "id": "pe5paB4h4sm4",
        "outputId": "d1c25eba-5a33-4494-9363-e94c0f257b78"
      },
      "execution_count": null,
      "outputs": [
        {
          "output_type": "execute_result",
          "data": {
            "text/plain": [
              "8"
            ]
          },
          "metadata": {},
          "execution_count": 20
        }
      ]
    },
    {
      "cell_type": "code",
      "source": [
        "'a' in 'this is a test'"
      ],
      "metadata": {
        "colab": {
          "base_uri": "https://localhost:8080/"
        },
        "id": "ktRMOuue4wUM",
        "outputId": "2ce3548e-8d36-48d2-def8-97df537dce3e"
      },
      "execution_count": null,
      "outputs": [
        {
          "output_type": "execute_result",
          "data": {
            "text/plain": [
              "True"
            ]
          },
          "metadata": {},
          "execution_count": 21
        }
      ]
    },
    {
      "cell_type": "code",
      "source": [
        "'aeiouy'"
      ],
      "metadata": {
        "id": "fOgeVUCK5jC6"
      },
      "execution_count": null,
      "outputs": []
    },
    {
      "cell_type": "code",
      "source": [
        "'o' in 'aeiouy'"
      ],
      "metadata": {
        "colab": {
          "base_uri": "https://localhost:8080/"
        },
        "id": "lRl8ARJv6PoK",
        "outputId": "4030b72b-4aac-4aa6-a0c8-2f2e44871a38"
      },
      "execution_count": null,
      "outputs": [
        {
          "output_type": "execute_result",
          "data": {
            "text/plain": [
              "True"
            ]
          },
          "metadata": {},
          "execution_count": 23
        }
      ]
    },
    {
      "cell_type": "markdown",
      "source": [
        "## Quick Lab: String Functions\n",
        "* write a Python program to read in a sentence and tell the user how many vowels are in that sentence\n",
        "* so if the user entered \"Apples are my favorite fruit\", your program would respond with 10 (or 11 if you count 'y' as a vowel)\n",
        "* output the original string with any vowels \"highlighted\" by making them upper case, e.g., **ApplEs ArE my fAvOrItE frUIt**"
      ],
      "metadata": {
        "id": "8eqXwXAn69oT"
      }
    },
    {
      "cell_type": "code",
      "source": [
        "# 1. read in sentence\n",
        "# 1a. set count to 0\n",
        "# 1b. set output sentence to ''\n",
        "# 2. for each character in the sentence:\n",
        "# 3.     if vowel:\n",
        "# 4.        add 1 to count\n",
        "# 5.        add uppercase version of vowel to output sentence"
      ],
      "metadata": {
        "id": "P_FYyzrp7IcJ"
      },
      "execution_count": null,
      "outputs": []
    },
    {
      "cell_type": "code",
      "source": [
        "sentence = input('Enter a sentence:') # 1\n",
        "count = 0 # 1a AI\n",
        "output = '' # 1b AI\n",
        "vowels = 'aeiouy' # 2a\n",
        "# either we do the above or...\n",
        "for char in sentence.lower(): # 2\n",
        "    char_to_append = char\n",
        "    if char in vowels: # 3\n",
        "        count += 1 # 4\n",
        "        output += char.upper() # 5\n",
        "    else:\n",
        "        output += char # 6\n",
        "print(output, count, sep='\\n')"
      ],
      "metadata": {
        "colab": {
          "base_uri": "https://localhost:8080/"
        },
        "id": "9zmElfme68-o",
        "outputId": "262ec883-0bf4-444b-d112-d56d6edeb0b1"
      },
      "execution_count": null,
      "outputs": [
        {
          "output_type": "stream",
          "name": "stdout",
          "text": [
            "Enter a sentence:Apples are my favorite fruit\n",
            "ApplEs ArE mY fAvOrItE frUIt\n",
            "11\n"
          ]
        }
      ]
    },
    {
      "cell_type": "markdown",
      "source": [
        "## Lab: String Functions\n",
        "* write Python code to read in a string/sentence\n",
        "* your code will then clean the text by\n",
        "  * lowercasing all letters\n",
        "  * removing punctuation periods, commas, and question marks (.,?)\n",
        "  * removing extra spaces at the beginning and end\n",
        "* so if the input is __`\"  Hello? Welcome to Python.  \"`__\n",
        "* you program should output: __`\"hello welcome to python\"`__\n"
      ],
      "metadata": {
        "id": "QMJyCBTnAXxD"
      }
    },
    {
      "cell_type": "code",
      "source": [
        "# 1. get sentence\n",
        "# 1a. make it lower case\n",
        "# 2. replace periods/commas/? with ''\n",
        "# 3. remove leading/trailing whitespace"
      ],
      "metadata": {
        "id": "xni7bZLQ7m7G"
      },
      "execution_count": null,
      "outputs": []
    },
    {
      "cell_type": "code",
      "source": [
        "sentence = input('Enter: ').lower() # 1\n",
        "#sentence = sentence.lower() # 1a, could be above\n",
        "\n",
        "for char in '.,?': # 2 AI\n",
        "    sentence = sentence.replace(char, '') # 2 AI\n",
        "sentence = sentence.strip() # 3\n",
        "print(sentence)"
      ],
      "metadata": {
        "colab": {
          "base_uri": "https://localhost:8080/"
        },
        "id": "wa7kTDF6AOG2",
        "outputId": "7947e8a1-c885-454f-d358-141fc5e5e8b3"
      },
      "execution_count": null,
      "outputs": [
        {
          "output_type": "stream",
          "name": "stdout",
          "text": [
            "Enter:  Hello? Welcome to Python. \n",
            "hello welcome to python\n"
          ]
        }
      ]
    },
    {
      "cell_type": "code",
      "source": [
        "s = 'string'"
      ],
      "metadata": {
        "id": "j8_i5dxgA3uT"
      },
      "execution_count": null,
      "outputs": []
    },
    {
      "cell_type": "code",
      "source": [
        "'hellothere'.split() # take this string and split into words (on whitespace)"
      ],
      "metadata": {
        "colab": {
          "base_uri": "https://localhost:8080/"
        },
        "id": "kxXQISxtBf3L",
        "outputId": "fa75ef5f-3286-4c50-fdcc-972c72be08e9"
      },
      "execution_count": null,
      "outputs": [
        {
          "output_type": "execute_result",
          "data": {
            "text/plain": [
              "['hellothere']"
            ]
          },
          "metadata": {},
          "execution_count": 35
        }
      ]
    },
    {
      "cell_type": "code",
      "source": [
        "list('hello') # take this container, and make each element its own item in a new list"
      ],
      "metadata": {
        "colab": {
          "base_uri": "https://localhost:8080/"
        },
        "id": "jREEcUZ2FDop",
        "outputId": "bb9d22b7-51d7-41c1-a7d1-f2fa055af07a"
      },
      "execution_count": null,
      "outputs": [
        {
          "output_type": "execute_result",
          "data": {
            "text/plain": [
              "['h', 'e', 'l', 'l', 'o']"
            ]
          },
          "metadata": {},
          "execution_count": 33
        }
      ]
    },
    {
      "cell_type": "code",
      "source": [
        "letters = list('Whiting-Turner')\n",
        "letters"
      ],
      "metadata": {
        "colab": {
          "base_uri": "https://localhost:8080/"
        },
        "id": "amSxqQHnFFer",
        "outputId": "1809b8af-2baa-4c42-e24f-e60b2caae4f7"
      },
      "execution_count": null,
      "outputs": [
        {
          "output_type": "execute_result",
          "data": {
            "text/plain": [
              "['W', 'h', 'i', 't', 'i', 'n', 'g', '-', 'T', 'u', 'r', 'n', 'e', 'r']"
            ]
          },
          "metadata": {},
          "execution_count": 36
        }
      ]
    },
    {
      "cell_type": "code",
      "source": [
        "letters.sort()"
      ],
      "metadata": {
        "id": "cZd9N3hHF8Nt"
      },
      "execution_count": null,
      "outputs": []
    },
    {
      "cell_type": "code",
      "source": [
        "letters"
      ],
      "metadata": {
        "colab": {
          "base_uri": "https://localhost:8080/"
        },
        "id": "E6Ai9RrZF_qX",
        "outputId": "18002399-bcd0-4e53-abc2-edd05c0cf028"
      },
      "execution_count": null,
      "outputs": [
        {
          "output_type": "execute_result",
          "data": {
            "text/plain": [
              "['-', 'T', 'W', 'e', 'g', 'h', 'i', 'i', 'n', 'n', 'r', 'r', 't', 'u']"
            ]
          },
          "metadata": {},
          "execution_count": 38
        }
      ]
    },
    {
      "cell_type": "code",
      "source": [
        "''.join(letters)"
      ],
      "metadata": {
        "colab": {
          "base_uri": "https://localhost:8080/",
          "height": 35
        },
        "id": "X_BD2Az7GAIb",
        "outputId": "76e73aa6-9b0f-46a2-865d-d7f2f1b7e997"
      },
      "execution_count": null,
      "outputs": [
        {
          "output_type": "execute_result",
          "data": {
            "text/plain": [
              "'-TWeghiinnrrtu'"
            ],
            "application/vnd.google.colaboratory.intrinsic+json": {
              "type": "string"
            }
          },
          "metadata": {},
          "execution_count": 39
        }
      ]
    },
    {
      "cell_type": "code",
      "source": [
        "poem = '''TWO roads diverged in a yellow wood,\n",
        "And sorry I could not travel both\n",
        "And be one traveler, long I stood\n",
        "And looked down one as far as I could\n",
        "To where it bent in the undergrowth;\n",
        "\n",
        "Then took the other, as just as fair,\n",
        "And having perhaps the better claim,\n",
        "Because it was grassy and wanted wear;\n",
        "Though as for that the passing there\n",
        "Had worn them really about the same,\n",
        "\n",
        "And both that morning equally lay\n",
        "In leaves no step had trodden black.\n",
        "Oh, I kept the first for another day!\n",
        "Yet knowing how way leads on to way,\n",
        "I doubted if I should ever come back.\n",
        "\n",
        "I shall be telling this with a sigh\n",
        "Somewhere ages and ages hence:\n",
        "Two roads diverged in a wood, and I—\n",
        "I took the one less traveled by,\n",
        "And that has made all the difference.'''"
      ],
      "metadata": {
        "id": "kQmYLmuAGGyq"
      },
      "execution_count": null,
      "outputs": []
    },
    {
      "cell_type": "code",
      "source": [
        "poem.count('the')"
      ],
      "metadata": {
        "colab": {
          "base_uri": "https://localhost:8080/"
        },
        "id": "PQAr0RKBSIIU",
        "outputId": "6e588b82-db6b-489b-fa09-cc3882a6ff13"
      },
      "execution_count": null,
      "outputs": [
        {
          "output_type": "execute_result",
          "data": {
            "text/plain": [
              "12"
            ]
          },
          "metadata": {},
          "execution_count": 41
        }
      ]
    },
    {
      "cell_type": "code",
      "source": [
        "words = poem.split()"
      ],
      "metadata": {
        "id": "NzgZ6KS8SKly"
      },
      "execution_count": null,
      "outputs": []
    },
    {
      "cell_type": "code",
      "source": [
        "print(words)"
      ],
      "metadata": {
        "colab": {
          "base_uri": "https://localhost:8080/"
        },
        "id": "flYXk5RASX0u",
        "outputId": "49e2c50d-db64-49b7-d282-6351850074aa"
      },
      "execution_count": null,
      "outputs": [
        {
          "output_type": "stream",
          "name": "stdout",
          "text": [
            "['TWO', 'roads', 'diverged', 'in', 'a', 'yellow', 'wood,', 'And', 'sorry', 'I', 'could', 'not', 'travel', 'both', 'And', 'be', 'one', 'traveler,', 'long', 'I', 'stood', 'And', 'looked', 'down', 'one', 'as', 'far', 'as', 'I', 'could', 'To', 'where', 'it', 'bent', 'in', 'the', 'undergrowth;', 'Then', 'took', 'the', 'other,', 'as', 'just', 'as', 'fair,', 'And', 'having', 'perhaps', 'the', 'better', 'claim,', 'Because', 'it', 'was', 'grassy', 'and', 'wanted', 'wear;', 'Though', 'as', 'for', 'that', 'the', 'passing', 'there', 'Had', 'worn', 'them', 'really', 'about', 'the', 'same,', 'And', 'both', 'that', 'morning', 'equally', 'lay', 'In', 'leaves', 'no', 'step', 'had', 'trodden', 'black.', 'Oh,', 'I', 'kept', 'the', 'first', 'for', 'another', 'day!', 'Yet', 'knowing', 'how', 'way', 'leads', 'on', 'to', 'way,', 'I', 'doubted', 'if', 'I', 'should', 'ever', 'come', 'back.', 'I', 'shall', 'be', 'telling', 'this', 'with', 'a', 'sigh', 'Somewhere', 'ages', 'and', 'ages', 'hence:', 'Two', 'roads', 'diverged', 'in', 'a', 'wood,', 'and', 'I—', 'I', 'took', 'the', 'one', 'less', 'traveled', 'by,', 'And', 'that', 'has', 'made', 'all', 'the', 'difference.']\n"
          ]
        }
      ]
    },
    {
      "cell_type": "code",
      "source": [
        "words.count('the')"
      ],
      "metadata": {
        "colab": {
          "base_uri": "https://localhost:8080/"
        },
        "id": "yE9JSZarSZJh",
        "outputId": "426b7b71-3900-4e3c-f00f-1bfb5f6551f6"
      },
      "execution_count": null,
      "outputs": [
        {
          "output_type": "execute_result",
          "data": {
            "text/plain": [
              "8"
            ]
          },
          "metadata": {},
          "execution_count": 44
        }
      ]
    },
    {
      "cell_type": "code",
      "source": [
        "nums = list(range(1, 11))"
      ],
      "metadata": {
        "id": "iHxHzGmrSwGz"
      },
      "execution_count": null,
      "outputs": []
    },
    {
      "cell_type": "code",
      "source": [
        "', '.join(nums)"
      ],
      "metadata": {
        "colab": {
          "base_uri": "https://localhost:8080/",
          "height": 143
        },
        "id": "E_Ofr4HTWoip",
        "outputId": "654484eb-ade1-43f7-98b4-102268e37b3d"
      },
      "execution_count": null,
      "outputs": [
        {
          "output_type": "error",
          "ename": "TypeError",
          "evalue": "sequence item 0: expected str instance, int found",
          "traceback": [
            "\u001b[0;31m---------------------------------------------------------------------------\u001b[0m",
            "\u001b[0;31mTypeError\u001b[0m                                 Traceback (most recent call last)",
            "\u001b[0;32m<ipython-input-47-3c2d82d911c4>\u001b[0m in \u001b[0;36m<cell line: 0>\u001b[0;34m()\u001b[0m\n\u001b[0;32m----> 1\u001b[0;31m \u001b[0;34m', '\u001b[0m\u001b[0;34m.\u001b[0m\u001b[0mjoin\u001b[0m\u001b[0;34m(\u001b[0m\u001b[0mnums\u001b[0m\u001b[0;34m)\u001b[0m\u001b[0;34m\u001b[0m\u001b[0;34m\u001b[0m\u001b[0m\n\u001b[0m",
            "\u001b[0;31mTypeError\u001b[0m: sequence item 0: expected str instance, int found"
          ]
        }
      ]
    },
    {
      "cell_type": "code",
      "source": [
        "sorted([3, 1, 2]) # built-in function, so works on different datatypes"
      ],
      "metadata": {
        "colab": {
          "base_uri": "https://localhost:8080/"
        },
        "id": "dA7WmWmmXKI-",
        "outputId": "e73e5421-5ffb-4a32-c99e-cafb1e9eed75"
      },
      "execution_count": null,
      "outputs": [
        {
          "output_type": "execute_result",
          "data": {
            "text/plain": [
              "[1, 2, 3]"
            ]
          },
          "metadata": {},
          "execution_count": 49
        }
      ]
    },
    {
      "cell_type": "code",
      "source": [
        "sorted('alphabet')"
      ],
      "metadata": {
        "colab": {
          "base_uri": "https://localhost:8080/"
        },
        "id": "bJe2a6ekXRh3",
        "outputId": "3781b802-899d-4890-c6e8-b9efe57baac2"
      },
      "execution_count": null,
      "outputs": [
        {
          "output_type": "execute_result",
          "data": {
            "text/plain": [
              "['a', 'a', 'b', 'e', 'h', 'l', 'p', 't']"
            ]
          },
          "metadata": {},
          "execution_count": 50
        }
      ]
    },
    {
      "cell_type": "code",
      "source": [
        "sorted([3.1, 2.2, 4.3, 1])"
      ],
      "metadata": {
        "colab": {
          "base_uri": "https://localhost:8080/"
        },
        "id": "1zZqH3BlXgP6",
        "outputId": "f3a1723b-4897-4a34-8372-937772829a63"
      },
      "execution_count": null,
      "outputs": [
        {
          "output_type": "execute_result",
          "data": {
            "text/plain": [
              "[1, 2.2, 3.1, 4.3]"
            ]
          },
          "metadata": {},
          "execution_count": 52
        }
      ]
    },
    {
      "cell_type": "code",
      "source": [
        "nums = [3.1, 2.2, 4.3, 1]\n",
        "sorted(nums)"
      ],
      "metadata": {
        "colab": {
          "base_uri": "https://localhost:8080/"
        },
        "id": "yW-WEKW2XiYa",
        "outputId": "f9af9191-06ee-489e-e1b3-907052f019cd"
      },
      "execution_count": null,
      "outputs": [
        {
          "output_type": "execute_result",
          "data": {
            "text/plain": [
              "[1, 2.2, 3.1, 4.3]"
            ]
          },
          "metadata": {},
          "execution_count": 53
        }
      ]
    },
    {
      "cell_type": "code",
      "source": [
        "nums"
      ],
      "metadata": {
        "colab": {
          "base_uri": "https://localhost:8080/"
        },
        "id": "H6MJk0EvXraH",
        "outputId": "0c763652-7652-408b-eddb-54ff52a8a504"
      },
      "execution_count": null,
      "outputs": [
        {
          "output_type": "execute_result",
          "data": {
            "text/plain": [
              "[3.1, 2.2, 4.3, 1]"
            ]
          },
          "metadata": {},
          "execution_count": 54
        }
      ]
    },
    {
      "cell_type": "code",
      "source": [
        "sorted(nums, reverse=True)"
      ],
      "metadata": {
        "colab": {
          "base_uri": "https://localhost:8080/"
        },
        "id": "PF_GvgTqXtuP",
        "outputId": "d269e610-47e9-4ddb-b910-19cba2ffcb5f"
      },
      "execution_count": null,
      "outputs": [
        {
          "output_type": "execute_result",
          "data": {
            "text/plain": [
              "[4.3, 3.1, 2.2, 1]"
            ]
          },
          "metadata": {},
          "execution_count": 55
        }
      ]
    },
    {
      "cell_type": "code",
      "source": [
        "nums.sort?"
      ],
      "metadata": {
        "id": "-P38zjTsYLJd"
      },
      "execution_count": null,
      "outputs": []
    },
    {
      "cell_type": "markdown",
      "source": [
        "## Quick Lab: Lists\n",
        "* Write a program that asks the user to input two lists and then finds and prints the common elements between them\n",
        "<pre>\n",
        "Enter a list of items: <b>apple cherry banana lemon</b>\n",
        "Enter a second list of items: <b>apple guava banana lime</b>\n",
        "Common elements: apple banana"
      ],
      "metadata": {
        "id": "aqG-o7WRp3C6"
      }
    },
    {
      "cell_type": "code",
      "source": [
        "list1 = 'apple cherry banana lemon'.split() # 1\n",
        "list2 = 'apple guava banana lime'.split() # 1"
      ],
      "metadata": {
        "id": "s9bCgoxOp44p"
      },
      "execution_count": null,
      "outputs": []
    },
    {
      "cell_type": "code",
      "source": [
        "print(list1, list2, sep='\\n')"
      ],
      "metadata": {
        "colab": {
          "base_uri": "https://localhost:8080/"
        },
        "id": "5imSawHPqLlM",
        "outputId": "8080b583-9c14-4da2-ec88-6304a50c3a32"
      },
      "execution_count": null,
      "outputs": [
        {
          "output_type": "stream",
          "name": "stdout",
          "text": [
            "['apple', 'cherry', 'banana', 'lemon']\n",
            "['apple', 'guava', 'banana', 'lime']\n"
          ]
        }
      ]
    },
    {
      "cell_type": "code",
      "source": [
        "# 1. given two lists...\n",
        "# 2. for each item in first list:\n",
        "# 3.    if that item is *in* the second list:\n",
        "# 4.        print it out (or add it to a new list)"
      ],
      "metadata": {
        "id": "DzkppdkAqMXa"
      },
      "execution_count": null,
      "outputs": []
    },
    {
      "cell_type": "code",
      "source": [
        "for item in list1: # 2\n",
        "    if item in list2: # 3\n",
        "        print(item) # 4"
      ],
      "metadata": {
        "colab": {
          "base_uri": "https://localhost:8080/"
        },
        "id": "FxFgPjDDqXIO",
        "outputId": "97335486-19b8-4f6b-d81d-281861800415"
      },
      "execution_count": null,
      "outputs": [
        {
          "output_type": "stream",
          "name": "stdout",
          "text": [
            "apple\n",
            "banana\n"
          ]
        }
      ]
    },
    {
      "cell_type": "code",
      "source": [
        "# Nicholas' solution:\n",
        "list_1 = input('Please enter your first list: ').split()\n",
        "list_2 = input('Please enter your second list: ').split()\n",
        "\n",
        "like_items = [] # instantiated empty list\n",
        "\n",
        "for item in list_1: # for each item in first list\n",
        "    if item not in like_items and item in list_2: # if that item is in list2\n",
        "        like_items.append(item)\n",
        "\n",
        "print(*like_items, sep=\", \")"
      ],
      "metadata": {
        "colab": {
          "base_uri": "https://localhost:8080/"
        },
        "id": "HV-tb-q3qeQh",
        "outputId": "d26325c2-1485-449b-8ac4-cfa0d43e6d87"
      },
      "execution_count": null,
      "outputs": [
        {
          "output_type": "stream",
          "name": "stdout",
          "text": [
            "Please enter your first list: apple apple fig pear\n",
            "Please enter your second list: lemon apple cherry lime\n",
            "apple\n"
          ]
        }
      ]
    },
    {
      "cell_type": "code",
      "source": [
        "list1"
      ],
      "metadata": {
        "colab": {
          "base_uri": "https://localhost:8080/"
        },
        "id": "4Za8AsOSrwIn",
        "outputId": "34123230-66dc-4041-c328-a243a8b307e4"
      },
      "execution_count": null,
      "outputs": [
        {
          "output_type": "execute_result",
          "data": {
            "text/plain": [
              "['apple', 'cherry', 'banana', 'lemon']"
            ]
          },
          "metadata": {},
          "execution_count": 63
        }
      ]
    },
    {
      "cell_type": "code",
      "source": [
        "print(list1)"
      ],
      "metadata": {
        "colab": {
          "base_uri": "https://localhost:8080/"
        },
        "id": "-3VNf923sAvN",
        "outputId": "618e5b27-863d-4495-9d11-7bded66ef1dc"
      },
      "execution_count": null,
      "outputs": [
        {
          "output_type": "stream",
          "name": "stdout",
          "text": [
            "['apple', 'cherry', 'banana', 'lemon']\n"
          ]
        }
      ]
    },
    {
      "cell_type": "code",
      "source": [
        "print(list1[0], list1[1], list1[2], list1[3])"
      ],
      "metadata": {
        "colab": {
          "base_uri": "https://localhost:8080/"
        },
        "id": "pSYhLeIgsCBJ",
        "outputId": "e0067a90-1841-4c74-adf6-8df7133afb5f"
      },
      "execution_count": null,
      "outputs": [
        {
          "output_type": "stream",
          "name": "stdout",
          "text": [
            "apple cherry banana lemon\n"
          ]
        }
      ]
    },
    {
      "cell_type": "code",
      "source": [
        "print(*list1, sep=', ') # 'unpack' operator"
      ],
      "metadata": {
        "colab": {
          "base_uri": "https://localhost:8080/"
        },
        "id": "ptU9AJA-sZJB",
        "outputId": "2dbd0033-efa7-441f-f7c3-ba4e18f7b0e6"
      },
      "execution_count": null,
      "outputs": [
        {
          "output_type": "stream",
          "name": "stdout",
          "text": [
            "apple, cherry, banana, lemon\n"
          ]
        }
      ]
    },
    {
      "cell_type": "code",
      "source": [
        "print(', '.join(list1))"
      ],
      "metadata": {
        "colab": {
          "base_uri": "https://localhost:8080/"
        },
        "id": "xpZM5TdAsnU0",
        "outputId": "0418d1ac-6ba5-46bd-90bc-a6224f77b3e3"
      },
      "execution_count": null,
      "outputs": [
        {
          "output_type": "stream",
          "name": "stdout",
          "text": [
            "apple, cherry, banana, lemon\n"
          ]
        }
      ]
    },
    {
      "cell_type": "markdown",
      "source": [
        "## Group Lab: Lists\n",
        "* Write a Python program to maintain a list of numbers\n",
        "  * Read input until the user enters 'quit'\n",
        "  * Numbers that the user enters should be added to the list\n",
        "  * If a number begins with '-' (e.g., '-45') it should be removed from the list\n",
        "  * If the user enters only a '-', the list should be reversed\n",
        "  * After each operation, print the list\n",
        "  * Extras:\n",
        "      * If user enters more than one number (e.g, __51 28__), add 51 and 28 to the list, rather than \"51 28\"\n",
        "      * Same for \"-\", i.e., __-51 28__ would remove 51 and 28 from the  list"
      ],
      "metadata": {
        "id": "8vkVgwfTuJFO"
      }
    },
    {
      "cell_type": "code",
      "source": [
        "response = ''\n",
        "\n",
        "while response != 'quit':\n",
        "    response = input('Enter: ')\n",
        "    if response == 'quit':\n",
        "        break\n",
        "    print('process', response)"
      ],
      "metadata": {
        "colab": {
          "base_uri": "https://localhost:8080/"
        },
        "id": "WhLF_8_vuJR2",
        "outputId": "46e7783d-d884-45f2-b66b-bda1669ba68f"
      },
      "execution_count": null,
      "outputs": [
        {
          "name": "stdout",
          "output_type": "stream",
          "text": [
            "Enter: apple\n",
            "process apple\n",
            "Enter: fig\n",
            "process fig\n",
            "Enter: pear\n",
            "process pear\n",
            "Enter: break\n",
            "process break\n",
            "Enter: quit\n"
          ]
        }
      ]
    },
    {
      "cell_type": "markdown",
      "source": [],
      "metadata": {
        "id": "d_bvtWsGwynk"
      }
    },
    {
      "cell_type": "code",
      "source": [
        "response = ''\n",
        "\n",
        "while True:\n",
        "    response = input('Enter: ')\n",
        "    if response == 'quit': # 1 1/2 loop ... middle test\n",
        "        break\n",
        "    print('process', response)"
      ],
      "metadata": {
        "id": "vNNK-dcVvSQw"
      },
      "execution_count": null,
      "outputs": []
    },
    {
      "cell_type": "code",
      "source": [
        "import sys\n",
        "sys.version"
      ],
      "metadata": {
        "colab": {
          "base_uri": "https://localhost:8080/",
          "height": 35
        },
        "id": "6b2w5kXOw6Mm",
        "outputId": "51b6496e-63b5-4769-a41a-99bad1c8f473"
      },
      "execution_count": null,
      "outputs": [
        {
          "output_type": "execute_result",
          "data": {
            "text/plain": [
              "'3.11.12 (main, Apr  9 2025, 08:55:54) [GCC 11.4.0]'"
            ],
            "application/vnd.google.colaboratory.intrinsic+json": {
              "type": "string"
            }
          },
          "metadata": {},
          "execution_count": 78
        }
      ]
    },
    {
      "cell_type": "code",
      "source": [
        "# \"walrus operator\" ... aka ... \"assignment expression\"\n",
        "while (response := input('Enter: ')) != 'quit':\n",
        "    print('process', response)"
      ],
      "metadata": {
        "colab": {
          "base_uri": "https://localhost:8080/"
        },
        "id": "GRI-EHr3w8bA",
        "outputId": "f75a7d72-83ef-42e1-db4e-f5f4fcaad6fd"
      },
      "execution_count": null,
      "outputs": [
        {
          "name": "stdout",
          "output_type": "stream",
          "text": [
            "Enter: apple\n",
            "process apple\n",
            "Enter: fig\n",
            "process fig\n",
            "Enter: quit\n"
          ]
        }
      ]
    },
    {
      "cell_type": "code",
      "source": [
        "numbers = []\n",
        "\n",
        "while (response := input('Enter: ')) != 'quit':\n",
        "    numbers.append(response)\n",
        "    print(*numbers, sep=', ')"
      ],
      "metadata": {
        "colab": {
          "base_uri": "https://localhost:8080/"
        },
        "id": "mb9vaxtmxQ9o",
        "outputId": "9791cd80-bbde-4884-d984-cceed043d4fe"
      },
      "execution_count": null,
      "outputs": [
        {
          "name": "stdout",
          "output_type": "stream",
          "text": [
            "Enter: 34\n",
            "34\n",
            "Enter: 15\n",
            "34, 15\n",
            "Enter: 8\n",
            "34, 15, 8\n",
            "Enter: 27\n",
            "34, 15, 8, 27\n",
            "Enter: quit\n"
          ]
        }
      ]
    },
    {
      "cell_type": "code",
      "source": [
        "numbers"
      ],
      "metadata": {
        "colab": {
          "base_uri": "https://localhost:8080/"
        },
        "id": "D72mXXE5x8e0",
        "outputId": "8168c3b1-83e4-405f-e266-9308300505f7"
      },
      "execution_count": null,
      "outputs": [
        {
          "output_type": "execute_result",
          "data": {
            "text/plain": [
              "['34', '15', '8', '27']"
            ]
          },
          "metadata": {},
          "execution_count": 82
        }
      ]
    },
    {
      "cell_type": "code",
      "source": [
        "number = 12345"
      ],
      "metadata": {
        "id": "oYtCwG-tyGQZ"
      },
      "execution_count": null,
      "outputs": []
    },
    {
      "cell_type": "code",
      "source": [
        "len(str(number))"
      ],
      "metadata": {
        "colab": {
          "base_uri": "https://localhost:8080/"
        },
        "id": "x2SHTS_2yS4a",
        "outputId": "008c00b5-f0e3-4091-8533-848eeec81333"
      },
      "execution_count": null,
      "outputs": [
        {
          "output_type": "execute_result",
          "data": {
            "text/plain": [
              "5"
            ]
          },
          "metadata": {},
          "execution_count": 84
        }
      ]
    },
    {
      "cell_type": "code",
      "source": [
        "number % 10"
      ],
      "metadata": {
        "colab": {
          "base_uri": "https://localhost:8080/"
        },
        "id": "F2XoHWshyW8C",
        "outputId": "c25353e9-87c5-4c0b-fd3c-47cf06ebd381"
      },
      "execution_count": null,
      "outputs": [
        {
          "output_type": "execute_result",
          "data": {
            "text/plain": [
              "5"
            ]
          },
          "metadata": {},
          "execution_count": 85
        }
      ]
    },
    {
      "cell_type": "code",
      "source": [
        "number = number // 10"
      ],
      "metadata": {
        "id": "9p0tm8j3ybcS"
      },
      "execution_count": null,
      "outputs": []
    },
    {
      "cell_type": "code",
      "source": [
        "number"
      ],
      "metadata": {
        "colab": {
          "base_uri": "https://localhost:8080/"
        },
        "id": "pCp3-zzyyjwe",
        "outputId": "dbb7d07c-c91c-4ed1-def9-d6263f47ba77"
      },
      "execution_count": null,
      "outputs": [
        {
          "output_type": "execute_result",
          "data": {
            "text/plain": [
              "1234"
            ]
          },
          "metadata": {},
          "execution_count": 88
        }
      ]
    },
    {
      "cell_type": "code",
      "source": [
        "number % 10"
      ],
      "metadata": {
        "colab": {
          "base_uri": "https://localhost:8080/"
        },
        "id": "a-usE6eaylzS",
        "outputId": "e06a783a-39d6-4f0f-cc97-be6fd50f61f7"
      },
      "execution_count": null,
      "outputs": [
        {
          "output_type": "execute_result",
          "data": {
            "text/plain": [
              "4"
            ]
          },
          "metadata": {},
          "execution_count": 89
        }
      ]
    },
    {
      "cell_type": "code",
      "source": [
        "for digit in str(number):\n",
        "    print(digit)"
      ],
      "metadata": {
        "colab": {
          "base_uri": "https://localhost:8080/"
        },
        "id": "oh2BhSOnymsp",
        "outputId": "9c1e0a43-9131-4de2-db14-72bea5c9e8e0"
      },
      "execution_count": null,
      "outputs": [
        {
          "output_type": "stream",
          "name": "stdout",
          "text": [
            "1\n",
            "2\n",
            "3\n",
            "4\n",
            "5\n"
          ]
        }
      ]
    },
    {
      "cell_type": "code",
      "source": [
        "number_str = str(number)"
      ],
      "metadata": {
        "id": "HvBkCX61ywBa"
      },
      "execution_count": null,
      "outputs": []
    },
    {
      "cell_type": "code",
      "source": [
        "number_str.split()"
      ],
      "metadata": {
        "colab": {
          "base_uri": "https://localhost:8080/"
        },
        "id": "X4uO9F5dzB9Q",
        "outputId": "afbd31fd-4476-4f99-f0dd-e8941ed2292f"
      },
      "execution_count": null,
      "outputs": [
        {
          "output_type": "execute_result",
          "data": {
            "text/plain": [
              "['12345']"
            ]
          },
          "metadata": {},
          "execution_count": 93
        }
      ]
    },
    {
      "cell_type": "code",
      "source": [
        "list(number_str)"
      ],
      "metadata": {
        "colab": {
          "base_uri": "https://localhost:8080/"
        },
        "id": "dgmHs6gkzGJx",
        "outputId": "bf7fad79-bc88-4343-8ec3-7ba6f3acdfb8"
      },
      "execution_count": null,
      "outputs": [
        {
          "output_type": "execute_result",
          "data": {
            "text/plain": [
              "['1', '2', '3', '4', '5']"
            ]
          },
          "metadata": {},
          "execution_count": 94
        }
      ]
    },
    {
      "cell_type": "code",
      "source": [
        "digits = list(number_str)"
      ],
      "metadata": {
        "id": "IivyzT_2zPN2"
      },
      "execution_count": null,
      "outputs": []
    },
    {
      "cell_type": "code",
      "source": [
        "import random"
      ],
      "metadata": {
        "id": "2hca5OLhzRNw"
      },
      "execution_count": null,
      "outputs": []
    },
    {
      "cell_type": "code",
      "source": [
        "random.shuffle(digits)"
      ],
      "metadata": {
        "id": "4YFg-FQ6zTIE"
      },
      "execution_count": null,
      "outputs": []
    },
    {
      "cell_type": "code",
      "source": [
        "digits"
      ],
      "metadata": {
        "colab": {
          "base_uri": "https://localhost:8080/"
        },
        "id": "mdLg9XEEzXSp",
        "outputId": "7e779a97-7746-4c58-8cb8-1f15f966b2dd"
      },
      "execution_count": null,
      "outputs": [
        {
          "output_type": "execute_result",
          "data": {
            "text/plain": [
              "['5', '4', '2', '1', '3']"
            ]
          },
          "metadata": {},
          "execution_count": 98
        }
      ]
    },
    {
      "cell_type": "code",
      "source": [
        "new_number = int(''.join(digits))"
      ],
      "metadata": {
        "id": "uzDDoRI2zYVJ"
      },
      "execution_count": null,
      "outputs": []
    },
    {
      "cell_type": "code",
      "source": [
        "new_number"
      ],
      "metadata": {
        "colab": {
          "base_uri": "https://localhost:8080/"
        },
        "id": "8Z1pFsRmzm_W",
        "outputId": "d720ebff-ff09-4487-c81d-53703df2ac28"
      },
      "execution_count": null,
      "outputs": [
        {
          "output_type": "execute_result",
          "data": {
            "text/plain": [
              "54213"
            ]
          },
          "metadata": {},
          "execution_count": 100
        }
      ]
    },
    {
      "cell_type": "code",
      "source": [
        "str(new_number)[-1]"
      ],
      "metadata": {
        "colab": {
          "base_uri": "https://localhost:8080/",
          "height": 35
        },
        "id": "Vz-CS--3zn9x",
        "outputId": "6072f9d1-6460-4ccf-c795-c323eedab4cd"
      },
      "execution_count": null,
      "outputs": [
        {
          "output_type": "execute_result",
          "data": {
            "text/plain": [
              "'3'"
            ],
            "application/vnd.google.colaboratory.intrinsic+json": {
              "type": "string"
            }
          },
          "metadata": {},
          "execution_count": 101
        }
      ]
    },
    {
      "cell_type": "code",
      "source": [
        "poem = '''TWO roads diverged in a yellow wood,\n",
        "And sorry I could not travel both\n",
        "And be one traveler, long I stood\n",
        "And looked down one as far as I could\n",
        "To where it bent in the undergrowth;\n",
        "\n",
        "Then took the other, as just as fair,\n",
        "And having perhaps the better claim,\n",
        "Because it was grassy and wanted wear;\n",
        "Though as for that the passing there\n",
        "Had worn them really about the same,\n",
        "\n",
        "And both that morning equally lay\n",
        "In leaves no step had trodden black.\n",
        "Oh, I kept the first for another day!\n",
        "Yet knowing how way leads on to way,\n",
        "I doubted if I should ever come back.\n",
        "\n",
        "I shall be telling this with a sigh\n",
        "Somewhere ages and ages hence:\n",
        "Two roads diverged in a wood, and I—\n",
        "I took the one less traveled by,\n",
        "And that has made all the difference"
      ],
      "metadata": {
        "id": "gE5deEgdzyxU"
      },
      "execution_count": null,
      "outputs": []
    },
    {
      "cell_type": "code",
      "source": [
        "poem_no_vowel = [char for char in poem.lower()\n",
        "                                    if char not in 'aeiou']"
      ],
      "metadata": {
        "id": "3QHEzXz1-51V"
      },
      "execution_count": null,
      "outputs": []
    },
    {
      "cell_type": "code",
      "source": [
        "print(''.join(poem_no_vowel))"
      ],
      "metadata": {
        "colab": {
          "base_uri": "https://localhost:8080/"
        },
        "id": "ObLLt_Hq_BRP",
        "outputId": "25e1deb2-7a29-4757-f18f-1ef0e3a245e9"
      },
      "execution_count": null,
      "outputs": [
        {
          "output_type": "stream",
          "name": "stdout",
          "text": [
            "tw rds dvrgd n  yllw wd,\n",
            "nd srry  cld nt trvl bth\n",
            "nd b n trvlr, lng  std\n",
            "nd lkd dwn n s fr s  cld\n",
            "t whr t bnt n th ndrgrwth;\n",
            "\n",
            "thn tk th thr, s jst s fr,\n",
            "nd hvng prhps th bttr clm,\n",
            "bcs t ws grssy nd wntd wr;\n",
            "thgh s fr tht th pssng thr\n",
            "hd wrn thm rlly bt th sm,\n",
            "\n",
            "nd bth tht mrnng qlly ly\n",
            "n lvs n stp hd trddn blck.\n",
            "h,  kpt th frst fr nthr dy!\n",
            "yt knwng hw wy lds n t wy,\n",
            " dbtd f  shld vr cm bck.\n",
            "\n",
            " shll b tllng ths wth  sgh\n",
            "smwhr gs nd gs hnc:\n",
            "tw rds dvrgd n  wd, nd —\n",
            " tk th n lss trvld by,\n",
            "nd tht hs md ll th dffrnc.\n"
          ]
        }
      ]
    },
    {
      "cell_type": "code",
      "source": [],
      "metadata": {
        "id": "MX-mL0Nd_Dt_"
      },
      "execution_count": null,
      "outputs": []
    },
    {
      "cell_type": "markdown",
      "source": [
        "## Lab: List Comprehensions\n",
        "*  Start with Cartesian product example (colors x sizes of t-shirts) and a\n",
        "*  add a third list, __`sleeves = ['short', 'long']`__ then write a new listcomp which generates the Cartesian product __`colors x sizes x sleeves`__. __`tshirts`__ should look like this:<pre><b>\n",
        "    [['black', 'S', 'short'],\n",
        "     ['black', 'S', 'long'],\n",
        "     ['black', 'M', 'short'],\n",
        "     ['black', 'M', 'long'],\n",
        "     ['black', 'L', 'short'],\n",
        "     ['black', 'L', 'long'],\n",
        "     ['white', 'S', 'short'],\n",
        "     ['white', 'S', 'long'],\n",
        "     ['white', 'M', 'short'],\n",
        "     ['white', 'M', 'long'],\n",
        "     ['white', 'L', 'short'],\n",
        "     ['white', 'L', 'long']]\n",
        "     \n",
        " </b></pre>\n",
        "* Use a list comprehension to create a list of the squares of the integers from 1 to 25 (i.e, 1, 4, 9, 16, …, 625)\n",
        "* Given a list of words, create a second list which contains all the words from the first list which do not end with a vowel\n",
        "* Use a list comprehension to create a list of the integers from 1 to 100 which are not divisible by 5\n",
        "* Use a list comprehension and __`zip()`__ to create a list of lists, where the list items are name and ID number that you grabbed from separate lists of names and ID numbers\n",
        "  * start with a list of, say, 5 names ['John', 'Mary', 'Edward', 'Linda', 'Dinesh']\n",
        "  * and a list of, say, 5 ID numbers [1003, 2043, 8762, 7862, 1093]\n",
        "  * additional wrinkle: do not include any names whose corresponding ID is -1"
      ],
      "metadata": {
        "id": "exvVLoCuB7jZ"
      }
    },
    {
      "cell_type": "code",
      "source": [
        "colors = ['black', 'white', 'green']\n",
        "sizes = ['S', 'M', 'L', 'XL']\n",
        "sleeves = ['short', 'long']"
      ],
      "metadata": {
        "id": "MtnR5CTAB8NB"
      },
      "execution_count": null,
      "outputs": []
    },
    {
      "cell_type": "code",
      "source": [],
      "metadata": {
        "id": "l-31BnOnCjfb"
      },
      "execution_count": null,
      "outputs": []
    },
    {
      "cell_type": "code",
      "source": [
        "tshirts = [[color, size, sleeve] for sleeve in sleeves\n",
        "                                    for color in colors\n",
        "                                       for size in sizes\n",
        "                                                         ]\n",
        "tshirts"
      ],
      "metadata": {
        "colab": {
          "base_uri": "https://localhost:8080/"
        },
        "id": "OWyf-rY7CSxV",
        "outputId": "baa5e987-0176-4337-e6de-49e263527d0b"
      },
      "execution_count": null,
      "outputs": [
        {
          "output_type": "execute_result",
          "data": {
            "text/plain": [
              "[['black', 'S', 'short'],\n",
              " ['black', 'M', 'short'],\n",
              " ['black', 'L', 'short'],\n",
              " ['black', 'XL', 'short'],\n",
              " ['white', 'S', 'short'],\n",
              " ['white', 'M', 'short'],\n",
              " ['white', 'L', 'short'],\n",
              " ['white', 'XL', 'short'],\n",
              " ['green', 'S', 'short'],\n",
              " ['green', 'M', 'short'],\n",
              " ['green', 'L', 'short'],\n",
              " ['green', 'XL', 'short'],\n",
              " ['black', 'S', 'long'],\n",
              " ['black', 'M', 'long'],\n",
              " ['black', 'L', 'long'],\n",
              " ['black', 'XL', 'long'],\n",
              " ['white', 'S', 'long'],\n",
              " ['white', 'M', 'long'],\n",
              " ['white', 'L', 'long'],\n",
              " ['white', 'XL', 'long'],\n",
              " ['green', 'S', 'long'],\n",
              " ['green', 'M', 'long'],\n",
              " ['green', 'L', 'long'],\n",
              " ['green', 'XL', 'long']]"
            ]
          },
          "metadata": {},
          "execution_count": 110
        }
      ]
    },
    {
      "cell_type": "code",
      "source": [
        "# square of the numbers from 1..25\n",
        "squares = []\n",
        "\n",
        "for number in range(1, 26):\n",
        "    squares.append(number * number)"
      ],
      "metadata": {
        "id": "Z6hzbDpcCdNH"
      },
      "execution_count": null,
      "outputs": []
    },
    {
      "cell_type": "code",
      "source": [
        "print(squares)"
      ],
      "metadata": {
        "colab": {
          "base_uri": "https://localhost:8080/"
        },
        "id": "Y7nP4zH1DIK4",
        "outputId": "958dd363-31e3-4b38-9b82-c25be013ca4a"
      },
      "execution_count": null,
      "outputs": [
        {
          "output_type": "stream",
          "name": "stdout",
          "text": [
            "[1, 4, 9, 16, 25, 36, 49, 64, 81, 100, 121, 144, 169, 196, 225, 256, 289, 324, 361, 400, 441, 484, 529, 576, 625]\n"
          ]
        }
      ]
    },
    {
      "cell_type": "code",
      "source": [
        "squares = [float(number * number) for number in range(1, 26)]\n",
        "squares"
      ],
      "metadata": {
        "colab": {
          "base_uri": "https://localhost:8080/"
        },
        "id": "YVXTdSEMDJ6a",
        "outputId": "d2fee39d-0905-4f07-c739-b556c973f063"
      },
      "execution_count": null,
      "outputs": [
        {
          "output_type": "execute_result",
          "data": {
            "text/plain": [
              "[1.0,\n",
              " 4.0,\n",
              " 9.0,\n",
              " 16.0,\n",
              " 25.0,\n",
              " 36.0,\n",
              " 49.0,\n",
              " 64.0,\n",
              " 81.0,\n",
              " 100.0,\n",
              " 121.0,\n",
              " 144.0,\n",
              " 169.0,\n",
              " 196.0,\n",
              " 225.0,\n",
              " 256.0,\n",
              " 289.0,\n",
              " 324.0,\n",
              " 361.0,\n",
              " 400.0,\n",
              " 441.0,\n",
              " 484.0,\n",
              " 529.0,\n",
              " 576.0,\n",
              " 625.0]"
            ]
          },
          "metadata": {},
          "execution_count": 117
        }
      ]
    },
    {
      "cell_type": "code",
      "source": [
        "words = 'milk cheese mango banana bread'.split()"
      ],
      "metadata": {
        "id": "fPNEKLzDDljG"
      },
      "execution_count": null,
      "outputs": []
    },
    {
      "cell_type": "code",
      "source": [
        "no_vowel_words = [word * 2 for word in words\n",
        "                                    if word[-1] in 'aeiou']"
      ],
      "metadata": {
        "id": "Ff7BweFBEBrg"
      },
      "execution_count": null,
      "outputs": []
    },
    {
      "cell_type": "code",
      "source": [
        "no_vowel_words"
      ],
      "metadata": {
        "colab": {
          "base_uri": "https://localhost:8080/"
        },
        "id": "t59iQ19eEhpk",
        "outputId": "a77d5004-c7aa-4a5f-acfe-a0168c3d7964"
      },
      "execution_count": null,
      "outputs": [
        {
          "output_type": "execute_result",
          "data": {
            "text/plain": [
              "['cheesecheese', 'mangomango', 'bananabanana']"
            ]
          },
          "metadata": {},
          "execution_count": 129
        }
      ]
    },
    {
      "cell_type": "code",
      "source": [
        "list(range(0, 101, 5))"
      ],
      "metadata": {
        "colab": {
          "base_uri": "https://localhost:8080/"
        },
        "id": "kXAXnCUvEkBs",
        "outputId": "5b901a92-9cc0-4ed3-a6c1-0d44aeea214d"
      },
      "execution_count": null,
      "outputs": [
        {
          "output_type": "execute_result",
          "data": {
            "text/plain": [
              "[0,\n",
              " 5,\n",
              " 10,\n",
              " 15,\n",
              " 20,\n",
              " 25,\n",
              " 30,\n",
              " 35,\n",
              " 40,\n",
              " 45,\n",
              " 50,\n",
              " 55,\n",
              " 60,\n",
              " 65,\n",
              " 70,\n",
              " 75,\n",
              " 80,\n",
              " 85,\n",
              " 90,\n",
              " 95,\n",
              " 100]"
            ]
          },
          "metadata": {},
          "execution_count": 132
        }
      ]
    },
    {
      "cell_type": "code",
      "source": [
        "no_divis_by_5 = [number for number in range(1, 101)\n",
        "                            if number % 5 > 0]"
      ],
      "metadata": {
        "id": "PXQKS1qeFSY8"
      },
      "execution_count": null,
      "outputs": []
    },
    {
      "cell_type": "code",
      "source": [
        "if 5: # 5 is considered True\n",
        "    print('yep')"
      ],
      "metadata": {
        "colab": {
          "base_uri": "https://localhost:8080/"
        },
        "id": "ClqGzK-EF84I",
        "outputId": "cd8702ab-1907-40c6-fad7-35f5fd7af1a8"
      },
      "execution_count": null,
      "outputs": [
        {
          "output_type": "stream",
          "name": "stdout",
          "text": [
            "yep\n"
          ]
        }
      ]
    },
    {
      "cell_type": "code",
      "source": [
        "value = 5"
      ],
      "metadata": {
        "id": "UrPMmOotF0yi"
      },
      "execution_count": null,
      "outputs": []
    },
    {
      "cell_type": "code",
      "source": [
        "if value: # meaning: if value is != 0.0\n",
        "    print('yes')"
      ],
      "metadata": {
        "colab": {
          "base_uri": "https://localhost:8080/"
        },
        "id": "_1Vq6htQGqEi",
        "outputId": "7b848175-a2fe-4bb6-a79b-b7d5ad334579"
      },
      "execution_count": null,
      "outputs": [
        {
          "output_type": "stream",
          "name": "stdout",
          "text": [
            "yes\n"
          ]
        }
      ]
    },
    {
      "cell_type": "code",
      "source": [
        "if []:\n",
        "    print('nope')"
      ],
      "metadata": {
        "id": "dasL_AGeHDPL"
      },
      "execution_count": null,
      "outputs": []
    },
    {
      "cell_type": "code",
      "source": [
        "numbers = []"
      ],
      "metadata": {
        "id": "gPpX_53CHIz4"
      },
      "execution_count": null,
      "outputs": []
    },
    {
      "cell_type": "code",
      "source": [
        "if numbers: # if list is non empty\n",
        "    print('non-empty')"
      ],
      "metadata": {
        "id": "l3J9raqGHKG1"
      },
      "execution_count": null,
      "outputs": []
    },
    {
      "cell_type": "code",
      "source": [
        "if len(numbers) > 0:\n",
        "    print('non-empty')"
      ],
      "metadata": {
        "id": "BdsFoStUHNQR"
      },
      "execution_count": null,
      "outputs": []
    },
    {
      "cell_type": "code",
      "source": [
        "response = input('? ')"
      ],
      "metadata": {
        "colab": {
          "base_uri": "https://localhost:8080/"
        },
        "id": "8WYbZhQFHgg0",
        "outputId": "ee2a4978-bc66-4062-8172-29323b88b562"
      },
      "execution_count": null,
      "outputs": [
        {
          "name": "stdout",
          "output_type": "stream",
          "text": [
            "? \n"
          ]
        }
      ]
    },
    {
      "cell_type": "code",
      "source": [
        "if response: # len(response) > 0\n",
        "    print('yes!')"
      ],
      "metadata": {
        "id": "bEmRjReUHm1Q"
      },
      "execution_count": null,
      "outputs": []
    },
    {
      "cell_type": "code",
      "source": [
        "names = ['John', 'Mary', 'Edward', 'Linda', 'Dinesh']\n",
        "ids = [1003, 2043, -1, 7862, -1]"
      ],
      "metadata": {
        "id": "AoPVvvBSHttS"
      },
      "execution_count": null,
      "outputs": []
    },
    {
      "cell_type": "code",
      "source": [
        "employees = [[name, id] for name, id in zip(names, ids)\n",
        "                            if id != -1]\n",
        "employees"
      ],
      "metadata": {
        "colab": {
          "base_uri": "https://localhost:8080/"
        },
        "id": "GqoHZiOvImWi",
        "outputId": "92711e5e-4c82-441f-fa68-631b92d53188"
      },
      "execution_count": null,
      "outputs": [
        {
          "output_type": "execute_result",
          "data": {
            "text/plain": [
              "[['John', 1003], ['Mary', 2043], ['Linda', 7862]]"
            ]
          },
          "metadata": {},
          "execution_count": 152
        }
      ]
    },
    {
      "cell_type": "code",
      "source": [
        "nums = tuple(range(10))"
      ],
      "metadata": {
        "id": "G3zX-bPWJLhd"
      },
      "execution_count": null,
      "outputs": []
    },
    {
      "cell_type": "code",
      "source": [
        "nums"
      ],
      "metadata": {
        "colab": {
          "base_uri": "https://localhost:8080/"
        },
        "id": "ozfcLLl-MCrP",
        "outputId": "4305d2c0-1f63-4d0d-ccdf-c448176ef65a"
      },
      "execution_count": null,
      "outputs": [
        {
          "output_type": "execute_result",
          "data": {
            "text/plain": [
              "(0, 1, 2, 3, 4, 5, 6, 7, 8, 9)"
            ]
          },
          "metadata": {},
          "execution_count": 160
        }
      ]
    },
    {
      "cell_type": "code",
      "source": [
        "first, second, *rest = nums"
      ],
      "metadata": {
        "id": "79-Mv_0ZMEhN"
      },
      "execution_count": null,
      "outputs": []
    },
    {
      "cell_type": "code",
      "source": [
        "first"
      ],
      "metadata": {
        "colab": {
          "base_uri": "https://localhost:8080/"
        },
        "id": "uQ_VgqwYMHuC",
        "outputId": "553536b1-770d-49e1-9007-66777c5090a9"
      },
      "execution_count": null,
      "outputs": [
        {
          "output_type": "execute_result",
          "data": {
            "text/plain": [
              "0"
            ]
          },
          "metadata": {},
          "execution_count": 162
        }
      ]
    },
    {
      "cell_type": "code",
      "source": [
        "second"
      ],
      "metadata": {
        "colab": {
          "base_uri": "https://localhost:8080/"
        },
        "id": "NoZI6pCVMLLI",
        "outputId": "04eec60b-1d8b-48f6-f218-bd8eb3d666fb"
      },
      "execution_count": null,
      "outputs": [
        {
          "output_type": "execute_result",
          "data": {
            "text/plain": [
              "1"
            ]
          },
          "metadata": {},
          "execution_count": 163
        }
      ]
    },
    {
      "cell_type": "code",
      "source": [
        "rest"
      ],
      "metadata": {
        "colab": {
          "base_uri": "https://localhost:8080/"
        },
        "id": "dJeZix3lMMUi",
        "outputId": "453a22bc-3aa4-40f4-836e-c3c2089d5a0c"
      },
      "execution_count": null,
      "outputs": [
        {
          "output_type": "execute_result",
          "data": {
            "text/plain": [
              "[2, 3, 4, 5, 6, 7, 8, 9]"
            ]
          },
          "metadata": {},
          "execution_count": 164
        }
      ]
    },
    {
      "cell_type": "code",
      "source": [
        "first, *rest, last = nums"
      ],
      "metadata": {
        "id": "4nY_oAnSMNgc"
      },
      "execution_count": null,
      "outputs": []
    },
    {
      "cell_type": "code",
      "source": [
        "first, last"
      ],
      "metadata": {
        "colab": {
          "base_uri": "https://localhost:8080/"
        },
        "id": "Du11ygSpMYtl",
        "outputId": "f5dbe74c-9556-40b5-c029-31829c5c1047"
      },
      "execution_count": null,
      "outputs": [
        {
          "output_type": "execute_result",
          "data": {
            "text/plain": [
              "(0, 9)"
            ]
          },
          "metadata": {},
          "execution_count": 166
        }
      ]
    },
    {
      "cell_type": "code",
      "source": [
        "rest"
      ],
      "metadata": {
        "colab": {
          "base_uri": "https://localhost:8080/"
        },
        "id": "MlaXq4dRMcUB",
        "outputId": "331d3b0f-dc41-4f75-d24e-1ffdcb0eb7e4"
      },
      "execution_count": null,
      "outputs": [
        {
          "output_type": "execute_result",
          "data": {
            "text/plain": [
              "[1, 2, 3, 4, 5, 6, 7, 8]"
            ]
          },
          "metadata": {},
          "execution_count": 167
        }
      ]
    },
    {
      "cell_type": "code",
      "source": [
        "first, *rest, _ = nums"
      ],
      "metadata": {
        "id": "4FsymW9IMdg1"
      },
      "execution_count": null,
      "outputs": []
    },
    {
      "cell_type": "code",
      "source": [
        "first"
      ],
      "metadata": {
        "colab": {
          "base_uri": "https://localhost:8080/"
        },
        "id": "TPeVKESUMlOx",
        "outputId": "d2eea356-2e03-4d21-fbf6-eeb979b18acc"
      },
      "execution_count": null,
      "outputs": [
        {
          "output_type": "execute_result",
          "data": {
            "text/plain": [
              "0"
            ]
          },
          "metadata": {},
          "execution_count": 169
        }
      ]
    },
    {
      "cell_type": "code",
      "source": [
        "rest"
      ],
      "metadata": {
        "colab": {
          "base_uri": "https://localhost:8080/"
        },
        "id": "0pNIIC6RMmZa",
        "outputId": "2d7b6e45-944d-4ee4-8bfb-bb68ad60c715"
      },
      "execution_count": null,
      "outputs": [
        {
          "output_type": "execute_result",
          "data": {
            "text/plain": [
              "[1, 2, 3, 4, 5, 6, 7, 8]"
            ]
          },
          "metadata": {},
          "execution_count": 170
        }
      ]
    },
    {
      "cell_type": "code",
      "source": [
        "divmod(39, 4)"
      ],
      "metadata": {
        "colab": {
          "base_uri": "https://localhost:8080/"
        },
        "id": "lOwvTB_YMrqm",
        "outputId": "81241583-e106-497f-ed93-bdbdbfcd1e3f"
      },
      "execution_count": null,
      "outputs": [
        {
          "output_type": "execute_result",
          "data": {
            "text/plain": [
              "(9, 3)"
            ]
          },
          "metadata": {},
          "execution_count": 171
        }
      ]
    },
    {
      "cell_type": "code",
      "source": [
        "quot, rem = divmod(39, 4)"
      ],
      "metadata": {
        "id": "X8sOISOlM4eJ"
      },
      "execution_count": null,
      "outputs": []
    },
    {
      "cell_type": "code",
      "source": [
        "quot, _ = divmod(39, 4)"
      ],
      "metadata": {
        "id": "Cl3NAIDCM6a1"
      },
      "execution_count": null,
      "outputs": []
    },
    {
      "cell_type": "code",
      "source": [
        "2 + 2"
      ],
      "metadata": {
        "colab": {
          "base_uri": "https://localhost:8080/"
        },
        "id": "QPp4RaApM6vm",
        "outputId": "4e380424-1384-4368-9590-027013337fb8"
      },
      "execution_count": null,
      "outputs": [
        {
          "output_type": "execute_result",
          "data": {
            "text/plain": [
              "4"
            ]
          },
          "metadata": {},
          "execution_count": 175
        }
      ]
    },
    {
      "cell_type": "code",
      "source": [
        "'2' + '2'"
      ],
      "metadata": {
        "colab": {
          "base_uri": "https://localhost:8080/",
          "height": 35
        },
        "id": "8cB3OvlDPG4D",
        "outputId": "f45d1d5f-0034-4657-d9f6-7cbfa6982161"
      },
      "execution_count": null,
      "outputs": [
        {
          "output_type": "execute_result",
          "data": {
            "text/plain": [
              "'22'"
            ],
            "application/vnd.google.colaboratory.intrinsic+json": {
              "type": "string"
            }
          },
          "metadata": {},
          "execution_count": 176
        }
      ]
    },
    {
      "cell_type": "code",
      "source": [
        "(2,) + (2,)"
      ],
      "metadata": {
        "colab": {
          "base_uri": "https://localhost:8080/"
        },
        "id": "Q3LQGgnzPHrh",
        "outputId": "b78beda3-aaaf-48cc-d191-39e80c21ce4d"
      },
      "execution_count": null,
      "outputs": [
        {
          "output_type": "execute_result",
          "data": {
            "text/plain": [
              "(2, 2)"
            ]
          },
          "metadata": {},
          "execution_count": 177
        }
      ]
    },
    {
      "cell_type": "code",
      "source": [
        "[2] + [2]"
      ],
      "metadata": {
        "colab": {
          "base_uri": "https://localhost:8080/"
        },
        "id": "l1NjJjasPJB3",
        "outputId": "d323bd47-68a7-462f-8e46-d7ea526c79b1"
      },
      "execution_count": null,
      "outputs": [
        {
          "output_type": "execute_result",
          "data": {
            "text/plain": [
              "[2, 2]"
            ]
          },
          "metadata": {},
          "execution_count": 179
        }
      ]
    },
    {
      "cell_type": "code",
      "source": [
        "list(range(10)) + [45]"
      ],
      "metadata": {
        "colab": {
          "base_uri": "https://localhost:8080/"
        },
        "id": "340Y8HECPJwb",
        "outputId": "8fcf9527-f284-4dcc-baa5-de1d3108208b"
      },
      "execution_count": null,
      "outputs": [
        {
          "output_type": "execute_result",
          "data": {
            "text/plain": [
              "[0, 1, 2, 3, 4, 5, 6, 7, 8, 9, 45]"
            ]
          },
          "metadata": {},
          "execution_count": 180
        }
      ]
    },
    {
      "cell_type": "code",
      "source": [
        "weird = { 'one': 1, 1: 'won', [1, 2, 3]: '123' }"
      ],
      "metadata": {
        "colab": {
          "base_uri": "https://localhost:8080/",
          "height": 143
        },
        "id": "tqxnIOq7PSvE",
        "outputId": "1252d47b-0b4e-474a-ea1a-81ebd019447c"
      },
      "execution_count": null,
      "outputs": [
        {
          "output_type": "error",
          "ename": "TypeError",
          "evalue": "unhashable type: 'list'",
          "traceback": [
            "\u001b[0;31m---------------------------------------------------------------------------\u001b[0m",
            "\u001b[0;31mTypeError\u001b[0m                                 Traceback (most recent call last)",
            "\u001b[0;32m<ipython-input-183-9789de95c22a>\u001b[0m in \u001b[0;36m<cell line: 0>\u001b[0;34m()\u001b[0m\n\u001b[0;32m----> 1\u001b[0;31m \u001b[0mweird\u001b[0m \u001b[0;34m=\u001b[0m \u001b[0;34m{\u001b[0m \u001b[0;34m'one'\u001b[0m\u001b[0;34m:\u001b[0m \u001b[0;36m1\u001b[0m\u001b[0;34m,\u001b[0m \u001b[0;36m1\u001b[0m\u001b[0;34m:\u001b[0m \u001b[0;34m'won'\u001b[0m\u001b[0;34m,\u001b[0m \u001b[0;34m[\u001b[0m\u001b[0;36m1\u001b[0m\u001b[0;34m,\u001b[0m \u001b[0;36m2\u001b[0m\u001b[0;34m,\u001b[0m \u001b[0;36m3\u001b[0m\u001b[0;34m]\u001b[0m\u001b[0;34m:\u001b[0m \u001b[0;34m'123'\u001b[0m \u001b[0;34m}\u001b[0m\u001b[0;34m\u001b[0m\u001b[0;34m\u001b[0m\u001b[0m\n\u001b[0m",
            "\u001b[0;31mTypeError\u001b[0m: unhashable type: 'list'"
          ]
        }
      ]
    },
    {
      "cell_type": "code",
      "source": [
        "weird"
      ],
      "metadata": {
        "colab": {
          "base_uri": "https://localhost:8080/"
        },
        "id": "BKVHlX1gRyNv",
        "outputId": "9c425098-6eeb-4ae6-d582-86f9e2c07d90"
      },
      "execution_count": null,
      "outputs": [
        {
          "output_type": "execute_result",
          "data": {
            "text/plain": [
              "{'one': 1, 1: 'won'}"
            ]
          },
          "metadata": {},
          "execution_count": 182
        }
      ]
    },
    {
      "cell_type": "code",
      "source": [
        "hash('Keenan')"
      ],
      "metadata": {
        "colab": {
          "base_uri": "https://localhost:8080/"
        },
        "id": "sorSblsPRzlD",
        "outputId": "8563e961-9389-4042-c5b9-fa86d550b52c"
      },
      "execution_count": null,
      "outputs": [
        {
          "output_type": "execute_result",
          "data": {
            "text/plain": [
              "4951419787026312098"
            ]
          },
          "metadata": {},
          "execution_count": 184
        }
      ]
    },
    {
      "cell_type": "code",
      "source": [
        "hash('Thea')"
      ],
      "metadata": {
        "colab": {
          "base_uri": "https://localhost:8080/"
        },
        "id": "p2amOMdySR9K",
        "outputId": "66d8b61d-90b1-48b7-b926-ec02da13cea0"
      },
      "execution_count": null,
      "outputs": [
        {
          "output_type": "execute_result",
          "data": {
            "text/plain": [
              "-1329103003048709870"
            ]
          },
          "metadata": {},
          "execution_count": 186
        }
      ]
    },
    {
      "cell_type": "code",
      "source": [
        "hash([1, 2])"
      ],
      "metadata": {
        "colab": {
          "base_uri": "https://localhost:8080/",
          "height": 143
        },
        "id": "_lYzT7jSSTns",
        "outputId": "11ea4b9b-0649-46dd-cfdd-a0f2e9c57a98"
      },
      "execution_count": null,
      "outputs": [
        {
          "output_type": "error",
          "ename": "TypeError",
          "evalue": "unhashable type: 'list'",
          "traceback": [
            "\u001b[0;31m---------------------------------------------------------------------------\u001b[0m",
            "\u001b[0;31mTypeError\u001b[0m                                 Traceback (most recent call last)",
            "\u001b[0;32m<ipython-input-187-4b420d0158ba>\u001b[0m in \u001b[0;36m<cell line: 0>\u001b[0;34m()\u001b[0m\n\u001b[0;32m----> 1\u001b[0;31m \u001b[0mhash\u001b[0m\u001b[0;34m(\u001b[0m\u001b[0;34m[\u001b[0m\u001b[0;36m1\u001b[0m\u001b[0;34m,\u001b[0m \u001b[0;36m2\u001b[0m\u001b[0;34m]\u001b[0m\u001b[0;34m)\u001b[0m\u001b[0;34m\u001b[0m\u001b[0;34m\u001b[0m\u001b[0m\n\u001b[0m",
            "\u001b[0;31mTypeError\u001b[0m: unhashable type: 'list'"
          ]
        }
      ]
    },
    {
      "cell_type": "code",
      "source": [
        "weird = { 'one': 1, 1: 'won', (1, 2, 3): '123' }"
      ],
      "metadata": {
        "id": "sUHmCfecSZ43"
      },
      "execution_count": null,
      "outputs": []
    },
    {
      "cell_type": "code",
      "source": [
        "'one' in weird"
      ],
      "metadata": {
        "colab": {
          "base_uri": "https://localhost:8080/"
        },
        "id": "lg9emTPWS4VT",
        "outputId": "45e0a5ad-c09a-4ce8-d4f0-16b9cc02dbb6"
      },
      "execution_count": null,
      "outputs": [
        {
          "output_type": "execute_result",
          "data": {
            "text/plain": [
              "True"
            ]
          },
          "metadata": {},
          "execution_count": 189
        }
      ]
    },
    {
      "cell_type": "code",
      "source": [
        "'won' in weird"
      ],
      "metadata": {
        "colab": {
          "base_uri": "https://localhost:8080/"
        },
        "id": "CIaRVad-S6t_",
        "outputId": "1b973a41-4151-4dc8-e437-ea2d67c35b46"
      },
      "execution_count": null,
      "outputs": [
        {
          "output_type": "execute_result",
          "data": {
            "text/plain": [
              "False"
            ]
          },
          "metadata": {},
          "execution_count": 190
        }
      ]
    },
    {
      "cell_type": "code",
      "source": [
        "nums = [2, 1, 4, 3, 8, -2, 9]"
      ],
      "metadata": {
        "id": "GkwZiPZES9aj"
      },
      "execution_count": null,
      "outputs": []
    },
    {
      "cell_type": "code",
      "source": [
        "d = {'one': 1, 'two': 2, 'three': 3}"
      ],
      "metadata": {
        "id": "oPU_fzDA_6l6"
      },
      "execution_count": null,
      "outputs": []
    },
    {
      "cell_type": "code",
      "source": [
        "sorted(d)"
      ],
      "metadata": {
        "colab": {
          "base_uri": "https://localhost:8080/"
        },
        "id": "JPZnuakYApzQ",
        "outputId": "0c71ac01-9716-4213-edff-98a851e4ac7a"
      },
      "execution_count": null,
      "outputs": [
        {
          "output_type": "execute_result",
          "data": {
            "text/plain": [
              "['one', 'three', 'two']"
            ]
          },
          "metadata": {},
          "execution_count": 3
        }
      ]
    },
    {
      "cell_type": "code",
      "source": [
        "wordcounts = {\n",
        "    'and': 14,\n",
        "    'the': 28,\n",
        "}"
      ],
      "metadata": {
        "id": "QPzkj95JBsb9"
      },
      "execution_count": null,
      "outputs": []
    },
    {
      "cell_type": "code",
      "source": [
        "words = 'apple fig pear'.split()"
      ],
      "metadata": {
        "id": "0poB5fvJEEtM"
      },
      "execution_count": null,
      "outputs": []
    },
    {
      "cell_type": "code",
      "source": [
        "words"
      ],
      "metadata": {
        "colab": {
          "base_uri": "https://localhost:8080/"
        },
        "id": "I7a2Jr0KEHSj",
        "outputId": "b936bea4-3318-415b-82d8-39d259ac072e"
      },
      "execution_count": null,
      "outputs": [
        {
          "output_type": "execute_result",
          "data": {
            "text/plain": [
              "['apple', 'fig', 'pear']"
            ]
          },
          "metadata": {},
          "execution_count": 5
        }
      ]
    },
    {
      "cell_type": "code",
      "source": [
        "sorted(words)"
      ],
      "metadata": {
        "colab": {
          "base_uri": "https://localhost:8080/"
        },
        "id": "UA9CfKOsEHpl",
        "outputId": "b11a48b9-7829-4088-8e46-4b294295460b"
      },
      "execution_count": null,
      "outputs": [
        {
          "output_type": "execute_result",
          "data": {
            "text/plain": [
              "['apple', 'fig', 'pear']"
            ]
          },
          "metadata": {},
          "execution_count": 7
        }
      ]
    },
    {
      "cell_type": "code",
      "source": [
        "sorted(words, key=len)"
      ],
      "metadata": {
        "colab": {
          "base_uri": "https://localhost:8080/"
        },
        "id": "8Lwfn3ilESZZ",
        "outputId": "026f3f09-73df-41ff-ac51-1c24587e0a18"
      },
      "execution_count": null,
      "outputs": [
        {
          "output_type": "execute_result",
          "data": {
            "text/plain": [
              "['fig', 'pear', 'apple']"
            ]
          },
          "metadata": {},
          "execution_count": 8
        }
      ]
    },
    {
      "cell_type": "code",
      "source": [
        "numeral = 'MCLX'"
      ],
      "metadata": {
        "id": "A8Szkh4hHXVx"
      },
      "execution_count": null,
      "outputs": []
    },
    {
      "cell_type": "code",
      "source": [
        "list(numeral)"
      ],
      "metadata": {
        "colab": {
          "base_uri": "https://localhost:8080/"
        },
        "id": "AqouLrKqHrNI",
        "outputId": "d404bbe1-ec47-4858-d01a-d6ab3e20f71c"
      },
      "execution_count": null,
      "outputs": [
        {
          "output_type": "execute_result",
          "data": {
            "text/plain": [
              "['M', 'C', 'L', 'X']"
            ]
          },
          "metadata": {},
          "execution_count": 11
        }
      ]
    },
    {
      "cell_type": "markdown",
      "source": [
        "## Lab: dictionary\n",
        "* use a dict to translate Roman numerals into their Hindu-Arabic equivalents\n",
        "1. load the dict with Roman numerals M (1000), D (500), C (100), L (50), X (10), V (5), I (1)\n",
        "2. read in a Roman numeral\n",
        "3. print Hindu-Arabic equivalent\n",
        "4. try it with MCLX = 1000 + 100 + 50 + 10 = 1160\n"
      ],
      "metadata": {
        "id": "JRLTzsA4IkNh"
      }
    },
    {
      "cell_type": "code",
      "source": [
        "roman_to_hindu_arabic = { # 1\n",
        "    'M': 1000,\n",
        "    'D':  500,\n",
        "    'C':  100,\n",
        "    'L':   50,\n",
        "    'X':   10,\n",
        "    'V':    5,\n",
        "    'I':    1,\n",
        "}"
      ],
      "metadata": {
        "id": "I8oFIsG5HBSj"
      },
      "execution_count": null,
      "outputs": []
    },
    {
      "cell_type": "code",
      "source": [
        "# steps\n",
        "# 1: read in Roman numeral, e.g., \"MCLX\"\n",
        "# 1a: set running total to 0\n",
        "# 2: for each digit/character in the Roman numeral:\n",
        "# 3:     plug it into the dict to get the Hindu-Arabic equivalent\n",
        "# 4:     add Hindu-Arabic equivalent to running total\n",
        "# 5: print out total"
      ],
      "metadata": {
        "id": "vCFkP38aI4jo"
      },
      "execution_count": null,
      "outputs": []
    },
    {
      "cell_type": "code",
      "source": [
        "roman = input('Enter a Roman numeral: ') # 1\n",
        "total = 0 # 1a\n",
        "\n",
        "for digit in roman: # 2: \"visit\" each digit (character of the Roman numeral)\n",
        "    # what could go wrong here?\n",
        "    if digit not in roman_to_hindu_arabic: # 3\n",
        "        print('Invalid Roman digit:', digit)\n",
        "        break\n",
        "    total += roman_to_hindu_arabic[digit] # 4\n",
        "else: # only run if we did not BREAK\n",
        "    print(total)"
      ],
      "metadata": {
        "colab": {
          "base_uri": "https://localhost:8080/"
        },
        "id": "HgWt6SIdIkpt",
        "outputId": "b8dc20ed-a229-40ed-d537-97e85312d525"
      },
      "execution_count": 26,
      "outputs": [
        {
          "output_type": "stream",
          "name": "stdout",
          "text": [
            "Enter a Roman numeral: MCAX\n",
            "Invalid Roman digit: A\n"
          ]
        }
      ]
    },
    {
      "cell_type": "code",
      "source": [
        "roman = input('Enter a Roman numeral: ') # 1\n",
        "total = 0 # 1a\n",
        "valid_input_detected = True # assume valid to start\n",
        "\n",
        "for digit in roman: # 2: \"visit\" each digit (character of the Roman numeral)\n",
        "    # what could go wrong here?\n",
        "    if digit not in roman_to_hindu_arabic: # 3\n",
        "        print('Invalid Roman digit:', digit)\n",
        "        valid_input_detected = False # oops, invalid\n",
        "        break\n",
        "    total += roman_to_hindu_arabic[digit] # 4\n",
        "\n",
        "# we only want to print the total if all digits (there are no bad digits)\n",
        "if valid_input_detected:\n",
        "    print(total)"
      ],
      "metadata": {
        "colab": {
          "base_uri": "https://localhost:8080/"
        },
        "id": "ocJSncZ-MLUe",
        "outputId": "d2e9b6f2-74fd-482d-f5a5-60a5bc5eddbd"
      },
      "execution_count": 31,
      "outputs": [
        {
          "output_type": "stream",
          "name": "stdout",
          "text": [
            "Enter a Roman numeral: MCAX\n",
            "Invalid Roman digit: A\n"
          ]
        }
      ]
    },
    {
      "cell_type": "code",
      "source": [
        "if 5:\n",
        "    print('yep!')"
      ],
      "metadata": {
        "colab": {
          "base_uri": "https://localhost:8080/"
        },
        "id": "EH6zriecM4Tz",
        "outputId": "b576f1ed-f15e-40ce-e209-23747d51a922"
      },
      "execution_count": 27,
      "outputs": [
        {
          "output_type": "stream",
          "name": "stdout",
          "text": [
            "yep!\n"
          ]
        }
      ]
    },
    {
      "cell_type": "code",
      "source": [
        "if False:\n",
        "    print('this will print')"
      ],
      "metadata": {
        "id": "tK7mStDNM9Hf"
      },
      "execution_count": 29,
      "outputs": []
    },
    {
      "cell_type": "code",
      "source": [],
      "metadata": {
        "id": "m6PTNaEjLlhs"
      },
      "execution_count": null,
      "outputs": []
    },
    {
      "cell_type": "code",
      "source": [
        "strs = ['ccc', 'aaaa', 'd', 'cat', 'bb']\n",
        "sorted(strs, key=lambda s: (len(s), s))"
      ],
      "metadata": {
        "colab": {
          "base_uri": "https://localhost:8080/"
        },
        "id": "dIuicug-J9Bs",
        "outputId": "8e8eb9d7-8b43-4a26-8b83-c59ab2e742d8"
      },
      "execution_count": 34,
      "outputs": [
        {
          "output_type": "execute_result",
          "data": {
            "text/plain": [
              "['d', 'bb', 'cat', 'ccc', 'aaaa']"
            ]
          },
          "metadata": {},
          "execution_count": 34
        }
      ]
    },
    {
      "cell_type": "code",
      "source": [],
      "metadata": {
        "id": "XZ02hj-UJ-pl"
      },
      "execution_count": null,
      "outputs": []
    },
    {
      "cell_type": "markdown",
      "source": [
        "## Lab: Time Permitting/Homework\n",
        "1. Deal with the case where a smaller digit precedes a larger number, which means you _subtract_ the first from the second, rather than add them\n",
        "e.g.,\n",
        "  * __IX = 10 - 1 = 9__\n",
        "  * __XC = 100 - 10 = 90__\n",
        "  * __MCM = 1000 + (1000 - 100) = 1900__\n",
        "  * __MCMXCIX = 1999__"
      ],
      "metadata": {
        "id": "_TYnpDcNOr-F"
      }
    },
    {
      "cell_type": "code",
      "source": [
        "# 1. read in Roman numeral, e.g., MCMXCIX\n",
        "# 2. make a list of all the Hindu-Arabic values of the digits\n",
        "#    [1000, 100, 1000, 10, 100, 1, 10]\n",
        "# 3. make a second pass over the list\n",
        "# 4. if a number in the list is less than its neighbor (to the right),\n",
        "#       make that number negative\n",
        "#     [1000, -100, 1000, -10, 100, -1, 10]\n",
        "# 5. sum up the list\n",
        "# 1999"
      ],
      "metadata": {
        "id": "ndwyq1w1OsQR"
      },
      "execution_count": 35,
      "outputs": []
    },
    {
      "cell_type": "code",
      "source": [
        "d = { 1: 'one'}"
      ],
      "metadata": {
        "id": "ZKq_SZkYPMNn"
      },
      "execution_count": 36,
      "outputs": []
    },
    {
      "cell_type": "code",
      "source": [
        "s = {1, 'one'}"
      ],
      "metadata": {
        "id": "kYjbyp5xWGST"
      },
      "execution_count": 37,
      "outputs": []
    },
    {
      "cell_type": "code",
      "source": [
        "empty_set = {}"
      ],
      "metadata": {
        "id": "hoqRqRdzWHYk"
      },
      "execution_count": 38,
      "outputs": []
    },
    {
      "cell_type": "code",
      "source": [
        "type(empty_set)"
      ],
      "metadata": {
        "colab": {
          "base_uri": "https://localhost:8080/"
        },
        "id": "AiOF3Y3GWN9a",
        "outputId": "2e80e4d8-488a-46a3-abff-2f7275e7ed32"
      },
      "execution_count": 39,
      "outputs": [
        {
          "output_type": "execute_result",
          "data": {
            "text/plain": [
              "dict"
            ]
          },
          "metadata": {},
          "execution_count": 39
        }
      ]
    },
    {
      "cell_type": "code",
      "source": [
        "empty_set = set()"
      ],
      "metadata": {
        "id": "kj2XTzJVWSPs"
      },
      "execution_count": 40,
      "outputs": []
    },
    {
      "cell_type": "code",
      "source": [
        "type(empty_set)"
      ],
      "metadata": {
        "colab": {
          "base_uri": "https://localhost:8080/"
        },
        "id": "MQSxS0cIWnyi",
        "outputId": "dec2f3fb-bbc0-4e73-8989-3b556a180613"
      },
      "execution_count": 41,
      "outputs": [
        {
          "output_type": "execute_result",
          "data": {
            "text/plain": [
              "set"
            ]
          },
          "metadata": {},
          "execution_count": 41
        }
      ]
    },
    {
      "cell_type": "code",
      "source": [
        "empty_set = {1}"
      ],
      "metadata": {
        "id": "GbWiKtBiWosv"
      },
      "execution_count": 42,
      "outputs": []
    },
    {
      "cell_type": "code",
      "source": [
        "empty_set.pop()"
      ],
      "metadata": {
        "colab": {
          "base_uri": "https://localhost:8080/"
        },
        "id": "4qkvzXQ4Wr3P",
        "outputId": "dfebc638-c60d-4a7c-9296-c65dcb61cea4"
      },
      "execution_count": 43,
      "outputs": [
        {
          "output_type": "execute_result",
          "data": {
            "text/plain": [
              "1"
            ]
          },
          "metadata": {},
          "execution_count": 43
        }
      ]
    },
    {
      "cell_type": "code",
      "source": [
        "import random"
      ],
      "metadata": {
        "id": "FQ-sKMqbWsyu"
      },
      "execution_count": 44,
      "outputs": []
    },
    {
      "cell_type": "code",
      "source": [
        "random.randint(1, 100)"
      ],
      "metadata": {
        "colab": {
          "base_uri": "https://localhost:8080/"
        },
        "id": "XQU6aDniW0qH",
        "outputId": "84fd7f42-8cf4-409d-d39d-a40f07fc4303"
      },
      "execution_count": 45,
      "outputs": [
        {
          "output_type": "execute_result",
          "data": {
            "text/plain": [
              "39"
            ]
          },
          "metadata": {},
          "execution_count": 45
        }
      ]
    },
    {
      "cell_type": "code",
      "source": [
        "random.randint?"
      ],
      "metadata": {
        "id": "_1MEbNTBW8lt"
      },
      "execution_count": 46,
      "outputs": []
    },
    {
      "cell_type": "code",
      "source": [
        "numbers = []\n",
        "for _ in range(100):\n",
        "    numbers.append(random.randint(1, 100))"
      ],
      "metadata": {
        "id": "dKKS762BXAJm"
      },
      "execution_count": 47,
      "outputs": []
    },
    {
      "cell_type": "code",
      "source": [
        "print(numbers)"
      ],
      "metadata": {
        "colab": {
          "base_uri": "https://localhost:8080/"
        },
        "id": "egY8CCPjXR_G",
        "outputId": "13844776-3f57-45e0-8da3-3cec5875fbad"
      },
      "execution_count": 51,
      "outputs": [
        {
          "output_type": "stream",
          "name": "stdout",
          "text": [
            "[57, 45, 80, 85, 29, 95, 85, 41, 31, 78, 13, 95, 92, 7, 79, 1, 37, 83, 87, 9, 51, 79, 15, 14, 16, 21, 24, 39, 98, 10, 64, 74, 100, 26, 7, 47, 12, 54, 44, 71, 58, 66, 65, 30, 59, 57, 66, 10, 72, 95, 67, 90, 27, 28, 69, 29, 14, 24, 68, 96, 34, 81, 62, 46, 75, 12, 12, 35, 17, 62, 75, 62, 100, 69, 66, 34, 94, 45, 93, 48, 8, 45, 25, 73, 71, 22, 26, 58, 54, 66, 25, 100, 29, 48, 46, 43, 84, 98, 62, 55]\n"
          ]
        }
      ]
    },
    {
      "cell_type": "code",
      "source": [
        "len(numbers)"
      ],
      "metadata": {
        "colab": {
          "base_uri": "https://localhost:8080/"
        },
        "id": "F6ObHgBgXTTu",
        "outputId": "c6917fd8-5853-4878-d298-b31ddcbd8dd2"
      },
      "execution_count": 52,
      "outputs": [
        {
          "output_type": "execute_result",
          "data": {
            "text/plain": [
              "100"
            ]
          },
          "metadata": {},
          "execution_count": 52
        }
      ]
    },
    {
      "cell_type": "code",
      "source": [
        "number_set = set(numbers)"
      ],
      "metadata": {
        "id": "eBpaYJMKXq9Q"
      },
      "execution_count": 53,
      "outputs": []
    },
    {
      "cell_type": "code",
      "source": [
        "print(number_set)"
      ],
      "metadata": {
        "colab": {
          "base_uri": "https://localhost:8080/"
        },
        "id": "Zqv2-LOiXwJZ",
        "outputId": "0682f4e5-6e95-428f-a3bf-8301b39cfbf4"
      },
      "execution_count": 57,
      "outputs": [
        {
          "output_type": "stream",
          "name": "stdout",
          "text": [
            "{1, 7, 8, 9, 10, 12, 13, 14, 15, 16, 17, 21, 22, 24, 25, 26, 27, 28, 29, 30, 31, 34, 35, 37, 39, 41, 43, 44, 45, 46, 47, 48, 51, 54, 55, 57, 58, 59, 62, 64, 65, 66, 67, 68, 69, 71, 72, 73, 74, 75, 78, 79, 80, 81, 83, 84, 85, 87, 90, 92, 93, 94, 95, 96, 98, 100}\n"
          ]
        }
      ]
    },
    {
      "cell_type": "code",
      "source": [
        "len(number_set)"
      ],
      "metadata": {
        "colab": {
          "base_uri": "https://localhost:8080/"
        },
        "id": "03vyi7RIXxM2",
        "outputId": "5d3ae367-86ec-44a9-f087-d81d9cc5940d"
      },
      "execution_count": 55,
      "outputs": [
        {
          "output_type": "execute_result",
          "data": {
            "text/plain": [
              "66"
            ]
          },
          "metadata": {},
          "execution_count": 55
        }
      ]
    },
    {
      "cell_type": "code",
      "source": [
        "numbers = []\n",
        "for _ in range(100):\n",
        "    numbers.append(random.randint(1, 100))"
      ],
      "metadata": {
        "id": "VFPsL_RKXyBh"
      },
      "execution_count": null,
      "outputs": []
    },
    {
      "cell_type": "code",
      "source": [
        "# list comprehension version\n",
        "numbers = [random.randint(1, 100) for _ in range(100)]"
      ],
      "metadata": {
        "id": "kgcOL1-_X-Pd"
      },
      "execution_count": 58,
      "outputs": []
    },
    {
      "cell_type": "code",
      "source": [
        "len(numbers)"
      ],
      "metadata": {
        "colab": {
          "base_uri": "https://localhost:8080/"
        },
        "id": "i1ooUyw8YPfE",
        "outputId": "3a5db4d9-9c74-4288-c7e0-d6d7e71cf804"
      },
      "execution_count": 60,
      "outputs": [
        {
          "output_type": "execute_result",
          "data": {
            "text/plain": [
              "100"
            ]
          },
          "metadata": {},
          "execution_count": 60
        }
      ]
    },
    {
      "cell_type": "code",
      "source": [
        "hash('Thea')"
      ],
      "metadata": {
        "colab": {
          "base_uri": "https://localhost:8080/"
        },
        "id": "ky9cDI8fYR_v",
        "outputId": "dd61eca7-6af1-497c-b4f6-e0d5c2acd86b"
      },
      "execution_count": 61,
      "outputs": [
        {
          "output_type": "execute_result",
          "data": {
            "text/plain": [
              "7811131123804296482"
            ]
          },
          "metadata": {},
          "execution_count": 61
        }
      ]
    },
    {
      "cell_type": "code",
      "source": [
        "hash('Zoe')"
      ],
      "metadata": {
        "colab": {
          "base_uri": "https://localhost:8080/"
        },
        "id": "90_Ne9P_YgMs",
        "outputId": "ac2a43f7-d393-4ad5-8f2d-d2566fa8adfe"
      },
      "execution_count": 62,
      "outputs": [
        {
          "output_type": "execute_result",
          "data": {
            "text/plain": [
              "-8376806354201174453"
            ]
          },
          "metadata": {},
          "execution_count": 62
        }
      ]
    },
    {
      "cell_type": "code",
      "source": [
        "hash(1)"
      ],
      "metadata": {
        "colab": {
          "base_uri": "https://localhost:8080/"
        },
        "id": "4U6HJo66YhYp",
        "outputId": "0db5ec1f-d1bc-4907-d40d-9b7d5a6d205a"
      },
      "execution_count": 63,
      "outputs": [
        {
          "output_type": "execute_result",
          "data": {
            "text/plain": [
              "1"
            ]
          },
          "metadata": {},
          "execution_count": 63
        }
      ]
    },
    {
      "cell_type": "code",
      "source": [
        "hash(2)"
      ],
      "metadata": {
        "colab": {
          "base_uri": "https://localhost:8080/"
        },
        "id": "Emd8W06bYkQz",
        "outputId": "54403f5e-9a60-4c0e-e09f-7a24bdbcbf27"
      },
      "execution_count": 64,
      "outputs": [
        {
          "output_type": "execute_result",
          "data": {
            "text/plain": [
              "2"
            ]
          },
          "metadata": {},
          "execution_count": 64
        }
      ]
    },
    {
      "cell_type": "code",
      "source": [
        "numbers = [str(random.randint(1, 100)) for _ in range(100)]"
      ],
      "metadata": {
        "id": "QPSCFRFFYk9x"
      },
      "execution_count": 65,
      "outputs": []
    },
    {
      "cell_type": "code",
      "source": [
        "numbers"
      ],
      "metadata": {
        "colab": {
          "base_uri": "https://localhost:8080/"
        },
        "id": "uvAtUoq_Y1t_",
        "outputId": "25165f17-f3ae-40c4-9e36-4900d8e9d3a2"
      },
      "execution_count": 66,
      "outputs": [
        {
          "output_type": "execute_result",
          "data": {
            "text/plain": [
              "['50',\n",
              " '43',\n",
              " '69',\n",
              " '58',\n",
              " '9',\n",
              " '18',\n",
              " '58',\n",
              " '79',\n",
              " '65',\n",
              " '61',\n",
              " '34',\n",
              " '20',\n",
              " '82',\n",
              " '35',\n",
              " '67',\n",
              " '90',\n",
              " '72',\n",
              " '71',\n",
              " '27',\n",
              " '37',\n",
              " '10',\n",
              " '87',\n",
              " '92',\n",
              " '47',\n",
              " '97',\n",
              " '13',\n",
              " '6',\n",
              " '18',\n",
              " '86',\n",
              " '91',\n",
              " '78',\n",
              " '31',\n",
              " '62',\n",
              " '46',\n",
              " '3',\n",
              " '22',\n",
              " '18',\n",
              " '49',\n",
              " '52',\n",
              " '47',\n",
              " '40',\n",
              " '17',\n",
              " '32',\n",
              " '66',\n",
              " '53',\n",
              " '73',\n",
              " '69',\n",
              " '18',\n",
              " '83',\n",
              " '48',\n",
              " '31',\n",
              " '28',\n",
              " '30',\n",
              " '78',\n",
              " '93',\n",
              " '69',\n",
              " '53',\n",
              " '54',\n",
              " '37',\n",
              " '38',\n",
              " '76',\n",
              " '99',\n",
              " '54',\n",
              " '95',\n",
              " '13',\n",
              " '50',\n",
              " '100',\n",
              " '28',\n",
              " '5',\n",
              " '25',\n",
              " '60',\n",
              " '98',\n",
              " '79',\n",
              " '3',\n",
              " '23',\n",
              " '2',\n",
              " '26',\n",
              " '35',\n",
              " '58',\n",
              " '24',\n",
              " '83',\n",
              " '77',\n",
              " '13',\n",
              " '84',\n",
              " '81',\n",
              " '48',\n",
              " '8',\n",
              " '42',\n",
              " '82',\n",
              " '45',\n",
              " '67',\n",
              " '62',\n",
              " '57',\n",
              " '27',\n",
              " '88',\n",
              " '70',\n",
              " '1',\n",
              " '67',\n",
              " '87',\n",
              " '41']"
            ]
          },
          "metadata": {},
          "execution_count": 66
        }
      ]
    },
    {
      "cell_type": "code",
      "source": [
        "set(numbers)"
      ],
      "metadata": {
        "colab": {
          "base_uri": "https://localhost:8080/"
        },
        "id": "u5bTEqqXY2OW",
        "outputId": "1668a21f-2684-48c3-f990-1908e3532434"
      },
      "execution_count": 67,
      "outputs": [
        {
          "output_type": "execute_result",
          "data": {
            "text/plain": [
              "{'1',\n",
              " '10',\n",
              " '100',\n",
              " '13',\n",
              " '17',\n",
              " '18',\n",
              " '2',\n",
              " '20',\n",
              " '22',\n",
              " '23',\n",
              " '24',\n",
              " '25',\n",
              " '26',\n",
              " '27',\n",
              " '28',\n",
              " '3',\n",
              " '30',\n",
              " '31',\n",
              " '32',\n",
              " '34',\n",
              " '35',\n",
              " '37',\n",
              " '38',\n",
              " '40',\n",
              " '41',\n",
              " '42',\n",
              " '43',\n",
              " '45',\n",
              " '46',\n",
              " '47',\n",
              " '48',\n",
              " '49',\n",
              " '5',\n",
              " '50',\n",
              " '52',\n",
              " '53',\n",
              " '54',\n",
              " '57',\n",
              " '58',\n",
              " '6',\n",
              " '60',\n",
              " '61',\n",
              " '62',\n",
              " '65',\n",
              " '66',\n",
              " '67',\n",
              " '69',\n",
              " '70',\n",
              " '71',\n",
              " '72',\n",
              " '73',\n",
              " '76',\n",
              " '77',\n",
              " '78',\n",
              " '79',\n",
              " '8',\n",
              " '81',\n",
              " '82',\n",
              " '83',\n",
              " '84',\n",
              " '86',\n",
              " '87',\n",
              " '88',\n",
              " '9',\n",
              " '90',\n",
              " '91',\n",
              " '92',\n",
              " '93',\n",
              " '95',\n",
              " '97',\n",
              " '98',\n",
              " '99'}"
            ]
          },
          "metadata": {},
          "execution_count": 67
        }
      ]
    },
    {
      "cell_type": "code",
      "source": [
        "set_one.intersection(set_two)"
      ],
      "metadata": {
        "id": "ygcUQAyHY4JE"
      },
      "execution_count": 68,
      "outputs": []
    },
    {
      "cell_type": "markdown",
      "source": [
        "## Quick Lab: Common elements between two sets\n",
        "* Write a program that asks the user to input two lists and then finds and prints the common elements between them\n",
        "<pre><b>\n",
        "Enter a list of items: apple cherry banana lemon\n",
        "Enter a second list of items: apple guava banana lime\n",
        "Common elements: apple banana\n",
        "    \n",
        "</b></pre>\n",
        "* Note: this uses a set method we haven't yet learned...how will you find it?"
      ],
      "metadata": {
        "id": "EXKUNZ9zaIEW"
      }
    },
    {
      "cell_type": "code",
      "source": [
        "list1 = input('Enter a list of items: ').lower().split()\n",
        "list2 = input('Enter a second list of items: ').lower().split()\n",
        "common_elements = set(list1) & set(list2)\n",
        "print('Common elements:', *common_elements, sep='\\n') # * = unpack operator"
      ],
      "metadata": {
        "colab": {
          "base_uri": "https://localhost:8080/"
        },
        "id": "6XDKuMWFaLNR",
        "outputId": "0c5f0a47-f7eb-4531-f6c3-f5cc54a8f0f1"
      },
      "execution_count": 73,
      "outputs": [
        {
          "output_type": "stream",
          "name": "stdout",
          "text": [
            "Enter a list of items: 1 2 3 4\n",
            "Enter a second list of items: 3 5 1 9\n",
            "Common elements:\n",
            "3\n",
            "1\n"
          ]
        }
      ]
    },
    {
      "cell_type": "markdown",
      "source": [
        "## Quick Lab: Sets\n",
        "* Use a set to find all of the unique words in the input and print them out in sorted order\n",
        "* If the user entered __There is no there there__, your program should print out\n",
        "   <pre><b>\n",
        "   is\n",
        "   no\n",
        "   there\n",
        "   </b></pre>\n",
        "* Note that `There` and `there` should be counted as the same word."
      ],
      "metadata": {
        "id": "vUY9gockaL_q"
      }
    },
    {
      "cell_type": "code",
      "source": [],
      "metadata": {
        "id": "uK8GJ8Vyca7d"
      },
      "execution_count": null,
      "outputs": []
    },
    {
      "cell_type": "code",
      "source": [
        "words = input('Enter: ').lower().split()\n",
        "print(*sorted(set(words)), sep=', ')"
      ],
      "metadata": {
        "colab": {
          "base_uri": "https://localhost:8080/"
        },
        "id": "yiMb3P0gaIUo",
        "outputId": "f5661a7d-5eb3-4482-8962-49db6880482b"
      },
      "execution_count": 78,
      "outputs": [
        {
          "output_type": "stream",
          "name": "stdout",
          "text": [
            "Enter: There is no there\n",
            "is, no, there\n"
          ]
        }
      ]
    },
    {
      "cell_type": "code",
      "source": [
        "poem = \"\"\"\n",
        "Two roads diverged in a yellow wood,\n",
        "And sorry I could not travel both\n",
        "And be one traveler, long I stood\n",
        "And looked down one as far as I could\n",
        "To where it bent in the undergrowth;\n",
        "\n",
        "Then took the other, as just as fair,\n",
        "And having perhaps the better claim,\n",
        "Because it was grassy and wanted wear;\n",
        "Though as for that the passing there\n",
        "Had worn them really about the same,\n",
        "\n",
        "And both that morning equally lay\n",
        "In leaves no step had trodden black.\n",
        "Oh, I kept the first for another day!\n",
        "Yet knowing how way leads on to way,\n",
        "I doubted if I should ever come back.\n",
        "\n",
        "I shall be telling this with a sigh\n",
        "Somewhere ages and ages hence:\n",
        "Two roads diverged in a wood, and I—\n",
        "I took the one less traveled by,\n",
        "And that has made all the difference.\n",
        "\"\"\"\n",
        "\n",
        "hamlet = \"\"\"\n",
        "The Tragedy of Hamlet, Prince of Denmark\n",
        "Shakespeare homepage | Hamlet | Entire play\n",
        "ACT I\n",
        "\n",
        "SCENE I. Elsinore. A platform before the castle.\n",
        "\n",
        "FRANCISCO at his post. Enter to him BERNARDO\n",
        "BERNARDO\n",
        "Who's there?\n",
        "FRANCISCO\n",
        "Nay, answer me: stand, and unfold yourself.\n",
        "BERNARDO\n",
        "Long live the king!\n",
        "FRANCISCO\n",
        "Bernardo?\n",
        "BERNARDO\n",
        "He.\n",
        "FRANCISCO\n",
        "You come most carefully upon your hour.\n",
        "BERNARDO\n",
        "'Tis now struck twelve; get thee to bed, Francisco.\n",
        "FRANCISCO\n",
        "For this relief much thanks: 'tis bitter cold,\n",
        "And I am sick at heart.\n",
        "BERNARDO\n",
        "Have you had quiet guard?\n",
        "FRANCISCO\n",
        "Not a mouse stirring.\n",
        "BERNARDO\n",
        "Well, good night.\n",
        "If you do meet Horatio and Marcellus,\n",
        "The rivals of my watch, bid them make haste.\n",
        "FRANCISCO\n",
        "I think I hear them. Stand, ho! Who's there?\n",
        "Enter HORATIO and MARCELLUS\n",
        "\n",
        "HORATIO\n",
        "Friends to this ground.\n",
        "MARCELLUS\n",
        "And liegemen to the Dane.\n",
        "FRANCISCO\n",
        "Give you good night.\n",
        "MARCELLUS\n",
        "O, farewell, honest soldier:\n",
        "Who hath relieved you?\n",
        "FRANCISCO\n",
        "Bernardo has my place.\n",
        "Give you good night.\n",
        "Exit\n",
        "\n",
        "MARCELLUS\n",
        "Holla! Bernardo!\n",
        "BERNARDO\n",
        "Say,\n",
        "What, is Horatio there?\n",
        "HORATIO\n",
        "A piece of him.\n",
        "BERNARDO\n",
        "Welcome, Horatio: welcome, good Marcellus.\n",
        "MARCELLUS\n",
        "What, has this thing appear'd again to-night?\n",
        "BERNARDO\n",
        "I have seen nothing.\n",
        "MARCELLUS\n",
        "Horatio says 'tis but our fantasy,\n",
        "And will not let belief take hold of him\n",
        "Touching this dreaded sight, twice seen of us:\n",
        "Therefore I have entreated him along\n",
        "With us to watch the minutes of this night;\n",
        "That if again this apparition come,\n",
        "He may approve our eyes and speak to it.\n",
        "HORATIO\n",
        "Tush, tush, 'twill not appear.\n",
        "BERNARDO\n",
        "Sit down awhile;\n",
        "And let us once again assail your ears,\n",
        "That are so fortified against our story\n",
        "What we have two nights seen.\n",
        "HORATIO\n",
        "Well, sit we down,\n",
        "And let us hear Bernardo speak of this.\n",
        "BERNARDO\n",
        "Last night of all,\n",
        "When yond same star that's westward from the pole\n",
        "Had made his course to illume that part of heaven\n",
        "Where now it burns, Marcellus and myself,\n",
        "The bell then beating one,--\n",
        "Enter Ghost\n",
        "\n",
        "MARCELLUS\n",
        "Peace, break thee off; look, where it comes again!\n",
        "BERNARDO\n",
        "In the same figure, like the king that's dead.\n",
        "MARCELLUS\n",
        "Thou art a scholar; speak to it, Horatio.\n",
        "BERNARDO\n",
        "Looks it not like the king? mark it, Horatio.\n",
        "HORATIO\n",
        "Most like: it harrows me with fear and wonder.\n",
        "BERNARDO\n",
        "It would be spoke to.\n",
        "MARCELLUS\n",
        "Question it, Horatio.\n",
        "HORATIO\n",
        "What art thou that usurp'st this time of night,\n",
        "Together with that fair and warlike form\n",
        "In which the majesty of buried Denmark\n",
        "Did sometimes march? by heaven I charge thee, speak!\n",
        "MARCELLUS\n",
        "It is offended.\n",
        "BERNARDO\n",
        "See, it stalks away!\n",
        "HORATIO\n",
        "Stay! speak, speak! I charge thee, speak!\n",
        "Exit Ghost\n",
        "\n",
        "MARCELLUS\n",
        "'Tis gone, and will not answer.\n",
        "BERNARDO\n",
        "How now, Horatio! you tremble and look pale:\n",
        "Is not this something more than fantasy?\n",
        "What think you on't?\n",
        "HORATIO\n",
        "Before my God, I might not this believe\n",
        "Without the sensible and true avouch\n",
        "Of mine own eyes.\n",
        "MARCELLUS\n",
        "Is it not like the king?\n",
        "HORATIO\n",
        "As thou art to thyself:\n",
        "Such was the very armour he had on\n",
        "When he the ambitious Norway combated;\n",
        "So frown'd he once, when, in an angry parle,\n",
        "He smote the sledded Polacks on the ice.\n",
        "'Tis strange.\n",
        "MARCELLUS\n",
        "Thus twice before, and jump at this dead hour,\n",
        "With martial stalk hath he gone by our watch.\n",
        "HORATIO\n",
        "In what particular thought to work I know not;\n",
        "But in the gross and scope of my opinion,\n",
        "This bodes some strange eruption to our state.\n",
        "MARCELLUS\n",
        "Good now, sit down, and tell me, he that knows,\n",
        "Why this same strict and most observant watch\n",
        "So nightly toils the subject of the land,\n",
        "And why such daily cast of brazen cannon,\n",
        "And foreign mart for implements of war;\n",
        "Why such impress of shipwrights, whose sore task\n",
        "Does not divide the Sunday from the week;\n",
        "What might be toward, that this sweaty haste\n",
        "Doth make the night joint-labourer with the day:\n",
        "Who is't that can inform me?\n",
        "HORATIO\n",
        "That can I;\n",
        "At least, the whisper goes so. Our last king,\n",
        "Whose image even but now appear'd to us,\n",
        "Was, as you know, by Fortinbras of Norway,\n",
        "Thereto prick'd on by a most emulate pride,\n",
        "Dared to the combat; in which our valiant Hamlet--\n",
        "For so this side of our known world esteem'd him--\n",
        "Did slay this Fortinbras; who by a seal'd compact,\n",
        "Well ratified by law and heraldry,\n",
        "Did forfeit, with his life, all those his lands\n",
        "Which he stood seized of, to the conqueror:\n",
        "Against the which, a moiety competent\n",
        "Was gaged by our king; which had return'd\n",
        "To the inheritance of Fortinbras,\n",
        "Had he been vanquisher; as, by the same covenant,\n",
        "And carriage of the article design'd,\n",
        "His fell to Hamlet. Now, sir, young Fortinbras,\n",
        "Of unimproved mettle hot and full,\n",
        "Hath in the skirts of Norway here and there\n",
        "Shark'd up a list of lawless resolutes,\n",
        "For food and diet, to some enterprise\n",
        "That hath a stomach in't; which is no other--\n",
        "As it doth well appear unto our state--\n",
        "But to recover of us, by strong hand\n",
        "And terms compulsatory, those foresaid lands\n",
        "So by his father lost: and this, I take it,\n",
        "Is the main motive of our preparations,\n",
        "The source of this our watch and the chief head\n",
        "Of this post-haste and romage in the land.\n",
        "BERNARDO\n",
        "I think it be no other but e'en so:\n",
        "Well may it sort that this portentous figure\n",
        "Comes armed through our watch; so like the king\n",
        "That was and is the question of these wars.\n",
        "HORATIO\n",
        "A mote it is to trouble the mind's eye.\n",
        "In the most high and palmy state of Rome,\n",
        "A little ere the mightiest Julius fell,\n",
        "The graves stood tenantless and the sheeted dead\n",
        "Did squeak and gibber in the Roman streets:\n",
        "As stars with trains of fire and dews of blood,\n",
        "Disasters in the sun; and the moist star\n",
        "Upon whose influence Neptune's empire stands\n",
        "Was sick almost to doomsday with eclipse:\n",
        "And even the like precurse of fierce events,\n",
        "As harbingers preceding still the fates\n",
        "And prologue to the omen coming on,\n",
        "Have heaven and earth together demonstrated\n",
        "Unto our climatures and countrymen.--\n",
        "But soft, behold! lo, where it comes again!\n",
        "Re-enter Ghost\n",
        "\n",
        "I'll cross it, though it blast me. Stay, illusion!\n",
        "If thou hast any sound, or use of voice,\n",
        "Speak to me:\n",
        "If there be any good thing to be done,\n",
        "That may to thee do ease and grace to me,\n",
        "Speak to me:\n",
        "Cock crows\n",
        "\n",
        "If thou art privy to thy country's fate,\n",
        "Which, happily, foreknowing may avoid, O, speak!\n",
        "Or if thou hast uphoarded in thy life\n",
        "Extorted treasure in the womb of earth,\n",
        "For which, they say, you spirits oft walk in death,\n",
        "Speak of it: stay, and speak! Stop it, Marcellus.\n",
        "MARCELLUS\n",
        "Shall I strike at it with my partisan?\n",
        "HORATIO\n",
        "Do, if it will not stand.\n",
        "BERNARDO\n",
        "'Tis here!\n",
        "HORATIO\n",
        "'Tis here!\n",
        "MARCELLUS\n",
        "'Tis gone!\n",
        "Exit Ghost\n",
        "\n",
        "We do it wrong, being so majestical,\n",
        "To offer it the show of violence;\n",
        "For it is, as the air, invulnerable,\n",
        "And our vain blows malicious mockery.\n",
        "BERNARDO\n",
        "It was about to speak, when the cock crew.\n",
        "HORATIO\n",
        "And then it started like a guilty thing\n",
        "Upon a fearful summons. I have heard,\n",
        "The cock, that is the trumpet to the morn,\n",
        "Doth with his lofty and shrill-sounding throat\n",
        "Awake the god of day; and, at his warning,\n",
        "Whether in sea or fire, in earth or air,\n",
        "The extravagant and erring spirit hies\n",
        "To his confine: and of the truth herein\n",
        "This present object made probation.\n",
        "MARCELLUS\n",
        "It faded on the crowing of the cock.\n",
        "Some say that ever 'gainst that season comes\n",
        "Wherein our Saviour's birth is celebrated,\n",
        "The bird of dawning singeth all night long:\n",
        "And then, they say, no spirit dares stir abroad;\n",
        "The nights are wholesome; then no planets strike,\n",
        "No fairy takes, nor witch hath power to charm,\n",
        "So hallow'd and so gracious is the time.\n",
        "HORATIO\n",
        "So have I heard and do in part believe it.\n",
        "But, look, the morn, in russet mantle clad,\n",
        "Walks o'er the dew of yon high eastward hill:\n",
        "Break we our watch up; and by my advice,\n",
        "Let us impart what we have seen to-night\n",
        "Unto young Hamlet; for, upon my life,\n",
        "This spirit, dumb to us, will speak to him.\n",
        "Do you consent we shall acquaint him with it,\n",
        "As needful in our loves, fitting our duty?\n",
        "MARCELLUS\n",
        "Let's do't, I pray; and I this morning know\n",
        "Where we shall find him most conveniently.\n",
        "Exeunt\n",
        "\n",
        "SCENE II. A room of state in the castle.\n",
        "\n",
        "Enter KING CLAUDIUS, QUEEN GERTRUDE, HAMLET, POLONIUS, LAERTES, VOLTIMAND, CORNELIUS, Lords, and Attendants\n",
        "KING CLAUDIUS\n",
        "Though yet of Hamlet our dear brother's death\n",
        "The memory be green, and that it us befitted\n",
        "To bear our hearts in grief and our whole kingdom\n",
        "To be contracted in one brow of woe,\n",
        "Yet so far hath discretion fought with nature\n",
        "That we with wisest sorrow think on him,\n",
        "Together with remembrance of ourselves.\n",
        "Therefore our sometime sister, now our queen,\n",
        "The imperial jointress to this warlike state,\n",
        "Have we, as 'twere with a defeated joy,--\n",
        "With an auspicious and a dropping eye,\n",
        "With mirth in funeral and with dirge in marriage,\n",
        "In equal scale weighing delight and dole,--\n",
        "Taken to wife: nor have we herein barr'd\n",
        "Your better wisdoms, which have freely gone\n",
        "With this affair along. For all, our thanks.\n",
        "Now follows, that you know, young Fortinbras,\n",
        "Holding a weak supposal of our worth,\n",
        "Or thinking by our late dear brother's death\n",
        "Our state to be disjoint and out of frame,\n",
        "Colleagued with the dream of his advantage,\n",
        "He hath not fail'd to pester us with message,\n",
        "Importing the surrender of those lands\n",
        "Lost by his father, with all bonds of law,\n",
        "To our most valiant brother. So much for him.\n",
        "Now for ourself and for this time of meeting:\n",
        "Thus much the business is: we have here writ\n",
        "To Norway, uncle of young Fortinbras,--\n",
        "Who, impotent and bed-rid, scarcely hears\n",
        "Of this his nephew's purpose,--to suppress\n",
        "His further gait herein; in that the levies,\n",
        "The lists and full proportions, are all made\n",
        "Out of his subject: and we here dispatch\n",
        "You, good Cornelius, and you, Voltimand,\n",
        "For bearers of this greeting to old Norway;\n",
        "Giving to you no further personal power\n",
        "To business with the king, more than the scope\n",
        "Of these delated articles allow.\n",
        "Farewell, and let your haste commend your duty.\n",
        "CORNELIUS VOLTIMAND\n",
        "In that and all things will we show our duty.\n",
        "KING CLAUDIUS\n",
        "We doubt it nothing: heartily farewell.\n",
        "Exeunt VOLTIMAND and CORNELIUS\n",
        "\n",
        "And now, Laertes, what's the news with you?\n",
        "You told us of some suit; what is't, Laertes?\n",
        "You cannot speak of reason to the Dane,\n",
        "And loose your voice: what wouldst thou beg, Laertes,\n",
        "That shall not be my offer, not thy asking?\n",
        "The head is not more native to the heart,\n",
        "The hand more instrumental to the mouth,\n",
        "Than is the throne of Denmark to thy father.\n",
        "What wouldst thou have, Laertes?\n",
        "LAERTES\n",
        "My dread lord,\n",
        "Your leave and favour to return to France;\n",
        "From whence though willingly I came to Denmark,\n",
        "To show my duty in your coronation,\n",
        "Yet now, I must confess, that duty done,\n",
        "My thoughts and wishes bend again toward France\n",
        "And bow them to your gracious leave and pardon.\n",
        "KING CLAUDIUS\n",
        "Have you your father's leave? What says Polonius?\n",
        "LORD POLONIUS\n",
        "He hath, my lord, wrung from me my slow leave\n",
        "By laboursome petition, and at last\n",
        "Upon his will I seal'd my hard consent:\n",
        "I do beseech you, give him leave to go.\n",
        "KING CLAUDIUS\n",
        "Take thy fair hour, Laertes; time be thine,\n",
        "And thy best graces spend it at thy will!\n",
        "But now, my cousin Hamlet, and my son,--\n",
        "HAMLET\n",
        "[Aside] A little more than kin, and less than kind.\n",
        "KING CLAUDIUS\n",
        "How is it that the clouds still hang on you?\n",
        "HAMLET\n",
        "Not so, my lord; I am too much i' the sun.\n",
        "QUEEN GERTRUDE\n",
        "Good Hamlet, cast thy nighted colour off,\n",
        "And let thine eye look like a friend on Denmark.\n",
        "Do not for ever with thy vailed lids\n",
        "Seek for thy noble father in the dust:\n",
        "Thou know'st 'tis common; all that lives must die,\n",
        "Passing through nature to eternity.\n",
        "HAMLET\n",
        "Ay, madam, it is common.\n",
        "QUEEN GERTRUDE\n",
        "If it be,\n",
        "Why seems it so particular with thee?\n",
        "HAMLET\n",
        "Seems, madam! nay it is; I know not 'seems.'\n",
        "'Tis not alone my inky cloak, good mother,\n",
        "Nor customary suits of solemn black,\n",
        "Nor windy suspiration of forced breath,\n",
        "No, nor the fruitful river in the eye,\n",
        "Nor the dejected 'havior of the visage,\n",
        "Together with all forms, moods, shapes of grief,\n",
        "That can denote me truly: these indeed seem,\n",
        "For they are actions that a man might play:\n",
        "But I have that within which passeth show;\n",
        "These but the trappings and the suits of woe.\n",
        "KING CLAUDIUS\n",
        "'Tis sweet and commendable in your nature, Hamlet,\n",
        "To give these mourning duties to your father:\n",
        "But, you must know, your father lost a father;\n",
        "That father lost, lost his, and the survivor bound\n",
        "In filial obligation for some term\n",
        "To do obsequious sorrow: but to persever\n",
        "In obstinate condolement is a course\n",
        "Of impious stubbornness; 'tis unmanly grief;\n",
        "It shows a will most incorrect to heaven,\n",
        "A heart unfortified, a mind impatient,\n",
        "An understanding simple and unschool'd:\n",
        "For what we know must be and is as common\n",
        "As any the most vulgar thing to sense,\n",
        "Why should we in our peevish opposition\n",
        "Take it to heart? Fie! 'tis a fault to heaven,\n",
        "A fault against the dead, a fault to nature,\n",
        "To reason most absurd: whose common theme\n",
        "Is death of fathers, and who still hath cried,\n",
        "From the first corse till he that died to-day,\n",
        "'This must be so.' We pray you, throw to earth\n",
        "This unprevailing woe, and think of us\n",
        "As of a father: for let the world take note,\n",
        "You are the most immediate to our throne;\n",
        "And with no less nobility of love\n",
        "Than that which dearest father bears his son,\n",
        "Do I impart toward you. For your intent\n",
        "In going back to school in Wittenberg,\n",
        "It is most retrograde to our desire:\n",
        "And we beseech you, bend you to remain\n",
        "Here, in the cheer and comfort of our eye,\n",
        "Our chiefest courtier, cousin, and our son.\n",
        "QUEEN GERTRUDE\n",
        "Let not thy mother lose her prayers, Hamlet:\n",
        "I pray thee, stay with us; go not to Wittenberg.\n",
        "HAMLET\n",
        "I shall in all my best obey you, madam.\n",
        "KING CLAUDIUS\n",
        "Why, 'tis a loving and a fair reply:\n",
        "Be as ourself in Denmark. Madam, come;\n",
        "This gentle and unforced accord of Hamlet\n",
        "Sits smiling to my heart: in grace whereof,\n",
        "No jocund health that Denmark drinks to-day,\n",
        "But the great cannon to the clouds shall tell,\n",
        "And the king's rouse the heavens all bruit again,\n",
        "Re-speaking earthly thunder. Come away.\n",
        "Exeunt all but HAMLET\n",
        "\n",
        "HAMLET\n",
        "O, that this too too solid flesh would melt\n",
        "Thaw and resolve itself into a dew!\n",
        "Or that the Everlasting had not fix'd\n",
        "His canon 'gainst self-slaughter! O God! God!\n",
        "How weary, stale, flat and unprofitable,\n",
        "Seem to me all the uses of this world!\n",
        "Fie on't! ah fie! 'tis an unweeded garden,\n",
        "That grows to seed; things rank and gross in nature\n",
        "Possess it merely. That it should come to this!\n",
        "But two months dead: nay, not so much, not two:\n",
        "So excellent a king; that was, to this,\n",
        "Hyperion to a satyr; so loving to my mother\n",
        "That he might not beteem the winds of heaven\n",
        "Visit her face too roughly. Heaven and earth!\n",
        "Must I remember? why, she would hang on him,\n",
        "As if increase of appetite had grown\n",
        "By what it fed on: and yet, within a month--\n",
        "Let me not think on't--Frailty, thy name is woman!--\n",
        "A little month, or ere those shoes were old\n",
        "With which she follow'd my poor father's body,\n",
        "Like Niobe, all tears:--why she, even she--\n",
        "O, God! a beast, that wants discourse of reason,\n",
        "Would have mourn'd longer--married with my uncle,\n",
        "My father's brother, but no more like my father\n",
        "Than I to Hercules: within a month:\n",
        "Ere yet the salt of most unrighteous tears\n",
        "Had left the flushing in her galled eyes,\n",
        "She married. O, most wicked speed, to post\n",
        "With such dexterity to incestuous sheets!\n",
        "It is not nor it cannot come to good:\n",
        "But break, my heart; for I must hold my tongue.\n",
        "Enter HORATIO, MARCELLUS, and BERNARDO\n",
        "\n",
        "HORATIO\n",
        "Hail to your lordship!\n",
        "HAMLET\n",
        "I am glad to see you well:\n",
        "Horatio,--or I do forget myself.\n",
        "HORATIO\n",
        "The same, my lord, and your poor servant ever.\n",
        "HAMLET\n",
        "Sir, my good friend; I'll change that name with you:\n",
        "And what make you from Wittenberg, Horatio? Marcellus?\n",
        "MARCELLUS\n",
        "My good lord--\n",
        "HAMLET\n",
        "I am very glad to see you. Good even, sir.\n",
        "But what, in faith, make you from Wittenberg?\n",
        "HORATIO\n",
        "A truant disposition, good my lord.\n",
        "HAMLET\n",
        "I would not hear your enemy say so,\n",
        "Nor shall you do mine ear that violence,\n",
        "To make it truster of your own report\n",
        "Against yourself: I know you are no truant.\n",
        "But what is your affair in Elsinore?\n",
        "We'll teach you to drink deep ere you depart.\n",
        "HORATIO\n",
        "My lord, I came to see your father's funeral.\n",
        "HAMLET\n",
        "I pray thee, do not mock me, fellow-student;\n",
        "I think it was to see my mother's wedding.\n",
        "HORATIO\n",
        "Indeed, my lord, it follow'd hard upon.\n",
        "HAMLET\n",
        "Thrift, thrift, Horatio! the funeral baked meats\n",
        "Did coldly furnish forth the marriage tables.\n",
        "Would I had met my dearest foe in heaven\n",
        "Or ever I had seen that day, Horatio!\n",
        "My father!--methinks I see my father.\n",
        "HORATIO\n",
        "Where, my lord?\n",
        "HAMLET\n",
        "In my mind's eye, Horatio.\n",
        "HORATIO\n",
        "I saw him once; he was a goodly king.\n",
        "HAMLET\n",
        "He was a man, take him for all in all,\n",
        "I shall not look upon his like again.\n",
        "HORATIO\n",
        "My lord, I think I saw him yesternight.\n",
        "HAMLET\n",
        "Saw? who?\n",
        "HORATIO\n",
        "My lord, the king your father.\n",
        "HAMLET\n",
        "The king my father!\n",
        "HORATIO\n",
        "Season your admiration for awhile\n",
        "With an attent ear, till I may deliver,\n",
        "Upon the witness of these gentlemen,\n",
        "This marvel to you.\n",
        "HAMLET\n",
        "For God's love, let me hear.\n",
        "HORATIO\n",
        "Two nights together had these gentlemen,\n",
        "Marcellus and Bernardo, on their watch,\n",
        "In the dead vast and middle of the night,\n",
        "Been thus encounter'd. A figure like your father,\n",
        "Armed at point exactly, cap-a-pe,\n",
        "Appears before them, and with solemn march\n",
        "Goes slow and stately by them: thrice he walk'd\n",
        "By their oppress'd and fear-surprised eyes,\n",
        "Within his truncheon's length; whilst they, distilled\n",
        "Almost to jelly with the act of fear,\n",
        "Stand dumb and speak not to him. This to me\n",
        "In dreadful secrecy impart they did;\n",
        "And I with them the third night kept the watch;\n",
        "Where, as they had deliver'd, both in time,\n",
        "Form of the thing, each word made true and good,\n",
        "The apparition comes: I knew your father;\n",
        "These hands are not more like.\n",
        "HAMLET\n",
        "But where was this?\n",
        "MARCELLUS\n",
        "My lord, upon the platform where we watch'd.\n",
        "HAMLET\n",
        "Did you not speak to it?\n",
        "HORATIO\n",
        "My lord, I did;\n",
        "But answer made it none: yet once methought\n",
        "It lifted up its head and did address\n",
        "Itself to motion, like as it would speak;\n",
        "But even then the morning cock crew loud,\n",
        "And at the sound it shrunk in haste away,\n",
        "And vanish'd from our sight.\n",
        "HAMLET\n",
        "'Tis very strange.\n",
        "HORATIO\n",
        "As I do live, my honour'd lord, 'tis true;\n",
        "And we did think it writ down in our duty\n",
        "To let you know of it.\n",
        "HAMLET\n",
        "Indeed, indeed, sirs, but this troubles me.\n",
        "Hold you the watch to-night?\n",
        "MARCELLUS BERNARDO\n",
        "We do, my lord.\n",
        "HAMLET\n",
        "Arm'd, say you?\n",
        "MARCELLUS BERNARDO\n",
        "Arm'd, my lord.\n",
        "HAMLET\n",
        "From top to toe?\n",
        "MARCELLUS BERNARDO\n",
        "My lord, from head to foot.\n",
        "HAMLET\n",
        "Then saw you not his face?\n",
        "HORATIO\n",
        "O, yes, my lord; he wore his beaver up.\n",
        "HAMLET\n",
        "What, look'd he frowningly?\n",
        "HORATIO\n",
        "A countenance more in sorrow than in anger.\n",
        "HAMLET\n",
        "Pale or red?\n",
        "HORATIO\n",
        "Nay, very pale.\n",
        "HAMLET\n",
        "And fix'd his eyes upon you?\n",
        "HORATIO\n",
        "Most constantly.\n",
        "HAMLET\n",
        "I would I had been there.\n",
        "HORATIO\n",
        "It would have much amazed you.\n",
        "HAMLET\n",
        "Very like, very like. Stay'd it long?\n",
        "HORATIO\n",
        "While one with moderate haste might tell a hundred.\n",
        "MARCELLUS BERNARDO\n",
        "Longer, longer.\n",
        "HORATIO\n",
        "Not when I saw't.\n",
        "HAMLET\n",
        "His beard was grizzled--no?\n",
        "HORATIO\n",
        "It was, as I have seen it in his life,\n",
        "A sable silver'd.\n",
        "HAMLET\n",
        "I will watch to-night;\n",
        "Perchance 'twill walk again.\n",
        "HORATIO\n",
        "I warrant it will.\n",
        "HAMLET\n",
        "If it assume my noble father's person,\n",
        "I'll speak to it, though hell itself should gape\n",
        "And bid me hold my peace. I pray you all,\n",
        "If you have hitherto conceal'd this sight,\n",
        "Let it be tenable in your silence still;\n",
        "And whatsoever else shall hap to-night,\n",
        "Give it an understanding, but no tongue:\n",
        "I will requite your loves. So, fare you well:\n",
        "Upon the platform, 'twixt eleven and twelve,\n",
        "I'll visit you.\n",
        "All\n",
        "Our duty to your honour.\n",
        "HAMLET\n",
        "Your loves, as mine to you: farewell.\n",
        "Exeunt all but HAMLET\n",
        "\n",
        "My father's spirit in arms! all is not well;\n",
        "I doubt some foul play: would the night were come!\n",
        "Till then sit still, my soul: foul deeds will rise,\n",
        "Though all the earth o'erwhelm them, to men's eyes.\n",
        "Exit\n",
        "\n",
        "SCENE III. A room in Polonius' house.\n",
        "\n",
        "Enter LAERTES and OPHELIA\n",
        "LAERTES\n",
        "My necessaries are embark'd: farewell:\n",
        "And, sister, as the winds give benefit\n",
        "And convoy is assistant, do not sleep,\n",
        "But let me hear from you.\n",
        "OPHELIA\n",
        "Do you doubt that?\n",
        "LAERTES\n",
        "For Hamlet and the trifling of his favour,\n",
        "Hold it a fashion and a toy in blood,\n",
        "A violet in the youth of primy nature,\n",
        "Forward, not permanent, sweet, not lasting,\n",
        "The perfume and suppliance of a minute; No more.\n",
        "OPHELIA\n",
        "No more but so?\n",
        "LAERTES\n",
        "Think it no more;\n",
        "For nature, crescent, does not grow alone\n",
        "In thews and bulk, but, as this temple waxes,\n",
        "The inward service of the mind and soul\n",
        "Grows wide withal. Perhaps he loves you now,\n",
        "And now no soil nor cautel doth besmirch\n",
        "The virtue of his will: but you must fear,\n",
        "His greatness weigh'd, his will is not his own;\n",
        "For he himself is subject to his birth:\n",
        "He may not, as unvalued persons do,\n",
        "Carve for himself; for on his choice depends\n",
        "The safety and health of this whole state;\n",
        "And therefore must his choice be circumscribed\n",
        "Unto the voice and yielding of that body\n",
        "Whereof he is the head. Then if he says he loves you,\n",
        "It fits your wisdom so far to believe it\n",
        "As he in his particular act and place\n",
        "May give his saying deed; which is no further\n",
        "Than the main voice of Denmark goes withal.\n",
        "Then weigh what loss your honour may sustain,\n",
        "If with too credent ear you list his songs,\n",
        "Or lose your heart, or your chaste treasure open\n",
        "To his unmaster'd importunity.\n",
        "Fear it, Ophelia, fear it, my dear sister,\n",
        "And keep you in the rear of your affection,\n",
        "Out of the shot and danger of desire.\n",
        "The chariest maid is prodigal enough,\n",
        "If she unmask her beauty to the moon:\n",
        "Virtue itself 'scapes not calumnious strokes:\n",
        "The canker galls the infants of the spring,\n",
        "Too oft before their buttons be disclosed,\n",
        "And in the morn and liquid dew of youth\n",
        "Contagious blastments are most imminent.\n",
        "Be wary then; best safety lies in fear:\n",
        "Youth to itself rebels, though none else near.\n",
        "OPHELIA\n",
        "I shall the effect of this good lesson keep,\n",
        "As watchman to my heart. But, good my brother,\n",
        "Do not, as some ungracious pastors do,\n",
        "Show me the steep and thorny way to heaven;\n",
        "Whiles, like a puff'd and reckless libertine,\n",
        "Himself the primrose path of dalliance treads,\n",
        "And recks not his own rede.\n",
        "LAERTES\n",
        "O, fear me not.\n",
        "I stay too long: but here my father comes.\n",
        "Enter POLONIUS\n",
        "\n",
        "A double blessing is a double grace,\n",
        "Occasion smiles upon a second leave.\n",
        "LORD POLONIUS\n",
        "Yet here, Laertes! aboard, aboard, for shame!\n",
        "The wind sits in the shoulder of your sail,\n",
        "And you are stay'd for. There; my blessing with thee!\n",
        "And these few precepts in thy memory\n",
        "See thou character. Give thy thoughts no tongue,\n",
        "Nor any unproportioned thought his act.\n",
        "Be thou familiar, but by no means vulgar.\n",
        "Those friends thou hast, and their adoption tried,\n",
        "Grapple them to thy soul with hoops of steel;\n",
        "But do not dull thy palm with entertainment\n",
        "Of each new-hatch'd, unfledged comrade. Beware\n",
        "Of entrance to a quarrel, but being in,\n",
        "Bear't that the opposed may beware of thee.\n",
        "Give every man thy ear, but few thy voice;\n",
        "Take each man's censure, but reserve thy judgment.\n",
        "Costly thy habit as thy purse can buy,\n",
        "But not express'd in fancy; rich, not gaudy;\n",
        "For the apparel oft proclaims the man,\n",
        "And they in France of the best rank and station\n",
        "Are of a most select and generous chief in that.\n",
        "Neither a borrower nor a lender be;\n",
        "For loan oft loses both itself and friend,\n",
        "And borrowing dulls the edge of husbandry.\n",
        "This above all: to thine ownself be true,\n",
        "And it must follow, as the night the day,\n",
        "Thou canst not then be false to any man.\n",
        "Farewell: my blessing season this in thee!\n",
        "LAERTES\n",
        "Most humbly do I take my leave, my lord.\n",
        "LORD POLONIUS\n",
        "The time invites you; go; your servants tend.\n",
        "LAERTES\n",
        "Farewell, Ophelia; and remember well\n",
        "What I have said to you.\n",
        "OPHELIA\n",
        "'Tis in my memory lock'd,\n",
        "And you yourself shall keep the key of it.\n",
        "LAERTES\n",
        "Farewell.\n",
        "Exit\n",
        "\n",
        "LORD POLONIUS\n",
        "What is't, Ophelia, be hath said to you?\n",
        "OPHELIA\n",
        "So please you, something touching the Lord Hamlet.\n",
        "LORD POLONIUS\n",
        "Marry, well bethought:\n",
        "'Tis told me, he hath very oft of late\n",
        "Given private time to you; and you yourself\n",
        "Have of your audience been most free and bounteous:\n",
        "If it be so, as so 'tis put on me,\n",
        "And that in way of caution, I must tell you,\n",
        "You do not understand yourself so clearly\n",
        "As it behoves my daughter and your honour.\n",
        "What is between you? give me up the truth.\n",
        "OPHELIA\n",
        "He hath, my lord, of late made many tenders\n",
        "Of his affection to me.\n",
        "LORD POLONIUS\n",
        "Affection! pooh! you speak like a green girl,\n",
        "Unsifted in such perilous circumstance.\n",
        "Do you believe his tenders, as you call them?\n",
        "OPHELIA\n",
        "I do not know, my lord, what I should think.\n",
        "LORD POLONIUS\n",
        "Marry, I'll teach you: think yourself a baby;\n",
        "That you have ta'en these tenders for true pay,\n",
        "Which are not sterling. Tender yourself more dearly;\n",
        "Or--not to crack the wind of the poor phrase,\n",
        "Running it thus--you'll tender me a fool.\n",
        "OPHELIA\n",
        "My lord, he hath importuned me with love\n",
        "In honourable fashion.\n",
        "LORD POLONIUS\n",
        "Ay, fashion you may call it; go to, go to.\n",
        "OPHELIA\n",
        "And hath given countenance to his speech, my lord,\n",
        "With almost all the holy vows of heaven.\n",
        "LORD POLONIUS\n",
        "Ay, springes to catch woodcocks. I do know,\n",
        "When the blood burns, how prodigal the soul\n",
        "Lends the tongue vows: these blazes, daughter,\n",
        "Giving more light than heat, extinct in both,\n",
        "Even in their promise, as it is a-making,\n",
        "You must not take for fire. From this time\n",
        "Be somewhat scanter of your maiden presence;\n",
        "Set your entreatments at a higher rate\n",
        "Than a command to parley. For Lord Hamlet,\n",
        "Believe so much in him, that he is young\n",
        "And with a larger tether may he walk\n",
        "Than may be given you: in few, Ophelia,\n",
        "Do not believe his vows; for they are brokers,\n",
        "Not of that dye which their investments show,\n",
        "But mere implorators of unholy suits,\n",
        "Breathing like sanctified and pious bawds,\n",
        "The better to beguile. This is for all:\n",
        "I would not, in plain terms, from this time forth,\n",
        "Have you so slander any moment leisure,\n",
        "As to give words or talk with the Lord Hamlet.\n",
        "Look to't, I charge you: come your ways.\n",
        "OPHELIA\n",
        "I shall obey, my lord.\n",
        "Exeunt\n",
        "\n",
        "SCENE IV. The platform.\n",
        "\n",
        "Enter HAMLET, HORATIO, and MARCELLUS\n",
        "HAMLET\n",
        "The air bites shrewdly; it is very cold.\n",
        "HORATIO\n",
        "It is a nipping and an eager air.\n",
        "HAMLET\n",
        "What hour now?\n",
        "HORATIO\n",
        "I think it lacks of twelve.\n",
        "HAMLET\n",
        "No, it is struck.\n",
        "HORATIO\n",
        "Indeed? I heard it not: then it draws near the season\n",
        "Wherein the spirit held his wont to walk.\n",
        "A flourish of trumpets, and ordnance shot off, within\n",
        "\n",
        "What does this mean, my lord?\n",
        "HAMLET\n",
        "The king doth wake to-night and takes his rouse,\n",
        "Keeps wassail, and the swaggering up-spring reels;\n",
        "And, as he drains his draughts of Rhenish down,\n",
        "The kettle-drum and trumpet thus bray out\n",
        "The triumph of his pledge.\n",
        "HORATIO\n",
        "Is it a custom?\n",
        "HAMLET\n",
        "Ay, marry, is't:\n",
        "But to my mind, though I am native here\n",
        "And to the manner born, it is a custom\n",
        "More honour'd in the breach than the observance.\n",
        "This heavy-headed revel east and west\n",
        "Makes us traduced and tax'd of other nations:\n",
        "They clepe us drunkards, and with swinish phrase\n",
        "Soil our addition; and indeed it takes\n",
        "From our achievements, though perform'd at height,\n",
        "The pith and marrow of our attribute.\n",
        "So, oft it chances in particular men,\n",
        "That for some vicious mole of nature in them,\n",
        "As, in their birth--wherein they are not guilty,\n",
        "Since nature cannot choose his origin--\n",
        "By the o'ergrowth of some complexion,\n",
        "Oft breaking down the pales and forts of reason,\n",
        "Or by some habit that too much o'er-leavens\n",
        "The form of plausive manners, that these men,\n",
        "Carrying, I say, the stamp of one defect,\n",
        "Being nature's livery, or fortune's star,--\n",
        "Their virtues else--be they as pure as grace,\n",
        "As infinite as man may undergo--\n",
        "Shall in the general censure take corruption\n",
        "From that particular fault: the dram of eale\n",
        "Doth all the noble substance of a doubt\n",
        "To his own scandal.\n",
        "HORATIO\n",
        "Look, my lord, it comes!\n",
        "Enter Ghost\n",
        "\n",
        "HAMLET\n",
        "Angels and ministers of grace defend us!\n",
        "Be thou a spirit of health or goblin damn'd,\n",
        "Bring with thee airs from heaven or blasts from hell,\n",
        "Be thy intents wicked or charitable,\n",
        "Thou comest in such a questionable shape\n",
        "That I will speak to thee: I'll call thee Hamlet,\n",
        "King, father, royal Dane: O, answer me!\n",
        "Let me not burst in ignorance; but tell\n",
        "Why thy canonized bones, hearsed in death,\n",
        "Have burst their cerements; why the sepulchre,\n",
        "Wherein we saw thee quietly inurn'd,\n",
        "Hath oped his ponderous and marble jaws,\n",
        "To cast thee up again. What may this mean,\n",
        "That thou, dead corse, again in complete steel\n",
        "Revisit'st thus the glimpses of the moon,\n",
        "Making night hideous; and we fools of nature\n",
        "So horridly to shake our disposition\n",
        "With thoughts beyond the reaches of our souls?\n",
        "Say, why is this? wherefore? what should we do?\n",
        "Ghost beckons HAMLET\n",
        "\n",
        "HORATIO\n",
        "It beckons you to go away with it,\n",
        "As if it some impartment did desire\n",
        "To you alone.\n",
        "MARCELLUS\n",
        "Look, with what courteous action\n",
        "It waves you to a more removed ground:\n",
        "But do not go with it.\n",
        "HORATIO\n",
        "No, by no means.\n",
        "HAMLET\n",
        "It will not speak; then I will follow it.\n",
        "HORATIO\n",
        "Do not, my lord.\n",
        "HAMLET\n",
        "Why, what should be the fear?\n",
        "I do not set my life in a pin's fee;\n",
        "And for my soul, what can it do to that,\n",
        "Being a thing immortal as itself?\n",
        "It waves me forth again: I'll follow it.\n",
        "HORATIO\n",
        "What if it tempt you toward the flood, my lord,\n",
        "Or to the dreadful summit of the cliff\n",
        "That beetles o'er his base into the sea,\n",
        "And there assume some other horrible form,\n",
        "Which might deprive your sovereignty of reason\n",
        "And draw you into madness? think of it:\n",
        "The very place puts toys of desperation,\n",
        "Without more motive, into every brain\n",
        "That looks so many fathoms to the sea\n",
        "And hears it roar beneath.\n",
        "HAMLET\n",
        "It waves me still.\n",
        "Go on; I'll follow thee.\n",
        "MARCELLUS\n",
        "You shall not go, my lord.\n",
        "HAMLET\n",
        "Hold off your hands.\n",
        "HORATIO\n",
        "Be ruled; you shall not go.\n",
        "HAMLET\n",
        "My fate cries out,\n",
        "And makes each petty artery in this body\n",
        "As hardy as the Nemean lion's nerve.\n",
        "Still am I call'd. Unhand me, gentlemen.\n",
        "By heaven, I'll make a ghost of him that lets me!\n",
        "I say, away! Go on; I'll follow thee.\n",
        "Exeunt Ghost and HAMLET\n",
        "\n",
        "HORATIO\n",
        "He waxes desperate with imagination.\n",
        "MARCELLUS\n",
        "Let's follow; 'tis not fit thus to obey him.\n",
        "HORATIO\n",
        "Have after. To what issue will this come?\n",
        "MARCELLUS\n",
        "Something is rotten in the state of Denmark.\n",
        "HORATIO\n",
        "Heaven will direct it.\n",
        "MARCELLUS\n",
        "Nay, let's follow him.\n",
        "Exeunt\n",
        "\n",
        "SCENE V. Another part of the platform.\n",
        "\n",
        "Enter GHOST and HAMLET\n",
        "HAMLET\n",
        "Where wilt thou lead me? speak; I'll go no further.\n",
        "Ghost\n",
        "Mark me.\n",
        "HAMLET\n",
        "I will.\n",
        "Ghost\n",
        "My hour is almost come,\n",
        "When I to sulphurous and tormenting flames\n",
        "Must render up myself.\n",
        "HAMLET\n",
        "Alas, poor ghost!\n",
        "Ghost\n",
        "Pity me not, but lend thy serious hearing\n",
        "To what I shall unfold.\n",
        "HAMLET\n",
        "Speak; I am bound to hear.\n",
        "Ghost\n",
        "So art thou to revenge, when thou shalt hear.\n",
        "HAMLET\n",
        "What?\n",
        "Ghost\n",
        "I am thy father's spirit,\n",
        "Doom'd for a certain term to walk the night,\n",
        "And for the day confined to fast in fires,\n",
        "Till the foul crimes done in my days of nature\n",
        "Are burnt and purged away. But that I am forbid\n",
        "To tell the secrets of my prison-house,\n",
        "I could a tale unfold whose lightest word\n",
        "Would harrow up thy soul, freeze thy young blood,\n",
        "Make thy two eyes, like stars, start from their spheres,\n",
        "Thy knotted and combined locks to part\n",
        "And each particular hair to stand on end,\n",
        "Like quills upon the fretful porpentine:\n",
        "But this eternal blazon must not be\n",
        "To ears of flesh and blood. List, list, O, list!\n",
        "If thou didst ever thy dear father love--\n",
        "HAMLET\n",
        "O God!\n",
        "Ghost\n",
        "Revenge his foul and most unnatural murder.\n",
        "HAMLET\n",
        "Murder!\n",
        "Ghost\n",
        "Murder most foul, as in the best it is;\n",
        "But this most foul, strange and unnatural.\n",
        "HAMLET\n",
        "Haste me to know't, that I, with wings as swift\n",
        "As meditation or the thoughts of love,\n",
        "May sweep to my revenge.\n",
        "Ghost\n",
        "I find thee apt;\n",
        "And duller shouldst thou be than the fat weed\n",
        "That roots itself in ease on Lethe wharf,\n",
        "Wouldst thou not stir in this. Now, Hamlet, hear:\n",
        "'Tis given out that, sleeping in my orchard,\n",
        "A serpent stung me; so the whole ear of Denmark\n",
        "Is by a forged process of my death\n",
        "Rankly abused: but know, thou noble youth,\n",
        "The serpent that did sting thy father's life\n",
        "Now wears his crown.\n",
        "HAMLET\n",
        "O my prophetic soul! My uncle!\n",
        "Ghost\n",
        "Ay, that incestuous, that adulterate beast,\n",
        "With witchcraft of his wit, with traitorous gifts,--\n",
        "O wicked wit and gifts, that have the power\n",
        "So to seduce!--won to his shameful lust\n",
        "The will of my most seeming-virtuous queen:\n",
        "O Hamlet, what a falling-off was there!\n",
        "From me, whose love was of that dignity\n",
        "That it went hand in hand even with the vow\n",
        "I made to her in marriage, and to decline\n",
        "Upon a wretch whose natural gifts were poor\n",
        "To those of mine!\n",
        "But virtue, as it never will be moved,\n",
        "Though lewdness court it in a shape of heaven,\n",
        "So lust, though to a radiant angel link'd,\n",
        "Will sate itself in a celestial bed,\n",
        "And prey on garbage.\n",
        "But, soft! methinks I scent the morning air;\n",
        "Brief let me be. Sleeping within my orchard,\n",
        "My custom always of the afternoon,\n",
        "Upon my secure hour thy uncle stole,\n",
        "With juice of cursed hebenon in a vial,\n",
        "And in the porches of my ears did pour\n",
        "The leperous distilment; whose effect\n",
        "Holds such an enmity with blood of man\n",
        "That swift as quicksilver it courses through\n",
        "The natural gates and alleys of the body,\n",
        "And with a sudden vigour doth posset\n",
        "And curd, like eager droppings into milk,\n",
        "The thin and wholesome blood: so did it mine;\n",
        "And a most instant tetter bark'd about,\n",
        "Most lazar-like, with vile and loathsome crust,\n",
        "All my smooth body.\n",
        "Thus was I, sleeping, by a brother's hand\n",
        "Of life, of crown, of queen, at once dispatch'd:\n",
        "Cut off even in the blossoms of my sin,\n",
        "Unhousel'd, disappointed, unanel'd,\n",
        "No reckoning made, but sent to my account\n",
        "With all my imperfections on my head:\n",
        "O, horrible! O, horrible! most horrible!\n",
        "If thou hast nature in thee, bear it not;\n",
        "Let not the royal bed of Denmark be\n",
        "A couch for luxury and damned incest.\n",
        "But, howsoever thou pursuest this act,\n",
        "Taint not thy mind, nor let thy soul contrive\n",
        "Against thy mother aught: leave her to heaven\n",
        "And to those thorns that in her bosom lodge,\n",
        "To prick and sting her. Fare thee well at once!\n",
        "The glow-worm shows the matin to be near,\n",
        "And 'gins to pale his uneffectual fire:\n",
        "Adieu, adieu! Hamlet, remember me.\n",
        "Exit\n",
        "\n",
        "HAMLET\n",
        "O all you host of heaven! O earth! what else?\n",
        "And shall I couple hell? O, fie! Hold, hold, my heart;\n",
        "And you, my sinews, grow not instant old,\n",
        "But bear me stiffly up. Remember thee!\n",
        "Ay, thou poor ghost, while memory holds a seat\n",
        "In this distracted globe. Remember thee!\n",
        "Yea, from the table of my memory\n",
        "I'll wipe away all trivial fond records,\n",
        "All saws of books, all forms, all pressures past,\n",
        "That youth and observation copied there;\n",
        "And thy commandment all alone shall live\n",
        "Within the book and volume of my brain,\n",
        "Unmix'd with baser matter: yes, by heaven!\n",
        "O most pernicious woman!\n",
        "O villain, villain, smiling, damned villain!\n",
        "My tables,--meet it is I set it down,\n",
        "That one may smile, and smile, and be a villain;\n",
        "At least I'm sure it may be so in Denmark:\n",
        "Writing\n",
        "\n",
        "So, uncle, there you are. Now to my word;\n",
        "It is 'Adieu, adieu! remember me.'\n",
        "I have sworn 't.\n",
        "MARCELLUS HORATIO\n",
        "[Within] My lord, my lord,--\n",
        "MARCELLUS\n",
        "[Within]\tLord Hamlet,--\n",
        "HORATIO\n",
        "[Within]\tHeaven secure him!\n",
        "HAMLET\n",
        "So be it!\n",
        "HORATIO\n",
        "[Within] Hillo, ho, ho, my lord!\n",
        "HAMLET\n",
        "Hillo, ho, ho, boy! come, bird, come.\n",
        "Enter HORATIO and MARCELLUS\n",
        "\n",
        "MARCELLUS\n",
        "How is't, my noble lord?\n",
        "HORATIO\n",
        "What news, my lord?\n",
        "HAMLET\n",
        "O, wonderful!\n",
        "HORATIO\n",
        "Good my lord, tell it.\n",
        "HAMLET\n",
        "No; you'll reveal it.\n",
        "HORATIO\n",
        "Not I, my lord, by heaven.\n",
        "MARCELLUS\n",
        "Nor I, my lord.\n",
        "HAMLET\n",
        "How say you, then; would heart of man once think it?\n",
        "But you'll be secret?\n",
        "HORATIO MARCELLUS\n",
        "Ay, by heaven, my lord.\n",
        "HAMLET\n",
        "There's ne'er a villain dwelling in all Denmark\n",
        "But he's an arrant knave.\n",
        "HORATIO\n",
        "There needs no ghost, my lord, come from the grave\n",
        "To tell us this.\n",
        "HAMLET\n",
        "Why, right; you are i' the right;\n",
        "And so, without more circumstance at all,\n",
        "I hold it fit that we shake hands and part:\n",
        "You, as your business and desire shall point you;\n",
        "For every man has business and desire,\n",
        "Such as it is; and for mine own poor part,\n",
        "Look you, I'll go pray.\n",
        "HORATIO\n",
        "These are but wild and whirling words, my lord.\n",
        "HAMLET\n",
        "I'm sorry they offend you, heartily;\n",
        "Yes, 'faith heartily.\n",
        "HORATIO\n",
        "There's no offence, my lord.\n",
        "HAMLET\n",
        "Yes, by Saint Patrick, but there is, Horatio,\n",
        "And much offence too. Touching this vision here,\n",
        "It is an honest ghost, that let me tell you:\n",
        "For your desire to know what is between us,\n",
        "O'ermaster 't as you may. And now, good friends,\n",
        "As you are friends, scholars and soldiers,\n",
        "Give me one poor request.\n",
        "HORATIO\n",
        "What is't, my lord? we will.\n",
        "HAMLET\n",
        "Never make known what you have seen to-night.\n",
        "HORATIO MARCELLUS\n",
        "My lord, we will not.\n",
        "HAMLET\n",
        "Nay, but swear't.\n",
        "HORATIO\n",
        "In faith,\n",
        "My lord, not I.\n",
        "MARCELLUS\n",
        "Nor I, my lord, in faith.\n",
        "HAMLET\n",
        "Upon my sword.\n",
        "MARCELLUS\n",
        "We have sworn, my lord, already.\n",
        "HAMLET\n",
        "Indeed, upon my sword, indeed.\n",
        "Ghost\n",
        "[Beneath] Swear.\n",
        "HAMLET\n",
        "Ah, ha, boy! say'st thou so? art thou there,\n",
        "truepenny?\n",
        "Come on--you hear this fellow in the cellarage--\n",
        "Consent to swear.\n",
        "HORATIO\n",
        "Propose the oath, my lord.\n",
        "HAMLET\n",
        "Never to speak of this that you have seen,\n",
        "Swear by my sword.\n",
        "Ghost\n",
        "[Beneath] Swear.\n",
        "HAMLET\n",
        "Hic et ubique? then we'll shift our ground.\n",
        "Come hither, gentlemen,\n",
        "And lay your hands again upon my sword:\n",
        "Never to speak of this that you have heard,\n",
        "Swear by my sword.\n",
        "Ghost\n",
        "[Beneath] Swear.\n",
        "HAMLET\n",
        "Well said, old mole! canst work i' the earth so fast?\n",
        "A worthy pioner! Once more remove, good friends.\n",
        "HORATIO\n",
        "O day and night, but this is wondrous strange!\n",
        "HAMLET\n",
        "And therefore as a stranger give it welcome.\n",
        "There are more things in heaven and earth, Horatio,\n",
        "Than are dreamt of in your philosophy. But come;\n",
        "Here, as before, never, so help you mercy,\n",
        "How strange or odd soe'er I bear myself,\n",
        "As I perchance hereafter shall think meet\n",
        "To put an antic disposition on,\n",
        "That you, at such times seeing me, never shall,\n",
        "With arms encumber'd thus, or this headshake,\n",
        "Or by pronouncing of some doubtful phrase,\n",
        "As 'Well, well, we know,' or 'We could, an if we would,'\n",
        "Or 'If we list to speak,' or 'There be, an if they might,'\n",
        "Or such ambiguous giving out, to note\n",
        "That you know aught of me: this not to do,\n",
        "So grace and mercy at your most need help you, Swear.\n",
        "Ghost\n",
        "[Beneath] Swear.\n",
        "HAMLET\n",
        "Rest, rest, perturbed spirit!\n",
        "They swear\n",
        "\n",
        "So, gentlemen,\n",
        "With all my love I do commend me to you:\n",
        "And what so poor a man as Hamlet is\n",
        "May do, to express his love and friending to you,\n",
        "God willing, shall not lack. Let us go in together;\n",
        "And still your fingers on your lips, I pray.\n",
        "The time is out of joint: O cursed spite,\n",
        "That ever I was born to set it right!\n",
        "Nay, come, let's go together.\n",
        "Exeunt\n",
        "\n",
        "ACT II\n",
        "\n",
        "SCENE I. A room in POLONIUS' house.\n",
        "\n",
        "Enter POLONIUS and REYNALDO\n",
        "LORD POLONIUS\n",
        "Give him this money and these notes, Reynaldo.\n",
        "REYNALDO\n",
        "I will, my lord.\n",
        "LORD POLONIUS\n",
        "You shall do marvellous wisely, good Reynaldo,\n",
        "Before you visit him, to make inquire\n",
        "Of his behavior.\n",
        "REYNALDO\n",
        "My lord, I did intend it.\n",
        "LORD POLONIUS\n",
        "Marry, well said; very well said. Look you, sir,\n",
        "Inquire me first what Danskers are in Paris;\n",
        "And how, and who, what means, and where they keep,\n",
        "What company, at what expense; and finding\n",
        "By this encompassment and drift of question\n",
        "That they do know my son, come you more nearer\n",
        "Than your particular demands will touch it:\n",
        "Take you, as 'twere, some distant knowledge of him;\n",
        "As thus, 'I know his father and his friends,\n",
        "And in part him: ' do you mark this, Reynaldo?\n",
        "REYNALDO\n",
        "Ay, very well, my lord.\n",
        "LORD POLONIUS\n",
        "'And in part him; but' you may say 'not well:\n",
        "But, if't be he I mean, he's very wild;\n",
        "Addicted so and so:' and there put on him\n",
        "What forgeries you please; marry, none so rank\n",
        "As may dishonour him; take heed of that;\n",
        "But, sir, such wanton, wild and usual slips\n",
        "As are companions noted and most known\n",
        "To youth and liberty.\n",
        "REYNALDO\n",
        "As gaming, my lord.\n",
        "LORD POLONIUS\n",
        "Ay, or drinking, fencing, swearing, quarrelling,\n",
        "Drabbing: you may go so far.\n",
        "REYNALDO\n",
        "My lord, that would dishonour him.\n",
        "LORD POLONIUS\n",
        "'Faith, no; as you may season it in the charge\n",
        "You must not put another scandal on him,\n",
        "That he is open to incontinency;\n",
        "That's not my meaning: but breathe his faults so quaintly\n",
        "That they may seem the taints of liberty,\n",
        "The flash and outbreak of a fiery mind,\n",
        "A savageness in unreclaimed blood,\n",
        "Of general assault.\n",
        "REYNALDO\n",
        "But, my good lord,--\n",
        "LORD POLONIUS\n",
        "Wherefore should you do this?\n",
        "REYNALDO\n",
        "Ay, my lord,\n",
        "I would know that.\n",
        "LORD POLONIUS\n",
        "Marry, sir, here's my drift;\n",
        "And I believe, it is a fetch of wit:\n",
        "You laying these slight sullies on my son,\n",
        "As 'twere a thing a little soil'd i' the working, Mark you,\n",
        "Your party in converse, him you would sound,\n",
        "Having ever seen in the prenominate crimes\n",
        "The youth you breathe of guilty, be assured\n",
        "He closes with you in this consequence;\n",
        "'Good sir,' or so, or 'friend,' or 'gentleman,'\n",
        "According to the phrase or the addition\n",
        "Of man and country.\n",
        "REYNALDO\n",
        "Very good, my lord.\n",
        "LORD POLONIUS\n",
        "And then, sir, does he this--he does--what was I\n",
        "about to say? By the mass, I was about to say\n",
        "something: where did I leave?\n",
        "REYNALDO\n",
        "At 'closes in the consequence,' at 'friend or so,'\n",
        "and 'gentleman.'\n",
        "LORD POLONIUS\n",
        "At 'closes in the consequence,' ay, marry;\n",
        "He closes thus: 'I know the gentleman;\n",
        "I saw him yesterday, or t' other day,\n",
        "Or then, or then; with such, or such; and, as you say,\n",
        "There was a' gaming; there o'ertook in's rouse;\n",
        "There falling out at tennis:' or perchance,\n",
        "'I saw him enter such a house of sale,'\n",
        "Videlicet, a brothel, or so forth.\n",
        "See you now;\n",
        "Your bait of falsehood takes this carp of truth:\n",
        "And thus do we of wisdom and of reach,\n",
        "With windlasses and with assays of bias,\n",
        "By indirections find directions out:\n",
        "So by my former lecture and advice,\n",
        "Shall you my son. You have me, have you not?\n",
        "REYNALDO\n",
        "My lord, I have.\n",
        "LORD POLONIUS\n",
        "God be wi' you; fare you well.\n",
        "REYNALDO\n",
        "Good my lord!\n",
        "LORD POLONIUS\n",
        "Observe his inclination in yourself.\n",
        "REYNALDO\n",
        "I shall, my lord.\n",
        "LORD POLONIUS\n",
        "And let him ply his music.\n",
        "REYNALDO\n",
        "Well, my lord.\n",
        "LORD POLONIUS\n",
        "Farewell!\n",
        "Exit REYNALDO\n",
        "\n",
        "Enter OPHELIA\n",
        "\n",
        "How now, Ophelia! what's the matter?\n",
        "OPHELIA\n",
        "O, my lord, my lord, I have been so affrighted!\n",
        "LORD POLONIUS\n",
        "With what, i' the name of God?\n",
        "OPHELIA\n",
        "My lord, as I was sewing in my closet,\n",
        "Lord Hamlet, with his doublet all unbraced;\n",
        "No hat upon his head; his stockings foul'd,\n",
        "Ungarter'd, and down-gyved to his ancle;\n",
        "Pale as his shirt; his knees knocking each other;\n",
        "And with a look so piteous in purport\n",
        "As if he had been loosed out of hell\n",
        "To speak of horrors,--he comes before me.\n",
        "LORD POLONIUS\n",
        "Mad for thy love?\n",
        "OPHELIA\n",
        "My lord, I do not know;\n",
        "But truly, I do fear it.\n",
        "LORD POLONIUS\n",
        "What said he?\n",
        "OPHELIA\n",
        "He took me by the wrist and held me hard;\n",
        "Then goes he to the length of all his arm;\n",
        "And, with his other hand thus o'er his brow,\n",
        "He falls to such perusal of my face\n",
        "As he would draw it. Long stay'd he so;\n",
        "At last, a little shaking of mine arm\n",
        "And thrice his head thus waving up and down,\n",
        "He raised a sigh so piteous and profound\n",
        "As it did seem to shatter all his bulk\n",
        "And end his being: that done, he lets me go:\n",
        "And, with his head over his shoulder turn'd,\n",
        "He seem'd to find his way without his eyes;\n",
        "For out o' doors he went without their helps,\n",
        "And, to the last, bended their light on me.\n",
        "LORD POLONIUS\n",
        "Come, go with me: I will go seek the king.\n",
        "This is the very ecstasy of love,\n",
        "Whose violent property fordoes itself\n",
        "And leads the will to desperate undertakings\n",
        "As oft as any passion under heaven\n",
        "That does afflict our natures. I am sorry.\n",
        "What, have you given him any hard words of late?\n",
        "OPHELIA\n",
        "No, my good lord, but, as you did command,\n",
        "I did repel his fetters and denied\n",
        "His access to me.\n",
        "LORD POLONIUS\n",
        "That hath made him mad.\n",
        "I am sorry that with better heed and judgment\n",
        "I had not quoted him: I fear'd he did but trifle,\n",
        "And meant to wreck thee; but, beshrew my jealousy!\n",
        "By heaven, it is as proper to our age\n",
        "To cast beyond ourselves in our opinions\n",
        "As it is common for the younger sort\n",
        "To lack discretion. Come, go we to the king:\n",
        "This must be known; which, being kept close, might\n",
        "move\n",
        "More grief to hide than hate to utter love.\n",
        "Exeunt\n",
        "\n",
        "SCENE II. A room in the castle.\n",
        "\n",
        "Enter KING CLAUDIUS, QUEEN GERTRUDE, ROSENCRANTZ, GUILDENSTERN, and Attendants\n",
        "KING CLAUDIUS\n",
        "Welcome, dear Rosencrantz and Guildenstern!\n",
        "Moreover that we much did long to see you,\n",
        "The need we have to use you did provoke\n",
        "Our hasty sending. Something have you heard\n",
        "Of Hamlet's transformation; so call it,\n",
        "Sith nor the exterior nor the inward man\n",
        "Resembles that it was. What it should be,\n",
        "More than his father's death, that thus hath put him\n",
        "So much from the understanding of himself,\n",
        "I cannot dream of: I entreat you both,\n",
        "That, being of so young days brought up with him,\n",
        "And sith so neighbour'd to his youth and havior,\n",
        "That you vouchsafe your rest here in our court\n",
        "Some little time: so by your companies\n",
        "To draw him on to pleasures, and to gather,\n",
        "So much as from occasion you may glean,\n",
        "Whether aught, to us unknown, afflicts him thus,\n",
        "That, open'd, lies within our remedy.\n",
        "QUEEN GERTRUDE\n",
        "Good gentlemen, he hath much talk'd of you;\n",
        "And sure I am two men there are not living\n",
        "To whom he more adheres. If it will please you\n",
        "To show us so much gentry and good will\n",
        "As to expend your time with us awhile,\n",
        "For the supply and profit of our hope,\n",
        "Your visitation shall receive such thanks\n",
        "As fits a king's remembrance.\n",
        "ROSENCRANTZ\n",
        "Both your majesties\n",
        "Might, by the sovereign power you have of us,\n",
        "Put your dread pleasures more into command\n",
        "Than to entreaty.\n",
        "GUILDENSTERN\n",
        "But we both obey,\n",
        "And here give up ourselves, in the full bent\n",
        "To lay our service freely at your feet,\n",
        "To be commanded.\n",
        "KING CLAUDIUS\n",
        "Thanks, Rosencrantz and gentle Guildenstern.\n",
        "QUEEN GERTRUDE\n",
        "Thanks, Guildenstern and gentle Rosencrantz:\n",
        "And I beseech you instantly to visit\n",
        "My too much changed son. Go, some of you,\n",
        "And bring these gentlemen where Hamlet is.\n",
        "GUILDENSTERN\n",
        "Heavens make our presence and our practises\n",
        "Pleasant and helpful to him!\n",
        "QUEEN GERTRUDE\n",
        "Ay, amen!\n",
        "Exeunt ROSENCRANTZ, GUILDENSTERN, and some Attendants\n",
        "\n",
        "Enter POLONIUS\n",
        "\n",
        "LORD POLONIUS\n",
        "The ambassadors from Norway, my good lord,\n",
        "Are joyfully return'd.\n",
        "KING CLAUDIUS\n",
        "Thou still hast been the father of good news.\n",
        "LORD POLONIUS\n",
        "Have I, my lord? I assure my good liege,\n",
        "I hold my duty, as I hold my soul,\n",
        "Both to my God and to my gracious king:\n",
        "And I do think, or else this brain of mine\n",
        "Hunts not the trail of policy so sure\n",
        "As it hath used to do, that I have found\n",
        "The very cause of Hamlet's lunacy.\n",
        "KING CLAUDIUS\n",
        "O, speak of that; that do I long to hear.\n",
        "LORD POLONIUS\n",
        "Give first admittance to the ambassadors;\n",
        "My news shall be the fruit to that great feast.\n",
        "KING CLAUDIUS\n",
        "Thyself do grace to them, and bring them in.\n",
        "Exit POLONIUS\n",
        "\n",
        "He tells me, my dear Gertrude, he hath found\n",
        "The head and source of all your son's distemper.\n",
        "QUEEN GERTRUDE\n",
        "I doubt it is no other but the main;\n",
        "His father's death, and our o'erhasty marriage.\n",
        "KING CLAUDIUS\n",
        "Well, we shall sift him.\n",
        "Re-enter POLONIUS, with VOLTIMAND and CORNELIUS\n",
        "\n",
        "Welcome, my good friends!\n",
        "Say, Voltimand, what from our brother Norway?\n",
        "VOLTIMAND\n",
        "Most fair return of greetings and desires.\n",
        "Upon our first, he sent out to suppress\n",
        "His nephew's levies; which to him appear'd\n",
        "To be a preparation 'gainst the Polack;\n",
        "But, better look'd into, he truly found\n",
        "It was against your highness: whereat grieved,\n",
        "That so his sickness, age and impotence\n",
        "Was falsely borne in hand, sends out arrests\n",
        "On Fortinbras; which he, in brief, obeys;\n",
        "Receives rebuke from Norway, and in fine\n",
        "Makes vow before his uncle never more\n",
        "To give the assay of arms against your majesty.\n",
        "Whereon old Norway, overcome with joy,\n",
        "Gives him three thousand crowns in annual fee,\n",
        "And his commission to employ those soldiers,\n",
        "So levied as before, against the Polack:\n",
        "With an entreaty, herein further shown,\n",
        "Giving a paper\n",
        "\n",
        "That it might please you to give quiet pass\n",
        "Through your dominions for this enterprise,\n",
        "On such regards of safety and allowance\n",
        "As therein are set down.\n",
        "KING CLAUDIUS\n",
        "It likes us well;\n",
        "And at our more consider'd time well read,\n",
        "Answer, and think upon this business.\n",
        "Meantime we thank you for your well-took labour:\n",
        "Go to your rest; at night we'll feast together:\n",
        "Most welcome home!\n",
        "Exeunt VOLTIMAND and CORNELIUS\n",
        "\n",
        "LORD POLONIUS\n",
        "This business is well ended.\n",
        "My liege, and madam, to expostulate\n",
        "What majesty should be, what duty is,\n",
        "Why day is day, night night, and time is time,\n",
        "Were nothing but to waste night, day and time.\n",
        "Therefore, since brevity is the soul of wit,\n",
        "And tediousness the limbs and outward flourishes,\n",
        "I will be brief: your noble son is mad:\n",
        "Mad call I it; for, to define true madness,\n",
        "What is't but to be nothing else but mad?\n",
        "But let that go.\n",
        "QUEEN GERTRUDE\n",
        "More matter, with less art.\n",
        "LORD POLONIUS\n",
        "Madam, I swear I use no art at all.\n",
        "That he is mad, 'tis true: 'tis true 'tis pity;\n",
        "And pity 'tis 'tis true: a foolish figure;\n",
        "But farewell it, for I will use no art.\n",
        "Mad let us grant him, then: and now remains\n",
        "That we find out the cause of this effect,\n",
        "Or rather say, the cause of this defect,\n",
        "For this effect defective comes by cause:\n",
        "Thus it remains, and the remainder thus. Perpend.\n",
        "I have a daughter--have while she is mine--\n",
        "Who, in her duty and obedience, mark,\n",
        "Hath given me this: now gather, and surmise.\n",
        "Reads\n",
        "\n",
        "'To the celestial and my soul's idol, the most\n",
        "beautified Ophelia,'--\n",
        "That's an ill phrase, a vile phrase; 'beautified' is\n",
        "a vile phrase: but you shall hear. Thus:\n",
        "Reads\n",
        "\n",
        "'In her excellent white bosom, these, & c.'\n",
        "QUEEN GERTRUDE\n",
        "Came this from Hamlet to her?\n",
        "LORD POLONIUS\n",
        "Good madam, stay awhile; I will be faithful.\n",
        "Reads\n",
        "\n",
        "'Doubt thou the stars are fire;\n",
        "Doubt that the sun doth move;\n",
        "Doubt truth to be a liar;\n",
        "But never doubt I love.\n",
        "'O dear Ophelia, I am ill at these numbers;\n",
        "I have not art to reckon my groans: but that\n",
        "I love thee best, O most best, believe it. Adieu.\n",
        "'Thine evermore most dear lady, whilst\n",
        "this machine is to him, HAMLET.'\n",
        "This, in obedience, hath my daughter shown me,\n",
        "And more above, hath his solicitings,\n",
        "As they fell out by time, by means and place,\n",
        "All given to mine ear.\n",
        "KING CLAUDIUS\n",
        "But how hath she\n",
        "Received his love?\n",
        "LORD POLONIUS\n",
        "What do you think of me?\n",
        "KING CLAUDIUS\n",
        "As of a man faithful and honourable.\n",
        "LORD POLONIUS\n",
        "I would fain prove so. But what might you think,\n",
        "When I had seen this hot love on the wing--\n",
        "As I perceived it, I must tell you that,\n",
        "Before my daughter told me--what might you,\n",
        "Or my dear majesty your queen here, think,\n",
        "If I had play'd the desk or table-book,\n",
        "Or given my heart a winking, mute and dumb,\n",
        "Or look'd upon this love with idle sight;\n",
        "What might you think? No, I went round to work,\n",
        "And my young mistress thus I did bespeak:\n",
        "'Lord Hamlet is a prince, out of thy star;\n",
        "This must not be:' and then I precepts gave her,\n",
        "That she should lock herself from his resort,\n",
        "Admit no messengers, receive no tokens.\n",
        "Which done, she took the fruits of my advice;\n",
        "And he, repulsed--a short tale to make--\n",
        "Fell into a sadness, then into a fast,\n",
        "Thence to a watch, thence into a weakness,\n",
        "Thence to a lightness, and, by this declension,\n",
        "Into the madness wherein now he raves,\n",
        "And all we mourn for.\n",
        "KING CLAUDIUS\n",
        "Do you think 'tis this?\n",
        "QUEEN GERTRUDE\n",
        "It may be, very likely.\n",
        "LORD POLONIUS\n",
        "Hath there been such a time--I'd fain know that--\n",
        "That I have positively said 'Tis so,'\n",
        "When it proved otherwise?\n",
        "KING CLAUDIUS\n",
        "Not that I know.\n",
        "LORD POLONIUS\n",
        "[Pointing to his head and shoulder]\n",
        "Take this from this, if this be otherwise:\n",
        "If circumstances lead me, I will find\n",
        "Where truth is hid, though it were hid indeed\n",
        "Within the centre.\n",
        "KING CLAUDIUS\n",
        "How may we try it further?\n",
        "LORD POLONIUS\n",
        "You know, sometimes he walks four hours together\n",
        "Here in the lobby.\n",
        "QUEEN GERTRUDE\n",
        "So he does indeed.\n",
        "LORD POLONIUS\n",
        "At such a time I'll loose my daughter to him:\n",
        "Be you and I behind an arras then;\n",
        "Mark the encounter: if he love her not\n",
        "And be not from his reason fall'n thereon,\n",
        "Let me be no assistant for a state,\n",
        "But keep a farm and carters.\n",
        "KING CLAUDIUS\n",
        "We will try it.\n",
        "QUEEN GERTRUDE\n",
        "But, look, where sadly the poor wretch comes reading.\n",
        "LORD POLONIUS\n",
        "Away, I do beseech you, both away:\n",
        "I'll board him presently.\n",
        "Exeunt KING CLAUDIUS, QUEEN GERTRUDE, and Attendants\n",
        "\n",
        "Enter HAMLET, reading\n",
        "\n",
        "O, give me leave:\n",
        "How does my good Lord Hamlet?\n",
        "HAMLET\n",
        "Well, God-a-mercy.\n",
        "LORD POLONIUS\n",
        "Do you know me, my lord?\n",
        "HAMLET\n",
        "Excellent well; you are a fishmonger.\n",
        "LORD POLONIUS\n",
        "Not I, my lord.\n",
        "HAMLET\n",
        "Then I would you were so honest a man.\n",
        "LORD POLONIUS\n",
        "Honest, my lord!\n",
        "HAMLET\n",
        "Ay, sir; to be honest, as this world goes, is to be\n",
        "one man picked out of ten thousand.\n",
        "LORD POLONIUS\n",
        "That's very true, my lord.\n",
        "HAMLET\n",
        "For if the sun breed maggots in a dead dog, being a\n",
        "god kissing carrion,--Have you a daughter?\n",
        "LORD POLONIUS\n",
        "I have, my lord.\n",
        "HAMLET\n",
        "Let her not walk i' the sun: conception is a\n",
        "blessing: but not as your daughter may conceive.\n",
        "Friend, look to 't.\n",
        "LORD POLONIUS\n",
        "[Aside] How say you by that? Still harping on my\n",
        "daughter: yet he knew me not at first; he said I\n",
        "was a fishmonger: he is far gone, far gone: and\n",
        "truly in my youth I suffered much extremity for\n",
        "love; very near this. I'll speak to him again.\n",
        "What do you read, my lord?\n",
        "HAMLET\n",
        "Words, words, words.\n",
        "LORD POLONIUS\n",
        "What is the matter, my lord?\n",
        "HAMLET\n",
        "Between who?\n",
        "LORD POLONIUS\n",
        "I mean, the matter that you read, my lord.\n",
        "HAMLET\n",
        "Slanders, sir: for the satirical rogue says here\n",
        "that old men have grey beards, that their faces are\n",
        "wrinkled, their eyes purging thick amber and\n",
        "plum-tree gum and that they have a plentiful lack of\n",
        "wit, together with most weak hams: all which, sir,\n",
        "though I most powerfully and potently believe, yet\n",
        "I hold it not honesty to have it thus set down, for\n",
        "yourself, sir, should be old as I am, if like a crab\n",
        "you could go backward.\n",
        "LORD POLONIUS\n",
        "[Aside] Though this be madness, yet there is method\n",
        "in 't. Will you walk out of the air, my lord?\n",
        "HAMLET\n",
        "Into my grave.\n",
        "LORD POLONIUS\n",
        "Indeed, that is out o' the air.\n",
        "Aside\n",
        "\n",
        "How pregnant sometimes his replies are! a happiness\n",
        "that often madness hits on, which reason and sanity\n",
        "could not so prosperously be delivered of. I will\n",
        "leave him, and suddenly contrive the means of\n",
        "meeting between him and my daughter.--My honourable\n",
        "lord, I will most humbly take my leave of you.\n",
        "HAMLET\n",
        "You cannot, sir, take from me any thing that I will\n",
        "more willingly part withal: except my life, except\n",
        "my life, except my life.\n",
        "LORD POLONIUS\n",
        "Fare you well, my lord.\n",
        "HAMLET\n",
        "These tedious old fools!\n",
        "Enter ROSENCRANTZ and GUILDENSTERN\n",
        "\n",
        "LORD POLONIUS\n",
        "You go to seek the Lord Hamlet; there he is.\n",
        "ROSENCRANTZ\n",
        "[To POLONIUS] God save you, sir!\n",
        "Exit POLONIUS\n",
        "\n",
        "GUILDENSTERN\n",
        "My honoured lord!\n",
        "ROSENCRANTZ\n",
        "My most dear lord!\n",
        "HAMLET\n",
        "My excellent good friends! How dost thou,\n",
        "Guildenstern? Ah, Rosencrantz! Good lads, how do ye both?\n",
        "ROSENCRANTZ\n",
        "As the indifferent children of the earth.\n",
        "GUILDENSTERN\n",
        "Happy, in that we are not over-happy;\n",
        "On fortune's cap we are not the very button.\n",
        "HAMLET\n",
        "Nor the soles of her shoe?\n",
        "ROSENCRANTZ\n",
        "Neither, my lord.\n",
        "HAMLET\n",
        "Then you live about her waist, or in the middle of\n",
        "her favours?\n",
        "GUILDENSTERN\n",
        "'Faith, her privates we.\n",
        "HAMLET\n",
        "In the secret parts of fortune? O, most true; she\n",
        "is a strumpet. What's the news?\n",
        "ROSENCRANTZ\n",
        "None, my lord, but that the world's grown honest.\n",
        "HAMLET\n",
        "Then is doomsday near: but your news is not true.\n",
        "Let me question more in particular: what have you,\n",
        "my good friends, deserved at the hands of fortune,\n",
        "that she sends you to prison hither?\n",
        "GUILDENSTERN\n",
        "Prison, my lord!\n",
        "HAMLET\n",
        "Denmark's a prison.\n",
        "ROSENCRANTZ\n",
        "Then is the world one.\n",
        "HAMLET\n",
        "A goodly one; in which there are many confines,\n",
        "wards and dungeons, Denmark being one o' the worst.\n",
        "ROSENCRANTZ\n",
        "We think not so, my lord.\n",
        "HAMLET\n",
        "Why, then, 'tis none to you; for there is nothing\n",
        "either good or bad, but thinking makes it so: to me\n",
        "it is a prison.\n",
        "ROSENCRANTZ\n",
        "Why then, your ambition makes it one; 'tis too\n",
        "narrow for your mind.\n",
        "HAMLET\n",
        "O God, I could be bounded in a nut shell and count\n",
        "myself a king of infinite space, were it not that I\n",
        "have bad dreams.\n",
        "GUILDENSTERN\n",
        "Which dreams indeed are ambition, for the very\n",
        "substance of the ambitious is merely the shadow of a dream.\n",
        "HAMLET\n",
        "A dream itself is but a shadow.\n",
        "ROSENCRANTZ\n",
        "Truly, and I hold ambition of so airy and light a\n",
        "quality that it is but a shadow's shadow.\n",
        "HAMLET\n",
        "Then are our beggars bodies, and our monarchs and\n",
        "outstretched heroes the beggars' shadows. Shall we\n",
        "to the court? for, by my fay, I cannot reason.\n",
        "ROSENCRANTZ GUILDENSTERN\n",
        "We'll wait upon you.\n",
        "HAMLET\n",
        "No such matter: I will not sort you with the rest\n",
        "of my servants, for, to speak to you like an honest\n",
        "man, I am most dreadfully attended. But, in the\n",
        "beaten way of friendship, what make you at Elsinore?\n",
        "ROSENCRANTZ\n",
        "To visit you, my lord; no other occasion.\n",
        "HAMLET\n",
        "Beggar that I am, I am even poor in thanks; but I\n",
        "thank you: and sure, dear friends, my thanks are\n",
        "too dear a halfpenny. Were you not sent for? Is it\n",
        "your own inclining? Is it a free visitation? Come,\n",
        "deal justly with me: come, come; nay, speak.\n",
        "GUILDENSTERN\n",
        "What should we say, my lord?\n",
        "HAMLET\n",
        "Why, any thing, but to the purpose. You were sent\n",
        "for; and there is a kind of confession in your looks\n",
        "which your modesties have not craft enough to colour:\n",
        "I know the good king and queen have sent for you.\n",
        "ROSENCRANTZ\n",
        "To what end, my lord?\n",
        "HAMLET\n",
        "That you must teach me. But let me conjure you, by\n",
        "the rights of our fellowship, by the consonancy of\n",
        "our youth, by the obligation of our ever-preserved\n",
        "love, and by what more dear a better proposer could\n",
        "charge you withal, be even and direct with me,\n",
        "whether you were sent for, or no?\n",
        "ROSENCRANTZ\n",
        "[Aside to GUILDENSTERN] What say you?\n",
        "HAMLET\n",
        "[Aside] Nay, then, I have an eye of you.--If you\n",
        "love me, hold not off.\n",
        "GUILDENSTERN\n",
        "My lord, we were sent for.\n",
        "HAMLET\n",
        "I will tell you why; so shall my anticipation\n",
        "prevent your discovery, and your secrecy to the king\n",
        "and queen moult no feather. I have of late--but\n",
        "wherefore I know not--lost all my mirth, forgone all\n",
        "custom of exercises; and indeed it goes so heavily\n",
        "with my disposition that this goodly frame, the\n",
        "earth, seems to me a sterile promontory, this most\n",
        "excellent canopy, the air, look you, this brave\n",
        "o'erhanging firmament, this majestical roof fretted\n",
        "with golden fire, why, it appears no other thing to\n",
        "me than a foul and pestilent congregation of vapours.\n",
        "What a piece of work is a man! how noble in reason!\n",
        "how infinite in faculty! in form and moving how\n",
        "express and admirable! in action how like an angel!\n",
        "in apprehension how like a god! the beauty of the\n",
        "world! the paragon of animals! And yet, to me,\n",
        "what is this quintessence of dust? man delights not\n",
        "me: no, nor woman neither, though by your smiling\n",
        "you seem to say so.\n",
        "ROSENCRANTZ\n",
        "My lord, there was no such stuff in my thoughts.\n",
        "HAMLET\n",
        "Why did you laugh then, when I said 'man delights not me'?\n",
        "ROSENCRANTZ\n",
        "To think, my lord, if you delight not in man, what\n",
        "lenten entertainment the players shall receive from\n",
        "you: we coted them on the way; and hither are they\n",
        "coming, to offer you service.\n",
        "HAMLET\n",
        "He that plays the king shall be welcome; his majesty\n",
        "shall have tribute of me; the adventurous knight\n",
        "shall use his foil and target; the lover shall not\n",
        "sigh gratis; the humourous man shall end his part\n",
        "in peace; the clown shall make those laugh whose\n",
        "lungs are tickled o' the sere; and the lady shall\n",
        "say her mind freely, or the blank verse shall halt\n",
        "for't. What players are they?\n",
        "ROSENCRANTZ\n",
        "Even those you were wont to take delight in, the\n",
        "tragedians of the city.\n",
        "HAMLET\n",
        "How chances it they travel? their residence, both\n",
        "in reputation and profit, was better both ways.\n",
        "ROSENCRANTZ\n",
        "I think their inhibition comes by the means of the\n",
        "late innovation.\n",
        "HAMLET\n",
        "Do they hold the same estimation they did when I was\n",
        "in the city? are they so followed?\n",
        "ROSENCRANTZ\n",
        "No, indeed, are they not.\n",
        "HAMLET\n",
        "How comes it? do they grow rusty?\n",
        "ROSENCRANTZ\n",
        "Nay, their endeavour keeps in the wonted pace: but\n",
        "there is, sir, an aery of children, little eyases,\n",
        "that cry out on the top of question, and are most\n",
        "tyrannically clapped for't: these are now the\n",
        "fashion, and so berattle the common stages--so they\n",
        "call them--that many wearing rapiers are afraid of\n",
        "goose-quills and dare scarce come thither.\n",
        "HAMLET\n",
        "What, are they children? who maintains 'em? how are\n",
        "they escoted? Will they pursue the quality no\n",
        "longer than they can sing? will they not say\n",
        "afterwards, if they should grow themselves to common\n",
        "players--as it is most like, if their means are no\n",
        "better--their writers do them wrong, to make them\n",
        "exclaim against their own succession?\n",
        "ROSENCRANTZ\n",
        "'Faith, there has been much to do on both sides; and\n",
        "the nation holds it no sin to tarre them to\n",
        "controversy: there was, for a while, no money bid\n",
        "for argument, unless the poet and the player went to\n",
        "cuffs in the question.\n",
        "HAMLET\n",
        "Is't possible?\n",
        "GUILDENSTERN\n",
        "O, there has been much throwing about of brains.\n",
        "HAMLET\n",
        "Do the boys carry it away?\n",
        "ROSENCRANTZ\n",
        "Ay, that they do, my lord; Hercules and his load too.\n",
        "HAMLET\n",
        "It is not very strange; for mine uncle is king of\n",
        "Denmark, and those that would make mows at him while\n",
        "my father lived, give twenty, forty, fifty, an\n",
        "hundred ducats a-piece for his picture in little.\n",
        "'Sblood, there is something in this more than\n",
        "natural, if philosophy could find it out.\n",
        "Flourish of trumpets within\n",
        "\n",
        "GUILDENSTERN\n",
        "There are the players.\n",
        "HAMLET\n",
        "Gentlemen, you are welcome to Elsinore. Your hands,\n",
        "come then: the appurtenance of welcome is fashion\n",
        "and ceremony: let me comply with you in this garb,\n",
        "lest my extent to the players, which, I tell you,\n",
        "must show fairly outward, should more appear like\n",
        "entertainment than yours. You are welcome: but my\n",
        "uncle-father and aunt-mother are deceived.\n",
        "GUILDENSTERN\n",
        "In what, my dear lord?\n",
        "HAMLET\n",
        "I am but mad north-north-west: when the wind is\n",
        "southerly I know a hawk from a handsaw.\n",
        "Enter POLONIUS\n",
        "\n",
        "LORD POLONIUS\n",
        "Well be with you, gentlemen!\n",
        "HAMLET\n",
        "Hark you, Guildenstern; and you too: at each ear a\n",
        "hearer: that great baby you see there is not yet\n",
        "out of his swaddling-clouts.\n",
        "ROSENCRANTZ\n",
        "Happily he's the second time come to them; for they\n",
        "say an old man is twice a child.\n",
        "HAMLET\n",
        "I will prophesy he comes to tell me of the players;\n",
        "mark it. You say right, sir: o' Monday morning;\n",
        "'twas so indeed.\n",
        "LORD POLONIUS\n",
        "My lord, I have news to tell you.\n",
        "HAMLET\n",
        "My lord, I have news to tell you.\n",
        "When Roscius was an actor in Rome,--\n",
        "LORD POLONIUS\n",
        "The actors are come hither, my lord.\n",
        "HAMLET\n",
        "Buz, buz!\n",
        "LORD POLONIUS\n",
        "Upon mine honour,--\n",
        "HAMLET\n",
        "Then came each actor on his ass,--\n",
        "LORD POLONIUS\n",
        "The best actors in the world, either for tragedy,\n",
        "comedy, history, pastoral, pastoral-comical,\n",
        "historical-pastoral, tragical-historical, tragical-\n",
        "comical-historical-pastoral, scene individable, or\n",
        "poem unlimited: Seneca cannot be too heavy, nor\n",
        "Plautus too light. For the law of writ and the\n",
        "liberty, these are the only men.\n",
        "HAMLET\n",
        "O Jephthah, judge of Israel, what a treasure hadst thou!\n",
        "LORD POLONIUS\n",
        "What a treasure had he, my lord?\n",
        "HAMLET\n",
        "Why,\n",
        "'One fair daughter and no more,\n",
        "The which he loved passing well.'\n",
        "LORD POLONIUS\n",
        "[Aside] Still on my daughter.\n",
        "HAMLET\n",
        "Am I not i' the right, old Jephthah?\n",
        "LORD POLONIUS\n",
        "If you call me Jephthah, my lord, I have a daughter\n",
        "that I love passing well.\n",
        "HAMLET\n",
        "Nay, that follows not.\n",
        "LORD POLONIUS\n",
        "What follows, then, my lord?\n",
        "HAMLET\n",
        "Why,\n",
        "'As by lot, God wot,'\n",
        "and then, you know,\n",
        "'It came to pass, as most like it was,'--\n",
        "the first row of the pious chanson will show you\n",
        "more; for look, where my abridgement comes.\n",
        "Enter four or five Players\n",
        "\n",
        "You are welcome, masters; welcome, all. I am glad\n",
        "to see thee well. Welcome, good friends. O, my old\n",
        "friend! thy face is valenced since I saw thee last:\n",
        "comest thou to beard me in Denmark? What, my young\n",
        "lady and mistress! By'r lady, your ladyship is\n",
        "nearer to heaven than when I saw you last, by the\n",
        "altitude of a chopine. Pray God, your voice, like\n",
        "apiece of uncurrent gold, be not cracked within the\n",
        "ring. Masters, you are all welcome. We'll e'en\n",
        "to't like French falconers, fly at any thing we see:\n",
        "we'll have a speech straight: come, give us a taste\n",
        "of your quality; come, a passionate speech.\n",
        "First Player\n",
        "What speech, my lord?\n",
        "HAMLET\n",
        "I heard thee speak me a speech once, but it was\n",
        "never acted; or, if it was, not above once; for the\n",
        "play, I remember, pleased not the million; 'twas\n",
        "caviare to the general: but it was--as I received\n",
        "it, and others, whose judgments in such matters\n",
        "cried in the top of mine--an excellent play, well\n",
        "digested in the scenes, set down with as much\n",
        "modesty as cunning. I remember, one said there\n",
        "were no sallets in the lines to make the matter\n",
        "savoury, nor no matter in the phrase that might\n",
        "indict the author of affectation; but called it an\n",
        "honest method, as wholesome as sweet, and by very\n",
        "much more handsome than fine. One speech in it I\n",
        "chiefly loved: 'twas Aeneas' tale to Dido; and\n",
        "thereabout of it especially, where he speaks of\n",
        "Priam's slaughter: if it live in your memory, begin\n",
        "at this line: let me see, let me see--\n",
        "'The rugged Pyrrhus, like the Hyrcanian beast,'--\n",
        "it is not so:--it begins with Pyrrhus:--\n",
        "'The rugged Pyrrhus, he whose sable arms,\n",
        "Black as his purpose, did the night resemble\n",
        "When he lay couched in the ominous horse,\n",
        "Hath now this dread and black complexion smear'd\n",
        "With heraldry more dismal; head to foot\n",
        "Now is he total gules; horridly trick'd\n",
        "With blood of fathers, mothers, daughters, sons,\n",
        "Baked and impasted with the parching streets,\n",
        "That lend a tyrannous and damned light\n",
        "To their lord's murder: roasted in wrath and fire,\n",
        "And thus o'er-sized with coagulate gore,\n",
        "With eyes like carbuncles, the hellish Pyrrhus\n",
        "Old grandsire Priam seeks.'\n",
        "So, proceed you.\n",
        "LORD POLONIUS\n",
        "'Fore God, my lord, well spoken, with good accent and\n",
        "good discretion.\n",
        "First Player\n",
        "'Anon he finds him\n",
        "Striking too short at Greeks; his antique sword,\n",
        "Rebellious to his arm, lies where it falls,\n",
        "Repugnant to command: unequal match'd,\n",
        "Pyrrhus at Priam drives; in rage strikes wide;\n",
        "But with the whiff and wind of his fell sword\n",
        "The unnerved father falls. Then senseless Ilium,\n",
        "Seeming to feel this blow, with flaming top\n",
        "Stoops to his base, and with a hideous crash\n",
        "Takes prisoner Pyrrhus' ear: for, lo! his sword,\n",
        "Which was declining on the milky head\n",
        "Of reverend Priam, seem'd i' the air to stick:\n",
        "So, as a painted tyrant, Pyrrhus stood,\n",
        "And like a neutral to his will and matter,\n",
        "Did nothing.\n",
        "But, as we often see, against some storm,\n",
        "A silence in the heavens, the rack stand still,\n",
        "The bold winds speechless and the orb below\n",
        "As hush as death, anon the dreadful thunder\n",
        "Doth rend the region, so, after Pyrrhus' pause,\n",
        "Aroused vengeance sets him new a-work;\n",
        "And never did the Cyclops' hammers fall\n",
        "On Mars's armour forged for proof eterne\n",
        "With less remorse than Pyrrhus' bleeding sword\n",
        "Now falls on Priam.\n",
        "Out, out, thou strumpet, Fortune! All you gods,\n",
        "In general synod 'take away her power;\n",
        "Break all the spokes and fellies from her wheel,\n",
        "And bowl the round nave down the hill of heaven,\n",
        "As low as to the fiends!'\n",
        "LORD POLONIUS\n",
        "This is too long.\n",
        "HAMLET\n",
        "It shall to the barber's, with your beard. Prithee,\n",
        "say on: he's for a jig or a tale of bawdry, or he\n",
        "sleeps: say on: come to Hecuba.\n",
        "First Player\n",
        "'But who, O, who had seen the mobled queen--'\n",
        "HAMLET\n",
        "'The mobled queen?'\n",
        "LORD POLONIUS\n",
        "That's good; 'mobled queen' is good.\n",
        "First Player\n",
        "'Run barefoot up and down, threatening the flames\n",
        "With bisson rheum; a clout upon that head\n",
        "Where late the diadem stood, and for a robe,\n",
        "About her lank and all o'er-teemed loins,\n",
        "A blanket, in the alarm of fear caught up;\n",
        "Who this had seen, with tongue in venom steep'd,\n",
        "'Gainst Fortune's state would treason have\n",
        "pronounced:\n",
        "But if the gods themselves did see her then\n",
        "When she saw Pyrrhus make malicious sport\n",
        "In mincing with his sword her husband's limbs,\n",
        "The instant burst of clamour that she made,\n",
        "Unless things mortal move them not at all,\n",
        "Would have made milch the burning eyes of heaven,\n",
        "And passion in the gods.'\n",
        "LORD POLONIUS\n",
        "Look, whether he has not turned his colour and has\n",
        "tears in's eyes. Pray you, no more.\n",
        "HAMLET\n",
        "'Tis well: I'll have thee speak out the rest soon.\n",
        "Good my lord, will you see the players well\n",
        "bestowed? Do you hear, let them be well used; for\n",
        "they are the abstract and brief chronicles of the\n",
        "time: after your death you were better have a bad\n",
        "epitaph than their ill report while you live.\n",
        "LORD POLONIUS\n",
        "My lord, I will use them according to their desert.\n",
        "HAMLET\n",
        "God's bodykins, man, much better: use every man\n",
        "after his desert, and who should 'scape whipping?\n",
        "Use them after your own honour and dignity: the less\n",
        "they deserve, the more merit is in your bounty.\n",
        "Take them in.\n",
        "LORD POLONIUS\n",
        "Come, sirs.\n",
        "HAMLET\n",
        "Follow him, friends: we'll hear a play to-morrow.\n",
        "Exit POLONIUS with all the Players but the First\n",
        "\n",
        "Dost thou hear me, old friend; can you play the\n",
        "Murder of Gonzago?\n",
        "First Player\n",
        "Ay, my lord.\n",
        "HAMLET\n",
        "We'll ha't to-morrow night. You could, for a need,\n",
        "study a speech of some dozen or sixteen lines, which\n",
        "I would set down and insert in't, could you not?\n",
        "First Player\n",
        "Ay, my lord.\n",
        "HAMLET\n",
        "Very well. Follow that lord; and look you mock him\n",
        "not.\n",
        "Exit First Player\n",
        "\n",
        "My good friends, I'll leave you till night: you are\n",
        "welcome to Elsinore.\n",
        "ROSENCRANTZ\n",
        "Good my lord!\n",
        "HAMLET\n",
        "Ay, so, God be wi' ye;\n",
        "Exeunt ROSENCRANTZ and GUILDENSTERN\n",
        "\n",
        "Now I am alone.\n",
        "O, what a rogue and peasant slave am I!\n",
        "Is it not monstrous that this player here,\n",
        "But in a fiction, in a dream of passion,\n",
        "Could force his soul so to his own conceit\n",
        "That from her working all his visage wann'd,\n",
        "Tears in his eyes, distraction in's aspect,\n",
        "A broken voice, and his whole function suiting\n",
        "With forms to his conceit? and all for nothing!\n",
        "For Hecuba!\n",
        "What's Hecuba to him, or he to Hecuba,\n",
        "That he should weep for her? What would he do,\n",
        "Had he the motive and the cue for passion\n",
        "That I have? He would drown the stage with tears\n",
        "And cleave the general ear with horrid speech,\n",
        "Make mad the guilty and appal the free,\n",
        "Confound the ignorant, and amaze indeed\n",
        "The very faculties of eyes and ears. Yet I,\n",
        "A dull and muddy-mettled rascal, peak,\n",
        "Like John-a-dreams, unpregnant of my cause,\n",
        "And can say nothing; no, not for a king,\n",
        "Upon whose property and most dear life\n",
        "A damn'd defeat was made. Am I a coward?\n",
        "Who calls me villain? breaks my pate across?\n",
        "Plucks off my beard, and blows it in my face?\n",
        "Tweaks me by the nose? gives me the lie i' the throat,\n",
        "As deep as to the lungs? who does me this?\n",
        "Ha!\n",
        "'Swounds, I should take it: for it cannot be\n",
        "But I am pigeon-liver'd and lack gall\n",
        "To make oppression bitter, or ere this\n",
        "I should have fatted all the region kites\n",
        "With this slave's offal: bloody, bawdy villain!\n",
        "Remorseless, treacherous, lecherous, kindless villain!\n",
        "O, vengeance!\n",
        "Why, what an ass am I! This is most brave,\n",
        "That I, the son of a dear father murder'd,\n",
        "Prompted to my revenge by heaven and hell,\n",
        "Must, like a whore, unpack my heart with words,\n",
        "And fall a-cursing, like a very drab,\n",
        "A scullion!\n",
        "Fie upon't! foh! About, my brain! I have heard\n",
        "That guilty creatures sitting at a play\n",
        "Have by the very cunning of the scene\n",
        "Been struck so to the soul that presently\n",
        "They have proclaim'd their malefactions;\n",
        "For murder, though it have no tongue, will speak\n",
        "With most miraculous organ. I'll have these players\n",
        "Play something like the murder of my father\n",
        "Before mine uncle: I'll observe his looks;\n",
        "I'll tent him to the quick: if he but blench,\n",
        "I know my course. The spirit that I have seen\n",
        "May be the devil: and the devil hath power\n",
        "To assume a pleasing shape; yea, and perhaps\n",
        "Out of my weakness and my melancholy,\n",
        "As he is very potent with such spirits,\n",
        "Abuses me to damn me: I'll have grounds\n",
        "More relative than this: the play 's the thing\n",
        "Wherein I'll catch the conscience of the king.\n",
        "Exit\n",
        "\n",
        "ACT III\n",
        "\n",
        "SCENE I. A room in the castle.\n",
        "\n",
        "Enter KING CLAUDIUS, QUEEN GERTRUDE, POLONIUS, OPHELIA, ROSENCRANTZ, and GUILDENSTERN\n",
        "KING CLAUDIUS\n",
        "And can you, by no drift of circumstance,\n",
        "Get from him why he puts on this confusion,\n",
        "Grating so harshly all his days of quiet\n",
        "With turbulent and dangerous lunacy?\n",
        "ROSENCRANTZ\n",
        "He does confess he feels himself distracted;\n",
        "But from what cause he will by no means speak.\n",
        "GUILDENSTERN\n",
        "Nor do we find him forward to be sounded,\n",
        "But, with a crafty madness, keeps aloof,\n",
        "When we would bring him on to some confession\n",
        "Of his true state.\n",
        "QUEEN GERTRUDE\n",
        "Did he receive you well?\n",
        "ROSENCRANTZ\n",
        "Most like a gentleman.\n",
        "GUILDENSTERN\n",
        "But with much forcing of his disposition.\n",
        "ROSENCRANTZ\n",
        "Niggard of question; but, of our demands,\n",
        "Most free in his reply.\n",
        "QUEEN GERTRUDE\n",
        "Did you assay him?\n",
        "To any pastime?\n",
        "ROSENCRANTZ\n",
        "Madam, it so fell out, that certain players\n",
        "We o'er-raught on the way: of these we told him;\n",
        "And there did seem in him a kind of joy\n",
        "To hear of it: they are about the court,\n",
        "And, as I think, they have already order\n",
        "This night to play before him.\n",
        "LORD POLONIUS\n",
        "'Tis most true:\n",
        "And he beseech'd me to entreat your majesties\n",
        "To hear and see the matter.\n",
        "KING CLAUDIUS\n",
        "With all my heart; and it doth much content me\n",
        "To hear him so inclined.\n",
        "Good gentlemen, give him a further edge,\n",
        "And drive his purpose on to these delights.\n",
        "ROSENCRANTZ\n",
        "We shall, my lord.\n",
        "Exeunt ROSENCRANTZ and GUILDENSTERN\n",
        "\n",
        "KING CLAUDIUS\n",
        "Sweet Gertrude, leave us too;\n",
        "For we have closely sent for Hamlet hither,\n",
        "That he, as 'twere by accident, may here\n",
        "Affront Ophelia:\n",
        "Her father and myself, lawful espials,\n",
        "Will so bestow ourselves that, seeing, unseen,\n",
        "We may of their encounter frankly judge,\n",
        "And gather by him, as he is behaved,\n",
        "If 't be the affliction of his love or no\n",
        "That thus he suffers for.\n",
        "QUEEN GERTRUDE\n",
        "I shall obey you.\n",
        "And for your part, Ophelia, I do wish\n",
        "That your good beauties be the happy cause\n",
        "Of Hamlet's wildness: so shall I hope your virtues\n",
        "Will bring him to his wonted way again,\n",
        "To both your honours.\n",
        "OPHELIA\n",
        "Madam, I wish it may.\n",
        "Exit QUEEN GERTRUDE\n",
        "\n",
        "LORD POLONIUS\n",
        "Ophelia, walk you here. Gracious, so please you,\n",
        "We will bestow ourselves.\n",
        "To OPHELIA\n",
        "\n",
        "Read on this book;\n",
        "That show of such an exercise may colour\n",
        "Your loneliness. We are oft to blame in this,--\n",
        "'Tis too much proved--that with devotion's visage\n",
        "And pious action we do sugar o'er\n",
        "The devil himself.\n",
        "KING CLAUDIUS\n",
        "[Aside] O, 'tis too true!\n",
        "How smart a lash that speech doth give my conscience!\n",
        "The harlot's cheek, beautied with plastering art,\n",
        "Is not more ugly to the thing that helps it\n",
        "Than is my deed to my most painted word:\n",
        "O heavy burthen!\n",
        "LORD POLONIUS\n",
        "I hear him coming: let's withdraw, my lord.\n",
        "Exeunt KING CLAUDIUS and POLONIUS\n",
        "\n",
        "Enter HAMLET\n",
        "\n",
        "HAMLET\n",
        "To be, or not to be: that is the question:\n",
        "Whether 'tis nobler in the mind to suffer\n",
        "The slings and arrows of outrageous fortune,\n",
        "Or to take arms against a sea of troubles,\n",
        "And by opposing end them? To die: to sleep;\n",
        "No more; and by a sleep to say we end\n",
        "The heart-ache and the thousand natural shocks\n",
        "That flesh is heir to, 'tis a consummation\n",
        "Devoutly to be wish'd. To die, to sleep;\n",
        "To sleep: perchance to dream: ay, there's the rub;\n",
        "For in that sleep of death what dreams may come\n",
        "When we have shuffled off this mortal coil,\n",
        "Must give us pause: there's the respect\n",
        "That makes calamity of so long life;\n",
        "For who would bear the whips and scorns of time,\n",
        "The oppressor's wrong, the proud man's contumely,\n",
        "The pangs of despised love, the law's delay,\n",
        "The insolence of office and the spurns\n",
        "That patient merit of the unworthy takes,\n",
        "When he himself might his quietus make\n",
        "With a bare bodkin? who would fardels bear,\n",
        "To grunt and sweat under a weary life,\n",
        "But that the dread of something after death,\n",
        "The undiscover'd country from whose bourn\n",
        "No traveller returns, puzzles the will\n",
        "And makes us rather bear those ills we have\n",
        "Than fly to others that we know not of?\n",
        "Thus conscience does make cowards of us all;\n",
        "And thus the native hue of resolution\n",
        "Is sicklied o'er with the pale cast of thought,\n",
        "And enterprises of great pith and moment\n",
        "With this regard their currents turn awry,\n",
        "And lose the name of action.--Soft you now!\n",
        "The fair Ophelia! Nymph, in thy orisons\n",
        "Be all my sins remember'd.\n",
        "OPHELIA\n",
        "Good my lord,\n",
        "How does your honour for this many a day?\n",
        "HAMLET\n",
        "I humbly thank you; well, well, well.\n",
        "OPHELIA\n",
        "My lord, I have remembrances of yours,\n",
        "That I have longed long to re-deliver;\n",
        "I pray you, now receive them.\n",
        "HAMLET\n",
        "No, not I;\n",
        "I never gave you aught.\n",
        "OPHELIA\n",
        "My honour'd lord, you know right well you did;\n",
        "And, with them, words of so sweet breath composed\n",
        "As made the things more rich: their perfume lost,\n",
        "Take these again; for to the noble mind\n",
        "Rich gifts wax poor when givers prove unkind.\n",
        "There, my lord.\n",
        "HAMLET\n",
        "Ha, ha! are you honest?\n",
        "OPHELIA\n",
        "My lord?\n",
        "HAMLET\n",
        "Are you fair?\n",
        "OPHELIA\n",
        "What means your lordship?\n",
        "HAMLET\n",
        "That if you be honest and fair, your honesty should\n",
        "admit no discourse to your beauty.\n",
        "OPHELIA\n",
        "Could beauty, my lord, have better commerce than\n",
        "with honesty?\n",
        "HAMLET\n",
        "Ay, truly; for the power of beauty will sooner\n",
        "transform honesty from what it is to a bawd than the\n",
        "force of honesty can translate beauty into his\n",
        "likeness: this was sometime a paradox, but now the\n",
        "time gives it proof. I did love you once.\n",
        "OPHELIA\n",
        "Indeed, my lord, you made me believe so.\n",
        "HAMLET\n",
        "You should not have believed me; for virtue cannot\n",
        "so inoculate our old stock but we shall relish of\n",
        "it: I loved you not.\n",
        "OPHELIA\n",
        "I was the more deceived.\n",
        "HAMLET\n",
        "Get thee to a nunnery: why wouldst thou be a\n",
        "breeder of sinners? I am myself indifferent honest;\n",
        "but yet I could accuse me of such things that it\n",
        "were better my mother had not borne me: I am very\n",
        "proud, revengeful, ambitious, with more offences at\n",
        "my beck than I have thoughts to put them in,\n",
        "imagination to give them shape, or time to act them\n",
        "in. What should such fellows as I do crawling\n",
        "between earth and heaven? We are arrant knaves,\n",
        "all; believe none of us. Go thy ways to a nunnery.\n",
        "Where's your father?\n",
        "OPHELIA\n",
        "At home, my lord.\n",
        "HAMLET\n",
        "Let the doors be shut upon him, that he may play the\n",
        "fool no where but in's own house. Farewell.\n",
        "OPHELIA\n",
        "O, help him, you sweet heavens!\n",
        "HAMLET\n",
        "If thou dost marry, I'll give thee this plague for\n",
        "thy dowry: be thou as chaste as ice, as pure as\n",
        "snow, thou shalt not escape calumny. Get thee to a\n",
        "nunnery, go: farewell. Or, if thou wilt needs\n",
        "marry, marry a fool; for wise men know well enough\n",
        "what monsters you make of them. To a nunnery, go,\n",
        "and quickly too. Farewell.\n",
        "OPHELIA\n",
        "O heavenly powers, restore him!\n",
        "HAMLET\n",
        "I have heard of your paintings too, well enough; God\n",
        "has given you one face, and you make yourselves\n",
        "another: you jig, you amble, and you lisp, and\n",
        "nick-name God's creatures, and make your wantonness\n",
        "your ignorance. Go to, I'll no more on't; it hath\n",
        "made me mad. I say, we will have no more marriages:\n",
        "those that are married already, all but one, shall\n",
        "live; the rest shall keep as they are. To a\n",
        "nunnery, go.\n",
        "Exit\n",
        "\n",
        "OPHELIA\n",
        "O, what a noble mind is here o'erthrown!\n",
        "The courtier's, soldier's, scholar's, eye, tongue, sword;\n",
        "The expectancy and rose of the fair state,\n",
        "The glass of fashion and the mould of form,\n",
        "The observed of all observers, quite, quite down!\n",
        "And I, of ladies most deject and wretched,\n",
        "That suck'd the honey of his music vows,\n",
        "Now see that noble and most sovereign reason,\n",
        "Like sweet bells jangled, out of tune and harsh;\n",
        "That unmatch'd form and feature of blown youth\n",
        "Blasted with ecstasy: O, woe is me,\n",
        "To have seen what I have seen, see what I see!\n",
        "Re-enter KING CLAUDIUS and POLONIUS\n",
        "\n",
        "KING CLAUDIUS\n",
        "Love! his affections do not that way tend;\n",
        "Nor what he spake, though it lack'd form a little,\n",
        "Was not like madness. There's something in his soul,\n",
        "O'er which his melancholy sits on brood;\n",
        "And I do doubt the hatch and the disclose\n",
        "Will be some danger: which for to prevent,\n",
        "I have in quick determination\n",
        "Thus set it down: he shall with speed to England,\n",
        "For the demand of our neglected tribute\n",
        "Haply the seas and countries different\n",
        "With variable objects shall expel\n",
        "This something-settled matter in his heart,\n",
        "Whereon his brains still beating puts him thus\n",
        "From fashion of himself. What think you on't?\n",
        "LORD POLONIUS\n",
        "It shall do well: but yet do I believe\n",
        "The origin and commencement of his grief\n",
        "Sprung from neglected love. How now, Ophelia!\n",
        "You need not tell us what Lord Hamlet said;\n",
        "We heard it all. My lord, do as you please;\n",
        "But, if you hold it fit, after the play\n",
        "Let his queen mother all alone entreat him\n",
        "To show his grief: let her be round with him;\n",
        "And I'll be placed, so please you, in the ear\n",
        "Of all their conference. If she find him not,\n",
        "To England send him, or confine him where\n",
        "Your wisdom best shall think.\n",
        "KING CLAUDIUS\n",
        "It shall be so:\n",
        "Madness in great ones must not unwatch'd go.\n",
        "Exeunt\n",
        "\n",
        "SCENE II. A hall in the castle.\n",
        "\n",
        "Enter HAMLET and Players\n",
        "HAMLET\n",
        "Speak the speech, I pray you, as I pronounced it to\n",
        "you, trippingly on the tongue: but if you mouth it,\n",
        "as many of your players do, I had as lief the\n",
        "town-crier spoke my lines. Nor do not saw the air\n",
        "too much with your hand, thus, but use all gently;\n",
        "for in the very torrent, tempest, and, as I may say,\n",
        "the whirlwind of passion, you must acquire and beget\n",
        "a temperance that may give it smoothness. O, it\n",
        "offends me to the soul to hear a robustious\n",
        "periwig-pated fellow tear a passion to tatters, to\n",
        "very rags, to split the ears of the groundlings, who\n",
        "for the most part are capable of nothing but\n",
        "inexplicable dumbshows and noise: I would have such\n",
        "a fellow whipped for o'erdoing Termagant; it\n",
        "out-herods Herod: pray you, avoid it.\n",
        "First Player\n",
        "I warrant your honour.\n",
        "HAMLET\n",
        "Be not too tame neither, but let your own discretion\n",
        "be your tutor: suit the action to the word, the\n",
        "word to the action; with this special o'erstep not\n",
        "the modesty of nature: for any thing so overdone is\n",
        "from the purpose of playing, whose end, both at the\n",
        "first and now, was and is, to hold, as 'twere, the\n",
        "mirror up to nature; to show virtue her own feature,\n",
        "scorn her own image, and the very age and body of\n",
        "the time his form and pressure. Now this overdone,\n",
        "or come tardy off, though it make the unskilful\n",
        "laugh, cannot but make the judicious grieve; the\n",
        "censure of the which one must in your allowance\n",
        "o'erweigh a whole theatre of others. O, there be\n",
        "players that I have seen play, and heard others\n",
        "praise, and that highly, not to speak it profanely,\n",
        "that, neither having the accent of Christians nor\n",
        "the gait of Christian, pagan, nor man, have so\n",
        "strutted and bellowed that I have thought some of\n",
        "nature's journeymen had made men and not made them\n",
        "well, they imitated humanity so abominably.\n",
        "First Player\n",
        "I hope we have reformed that indifferently with us,\n",
        "sir.\n",
        "HAMLET\n",
        "O, reform it altogether. And let those that play\n",
        "your clowns speak no more than is set down for them;\n",
        "for there be of them that will themselves laugh, to\n",
        "set on some quantity of barren spectators to laugh\n",
        "too; though, in the mean time, some necessary\n",
        "question of the play be then to be considered:\n",
        "that's villanous, and shows a most pitiful ambition\n",
        "in the fool that uses it. Go, make you ready.\n",
        "Exeunt Players\n",
        "\n",
        "Enter POLONIUS, ROSENCRANTZ, and GUILDENSTERN\n",
        "\n",
        "How now, my lord! I will the king hear this piece of work?\n",
        "LORD POLONIUS\n",
        "And the queen too, and that presently.\n",
        "HAMLET\n",
        "Bid the players make haste.\n",
        "Exit POLONIUS\n",
        "\n",
        "Will you two help to hasten them?\n",
        "ROSENCRANTZ GUILDENSTERN\n",
        "We will, my lord.\n",
        "Exeunt ROSENCRANTZ and GUILDENSTERN\n",
        "\n",
        "HAMLET\n",
        "What ho! Horatio!\n",
        "Enter HORATIO\n",
        "\n",
        "HORATIO\n",
        "Here, sweet lord, at your service.\n",
        "HAMLET\n",
        "Horatio, thou art e'en as just a man\n",
        "As e'er my conversation coped withal.\n",
        "HORATIO\n",
        "O, my dear lord,--\n",
        "HAMLET\n",
        "Nay, do not think I flatter;\n",
        "For what advancement may I hope from thee\n",
        "That no revenue hast but thy good spirits,\n",
        "To feed and clothe thee? Why should the poor be flatter'd?\n",
        "No, let the candied tongue lick absurd pomp,\n",
        "And crook the pregnant hinges of the knee\n",
        "Where thrift may follow fawning. Dost thou hear?\n",
        "Since my dear soul was mistress of her choice\n",
        "And could of men distinguish, her election\n",
        "Hath seal'd thee for herself; for thou hast been\n",
        "As one, in suffering all, that suffers nothing,\n",
        "A man that fortune's buffets and rewards\n",
        "Hast ta'en with equal thanks: and blest are those\n",
        "Whose blood and judgment are so well commingled,\n",
        "That they are not a pipe for fortune's finger\n",
        "To sound what stop she please. Give me that man\n",
        "That is not passion's slave, and I will wear him\n",
        "In my heart's core, ay, in my heart of heart,\n",
        "As I do thee.--Something too much of this.--\n",
        "There is a play to-night before the king;\n",
        "One scene of it comes near the circumstance\n",
        "Which I have told thee of my father's death:\n",
        "I prithee, when thou seest that act afoot,\n",
        "Even with the very comment of thy soul\n",
        "Observe mine uncle: if his occulted guilt\n",
        "Do not itself unkennel in one speech,\n",
        "It is a damned ghost that we have seen,\n",
        "And my imaginations are as foul\n",
        "As Vulcan's stithy. Give him heedful note;\n",
        "For I mine eyes will rivet to his face,\n",
        "And after we will both our judgments join\n",
        "In censure of his seeming.\n",
        "HORATIO\n",
        "Well, my lord:\n",
        "If he steal aught the whilst this play is playing,\n",
        "And 'scape detecting, I will pay the theft.\n",
        "HAMLET\n",
        "They are coming to the play; I must be idle:\n",
        "Get you a place.\n",
        "Danish march. A flourish. Enter KING CLAUDIUS, QUEEN GERTRUDE, POLONIUS, OPHELIA, ROSENCRANTZ, GUILDENSTERN, and others\n",
        "\n",
        "KING CLAUDIUS\n",
        "How fares our cousin Hamlet?\n",
        "HAMLET\n",
        "Excellent, i' faith; of the chameleon's dish: I eat\n",
        "the air, promise-crammed: you cannot feed capons so.\n",
        "KING CLAUDIUS\n",
        "I have nothing with this answer, Hamlet; these words\n",
        "are not mine.\n",
        "HAMLET\n",
        "No, nor mine now.\n",
        "To POLONIUS\n",
        "\n",
        "My lord, you played once i' the university, you say?\n",
        "LORD POLONIUS\n",
        "That did I, my lord; and was accounted a good actor.\n",
        "HAMLET\n",
        "What did you enact?\n",
        "LORD POLONIUS\n",
        "I did enact Julius Caesar: I was killed i' the\n",
        "Capitol; Brutus killed me.\n",
        "HAMLET\n",
        "It was a brute part of him to kill so capital a calf\n",
        "there. Be the players ready?\n",
        "ROSENCRANTZ\n",
        "Ay, my lord; they stay upon your patience.\n",
        "QUEEN GERTRUDE\n",
        "Come hither, my dear Hamlet, sit by me.\n",
        "HAMLET\n",
        "No, good mother, here's metal more attractive.\n",
        "LORD POLONIUS\n",
        "[To KING CLAUDIUS] O, ho! do you mark that?\n",
        "HAMLET\n",
        "Lady, shall I lie in your lap?\n",
        "Lying down at OPHELIA's feet\n",
        "\n",
        "OPHELIA\n",
        "No, my lord.\n",
        "HAMLET\n",
        "I mean, my head upon your lap?\n",
        "OPHELIA\n",
        "Ay, my lord.\n",
        "HAMLET\n",
        "Do you think I meant country matters?\n",
        "OPHELIA\n",
        "I think nothing, my lord.\n",
        "HAMLET\n",
        "That's a fair thought to lie between maids' legs.\n",
        "OPHELIA\n",
        "What is, my lord?\n",
        "HAMLET\n",
        "Nothing.\n",
        "OPHELIA\n",
        "You are merry, my lord.\n",
        "HAMLET\n",
        "Who, I?\n",
        "OPHELIA\n",
        "Ay, my lord.\n",
        "HAMLET\n",
        "O God, your only jig-maker. What should a man do\n",
        "but be merry? for, look you, how cheerfully my\n",
        "mother looks, and my father died within these two hours.\n",
        "OPHELIA\n",
        "Nay, 'tis twice two months, my lord.\n",
        "HAMLET\n",
        "So long? Nay then, let the devil wear black, for\n",
        "I'll have a suit of sables. O heavens! die two\n",
        "months ago, and not forgotten yet? Then there's\n",
        "hope a great man's memory may outlive his life half\n",
        "a year: but, by'r lady, he must build churches,\n",
        "then; or else shall he suffer not thinking on, with\n",
        "the hobby-horse, whose epitaph is 'For, O, for, O,\n",
        "the hobby-horse is forgot.'\n",
        "Hautboys play. The dumb-show enters\n",
        "\n",
        "Enter a King and a Queen very lovingly; the Queen embracing him, and he her. She kneels, and makes show of protestation unto him. He takes her up, and declines his head upon her neck: lays him down upon a bank of flowers: she, seeing him asleep, leaves him. Anon comes in a fellow, takes off his crown, kisses it, and pours poison in the King's ears, and exit. The Queen returns; finds the King dead, and makes passionate action. The Poisoner, with some two or three Mutes, comes in again, seeming to lament with her. The dead body is carried away. The Poisoner wooes the Queen with gifts: she seems loath and unwilling awhile, but in the end accepts his love\n",
        "\n",
        "Exeunt\n",
        "\n",
        "OPHELIA\n",
        "What means this, my lord?\n",
        "HAMLET\n",
        "Marry, this is miching mallecho; it means mischief.\n",
        "OPHELIA\n",
        "Belike this show imports the argument of the play.\n",
        "Enter Prologue\n",
        "\n",
        "HAMLET\n",
        "We shall know by this fellow: the players cannot\n",
        "keep counsel; they'll tell all.\n",
        "OPHELIA\n",
        "Will he tell us what this show meant?\n",
        "HAMLET\n",
        "Ay, or any show that you'll show him: be not you\n",
        "ashamed to show, he'll not shame to tell you what it means.\n",
        "OPHELIA\n",
        "You are naught, you are naught: I'll mark the play.\n",
        "Prologue\n",
        "For us, and for our tragedy,\n",
        "Here stooping to your clemency,\n",
        "We beg your hearing patiently.\n",
        "Exit\n",
        "\n",
        "HAMLET\n",
        "Is this a prologue, or the posy of a ring?\n",
        "OPHELIA\n",
        "'Tis brief, my lord.\n",
        "HAMLET\n",
        "As woman's love.\n",
        "Enter two Players, King and Queen\n",
        "\n",
        "Player King\n",
        "Full thirty times hath Phoebus' cart gone round\n",
        "Neptune's salt wash and Tellus' orbed ground,\n",
        "And thirty dozen moons with borrow'd sheen\n",
        "About the world have times twelve thirties been,\n",
        "Since love our hearts and Hymen did our hands\n",
        "Unite commutual in most sacred bands.\n",
        "Player Queen\n",
        "So many journeys may the sun and moon\n",
        "Make us again count o'er ere love be done!\n",
        "But, woe is me, you are so sick of late,\n",
        "So far from cheer and from your former state,\n",
        "That I distrust you. Yet, though I distrust,\n",
        "Discomfort you, my lord, it nothing must:\n",
        "For women's fear and love holds quantity;\n",
        "In neither aught, or in extremity.\n",
        "Now, what my love is, proof hath made you know;\n",
        "And as my love is sized, my fear is so:\n",
        "Where love is great, the littlest doubts are fear;\n",
        "Where little fears grow great, great love grows there.\n",
        "Player King\n",
        "'Faith, I must leave thee, love, and shortly too;\n",
        "My operant powers their functions leave to do:\n",
        "And thou shalt live in this fair world behind,\n",
        "Honour'd, beloved; and haply one as kind\n",
        "For husband shalt thou--\n",
        "Player Queen\n",
        "O, confound the rest!\n",
        "Such love must needs be treason in my breast:\n",
        "In second husband let me be accurst!\n",
        "None wed the second but who kill'd the first.\n",
        "HAMLET\n",
        "[Aside] Wormwood, wormwood.\n",
        "Player Queen\n",
        "The instances that second marriage move\n",
        "Are base respects of thrift, but none of love:\n",
        "A second time I kill my husband dead,\n",
        "When second husband kisses me in bed.\n",
        "Player King\n",
        "I do believe you think what now you speak;\n",
        "But what we do determine oft we break.\n",
        "Purpose is but the slave to memory,\n",
        "Of violent birth, but poor validity;\n",
        "Which now, like fruit unripe, sticks on the tree;\n",
        "But fall, unshaken, when they mellow be.\n",
        "Most necessary 'tis that we forget\n",
        "To pay ourselves what to ourselves is debt:\n",
        "What to ourselves in passion we propose,\n",
        "The passion ending, doth the purpose lose.\n",
        "The violence of either grief or joy\n",
        "Their own enactures with themselves destroy:\n",
        "Where joy most revels, grief doth most lament;\n",
        "Grief joys, joy grieves, on slender accident.\n",
        "This world is not for aye, nor 'tis not strange\n",
        "That even our loves should with our fortunes change;\n",
        "For 'tis a question left us yet to prove,\n",
        "Whether love lead fortune, or else fortune love.\n",
        "The great man down, you mark his favourite flies;\n",
        "The poor advanced makes friends of enemies.\n",
        "And hitherto doth love on fortune tend;\n",
        "For who not needs shall never lack a friend,\n",
        "And who in want a hollow friend doth try,\n",
        "Directly seasons him his enemy.\n",
        "But, orderly to end where I begun,\n",
        "Our wills and fates do so contrary run\n",
        "That our devices still are overthrown;\n",
        "Our thoughts are ours, their ends none of our own:\n",
        "So think thou wilt no second husband wed;\n",
        "But die thy thoughts when thy first lord is dead.\n",
        "Player Queen\n",
        "Nor earth to me give food, nor heaven light!\n",
        "Sport and repose lock from me day and night!\n",
        "To desperation turn my trust and hope!\n",
        "An anchor's cheer in prison be my scope!\n",
        "Each opposite that blanks the face of joy\n",
        "Meet what I would have well and it destroy!\n",
        "Both here and hence pursue me lasting strife,\n",
        "If, once a widow, ever I be wife!\n",
        "HAMLET\n",
        "If she should break it now!\n",
        "Player King\n",
        "'Tis deeply sworn. Sweet, leave me here awhile;\n",
        "My spirits grow dull, and fain I would beguile\n",
        "The tedious day with sleep.\n",
        "Sleeps\n",
        "\n",
        "Player Queen\n",
        "Sleep rock thy brain,\n",
        "And never come mischance between us twain!\n",
        "Exit\n",
        "\n",
        "HAMLET\n",
        "Madam, how like you this play?\n",
        "QUEEN GERTRUDE\n",
        "The lady protests too much, methinks.\n",
        "HAMLET\n",
        "O, but she'll keep her word.\n",
        "KING CLAUDIUS\n",
        "Have you heard the argument? Is there no offence in 't?\n",
        "HAMLET\n",
        "No, no, they do but jest, poison in jest; no offence\n",
        "i' the world.\n",
        "KING CLAUDIUS\n",
        "What do you call the play?\n",
        "HAMLET\n",
        "The Mouse-trap. Marry, how? Tropically. This play\n",
        "is the image of a murder done in Vienna: Gonzago is\n",
        "the duke's name; his wife, Baptista: you shall see\n",
        "anon; 'tis a knavish piece of work: but what o'\n",
        "that? your majesty and we that have free souls, it\n",
        "touches us not: let the galled jade wince, our\n",
        "withers are unwrung.\n",
        "Enter LUCIANUS\n",
        "\n",
        "This is one Lucianus, nephew to the king.\n",
        "OPHELIA\n",
        "You are as good as a chorus, my lord.\n",
        "HAMLET\n",
        "I could interpret between you and your love, if I\n",
        "could see the puppets dallying.\n",
        "OPHELIA\n",
        "You are keen, my lord, you are keen.\n",
        "HAMLET\n",
        "It would cost you a groaning to take off my edge.\n",
        "OPHELIA\n",
        "Still better, and worse.\n",
        "HAMLET\n",
        "So you must take your husbands. Begin, murderer;\n",
        "pox, leave thy damnable faces, and begin. Come:\n",
        "'the croaking raven doth bellow for revenge.'\n",
        "LUCIANUS\n",
        "Thoughts black, hands apt, drugs fit, and time agreeing;\n",
        "Confederate season, else no creature seeing;\n",
        "Thou mixture rank, of midnight weeds collected,\n",
        "With Hecate's ban thrice blasted, thrice infected,\n",
        "Thy natural magic and dire property,\n",
        "On wholesome life usurp immediately.\n",
        "Pours the poison into the sleeper's ears\n",
        "\n",
        "HAMLET\n",
        "He poisons him i' the garden for's estate. His\n",
        "name's Gonzago: the story is extant, and writ in\n",
        "choice Italian: you shall see anon how the murderer\n",
        "gets the love of Gonzago's wife.\n",
        "OPHELIA\n",
        "The king rises.\n",
        "HAMLET\n",
        "What, frighted with false fire!\n",
        "QUEEN GERTRUDE\n",
        "How fares my lord?\n",
        "LORD POLONIUS\n",
        "Give o'er the play.\n",
        "KING CLAUDIUS\n",
        "Give me some light: away!\n",
        "All\n",
        "Lights, lights, lights!\n",
        "Exeunt all but HAMLET and HORATIO\n",
        "\n",
        "HAMLET\n",
        "Why, let the stricken deer go weep,\n",
        "The hart ungalled play;\n",
        "For some must watch, while some must sleep:\n",
        "So runs the world away.\n",
        "Would not this, sir, and a forest of feathers-- if\n",
        "the rest of my fortunes turn Turk with me--with two\n",
        "Provincial roses on my razed shoes, get me a\n",
        "fellowship in a cry of players, sir?\n",
        "HORATIO\n",
        "Half a share.\n",
        "HAMLET\n",
        "A whole one, I.\n",
        "For thou dost know, O Damon dear,\n",
        "This realm dismantled was\n",
        "Of Jove himself; and now reigns here\n",
        "A very, very--pajock.\n",
        "HORATIO\n",
        "You might have rhymed.\n",
        "HAMLET\n",
        "O good Horatio, I'll take the ghost's word for a\n",
        "thousand pound. Didst perceive?\n",
        "HORATIO\n",
        "Very well, my lord.\n",
        "HAMLET\n",
        "Upon the talk of the poisoning?\n",
        "HORATIO\n",
        "I did very well note him.\n",
        "HAMLET\n",
        "Ah, ha! Come, some music! come, the recorders!\n",
        "For if the king like not the comedy,\n",
        "Why then, belike, he likes it not, perdy.\n",
        "Come, some music!\n",
        "Re-enter ROSENCRANTZ and GUILDENSTERN\n",
        "\n",
        "GUILDENSTERN\n",
        "Good my lord, vouchsafe me a word with you.\n",
        "HAMLET\n",
        "Sir, a whole history.\n",
        "GUILDENSTERN\n",
        "The king, sir,--\n",
        "HAMLET\n",
        "Ay, sir, what of him?\n",
        "GUILDENSTERN\n",
        "Is in his retirement marvellous distempered.\n",
        "HAMLET\n",
        "With drink, sir?\n",
        "GUILDENSTERN\n",
        "No, my lord, rather with choler.\n",
        "HAMLET\n",
        "Your wisdom should show itself more richer to\n",
        "signify this to his doctor; for, for me to put him\n",
        "to his purgation would perhaps plunge him into far\n",
        "more choler.\n",
        "GUILDENSTERN\n",
        "Good my lord, put your discourse into some frame and\n",
        "start not so wildly from my affair.\n",
        "HAMLET\n",
        "I am tame, sir: pronounce.\n",
        "GUILDENSTERN\n",
        "The queen, your mother, in most great affliction of\n",
        "spirit, hath sent me to you.\n",
        "HAMLET\n",
        "You are welcome.\n",
        "GUILDENSTERN\n",
        "Nay, good my lord, this courtesy is not of the right\n",
        "breed. If it shall please you to make me a\n",
        "wholesome answer, I will do your mother's\n",
        "commandment: if not, your pardon and my return\n",
        "shall be the end of my business.\n",
        "HAMLET\n",
        "Sir, I cannot.\n",
        "GUILDENSTERN\n",
        "What, my lord?\n",
        "HAMLET\n",
        "Make you a wholesome answer; my wit's diseased: but,\n",
        "sir, such answer as I can make, you shall command;\n",
        "or, rather, as you say, my mother: therefore no\n",
        "more, but to the matter: my mother, you say,--\n",
        "ROSENCRANTZ\n",
        "Then thus she says; your behavior hath struck her\n",
        "into amazement and admiration.\n",
        "HAMLET\n",
        "O wonderful son, that can so astonish a mother! But\n",
        "is there no sequel at the heels of this mother's\n",
        "admiration? Impart.\n",
        "ROSENCRANTZ\n",
        "She desires to speak with you in her closet, ere you\n",
        "go to bed.\n",
        "HAMLET\n",
        "We shall obey, were she ten times our mother. Have\n",
        "you any further trade with us?\n",
        "ROSENCRANTZ\n",
        "My lord, you once did love me.\n",
        "HAMLET\n",
        "So I do still, by these pickers and stealers.\n",
        "ROSENCRANTZ\n",
        "Good my lord, what is your cause of distemper? you\n",
        "do, surely, bar the door upon your own liberty, if\n",
        "you deny your griefs to your friend.\n",
        "HAMLET\n",
        "Sir, I lack advancement.\n",
        "ROSENCRANTZ\n",
        "How can that be, when you have the voice of the king\n",
        "himself for your succession in Denmark?\n",
        "HAMLET\n",
        "Ay, but sir, 'While the grass grows,'--the proverb\n",
        "is something musty.\n",
        "Re-enter Players with recorders\n",
        "\n",
        "O, the recorders! let me see one. To withdraw with\n",
        "you:--why do you go about to recover the wind of me,\n",
        "as if you would drive me into a toil?\n",
        "GUILDENSTERN\n",
        "O, my lord, if my duty be too bold, my love is too\n",
        "unmannerly.\n",
        "HAMLET\n",
        "I do not well understand that. Will you play upon\n",
        "this pipe?\n",
        "GUILDENSTERN\n",
        "My lord, I cannot.\n",
        "HAMLET\n",
        "I pray you.\n",
        "GUILDENSTERN\n",
        "Believe me, I cannot.\n",
        "HAMLET\n",
        "I do beseech you.\n",
        "GUILDENSTERN\n",
        "I know no touch of it, my lord.\n",
        "HAMLET\n",
        "'Tis as easy as lying: govern these ventages with\n",
        "your lingers and thumb, give it breath with your\n",
        "mouth, and it will discourse most eloquent music.\n",
        "Look you, these are the stops.\n",
        "GUILDENSTERN\n",
        "But these cannot I command to any utterance of\n",
        "harmony; I have not the skill.\n",
        "HAMLET\n",
        "Why, look you now, how unworthy a thing you make of\n",
        "me! You would play upon me; you would seem to know\n",
        "my stops; you would pluck out the heart of my\n",
        "mystery; you would sound me from my lowest note to\n",
        "the top of my compass: and there is much music,\n",
        "excellent voice, in this little organ; yet cannot\n",
        "you make it speak. 'Sblood, do you think I am\n",
        "easier to be played on than a pipe? Call me what\n",
        "instrument you will, though you can fret me, yet you\n",
        "cannot play upon me.\n",
        "Enter POLONIUS\n",
        "\n",
        "God bless you, sir!\n",
        "LORD POLONIUS\n",
        "My lord, the queen would speak with you, and\n",
        "presently.\n",
        "HAMLET\n",
        "Do you see yonder cloud that's almost in shape of a camel?\n",
        "LORD POLONIUS\n",
        "By the mass, and 'tis like a camel, indeed.\n",
        "HAMLET\n",
        "Methinks it is like a weasel.\n",
        "LORD POLONIUS\n",
        "It is backed like a weasel.\n",
        "HAMLET\n",
        "Or like a whale?\n",
        "LORD POLONIUS\n",
        "Very like a whale.\n",
        "HAMLET\n",
        "Then I will come to my mother by and by. They fool\n",
        "me to the top of my bent. I will come by and by.\n",
        "LORD POLONIUS\n",
        "I will say so.\n",
        "HAMLET\n",
        "By and by is easily said.\n",
        "Exit POLONIUS\n",
        "\n",
        "Leave me, friends.\n",
        "Exeunt all but HAMLET\n",
        "\n",
        "Tis now the very witching time of night,\n",
        "When churchyards yawn and hell itself breathes out\n",
        "Contagion to this world: now could I drink hot blood,\n",
        "And do such bitter business as the day\n",
        "Would quake to look on. Soft! now to my mother.\n",
        "O heart, lose not thy nature; let not ever\n",
        "The soul of Nero enter this firm bosom:\n",
        "Let me be cruel, not unnatural:\n",
        "I will speak daggers to her, but use none;\n",
        "My tongue and soul in this be hypocrites;\n",
        "How in my words soever she be shent,\n",
        "To give them seals never, my soul, consent!\n",
        "Exit\n",
        "\n",
        "SCENE III. A room in the castle.\n",
        "\n",
        "Enter KING CLAUDIUS, ROSENCRANTZ, and GUILDENSTERN\n",
        "KING CLAUDIUS\n",
        "I like him not, nor stands it safe with us\n",
        "To let his madness range. Therefore prepare you;\n",
        "I your commission will forthwith dispatch,\n",
        "And he to England shall along with you:\n",
        "The terms of our estate may not endure\n",
        "Hazard so dangerous as doth hourly grow\n",
        "Out of his lunacies.\n",
        "GUILDENSTERN\n",
        "We will ourselves provide:\n",
        "Most holy and religious fear it is\n",
        "To keep those many many bodies safe\n",
        "That live and feed upon your majesty.\n",
        "ROSENCRANTZ\n",
        "The single and peculiar life is bound,\n",
        "With all the strength and armour of the mind,\n",
        "To keep itself from noyance; but much more\n",
        "That spirit upon whose weal depend and rest\n",
        "The lives of many. The cease of majesty\n",
        "Dies not alone; but, like a gulf, doth draw\n",
        "What's near it with it: it is a massy wheel,\n",
        "Fix'd on the summit of the highest mount,\n",
        "To whose huge spokes ten thousand lesser things\n",
        "Are mortised and adjoin'd; which, when it falls,\n",
        "Each small annexment, petty consequence,\n",
        "Attends the boisterous ruin. Never alone\n",
        "Did the king sigh, but with a general groan.\n",
        "KING CLAUDIUS\n",
        "Arm you, I pray you, to this speedy voyage;\n",
        "For we will fetters put upon this fear,\n",
        "Which now goes too free-footed.\n",
        "ROSENCRANTZ GUILDENSTERN\n",
        "We will haste us.\n",
        "Exeunt ROSENCRANTZ and GUILDENSTERN\n",
        "\n",
        "Enter POLONIUS\n",
        "\n",
        "LORD POLONIUS\n",
        "My lord, he's going to his mother's closet:\n",
        "Behind the arras I'll convey myself,\n",
        "To hear the process; and warrant she'll tax him home:\n",
        "And, as you said, and wisely was it said,\n",
        "'Tis meet that some more audience than a mother,\n",
        "Since nature makes them partial, should o'erhear\n",
        "The speech, of vantage. Fare you well, my liege:\n",
        "I'll call upon you ere you go to bed,\n",
        "And tell you what I know.\n",
        "KING CLAUDIUS\n",
        "Thanks, dear my lord.\n",
        "Exit POLONIUS\n",
        "\n",
        "O, my offence is rank it smells to heaven;\n",
        "It hath the primal eldest curse upon't,\n",
        "A brother's murder. Pray can I not,\n",
        "Though inclination be as sharp as will:\n",
        "My stronger guilt defeats my strong intent;\n",
        "And, like a man to double business bound,\n",
        "I stand in pause where I shall first begin,\n",
        "And both neglect. What if this cursed hand\n",
        "Were thicker than itself with brother's blood,\n",
        "Is there not rain enough in the sweet heavens\n",
        "To wash it white as snow? Whereto serves mercy\n",
        "But to confront the visage of offence?\n",
        "And what's in prayer but this two-fold force,\n",
        "To be forestalled ere we come to fall,\n",
        "Or pardon'd being down? Then I'll look up;\n",
        "My fault is past. But, O, what form of prayer\n",
        "Can serve my turn? 'Forgive me my foul murder'?\n",
        "That cannot be; since I am still possess'd\n",
        "Of those effects for which I did the murder,\n",
        "My crown, mine own ambition and my queen.\n",
        "May one be pardon'd and retain the offence?\n",
        "In the corrupted currents of this world\n",
        "Offence's gilded hand may shove by justice,\n",
        "And oft 'tis seen the wicked prize itself\n",
        "Buys out the law: but 'tis not so above;\n",
        "There is no shuffling, there the action lies\n",
        "In his true nature; and we ourselves compell'd,\n",
        "Even to the teeth and forehead of our faults,\n",
        "To give in evidence. What then? what rests?\n",
        "Try what repentance can: what can it not?\n",
        "Yet what can it when one can not repent?\n",
        "O wretched state! O bosom black as death!\n",
        "O limed soul, that, struggling to be free,\n",
        "Art more engaged! Help, angels! Make assay!\n",
        "Bow, stubborn knees; and, heart with strings of steel,\n",
        "Be soft as sinews of the newborn babe!\n",
        "All may be well.\n",
        "Retires and kneels\n",
        "\n",
        "Enter HAMLET\n",
        "\n",
        "HAMLET\n",
        "Now might I do it pat, now he is praying;\n",
        "And now I'll do't. And so he goes to heaven;\n",
        "And so am I revenged. That would be scann'd:\n",
        "A villain kills my father; and for that,\n",
        "I, his sole son, do this same villain send\n",
        "To heaven.\n",
        "O, this is hire and salary, not revenge.\n",
        "He took my father grossly, full of bread;\n",
        "With all his crimes broad blown, as flush as May;\n",
        "And how his audit stands who knows save heaven?\n",
        "But in our circumstance and course of thought,\n",
        "'Tis heavy with him: and am I then revenged,\n",
        "To take him in the purging of his soul,\n",
        "When he is fit and season'd for his passage?\n",
        "No!\n",
        "Up, sword; and know thou a more horrid hent:\n",
        "When he is drunk asleep, or in his rage,\n",
        "Or in the incestuous pleasure of his bed;\n",
        "At gaming, swearing, or about some act\n",
        "That has no relish of salvation in't;\n",
        "Then trip him, that his heels may kick at heaven,\n",
        "And that his soul may be as damn'd and black\n",
        "As hell, whereto it goes. My mother stays:\n",
        "This physic but prolongs thy sickly days.\n",
        "Exit\n",
        "\n",
        "KING CLAUDIUS\n",
        "[Rising] My words fly up, my thoughts remain below:\n",
        "Words without thoughts never to heaven go.\n",
        "Exit\n",
        "\n",
        "SCENE IV. The Queen's closet.\n",
        "\n",
        "Enter QUEEN GERTRUDE and POLONIUS\n",
        "LORD POLONIUS\n",
        "He will come straight. Look you lay home to him:\n",
        "Tell him his pranks have been too broad to bear with,\n",
        "And that your grace hath screen'd and stood between\n",
        "Much heat and him. I'll sconce me even here.\n",
        "Pray you, be round with him.\n",
        "HAMLET\n",
        "[Within] Mother, mother, mother!\n",
        "QUEEN GERTRUDE\n",
        "I'll warrant you,\n",
        "Fear me not: withdraw, I hear him coming.\n",
        "POLONIUS hides behind the arras\n",
        "\n",
        "Enter HAMLET\n",
        "\n",
        "HAMLET\n",
        "Now, mother, what's the matter?\n",
        "QUEEN GERTRUDE\n",
        "Hamlet, thou hast thy father much offended.\n",
        "HAMLET\n",
        "Mother, you have my father much offended.\n",
        "QUEEN GERTRUDE\n",
        "Come, come, you answer with an idle tongue.\n",
        "HAMLET\n",
        "Go, go, you question with a wicked tongue.\n",
        "QUEEN GERTRUDE\n",
        "Why, how now, Hamlet!\n",
        "HAMLET\n",
        "What's the matter now?\n",
        "QUEEN GERTRUDE\n",
        "Have you forgot me?\n",
        "HAMLET\n",
        "No, by the rood, not so:\n",
        "You are the queen, your husband's brother's wife;\n",
        "And--would it were not so!--you are my mother.\n",
        "QUEEN GERTRUDE\n",
        "Nay, then, I'll set those to you that can speak.\n",
        "HAMLET\n",
        "Come, come, and sit you down; you shall not budge;\n",
        "You go not till I set you up a glass\n",
        "Where you may see the inmost part of you.\n",
        "QUEEN GERTRUDE\n",
        "What wilt thou do? thou wilt not murder me?\n",
        "Help, help, ho!\n",
        "LORD POLONIUS\n",
        "[Behind] What, ho! help, help, help!\n",
        "HAMLET\n",
        "[Drawing] How now! a rat? Dead, for a ducat, dead!\n",
        "Makes a pass through the arras\n",
        "\n",
        "LORD POLONIUS\n",
        "[Behind] O, I am slain!\n",
        "Falls and dies\n",
        "\n",
        "QUEEN GERTRUDE\n",
        "O me, what hast thou done?\n",
        "HAMLET\n",
        "Nay, I know not:\n",
        "Is it the king?\n",
        "QUEEN GERTRUDE\n",
        "O, what a rash and bloody deed is this!\n",
        "HAMLET\n",
        "A bloody deed! almost as bad, good mother,\n",
        "As kill a king, and marry with his brother.\n",
        "QUEEN GERTRUDE\n",
        "As kill a king!\n",
        "HAMLET\n",
        "Ay, lady, 'twas my word.\n",
        "Lifts up the array and discovers POLONIUS\n",
        "\n",
        "Thou wretched, rash, intruding fool, farewell!\n",
        "I took thee for thy better: take thy fortune;\n",
        "Thou find'st to be too busy is some danger.\n",
        "Leave wringing of your hands: peace! sit you down,\n",
        "And let me wring your heart; for so I shall,\n",
        "If it be made of penetrable stuff,\n",
        "If damned custom have not brass'd it so\n",
        "That it is proof and bulwark against sense.\n",
        "QUEEN GERTRUDE\n",
        "What have I done, that thou darest wag thy tongue\n",
        "In noise so rude against me?\n",
        "HAMLET\n",
        "Such an act\n",
        "That blurs the grace and blush of modesty,\n",
        "Calls virtue hypocrite, takes off the rose\n",
        "From the fair forehead of an innocent love\n",
        "And sets a blister there, makes marriage-vows\n",
        "As false as dicers' oaths: O, such a deed\n",
        "As from the body of contraction plucks\n",
        "The very soul, and sweet religion makes\n",
        "A rhapsody of words: heaven's face doth glow:\n",
        "Yea, this solidity and compound mass,\n",
        "With tristful visage, as against the doom,\n",
        "Is thought-sick at the act.\n",
        "QUEEN GERTRUDE\n",
        "Ay me, what act,\n",
        "That roars so loud, and thunders in the index?\n",
        "HAMLET\n",
        "Look here, upon this picture, and on this,\n",
        "The counterfeit presentment of two brothers.\n",
        "See, what a grace was seated on this brow;\n",
        "Hyperion's curls; the front of Jove himself;\n",
        "An eye like Mars, to threaten and command;\n",
        "A station like the herald Mercury\n",
        "New-lighted on a heaven-kissing hill;\n",
        "A combination and a form indeed,\n",
        "Where every god did seem to set his seal,\n",
        "To give the world assurance of a man:\n",
        "This was your husband. Look you now, what follows:\n",
        "Here is your husband; like a mildew'd ear,\n",
        "Blasting his wholesome brother. Have you eyes?\n",
        "Could you on this fair mountain leave to feed,\n",
        "And batten on this moor? Ha! have you eyes?\n",
        "You cannot call it love; for at your age\n",
        "The hey-day in the blood is tame, it's humble,\n",
        "And waits upon the judgment: and what judgment\n",
        "Would step from this to this? Sense, sure, you have,\n",
        "Else could you not have motion; but sure, that sense\n",
        "Is apoplex'd; for madness would not err,\n",
        "Nor sense to ecstasy was ne'er so thrall'd\n",
        "But it reserved some quantity of choice,\n",
        "To serve in such a difference. What devil was't\n",
        "That thus hath cozen'd you at hoodman-blind?\n",
        "Eyes without feeling, feeling without sight,\n",
        "Ears without hands or eyes, smelling sans all,\n",
        "Or but a sickly part of one true sense\n",
        "Could not so mope.\n",
        "O shame! where is thy blush? Rebellious hell,\n",
        "If thou canst mutine in a matron's bones,\n",
        "To flaming youth let virtue be as wax,\n",
        "And melt in her own fire: proclaim no shame\n",
        "When the compulsive ardour gives the charge,\n",
        "Since frost itself as actively doth burn\n",
        "And reason panders will.\n",
        "QUEEN GERTRUDE\n",
        "O Hamlet, speak no more:\n",
        "Thou turn'st mine eyes into my very soul;\n",
        "And there I see such black and grained spots\n",
        "As will not leave their tinct.\n",
        "HAMLET\n",
        "Nay, but to live\n",
        "In the rank sweat of an enseamed bed,\n",
        "Stew'd in corruption, honeying and making love\n",
        "Over the nasty sty,--\n",
        "QUEEN GERTRUDE\n",
        "O, speak to me no more;\n",
        "These words, like daggers, enter in mine ears;\n",
        "No more, sweet Hamlet!\n",
        "HAMLET\n",
        "A murderer and a villain;\n",
        "A slave that is not twentieth part the tithe\n",
        "Of your precedent lord; a vice of kings;\n",
        "A cutpurse of the empire and the rule,\n",
        "That from a shelf the precious diadem stole,\n",
        "And put it in his pocket!\n",
        "QUEEN GERTRUDE\n",
        "No more!\n",
        "HAMLET\n",
        "A king of shreds and patches,--\n",
        "Enter Ghost\n",
        "\n",
        "Save me, and hover o'er me with your wings,\n",
        "You heavenly guards! What would your gracious figure?\n",
        "QUEEN GERTRUDE\n",
        "Alas, he's mad!\n",
        "HAMLET\n",
        "Do you not come your tardy son to chide,\n",
        "That, lapsed in time and passion, lets go by\n",
        "The important acting of your dread command? O, say!\n",
        "Ghost\n",
        "Do not forget: this visitation\n",
        "Is but to whet thy almost blunted purpose.\n",
        "But, look, amazement on thy mother sits:\n",
        "O, step between her and her fighting soul:\n",
        "Conceit in weakest bodies strongest works:\n",
        "Speak to her, Hamlet.\n",
        "HAMLET\n",
        "How is it with you, lady?\n",
        "QUEEN GERTRUDE\n",
        "Alas, how is't with you,\n",
        "That you do bend your eye on vacancy\n",
        "And with the incorporal air do hold discourse?\n",
        "Forth at your eyes your spirits wildly peep;\n",
        "And, as the sleeping soldiers in the alarm,\n",
        "Your bedded hair, like life in excrements,\n",
        "Starts up, and stands on end. O gentle son,\n",
        "Upon the heat and flame of thy distemper\n",
        "Sprinkle cool patience. Whereon do you look?\n",
        "HAMLET\n",
        "On him, on him! Look you, how pale he glares!\n",
        "His form and cause conjoin'd, preaching to stones,\n",
        "Would make them capable. Do not look upon me;\n",
        "Lest with this piteous action you convert\n",
        "My stern effects: then what I have to do\n",
        "Will want true colour; tears perchance for blood.\n",
        "QUEEN GERTRUDE\n",
        "To whom do you speak this?\n",
        "HAMLET\n",
        "Do you see nothing there?\n",
        "QUEEN GERTRUDE\n",
        "Nothing at all; yet all that is I see.\n",
        "HAMLET\n",
        "Nor did you nothing hear?\n",
        "QUEEN GERTRUDE\n",
        "No, nothing but ourselves.\n",
        "HAMLET\n",
        "Why, look you there! look, how it steals away!\n",
        "My father, in his habit as he lived!\n",
        "Look, where he goes, even now, out at the portal!\n",
        "Exit Ghost\n",
        "\n",
        "QUEEN GERTRUDE\n",
        "This the very coinage of your brain:\n",
        "This bodiless creation ecstasy\n",
        "Is very cunning in.\n",
        "HAMLET\n",
        "Ecstasy!\n",
        "My pulse, as yours, doth temperately keep time,\n",
        "And makes as healthful music: it is not madness\n",
        "That I have utter'd: bring me to the test,\n",
        "And I the matter will re-word; which madness\n",
        "Would gambol from. Mother, for love of grace,\n",
        "Lay not that mattering unction to your soul,\n",
        "That not your trespass, but my madness speaks:\n",
        "It will but skin and film the ulcerous place,\n",
        "Whilst rank corruption, mining all within,\n",
        "Infects unseen. Confess yourself to heaven;\n",
        "Repent what's past; avoid what is to come;\n",
        "And do not spread the compost on the weeds,\n",
        "To make them ranker. Forgive me this my virtue;\n",
        "For in the fatness of these pursy times\n",
        "Virtue itself of vice must pardon beg,\n",
        "Yea, curb and woo for leave to do him good.\n",
        "QUEEN GERTRUDE\n",
        "O Hamlet, thou hast cleft my heart in twain.\n",
        "HAMLET\n",
        "O, throw away the worser part of it,\n",
        "And live the purer with the other half.\n",
        "Good night: but go not to mine uncle's bed;\n",
        "Assume a virtue, if you have it not.\n",
        "That monster, custom, who all sense doth eat,\n",
        "Of habits devil, is angel yet in this,\n",
        "That to the use of actions fair and good\n",
        "He likewise gives a frock or livery,\n",
        "That aptly is put on. Refrain to-night,\n",
        "And that shall lend a kind of easiness\n",
        "To the next abstinence: the next more easy;\n",
        "For use almost can change the stamp of nature,\n",
        "And either [ ] the devil, or throw him out\n",
        "With wondrous potency. Once more, good night:\n",
        "And when you are desirous to be bless'd,\n",
        "I'll blessing beg of you. For this same lord,\n",
        "Pointing to POLONIUS\n",
        "\n",
        "I do repent: but heaven hath pleased it so,\n",
        "To punish me with this and this with me,\n",
        "That I must be their scourge and minister.\n",
        "I will bestow him, and will answer well\n",
        "The death I gave him. So, again, good night.\n",
        "I must be cruel, only to be kind:\n",
        "Thus bad begins and worse remains behind.\n",
        "One word more, good lady.\n",
        "QUEEN GERTRUDE\n",
        "What shall I do?\n",
        "HAMLET\n",
        "Not this, by no means, that I bid you do:\n",
        "Let the bloat king tempt you again to bed;\n",
        "Pinch wanton on your cheek; call you his mouse;\n",
        "And let him, for a pair of reechy kisses,\n",
        "Or paddling in your neck with his damn'd fingers,\n",
        "Make you to ravel all this matter out,\n",
        "That I essentially am not in madness,\n",
        "But mad in craft. 'Twere good you let him know;\n",
        "For who, that's but a queen, fair, sober, wise,\n",
        "Would from a paddock, from a bat, a gib,\n",
        "Such dear concernings hide? who would do so?\n",
        "No, in despite of sense and secrecy,\n",
        "Unpeg the basket on the house's top.\n",
        "Let the birds fly, and, like the famous ape,\n",
        "To try conclusions, in the basket creep,\n",
        "And break your own neck down.\n",
        "QUEEN GERTRUDE\n",
        "Be thou assured, if words be made of breath,\n",
        "And breath of life, I have no life to breathe\n",
        "What thou hast said to me.\n",
        "HAMLET\n",
        "I must to England; you know that?\n",
        "QUEEN GERTRUDE\n",
        "Alack,\n",
        "I had forgot: 'tis so concluded on.\n",
        "HAMLET\n",
        "There's letters seal'd: and my two schoolfellows,\n",
        "Whom I will trust as I will adders fang'd,\n",
        "They bear the mandate; they must sweep my way,\n",
        "And marshal me to knavery. Let it work;\n",
        "For 'tis the sport to have the engineer\n",
        "Hoist with his own petard: and 't shall go hard\n",
        "But I will delve one yard below their mines,\n",
        "And blow them at the moon: O, 'tis most sweet,\n",
        "When in one line two crafts directly meet.\n",
        "This man shall set me packing:\n",
        "I'll lug the guts into the neighbour room.\n",
        "Mother, good night. Indeed this counsellor\n",
        "Is now most still, most secret and most grave,\n",
        "Who was in life a foolish prating knave.\n",
        "Come, sir, to draw toward an end with you.\n",
        "Good night, mother.\n",
        "Exeunt severally; HAMLET dragging in POLONIUS\n",
        "\n",
        "ACT IV\n",
        "\n",
        "SCENE I. A room in the castle.\n",
        "\n",
        "Enter KING CLAUDIUS, QUEEN GERTRUDE, ROSENCRANTZ, and GUILDENSTERN\n",
        "KING CLAUDIUS\n",
        "There's matter in these sighs, these profound heaves:\n",
        "You must translate: 'tis fit we understand them.\n",
        "Where is your son?\n",
        "QUEEN GERTRUDE\n",
        "Bestow this place on us a little while.\n",
        "Exeunt ROSENCRANTZ and GUILDENSTERN\n",
        "\n",
        "Ah, my good lord, what have I seen to-night!\n",
        "KING CLAUDIUS\n",
        "What, Gertrude? How does Hamlet?\n",
        "QUEEN GERTRUDE\n",
        "Mad as the sea and wind, when both contend\n",
        "Which is the mightier: in his lawless fit,\n",
        "Behind the arras hearing something stir,\n",
        "Whips out his rapier, cries, 'A rat, a rat!'\n",
        "And, in this brainish apprehension, kills\n",
        "The unseen good old man.\n",
        "KING CLAUDIUS\n",
        "O heavy deed!\n",
        "It had been so with us, had we been there:\n",
        "His liberty is full of threats to all;\n",
        "To you yourself, to us, to every one.\n",
        "Alas, how shall this bloody deed be answer'd?\n",
        "It will be laid to us, whose providence\n",
        "Should have kept short, restrain'd and out of haunt,\n",
        "This mad young man: but so much was our love,\n",
        "We would not understand what was most fit;\n",
        "But, like the owner of a foul disease,\n",
        "To keep it from divulging, let it feed\n",
        "Even on the pith of Life. Where is he gone?\n",
        "QUEEN GERTRUDE\n",
        "To draw apart the body he hath kill'd:\n",
        "O'er whom his very madness, like some ore\n",
        "Among a mineral of metals base,\n",
        "Shows itself pure; he weeps for what is done.\n",
        "KING CLAUDIUS\n",
        "O Gertrude, come away!\n",
        "The sun no sooner shall the mountains touch,\n",
        "But we will ship him hence: and this vile deed\n",
        "We must, with all our majesty and skill,\n",
        "Both countenance and excuse. Ho, Guildenstern!\n",
        "Re-enter ROSENCRANTZ and GUILDENSTERN\n",
        "\n",
        "Friends both, go join you with some further aid:\n",
        "Hamlet in madness hath Polonius slain,\n",
        "And from his mother's closet hath he dragg'd him:\n",
        "Go seek him out; speak fair, and bring the body\n",
        "Into the chapel. I pray you, haste in this.\n",
        "Exeunt ROSENCRANTZ and GUILDENSTERN\n",
        "\n",
        "Come, Gertrude, we'll call up our wisest friends;\n",
        "And let them know, both what we mean to do,\n",
        "And what's untimely done. O, come away!\n",
        "My soul is full of discord and dismay.\n",
        "Exeunt\n",
        "\n",
        "SCENE II. Another room in the castle.\n",
        "\n",
        "Enter HAMLET\n",
        "HAMLET\n",
        "Safely stowed.\n",
        "ROSENCRANTZ: GUILDENSTERN:\n",
        "[Within] Hamlet! Lord Hamlet!\n",
        "HAMLET\n",
        "What noise? who calls on Hamlet?\n",
        "O, here they come.\n",
        "Enter ROSENCRANTZ and GUILDENSTERN\n",
        "\n",
        "ROSENCRANTZ\n",
        "What have you done, my lord, with the dead body?\n",
        "HAMLET\n",
        "Compounded it with dust, whereto 'tis kin.\n",
        "ROSENCRANTZ\n",
        "Tell us where 'tis, that we may take it thence\n",
        "And bear it to the chapel.\n",
        "HAMLET\n",
        "Do not believe it.\n",
        "ROSENCRANTZ\n",
        "Believe what?\n",
        "HAMLET\n",
        "That I can keep your counsel and not mine own.\n",
        "Besides, to be demanded of a sponge! what\n",
        "replication should be made by the son of a king?\n",
        "ROSENCRANTZ\n",
        "Take you me for a sponge, my lord?\n",
        "HAMLET\n",
        "Ay, sir, that soaks up the king's countenance, his\n",
        "rewards, his authorities. But such officers do the\n",
        "king best service in the end: he keeps them, like\n",
        "an ape, in the corner of his jaw; first mouthed, to\n",
        "be last swallowed: when he needs what you have\n",
        "gleaned, it is but squeezing you, and, sponge, you\n",
        "shall be dry again.\n",
        "ROSENCRANTZ\n",
        "I understand you not, my lord.\n",
        "HAMLET\n",
        "I am glad of it: a knavish speech sleeps in a\n",
        "foolish ear.\n",
        "ROSENCRANTZ\n",
        "My lord, you must tell us where the body is, and go\n",
        "with us to the king.\n",
        "HAMLET\n",
        "The body is with the king, but the king is not with\n",
        "the body. The king is a thing--\n",
        "GUILDENSTERN\n",
        "A thing, my lord!\n",
        "HAMLET\n",
        "Of nothing: bring me to him. Hide fox, and all after.\n",
        "Exeunt\n",
        "\n",
        "SCENE III. Another room in the castle.\n",
        "\n",
        "Enter KING CLAUDIUS, attended\n",
        "KING CLAUDIUS\n",
        "I have sent to seek him, and to find the body.\n",
        "How dangerous is it that this man goes loose!\n",
        "Yet must not we put the strong law on him:\n",
        "He's loved of the distracted multitude,\n",
        "Who like not in their judgment, but their eyes;\n",
        "And where tis so, the offender's scourge is weigh'd,\n",
        "But never the offence. To bear all smooth and even,\n",
        "This sudden sending him away must seem\n",
        "Deliberate pause: diseases desperate grown\n",
        "By desperate appliance are relieved,\n",
        "Or not at all.\n",
        "Enter ROSENCRANTZ\n",
        "\n",
        "How now! what hath befall'n?\n",
        "ROSENCRANTZ\n",
        "Where the dead body is bestow'd, my lord,\n",
        "We cannot get from him.\n",
        "KING CLAUDIUS\n",
        "But where is he?\n",
        "ROSENCRANTZ\n",
        "Without, my lord; guarded, to know your pleasure.\n",
        "KING CLAUDIUS\n",
        "Bring him before us.\n",
        "ROSENCRANTZ\n",
        "Ho, Guildenstern! bring in my lord.\n",
        "Enter HAMLET and GUILDENSTERN\n",
        "\n",
        "KING CLAUDIUS\n",
        "Now, Hamlet, where's Polonius?\n",
        "HAMLET\n",
        "At supper.\n",
        "KING CLAUDIUS\n",
        "At supper! where?\n",
        "HAMLET\n",
        "Not where he eats, but where he is eaten: a certain\n",
        "convocation of politic worms are e'en at him. Your\n",
        "worm is your only emperor for diet: we fat all\n",
        "creatures else to fat us, and we fat ourselves for\n",
        "maggots: your fat king and your lean beggar is but\n",
        "variable service, two dishes, but to one table:\n",
        "that's the end.\n",
        "KING CLAUDIUS\n",
        "Alas, alas!\n",
        "HAMLET\n",
        "A man may fish with the worm that hath eat of a\n",
        "king, and cat of the fish that hath fed of that worm.\n",
        "KING CLAUDIUS\n",
        "What dost you mean by this?\n",
        "HAMLET\n",
        "Nothing but to show you how a king may go a\n",
        "progress through the guts of a beggar.\n",
        "KING CLAUDIUS\n",
        "Where is Polonius?\n",
        "HAMLET\n",
        "In heaven; send hither to see: if your messenger\n",
        "find him not there, seek him i' the other place\n",
        "yourself. But indeed, if you find him not within\n",
        "this month, you shall nose him as you go up the\n",
        "stairs into the lobby.\n",
        "KING CLAUDIUS\n",
        "Go seek him there.\n",
        "To some Attendants\n",
        "\n",
        "HAMLET\n",
        "He will stay till ye come.\n",
        "Exeunt Attendants\n",
        "\n",
        "KING CLAUDIUS\n",
        "Hamlet, this deed, for thine especial safety,--\n",
        "Which we do tender, as we dearly grieve\n",
        "For that which thou hast done,--must send thee hence\n",
        "With fiery quickness: therefore prepare thyself;\n",
        "The bark is ready, and the wind at help,\n",
        "The associates tend, and every thing is bent\n",
        "For England.\n",
        "HAMLET\n",
        "For England!\n",
        "KING CLAUDIUS\n",
        "Ay, Hamlet.\n",
        "HAMLET\n",
        "Good.\n",
        "KING CLAUDIUS\n",
        "So is it, if thou knew'st our purposes.\n",
        "HAMLET\n",
        "I see a cherub that sees them. But, come; for\n",
        "England! Farewell, dear mother.\n",
        "KING CLAUDIUS\n",
        "Thy loving father, Hamlet.\n",
        "HAMLET\n",
        "My mother: father and mother is man and wife; man\n",
        "and wife is one flesh; and so, my mother. Come, for England!\n",
        "Exit\n",
        "\n",
        "KING CLAUDIUS\n",
        "Follow him at foot; tempt him with speed aboard;\n",
        "Delay it not; I'll have him hence to-night:\n",
        "Away! for every thing is seal'd and done\n",
        "That else leans on the affair: pray you, make haste.\n",
        "Exeunt ROSENCRANTZ and GUILDENSTERN\n",
        "\n",
        "And, England, if my love thou hold'st at aught--\n",
        "As my great power thereof may give thee sense,\n",
        "Since yet thy cicatrice looks raw and red\n",
        "After the Danish sword, and thy free awe\n",
        "Pays homage to us--thou mayst not coldly set\n",
        "Our sovereign process; which imports at full,\n",
        "By letters congruing to that effect,\n",
        "The present death of Hamlet. Do it, England;\n",
        "For like the hectic in my blood he rages,\n",
        "And thou must cure me: till I know 'tis done,\n",
        "Howe'er my haps, my joys were ne'er begun.\n",
        "Exit\n",
        "\n",
        "SCENE IV. A plain in Denmark.\n",
        "\n",
        "Enter FORTINBRAS, a Captain, and Soldiers, marching\n",
        "PRINCE FORTINBRAS\n",
        "Go, captain, from me greet the Danish king;\n",
        "Tell him that, by his licence, Fortinbras\n",
        "Craves the conveyance of a promised march\n",
        "Over his kingdom. You know the rendezvous.\n",
        "If that his majesty would aught with us,\n",
        "We shall express our duty in his eye;\n",
        "And let him know so.\n",
        "Captain\n",
        "I will do't, my lord.\n",
        "PRINCE FORTINBRAS\n",
        "Go softly on.\n",
        "Exeunt FORTINBRAS and Soldiers\n",
        "\n",
        "Enter HAMLET, ROSENCRANTZ, GUILDENSTERN, and others\n",
        "\n",
        "HAMLET\n",
        "Good sir, whose powers are these?\n",
        "Captain\n",
        "They are of Norway, sir.\n",
        "HAMLET\n",
        "How purposed, sir, I pray you?\n",
        "Captain\n",
        "Against some part of Poland.\n",
        "HAMLET\n",
        "Who commands them, sir?\n",
        "Captain\n",
        "The nephews to old Norway, Fortinbras.\n",
        "HAMLET\n",
        "Goes it against the main of Poland, sir,\n",
        "Or for some frontier?\n",
        "Captain\n",
        "Truly to speak, and with no addition,\n",
        "We go to gain a little patch of ground\n",
        "That hath in it no profit but the name.\n",
        "To pay five ducats, five, I would not farm it;\n",
        "Nor will it yield to Norway or the Pole\n",
        "A ranker rate, should it be sold in fee.\n",
        "HAMLET\n",
        "Why, then the Polack never will defend it.\n",
        "Captain\n",
        "Yes, it is already garrison'd.\n",
        "HAMLET\n",
        "Two thousand souls and twenty thousand ducats\n",
        "Will not debate the question of this straw:\n",
        "This is the imposthume of much wealth and peace,\n",
        "That inward breaks, and shows no cause without\n",
        "Why the man dies. I humbly thank you, sir.\n",
        "Captain\n",
        "God be wi' you, sir.\n",
        "Exit\n",
        "\n",
        "ROSENCRANTZ\n",
        "Wilt please you go, my lord?\n",
        "HAMLET\n",
        "I'll be with you straight go a little before.\n",
        "Exeunt all except HAMLET\n",
        "\n",
        "How all occasions do inform against me,\n",
        "And spur my dull revenge! What is a man,\n",
        "If his chief good and market of his time\n",
        "Be but to sleep and feed? a beast, no more.\n",
        "Sure, he that made us with such large discourse,\n",
        "Looking before and after, gave us not\n",
        "That capability and god-like reason\n",
        "To fust in us unused. Now, whether it be\n",
        "Bestial oblivion, or some craven scruple\n",
        "Of thinking too precisely on the event,\n",
        "A thought which, quarter'd, hath but one part wisdom\n",
        "And ever three parts coward, I do not know\n",
        "Why yet I live to say 'This thing's to do;'\n",
        "Sith I have cause and will and strength and means\n",
        "To do't. Examples gross as earth exhort me:\n",
        "Witness this army of such mass and charge\n",
        "Led by a delicate and tender prince,\n",
        "Whose spirit with divine ambition puff'd\n",
        "Makes mouths at the invisible event,\n",
        "Exposing what is mortal and unsure\n",
        "To all that fortune, death and danger dare,\n",
        "Even for an egg-shell. Rightly to be great\n",
        "Is not to stir without great argument,\n",
        "But greatly to find quarrel in a straw\n",
        "When honour's at the stake. How stand I then,\n",
        "That have a father kill'd, a mother stain'd,\n",
        "Excitements of my reason and my blood,\n",
        "And let all sleep? while, to my shame, I see\n",
        "The imminent death of twenty thousand men,\n",
        "That, for a fantasy and trick of fame,\n",
        "Go to their graves like beds, fight for a plot\n",
        "Whereon the numbers cannot try the cause,\n",
        "Which is not tomb enough and continent\n",
        "To hide the slain? O, from this time forth,\n",
        "My thoughts be bloody, or be nothing worth!\n",
        "Exit\n",
        "\n",
        "SCENE V. Elsinore. A room in the castle.\n",
        "\n",
        "Enter QUEEN GERTRUDE, HORATIO, and a Gentleman\n",
        "QUEEN GERTRUDE\n",
        "I will not speak with her.\n",
        "Gentleman\n",
        "She is importunate, indeed distract:\n",
        "Her mood will needs be pitied.\n",
        "QUEEN GERTRUDE\n",
        "What would she have?\n",
        "Gentleman\n",
        "She speaks much of her father; says she hears\n",
        "There's tricks i' the world; and hems, and beats her heart;\n",
        "Spurns enviously at straws; speaks things in doubt,\n",
        "That carry but half sense: her speech is nothing,\n",
        "Yet the unshaped use of it doth move\n",
        "The hearers to collection; they aim at it,\n",
        "And botch the words up fit to their own thoughts;\n",
        "Which, as her winks, and nods, and gestures\n",
        "yield them,\n",
        "Indeed would make one think there might be thought,\n",
        "Though nothing sure, yet much unhappily.\n",
        "HORATIO\n",
        "'Twere good she were spoken with; for she may strew\n",
        "Dangerous conjectures in ill-breeding minds.\n",
        "QUEEN GERTRUDE\n",
        "Let her come in.\n",
        "Exit HORATIO\n",
        "\n",
        "To my sick soul, as sin's true nature is,\n",
        "Each toy seems prologue to some great amiss:\n",
        "So full of artless jealousy is guilt,\n",
        "It spills itself in fearing to be spilt.\n",
        "Re-enter HORATIO, with OPHELIA\n",
        "\n",
        "OPHELIA\n",
        "Where is the beauteous majesty of Denmark?\n",
        "QUEEN GERTRUDE\n",
        "How now, Ophelia!\n",
        "OPHELIA\n",
        "[Sings]\n",
        "How should I your true love know\n",
        "From another one?\n",
        "By his cockle hat and staff,\n",
        "And his sandal shoon.\n",
        "QUEEN GERTRUDE\n",
        "Alas, sweet lady, what imports this song?\n",
        "OPHELIA\n",
        "Say you? nay, pray you, mark.\n",
        "Sings\n",
        "\n",
        "He is dead and gone, lady,\n",
        "He is dead and gone;\n",
        "At his head a grass-green turf,\n",
        "At his heels a stone.\n",
        "QUEEN GERTRUDE\n",
        "Nay, but, Ophelia,--\n",
        "OPHELIA\n",
        "Pray you, mark.\n",
        "Sings\n",
        "\n",
        "White his shroud as the mountain snow,--\n",
        "Enter KING CLAUDIUS\n",
        "\n",
        "QUEEN GERTRUDE\n",
        "Alas, look here, my lord.\n",
        "OPHELIA\n",
        "[Sings]\n",
        "Larded with sweet flowers\n",
        "Which bewept to the grave did go\n",
        "With true-love showers.\n",
        "KING CLAUDIUS\n",
        "How do you, pretty lady?\n",
        "OPHELIA\n",
        "Well, God 'ild you! They say the owl was a baker's\n",
        "daughter. Lord, we know what we are, but know not\n",
        "what we may be. God be at your table!\n",
        "KING CLAUDIUS\n",
        "Conceit upon her father.\n",
        "OPHELIA\n",
        "Pray you, let's have no words of this; but when they\n",
        "ask you what it means, say you this:\n",
        "Sings\n",
        "\n",
        "To-morrow is Saint Valentine's day,\n",
        "All in the morning betime,\n",
        "And I a maid at your window,\n",
        "To be your Valentine.\n",
        "Then up he rose, and donn'd his clothes,\n",
        "And dupp'd the chamber-door;\n",
        "Let in the maid, that out a maid\n",
        "Never departed more.\n",
        "KING CLAUDIUS\n",
        "Pretty Ophelia!\n",
        "OPHELIA\n",
        "Indeed, la, without an oath, I'll make an end on't:\n",
        "Sings\n",
        "\n",
        "By Gis and by Saint Charity,\n",
        "Alack, and fie for shame!\n",
        "Young men will do't, if they come to't;\n",
        "By cock, they are to blame.\n",
        "Quoth she, before you tumbled me,\n",
        "You promised me to wed.\n",
        "So would I ha' done, by yonder sun,\n",
        "An thou hadst not come to my bed.\n",
        "KING CLAUDIUS\n",
        "How long hath she been thus?\n",
        "OPHELIA\n",
        "I hope all will be well. We must be patient: but I\n",
        "cannot choose but weep, to think they should lay him\n",
        "i' the cold ground. My brother shall know of it:\n",
        "and so I thank you for your good counsel. Come, my\n",
        "coach! Good night, ladies; good night, sweet ladies;\n",
        "good night, good night.\n",
        "Exit\n",
        "\n",
        "KING CLAUDIUS\n",
        "Follow her close; give her good watch,\n",
        "I pray you.\n",
        "Exit HORATIO\n",
        "\n",
        "O, this is the poison of deep grief; it springs\n",
        "All from her father's death. O Gertrude, Gertrude,\n",
        "When sorrows come, they come not single spies\n",
        "But in battalions. First, her father slain:\n",
        "Next, your son gone; and he most violent author\n",
        "Of his own just remove: the people muddied,\n",
        "Thick and unwholesome in their thoughts and whispers,\n",
        "For good Polonius' death; and we have done but greenly,\n",
        "In hugger-mugger to inter him: poor Ophelia\n",
        "Divided from herself and her fair judgment,\n",
        "Without the which we are pictures, or mere beasts:\n",
        "Last, and as much containing as all these,\n",
        "Her brother is in secret come from France;\n",
        "Feeds on his wonder, keeps himself in clouds,\n",
        "And wants not buzzers to infect his ear\n",
        "With pestilent speeches of his father's death;\n",
        "Wherein necessity, of matter beggar'd,\n",
        "Will nothing stick our person to arraign\n",
        "In ear and ear. O my dear Gertrude, this,\n",
        "Like to a murdering-piece, in many places\n",
        "Gives me superfluous death.\n",
        "A noise within\n",
        "\n",
        "QUEEN GERTRUDE\n",
        "Alack, what noise is this?\n",
        "KING CLAUDIUS\n",
        "Where are my Switzers? Let them guard the door.\n",
        "Enter another Gentleman\n",
        "\n",
        "What is the matter?\n",
        "Gentleman\n",
        "Save yourself, my lord:\n",
        "The ocean, overpeering of his list,\n",
        "Eats not the flats with more impetuous haste\n",
        "Than young Laertes, in a riotous head,\n",
        "O'erbears your officers. The rabble call him lord;\n",
        "And, as the world were now but to begin,\n",
        "Antiquity forgot, custom not known,\n",
        "The ratifiers and props of every word,\n",
        "They cry 'Choose we: Laertes shall be king:'\n",
        "Caps, hands, and tongues, applaud it to the clouds:\n",
        "'Laertes shall be king, Laertes king!'\n",
        "QUEEN GERTRUDE\n",
        "How cheerfully on the false trail they cry!\n",
        "O, this is counter, you false Danish dogs!\n",
        "KING CLAUDIUS\n",
        "The doors are broke.\n",
        "Noise within\n",
        "\n",
        "Enter LAERTES, armed; Danes following\n",
        "\n",
        "LAERTES\n",
        "Where is this king? Sirs, stand you all without.\n",
        "Danes\n",
        "No, let's come in.\n",
        "LAERTES\n",
        "I pray you, give me leave.\n",
        "Danes\n",
        "We will, we will.\n",
        "They retire without the door\n",
        "\n",
        "LAERTES\n",
        "I thank you: keep the door. O thou vile king,\n",
        "Give me my father!\n",
        "QUEEN GERTRUDE\n",
        "Calmly, good Laertes.\n",
        "LAERTES\n",
        "That drop of blood that's calm proclaims me bastard,\n",
        "Cries cuckold to my father, brands the harlot\n",
        "Even here, between the chaste unsmirched brow\n",
        "Of my true mother.\n",
        "KING CLAUDIUS\n",
        "What is the cause, Laertes,\n",
        "That thy rebellion looks so giant-like?\n",
        "Let him go, Gertrude; do not fear our person:\n",
        "There's such divinity doth hedge a king,\n",
        "That treason can but peep to what it would,\n",
        "Acts little of his will. Tell me, Laertes,\n",
        "Why thou art thus incensed. Let him go, Gertrude.\n",
        "Speak, man.\n",
        "LAERTES\n",
        "Where is my father?\n",
        "KING CLAUDIUS\n",
        "Dead.\n",
        "QUEEN GERTRUDE\n",
        "But not by him.\n",
        "KING CLAUDIUS\n",
        "Let him demand his fill.\n",
        "LAERTES\n",
        "How came he dead? I'll not be juggled with:\n",
        "To hell, allegiance! vows, to the blackest devil!\n",
        "Conscience and grace, to the profoundest pit!\n",
        "I dare damnation. To this point I stand,\n",
        "That both the worlds I give to negligence,\n",
        "Let come what comes; only I'll be revenged\n",
        "Most thoroughly for my father.\n",
        "KING CLAUDIUS\n",
        "Who shall stay you?\n",
        "LAERTES\n",
        "My will, not all the world:\n",
        "And for my means, I'll husband them so well,\n",
        "They shall go far with little.\n",
        "KING CLAUDIUS\n",
        "Good Laertes,\n",
        "If you desire to know the certainty\n",
        "Of your dear father's death, is't writ in your revenge,\n",
        "That, swoopstake, you will draw both friend and foe,\n",
        "Winner and loser?\n",
        "LAERTES\n",
        "None but his enemies.\n",
        "KING CLAUDIUS\n",
        "Will you know them then?\n",
        "LAERTES\n",
        "To his good friends thus wide I'll ope my arms;\n",
        "And like the kind life-rendering pelican,\n",
        "Repast them with my blood.\n",
        "KING CLAUDIUS\n",
        "Why, now you speak\n",
        "Like a good child and a true gentleman.\n",
        "That I am guiltless of your father's death,\n",
        "And am most sensible in grief for it,\n",
        "It shall as level to your judgment pierce\n",
        "As day does to your eye.\n",
        "Danes\n",
        "[Within] Let her come in.\n",
        "LAERTES\n",
        "How now! what noise is that?\n",
        "Re-enter OPHELIA\n",
        "\n",
        "O heat, dry up my brains! tears seven times salt,\n",
        "Burn out the sense and virtue of mine eye!\n",
        "By heaven, thy madness shall be paid by weight,\n",
        "Till our scale turn the beam. O rose of May!\n",
        "Dear maid, kind sister, sweet Ophelia!\n",
        "O heavens! is't possible, a young maid's wits\n",
        "Should be as moral as an old man's life?\n",
        "Nature is fine in love, and where 'tis fine,\n",
        "It sends some precious instance of itself\n",
        "After the thing it loves.\n",
        "OPHELIA\n",
        "[Sings]\n",
        "They bore him barefaced on the bier;\n",
        "Hey non nonny, nonny, hey nonny;\n",
        "And in his grave rain'd many a tear:--\n",
        "Fare you well, my dove!\n",
        "LAERTES\n",
        "Hadst thou thy wits, and didst persuade revenge,\n",
        "It could not move thus.\n",
        "OPHELIA\n",
        "[Sings]\n",
        "You must sing a-down a-down,\n",
        "An you call him a-down-a.\n",
        "O, how the wheel becomes it! It is the false\n",
        "steward, that stole his master's daughter.\n",
        "LAERTES\n",
        "This nothing's more than matter.\n",
        "OPHELIA\n",
        "There's rosemary, that's for remembrance; pray,\n",
        "love, remember: and there is pansies. that's for thoughts.\n",
        "LAERTES\n",
        "A document in madness, thoughts and remembrance fitted.\n",
        "OPHELIA\n",
        "There's fennel for you, and columbines: there's rue\n",
        "for you; and here's some for me: we may call it\n",
        "herb-grace o' Sundays: O you must wear your rue with\n",
        "a difference. There's a daisy: I would give you\n",
        "some violets, but they withered all when my father\n",
        "died: they say he made a good end,--\n",
        "Sings\n",
        "\n",
        "For bonny sweet Robin is all my joy.\n",
        "LAERTES\n",
        "Thought and affliction, passion, hell itself,\n",
        "She turns to favour and to prettiness.\n",
        "OPHELIA\n",
        "[Sings]\n",
        "And will he not come again?\n",
        "And will he not come again?\n",
        "No, no, he is dead:\n",
        "Go to thy death-bed:\n",
        "He never will come again.\n",
        "His beard was as white as snow,\n",
        "All flaxen was his poll:\n",
        "He is gone, he is gone,\n",
        "And we cast away moan:\n",
        "God ha' mercy on his soul!\n",
        "And of all Christian souls, I pray God. God be wi' ye.\n",
        "Exit\n",
        "\n",
        "LAERTES\n",
        "Do you see this, O God?\n",
        "KING CLAUDIUS\n",
        "Laertes, I must commune with your grief,\n",
        "Or you deny me right. Go but apart,\n",
        "Make choice of whom your wisest friends you will.\n",
        "And they shall hear and judge 'twixt you and me:\n",
        "If by direct or by collateral hand\n",
        "They find us touch'd, we will our kingdom give,\n",
        "Our crown, our life, and all that we can ours,\n",
        "To you in satisfaction; but if not,\n",
        "Be you content to lend your patience to us,\n",
        "And we shall jointly labour with your soul\n",
        "To give it due content.\n",
        "LAERTES\n",
        "Let this be so;\n",
        "His means of death, his obscure funeral--\n",
        "No trophy, sword, nor hatchment o'er his bones,\n",
        "No noble rite nor formal ostentation--\n",
        "Cry to be heard, as 'twere from heaven to earth,\n",
        "That I must call't in question.\n",
        "KING CLAUDIUS\n",
        "So you shall;\n",
        "And where the offence is let the great axe fall.\n",
        "I pray you, go with me.\n",
        "Exeunt\n",
        "\n",
        "SCENE VI. Another room in the castle.\n",
        "\n",
        "Enter HORATIO and a Servant\n",
        "HORATIO\n",
        "What are they that would speak with me?\n",
        "Servant\n",
        "Sailors, sir: they say they have letters for you.\n",
        "HORATIO\n",
        "Let them come in.\n",
        "Exit Servant\n",
        "\n",
        "I do not know from what part of the world\n",
        "I should be greeted, if not from Lord Hamlet.\n",
        "Enter Sailors\n",
        "\n",
        "First Sailor\n",
        "God bless you, sir.\n",
        "HORATIO\n",
        "Let him bless thee too.\n",
        "First Sailor\n",
        "He shall, sir, an't please him. There's a letter for\n",
        "you, sir; it comes from the ambassador that was\n",
        "bound for England; if your name be Horatio, as I am\n",
        "let to know it is.\n",
        "HORATIO\n",
        "[Reads] 'Horatio, when thou shalt have overlooked\n",
        "this, give these fellows some means to the king:\n",
        "they have letters for him. Ere we were two days old\n",
        "at sea, a pirate of very warlike appointment gave us\n",
        "chase. Finding ourselves too slow of sail, we put on\n",
        "a compelled valour, and in the grapple I boarded\n",
        "them: on the instant they got clear of our ship; so\n",
        "I alone became their prisoner. They have dealt with\n",
        "me like thieves of mercy: but they knew what they\n",
        "did; I am to do a good turn for them. Let the king\n",
        "have the letters I have sent; and repair thou to me\n",
        "with as much speed as thou wouldst fly death. I\n",
        "have words to speak in thine ear will make thee\n",
        "dumb; yet are they much too light for the bore of\n",
        "the matter. These good fellows will bring thee\n",
        "where I am. Rosencrantz and Guildenstern hold their\n",
        "course for England: of them I have much to tell\n",
        "thee. Farewell.\n",
        "'He that thou knowest thine, HAMLET.'\n",
        "Come, I will make you way for these your letters;\n",
        "And do't the speedier, that you may direct me\n",
        "To him from whom you brought them.\n",
        "Exeunt\n",
        "\n",
        "SCENE VII. Another room in the castle.\n",
        "\n",
        "Enter KING CLAUDIUS and LAERTES\n",
        "KING CLAUDIUS\n",
        "Now must your conscience my acquaintance seal,\n",
        "And you must put me in your heart for friend,\n",
        "Sith you have heard, and with a knowing ear,\n",
        "That he which hath your noble father slain\n",
        "Pursued my life.\n",
        "LAERTES\n",
        "It well appears: but tell me\n",
        "Why you proceeded not against these feats,\n",
        "So crimeful and so capital in nature,\n",
        "As by your safety, wisdom, all things else,\n",
        "You mainly were stirr'd up.\n",
        "KING CLAUDIUS\n",
        "O, for two special reasons;\n",
        "Which may to you, perhaps, seem much unsinew'd,\n",
        "But yet to me they are strong. The queen his mother\n",
        "Lives almost by his looks; and for myself--\n",
        "My virtue or my plague, be it either which--\n",
        "She's so conjunctive to my life and soul,\n",
        "That, as the star moves not but in his sphere,\n",
        "I could not but by her. The other motive,\n",
        "Why to a public count I might not go,\n",
        "Is the great love the general gender bear him;\n",
        "Who, dipping all his faults in their affection,\n",
        "Would, like the spring that turneth wood to stone,\n",
        "Convert his gyves to graces; so that my arrows,\n",
        "Too slightly timber'd for so loud a wind,\n",
        "Would have reverted to my bow again,\n",
        "And not where I had aim'd them.\n",
        "LAERTES\n",
        "And so have I a noble father lost;\n",
        "A sister driven into desperate terms,\n",
        "Whose worth, if praises may go back again,\n",
        "Stood challenger on mount of all the age\n",
        "For her perfections: but my revenge will come.\n",
        "KING CLAUDIUS\n",
        "Break not your sleeps for that: you must not think\n",
        "That we are made of stuff so flat and dull\n",
        "That we can let our beard be shook with danger\n",
        "And think it pastime. You shortly shall hear more:\n",
        "I loved your father, and we love ourself;\n",
        "And that, I hope, will teach you to imagine--\n",
        "Enter a Messenger\n",
        "\n",
        "How now! what news?\n",
        "Messenger\n",
        "Letters, my lord, from Hamlet:\n",
        "This to your majesty; this to the queen.\n",
        "KING CLAUDIUS\n",
        "From Hamlet! who brought them?\n",
        "Messenger\n",
        "Sailors, my lord, they say; I saw them not:\n",
        "They were given me by Claudio; he received them\n",
        "Of him that brought them.\n",
        "KING CLAUDIUS\n",
        "Laertes, you shall hear them. Leave us.\n",
        "Exit Messenger\n",
        "\n",
        "Reads\n",
        "\n",
        "'High and mighty, You shall know I am set naked on\n",
        "your kingdom. To-morrow shall I beg leave to see\n",
        "your kingly eyes: when I shall, first asking your\n",
        "pardon thereunto, recount the occasion of my sudden\n",
        "and more strange return. 'HAMLET.'\n",
        "What should this mean? Are all the rest come back?\n",
        "Or is it some abuse, and no such thing?\n",
        "LAERTES\n",
        "Know you the hand?\n",
        "KING CLAUDIUS\n",
        "'Tis Hamlets character. 'Naked!\n",
        "And in a postscript here, he says 'alone.'\n",
        "Can you advise me?\n",
        "LAERTES\n",
        "I'm lost in it, my lord. But let him come;\n",
        "It warms the very sickness in my heart,\n",
        "That I shall live and tell him to his teeth,\n",
        "'Thus didest thou.'\n",
        "KING CLAUDIUS\n",
        "If it be so, Laertes--\n",
        "As how should it be so? how otherwise?--\n",
        "Will you be ruled by me?\n",
        "LAERTES\n",
        "Ay, my lord;\n",
        "So you will not o'errule me to a peace.\n",
        "KING CLAUDIUS\n",
        "To thine own peace. If he be now return'd,\n",
        "As checking at his voyage, and that he means\n",
        "No more to undertake it, I will work him\n",
        "To an exploit, now ripe in my device,\n",
        "Under the which he shall not choose but fall:\n",
        "And for his death no wind of blame shall breathe,\n",
        "But even his mother shall uncharge the practise\n",
        "And call it accident.\n",
        "LAERTES\n",
        "My lord, I will be ruled;\n",
        "The rather, if you could devise it so\n",
        "That I might be the organ.\n",
        "KING CLAUDIUS\n",
        "It falls right.\n",
        "You have been talk'd of since your travel much,\n",
        "And that in Hamlet's hearing, for a quality\n",
        "Wherein, they say, you shine: your sum of parts\n",
        "Did not together pluck such envy from him\n",
        "As did that one, and that, in my regard,\n",
        "Of the unworthiest siege.\n",
        "LAERTES\n",
        "What part is that, my lord?\n",
        "KING CLAUDIUS\n",
        "A very riband in the cap of youth,\n",
        "Yet needful too; for youth no less becomes\n",
        "The light and careless livery that it wears\n",
        "Than settled age his sables and his weeds,\n",
        "Importing health and graveness. Two months since,\n",
        "Here was a gentleman of Normandy:--\n",
        "I've seen myself, and served against, the French,\n",
        "And they can well on horseback: but this gallant\n",
        "Had witchcraft in't; he grew unto his seat;\n",
        "And to such wondrous doing brought his horse,\n",
        "As he had been incorpsed and demi-natured\n",
        "With the brave beast: so far he topp'd my thought,\n",
        "That I, in forgery of shapes and tricks,\n",
        "Come short of what he did.\n",
        "LAERTES\n",
        "A Norman was't?\n",
        "KING CLAUDIUS\n",
        "A Norman.\n",
        "LAERTES\n",
        "Upon my life, Lamond.\n",
        "KING CLAUDIUS\n",
        "The very same.\n",
        "LAERTES\n",
        "I know him well: he is the brooch indeed\n",
        "And gem of all the nation.\n",
        "KING CLAUDIUS\n",
        "He made confession of you,\n",
        "And gave you such a masterly report\n",
        "For art and exercise in your defence\n",
        "And for your rapier most especially,\n",
        "That he cried out, 'twould be a sight indeed,\n",
        "If one could match you: the scrimers of their nation,\n",
        "He swore, had had neither motion, guard, nor eye,\n",
        "If you opposed them. Sir, this report of his\n",
        "Did Hamlet so envenom with his envy\n",
        "That he could nothing do but wish and beg\n",
        "Your sudden coming o'er, to play with him.\n",
        "Now, out of this,--\n",
        "LAERTES\n",
        "What out of this, my lord?\n",
        "KING CLAUDIUS\n",
        "Laertes, was your father dear to you?\n",
        "Or are you like the painting of a sorrow,\n",
        "A face without a heart?\n",
        "LAERTES\n",
        "Why ask you this?\n",
        "KING CLAUDIUS\n",
        "Not that I think you did not love your father;\n",
        "But that I know love is begun by time;\n",
        "And that I see, in passages of proof,\n",
        "Time qualifies the spark and fire of it.\n",
        "There lives within the very flame of love\n",
        "A kind of wick or snuff that will abate it;\n",
        "And nothing is at a like goodness still;\n",
        "For goodness, growing to a plurisy,\n",
        "Dies in his own too much: that we would do\n",
        "We should do when we would; for this 'would' changes\n",
        "And hath abatements and delays as many\n",
        "As there are tongues, are hands, are accidents;\n",
        "And then this 'should' is like a spendthrift sigh,\n",
        "That hurts by easing. But, to the quick o' the ulcer:--\n",
        "Hamlet comes back: what would you undertake,\n",
        "To show yourself your father's son in deed\n",
        "More than in words?\n",
        "LAERTES\n",
        "To cut his throat i' the church.\n",
        "KING CLAUDIUS\n",
        "No place, indeed, should murder sanctuarize;\n",
        "Revenge should have no bounds. But, good Laertes,\n",
        "Will you do this, keep close within your chamber.\n",
        "Hamlet return'd shall know you are come home:\n",
        "We'll put on those shall praise your excellence\n",
        "And set a double varnish on the fame\n",
        "The Frenchman gave you, bring you in fine together\n",
        "And wager on your heads: he, being remiss,\n",
        "Most generous and free from all contriving,\n",
        "Will not peruse the foils; so that, with ease,\n",
        "Or with a little shuffling, you may choose\n",
        "A sword unbated, and in a pass of practise\n",
        "Requite him for your father.\n",
        "LAERTES\n",
        "I will do't:\n",
        "And, for that purpose, I'll anoint my sword.\n",
        "I bought an unction of a mountebank,\n",
        "So mortal that, but dip a knife in it,\n",
        "Where it draws blood no cataplasm so rare,\n",
        "Collected from all simples that have virtue\n",
        "Under the moon, can save the thing from death\n",
        "That is but scratch'd withal: I'll touch my point\n",
        "With this contagion, that, if I gall him slightly,\n",
        "It may be death.\n",
        "KING CLAUDIUS\n",
        "Let's further think of this;\n",
        "Weigh what convenience both of time and means\n",
        "May fit us to our shape: if this should fail,\n",
        "And that our drift look through our bad performance,\n",
        "'Twere better not assay'd: therefore this project\n",
        "Should have a back or second, that might hold,\n",
        "If this should blast in proof. Soft! let me see:\n",
        "We'll make a solemn wager on your cunnings: I ha't.\n",
        "When in your motion you are hot and dry--\n",
        "As make your bouts more violent to that end--\n",
        "And that he calls for drink, I'll have prepared him\n",
        "A chalice for the nonce, whereon but sipping,\n",
        "If he by chance escape your venom'd stuck,\n",
        "Our purpose may hold there.\n",
        "Enter QUEEN GERTRUDE\n",
        "\n",
        "How now, sweet queen!\n",
        "QUEEN GERTRUDE\n",
        "One woe doth tread upon another's heel,\n",
        "So fast they follow; your sister's drown'd, Laertes.\n",
        "LAERTES\n",
        "Drown'd! O, where?\n",
        "QUEEN GERTRUDE\n",
        "There is a willow grows aslant a brook,\n",
        "That shows his hoar leaves in the glassy stream;\n",
        "There with fantastic garlands did she come\n",
        "Of crow-flowers, nettles, daisies, and long purples\n",
        "That liberal shepherds give a grosser name,\n",
        "But our cold maids do dead men's fingers call them:\n",
        "There, on the pendent boughs her coronet weeds\n",
        "Clambering to hang, an envious sliver broke;\n",
        "When down her weedy trophies and herself\n",
        "Fell in the weeping brook. Her clothes spread wide;\n",
        "And, mermaid-like, awhile they bore her up:\n",
        "Which time she chanted snatches of old tunes;\n",
        "As one incapable of her own distress,\n",
        "Or like a creature native and indued\n",
        "Unto that element: but long it could not be\n",
        "Till that her garments, heavy with their drink,\n",
        "Pull'd the poor wretch from her melodious lay\n",
        "To muddy death.\n",
        "LAERTES\n",
        "Alas, then, she is drown'd?\n",
        "QUEEN GERTRUDE\n",
        "Drown'd, drown'd.\n",
        "LAERTES\n",
        "Too much of water hast thou, poor Ophelia,\n",
        "And therefore I forbid my tears: but yet\n",
        "It is our trick; nature her custom holds,\n",
        "Let shame say what it will: when these are gone,\n",
        "The woman will be out. Adieu, my lord:\n",
        "I have a speech of fire, that fain would blaze,\n",
        "But that this folly douts it.\n",
        "Exit\n",
        "\n",
        "KING CLAUDIUS\n",
        "Let's follow, Gertrude:\n",
        "How much I had to do to calm his rage!\n",
        "Now fear I this will give it start again;\n",
        "Therefore let's follow.\n",
        "Exeunt\n",
        "\n",
        "ACT V\n",
        "\n",
        "SCENE I. A churchyard.\n",
        "\n",
        "Enter two Clowns, with spades, & c\n",
        "First Clown\n",
        "Is she to be buried in Christian burial that\n",
        "wilfully seeks her own salvation?\n",
        "Second Clown\n",
        "I tell thee she is: and therefore make her grave\n",
        "straight: the crowner hath sat on her, and finds it\n",
        "Christian burial.\n",
        "First Clown\n",
        "How can that be, unless she drowned herself in her\n",
        "own defence?\n",
        "Second Clown\n",
        "Why, 'tis found so.\n",
        "First Clown\n",
        "It must be 'se offendendo;' it cannot be else. For\n",
        "here lies the point: if I drown myself wittingly,\n",
        "it argues an act: and an act hath three branches: it\n",
        "is, to act, to do, to perform: argal, she drowned\n",
        "herself wittingly.\n",
        "Second Clown\n",
        "Nay, but hear you, goodman delver,--\n",
        "First Clown\n",
        "Give me leave. Here lies the water; good: here\n",
        "stands the man; good; if the man go to this water,\n",
        "and drown himself, it is, will he, nill he, he\n",
        "goes,--mark you that; but if the water come to him\n",
        "and drown him, he drowns not himself: argal, he\n",
        "that is not guilty of his own death shortens not his own life.\n",
        "Second Clown\n",
        "But is this law?\n",
        "First Clown\n",
        "Ay, marry, is't; crowner's quest law.\n",
        "Second Clown\n",
        "Will you ha' the truth on't? If this had not been\n",
        "a gentlewoman, she should have been buried out o'\n",
        "Christian burial.\n",
        "First Clown\n",
        "Why, there thou say'st: and the more pity that\n",
        "great folk should have countenance in this world to\n",
        "drown or hang themselves, more than their even\n",
        "Christian. Come, my spade. There is no ancient\n",
        "gentleman but gardeners, ditchers, and grave-makers:\n",
        "they hold up Adam's profession.\n",
        "Second Clown\n",
        "Was he a gentleman?\n",
        "First Clown\n",
        "He was the first that ever bore arms.\n",
        "Second Clown\n",
        "Why, he had none.\n",
        "First Clown\n",
        "What, art a heathen? How dost thou understand the\n",
        "Scripture? The Scripture says 'Adam digged:'\n",
        "could he dig without arms? I'll put another\n",
        "question to thee: if thou answerest me not to the\n",
        "purpose, confess thyself--\n",
        "Second Clown\n",
        "Go to.\n",
        "First Clown\n",
        "What is he that builds stronger than either the\n",
        "mason, the shipwright, or the carpenter?\n",
        "Second Clown\n",
        "The gallows-maker; for that frame outlives a\n",
        "thousand tenants.\n",
        "First Clown\n",
        "I like thy wit well, in good faith: the gallows\n",
        "does well; but how does it well? it does well to\n",
        "those that do in: now thou dost ill to say the\n",
        "gallows is built stronger than the church: argal,\n",
        "the gallows may do well to thee. To't again, come.\n",
        "Second Clown\n",
        "'Who builds stronger than a mason, a shipwright, or\n",
        "a carpenter?'\n",
        "First Clown\n",
        "Ay, tell me that, and unyoke.\n",
        "Second Clown\n",
        "Marry, now I can tell.\n",
        "First Clown\n",
        "To't.\n",
        "Second Clown\n",
        "Mass, I cannot tell.\n",
        "Enter HAMLET and HORATIO, at a distance\n",
        "\n",
        "First Clown\n",
        "Cudgel thy brains no more about it, for your dull\n",
        "ass will not mend his pace with beating; and, when\n",
        "you are asked this question next, say 'a\n",
        "grave-maker: 'the houses that he makes last till\n",
        "doomsday. Go, get thee to Yaughan: fetch me a\n",
        "stoup of liquor.\n",
        "Exit Second Clown\n",
        "\n",
        "He digs and sings\n",
        "\n",
        "In youth, when I did love, did love,\n",
        "Methought it was very sweet,\n",
        "To contract, O, the time, for, ah, my behove,\n",
        "O, methought, there was nothing meet.\n",
        "HAMLET\n",
        "Has this fellow no feeling of his business, that he\n",
        "sings at grave-making?\n",
        "HORATIO\n",
        "Custom hath made it in him a property of easiness.\n",
        "HAMLET\n",
        "'Tis e'en so: the hand of little employment hath\n",
        "the daintier sense.\n",
        "First Clown\n",
        "[Sings]\n",
        "But age, with his stealing steps,\n",
        "Hath claw'd me in his clutch,\n",
        "And hath shipped me intil the land,\n",
        "As if I had never been such.\n",
        "Throws up a skull\n",
        "\n",
        "HAMLET\n",
        "That skull had a tongue in it, and could sing once:\n",
        "how the knave jowls it to the ground, as if it were\n",
        "Cain's jaw-bone, that did the first murder! It\n",
        "might be the pate of a politician, which this ass\n",
        "now o'er-reaches; one that would circumvent God,\n",
        "might it not?\n",
        "HORATIO\n",
        "It might, my lord.\n",
        "HAMLET\n",
        "Or of a courtier; which could say 'Good morrow,\n",
        "sweet lord! How dost thou, good lord?' This might\n",
        "be my lord such-a-one, that praised my lord\n",
        "such-a-one's horse, when he meant to beg it; might it not?\n",
        "HORATIO\n",
        "Ay, my lord.\n",
        "HAMLET\n",
        "Why, e'en so: and now my Lady Worm's; chapless, and\n",
        "knocked about the mazzard with a sexton's spade:\n",
        "here's fine revolution, an we had the trick to\n",
        "see't. Did these bones cost no more the breeding,\n",
        "but to play at loggats with 'em? mine ache to think on't.\n",
        "First Clown\n",
        "[Sings]\n",
        "A pick-axe, and a spade, a spade,\n",
        "For and a shrouding sheet:\n",
        "O, a pit of clay for to be made\n",
        "For such a guest is meet.\n",
        "Throws up another skull\n",
        "\n",
        "HAMLET\n",
        "There's another: why may not that be the skull of a\n",
        "lawyer? Where be his quiddities now, his quillets,\n",
        "his cases, his tenures, and his tricks? why does he\n",
        "suffer this rude knave now to knock him about the\n",
        "sconce with a dirty shovel, and will not tell him of\n",
        "his action of battery? Hum! This fellow might be\n",
        "in's time a great buyer of land, with his statutes,\n",
        "his recognizances, his fines, his double vouchers,\n",
        "his recoveries: is this the fine of his fines, and\n",
        "the recovery of his recoveries, to have his fine\n",
        "pate full of fine dirt? will his vouchers vouch him\n",
        "no more of his purchases, and double ones too, than\n",
        "the length and breadth of a pair of indentures? The\n",
        "very conveyances of his lands will hardly lie in\n",
        "this box; and must the inheritor himself have no more, ha?\n",
        "HORATIO\n",
        "Not a jot more, my lord.\n",
        "HAMLET\n",
        "Is not parchment made of sheepskins?\n",
        "HORATIO\n",
        "Ay, my lord, and of calf-skins too.\n",
        "HAMLET\n",
        "They are sheep and calves which seek out assurance\n",
        "in that. I will speak to this fellow. Whose\n",
        "grave's this, sirrah?\n",
        "First Clown\n",
        "Mine, sir.\n",
        "Sings\n",
        "\n",
        "O, a pit of clay for to be made\n",
        "For such a guest is meet.\n",
        "HAMLET\n",
        "I think it be thine, indeed; for thou liest in't.\n",
        "First Clown\n",
        "You lie out on't, sir, and therefore it is not\n",
        "yours: for my part, I do not lie in't, and yet it is mine.\n",
        "HAMLET\n",
        "'Thou dost lie in't, to be in't and say it is thine:\n",
        "'tis for the dead, not for the quick; therefore thou liest.\n",
        "First Clown\n",
        "'Tis a quick lie, sir; 'twill away gain, from me to\n",
        "you.\n",
        "HAMLET\n",
        "What man dost thou dig it for?\n",
        "First Clown\n",
        "For no man, sir.\n",
        "HAMLET\n",
        "What woman, then?\n",
        "First Clown\n",
        "For none, neither.\n",
        "HAMLET\n",
        "Who is to be buried in't?\n",
        "First Clown\n",
        "One that was a woman, sir; but, rest her soul, she's dead.\n",
        "HAMLET\n",
        "How absolute the knave is! we must speak by the\n",
        "card, or equivocation will undo us. By the Lord,\n",
        "Horatio, these three years I have taken a note of\n",
        "it; the age is grown so picked that the toe of the\n",
        "peasant comes so near the heel of the courtier, he\n",
        "gaffs his kibe. How long hast thou been a\n",
        "grave-maker?\n",
        "First Clown\n",
        "Of all the days i' the year, I came to't that day\n",
        "that our last king Hamlet overcame Fortinbras.\n",
        "HAMLET\n",
        "How long is that since?\n",
        "First Clown\n",
        "Cannot you tell that? every fool can tell that: it\n",
        "was the very day that young Hamlet was born; he that\n",
        "is mad, and sent into England.\n",
        "HAMLET\n",
        "Ay, marry, why was he sent into England?\n",
        "First Clown\n",
        "Why, because he was mad: he shall recover his wits\n",
        "there; or, if he do not, it's no great matter there.\n",
        "HAMLET\n",
        "Why?\n",
        "First Clown\n",
        "'Twill, a not be seen in him there; there the men\n",
        "are as mad as he.\n",
        "HAMLET\n",
        "How came he mad?\n",
        "First Clown\n",
        "Very strangely, they say.\n",
        "HAMLET\n",
        "How strangely?\n",
        "First Clown\n",
        "Faith, e'en with losing his wits.\n",
        "HAMLET\n",
        "Upon what ground?\n",
        "First Clown\n",
        "Why, here in Denmark: I have been sexton here, man\n",
        "and boy, thirty years.\n",
        "HAMLET\n",
        "How long will a man lie i' the earth ere he rot?\n",
        "First Clown\n",
        "I' faith, if he be not rotten before he die--as we\n",
        "have many pocky corses now-a-days, that will scarce\n",
        "hold the laying in--he will last you some eight year\n",
        "or nine year: a tanner will last you nine year.\n",
        "HAMLET\n",
        "Why he more than another?\n",
        "First Clown\n",
        "Why, sir, his hide is so tanned with his trade, that\n",
        "he will keep out water a great while; and your water\n",
        "is a sore decayer of your whoreson dead body.\n",
        "Here's a skull now; this skull has lain in the earth\n",
        "three and twenty years.\n",
        "HAMLET\n",
        "Whose was it?\n",
        "First Clown\n",
        "A whoreson mad fellow's it was: whose do you think it was?\n",
        "HAMLET\n",
        "Nay, I know not.\n",
        "First Clown\n",
        "A pestilence on him for a mad rogue! a' poured a\n",
        "flagon of Rhenish on my head once. This same skull,\n",
        "sir, was Yorick's skull, the king's jester.\n",
        "HAMLET\n",
        "This?\n",
        "First Clown\n",
        "E'en that.\n",
        "HAMLET\n",
        "Let me see.\n",
        "Takes the skull\n",
        "\n",
        "Alas, poor Yorick! I knew him, Horatio: a fellow\n",
        "of infinite jest, of most excellent fancy: he hath\n",
        "borne me on his back a thousand times; and now, how\n",
        "abhorred in my imagination it is! my gorge rims at\n",
        "it. Here hung those lips that I have kissed I know\n",
        "not how oft. Where be your gibes now? your\n",
        "gambols? your songs? your flashes of merriment,\n",
        "that were wont to set the table on a roar? Not one\n",
        "now, to mock your own grinning? quite chap-fallen?\n",
        "Now get you to my lady's chamber, and tell her, let\n",
        "her paint an inch thick, to this favour she must\n",
        "come; make her laugh at that. Prithee, Horatio, tell\n",
        "me one thing.\n",
        "HORATIO\n",
        "What's that, my lord?\n",
        "HAMLET\n",
        "Dost thou think Alexander looked o' this fashion i'\n",
        "the earth?\n",
        "HORATIO\n",
        "E'en so.\n",
        "HAMLET\n",
        "And smelt so? pah!\n",
        "Puts down the skull\n",
        "\n",
        "HORATIO\n",
        "E'en so, my lord.\n",
        "HAMLET\n",
        "To what base uses we may return, Horatio! Why may\n",
        "not imagination trace the noble dust of Alexander,\n",
        "till he find it stopping a bung-hole?\n",
        "HORATIO\n",
        "'Twere to consider too curiously, to consider so.\n",
        "HAMLET\n",
        "No, faith, not a jot; but to follow him thither with\n",
        "modesty enough, and likelihood to lead it: as\n",
        "thus: Alexander died, Alexander was buried,\n",
        "Alexander returneth into dust; the dust is earth; of\n",
        "earth we make loam; and why of that loam, whereto he\n",
        "was converted, might they not stop a beer-barrel?\n",
        "Imperious Caesar, dead and turn'd to clay,\n",
        "Might stop a hole to keep the wind away:\n",
        "O, that that earth, which kept the world in awe,\n",
        "Should patch a wall to expel the winter flaw!\n",
        "But soft! but soft! aside: here comes the king.\n",
        "Enter Priest, & c. in procession; the Corpse of OPHELIA, LAERTES and Mourners following; KING CLAUDIUS, QUEEN GERTRUDE, their trains, & c\n",
        "\n",
        "The queen, the courtiers: who is this they follow?\n",
        "And with such maimed rites? This doth betoken\n",
        "The corse they follow did with desperate hand\n",
        "Fordo its own life: 'twas of some estate.\n",
        "Couch we awhile, and mark.\n",
        "Retiring with HORATIO\n",
        "\n",
        "LAERTES\n",
        "What ceremony else?\n",
        "HAMLET\n",
        "That is Laertes,\n",
        "A very noble youth: mark.\n",
        "LAERTES\n",
        "What ceremony else?\n",
        "First Priest\n",
        "Her obsequies have been as far enlarged\n",
        "As we have warrantise: her death was doubtful;\n",
        "And, but that great command o'ersways the order,\n",
        "She should in ground unsanctified have lodged\n",
        "Till the last trumpet: for charitable prayers,\n",
        "Shards, flints and pebbles should be thrown on her;\n",
        "Yet here she is allow'd her virgin crants,\n",
        "Her maiden strewments and the bringing home\n",
        "Of bell and burial.\n",
        "LAERTES\n",
        "Must there no more be done?\n",
        "First Priest\n",
        "No more be done:\n",
        "We should profane the service of the dead\n",
        "To sing a requiem and such rest to her\n",
        "As to peace-parted souls.\n",
        "LAERTES\n",
        "Lay her i' the earth:\n",
        "And from her fair and unpolluted flesh\n",
        "May violets spring! I tell thee, churlish priest,\n",
        "A ministering angel shall my sister be,\n",
        "When thou liest howling.\n",
        "HAMLET\n",
        "What, the fair Ophelia!\n",
        "QUEEN GERTRUDE\n",
        "Sweets to the sweet: farewell!\n",
        "Scattering flowers\n",
        "\n",
        "I hoped thou shouldst have been my Hamlet's wife;\n",
        "I thought thy bride-bed to have deck'd, sweet maid,\n",
        "And not have strew'd thy grave.\n",
        "LAERTES\n",
        "O, treble woe\n",
        "Fall ten times treble on that cursed head,\n",
        "Whose wicked deed thy most ingenious sense\n",
        "Deprived thee of! Hold off the earth awhile,\n",
        "Till I have caught her once more in mine arms:\n",
        "Leaps into the grave\n",
        "\n",
        "Now pile your dust upon the quick and dead,\n",
        "Till of this flat a mountain you have made,\n",
        "To o'ertop old Pelion, or the skyish head\n",
        "Of blue Olympus.\n",
        "HAMLET\n",
        "[Advancing] What is he whose grief\n",
        "Bears such an emphasis? whose phrase of sorrow\n",
        "Conjures the wandering stars, and makes them stand\n",
        "Like wonder-wounded hearers? This is I,\n",
        "Hamlet the Dane.\n",
        "Leaps into the grave\n",
        "\n",
        "LAERTES\n",
        "The devil take thy soul!\n",
        "Grappling with him\n",
        "\n",
        "HAMLET\n",
        "Thou pray'st not well.\n",
        "I prithee, take thy fingers from my throat;\n",
        "For, though I am not splenitive and rash,\n",
        "Yet have I something in me dangerous,\n",
        "Which let thy wiseness fear: hold off thy hand.\n",
        "KING CLAUDIUS\n",
        "Pluck them asunder.\n",
        "QUEEN GERTRUDE\n",
        "Hamlet, Hamlet!\n",
        "All\n",
        "Gentlemen,--\n",
        "HORATIO\n",
        "Good my lord, be quiet.\n",
        "The Attendants part them, and they come out of the grave\n",
        "\n",
        "HAMLET\n",
        "Why I will fight with him upon this theme\n",
        "Until my eyelids will no longer wag.\n",
        "QUEEN GERTRUDE\n",
        "O my son, what theme?\n",
        "HAMLET\n",
        "I loved Ophelia: forty thousand brothers\n",
        "Could not, with all their quantity of love,\n",
        "Make up my sum. What wilt thou do for her?\n",
        "KING CLAUDIUS\n",
        "O, he is mad, Laertes.\n",
        "QUEEN GERTRUDE\n",
        "For love of God, forbear him.\n",
        "HAMLET\n",
        "'Swounds, show me what thou'lt do:\n",
        "Woo't weep? woo't fight? woo't fast? woo't tear thyself?\n",
        "Woo't drink up eisel? eat a crocodile?\n",
        "I'll do't. Dost thou come here to whine?\n",
        "To outface me with leaping in her grave?\n",
        "Be buried quick with her, and so will I:\n",
        "And, if thou prate of mountains, let them throw\n",
        "Millions of acres on us, till our ground,\n",
        "Singeing his pate against the burning zone,\n",
        "Make Ossa like a wart! Nay, an thou'lt mouth,\n",
        "I'll rant as well as thou.\n",
        "QUEEN GERTRUDE\n",
        "This is mere madness:\n",
        "And thus awhile the fit will work on him;\n",
        "Anon, as patient as the female dove,\n",
        "When that her golden couplets are disclosed,\n",
        "His silence will sit drooping.\n",
        "HAMLET\n",
        "Hear you, sir;\n",
        "What is the reason that you use me thus?\n",
        "I loved you ever: but it is no matter;\n",
        "Let Hercules himself do what he may,\n",
        "The cat will mew and dog will have his day.\n",
        "Exit\n",
        "\n",
        "KING CLAUDIUS\n",
        "I pray you, good Horatio, wait upon him.\n",
        "Exit HORATIO\n",
        "\n",
        "To LAERTES\n",
        "\n",
        "Strengthen your patience in our last night's speech;\n",
        "We'll put the matter to the present push.\n",
        "Good Gertrude, set some watch over your son.\n",
        "This grave shall have a living monument:\n",
        "An hour of quiet shortly shall we see;\n",
        "Till then, in patience our proceeding be.\n",
        "Exeunt\n",
        "\n",
        "SCENE II. A hall in the castle.\n",
        "\n",
        "Enter HAMLET and HORATIO\n",
        "HAMLET\n",
        "So much for this, sir: now shall you see the other;\n",
        "You do remember all the circumstance?\n",
        "HORATIO\n",
        "Remember it, my lord?\n",
        "HAMLET\n",
        "Sir, in my heart there was a kind of fighting,\n",
        "That would not let me sleep: methought I lay\n",
        "Worse than the mutines in the bilboes. Rashly,\n",
        "And praised be rashness for it, let us know,\n",
        "Our indiscretion sometimes serves us well,\n",
        "When our deep plots do pall: and that should teach us\n",
        "There's a divinity that shapes our ends,\n",
        "Rough-hew them how we will,--\n",
        "HORATIO\n",
        "That is most certain.\n",
        "HAMLET\n",
        "Up from my cabin,\n",
        "My sea-gown scarf'd about me, in the dark\n",
        "Groped I to find out them; had my desire.\n",
        "Finger'd their packet, and in fine withdrew\n",
        "To mine own room again; making so bold,\n",
        "My fears forgetting manners, to unseal\n",
        "Their grand commission; where I found, Horatio,--\n",
        "O royal knavery!--an exact command,\n",
        "Larded with many several sorts of reasons\n",
        "Importing Denmark's health and England's too,\n",
        "With, ho! such bugs and goblins in my life,\n",
        "That, on the supervise, no leisure bated,\n",
        "No, not to stay the grinding of the axe,\n",
        "My head should be struck off.\n",
        "HORATIO\n",
        "Is't possible?\n",
        "HAMLET\n",
        "Here's the commission: read it at more leisure.\n",
        "But wilt thou hear me how I did proceed?\n",
        "HORATIO\n",
        "I beseech you.\n",
        "HAMLET\n",
        "Being thus be-netted round with villanies,--\n",
        "Ere I could make a prologue to my brains,\n",
        "They had begun the play--I sat me down,\n",
        "Devised a new commission, wrote it fair:\n",
        "I once did hold it, as our statists do,\n",
        "A baseness to write fair and labour'd much\n",
        "How to forget that learning, but, sir, now\n",
        "It did me yeoman's service: wilt thou know\n",
        "The effect of what I wrote?\n",
        "HORATIO\n",
        "Ay, good my lord.\n",
        "HAMLET\n",
        "An earnest conjuration from the king,\n",
        "As England was his faithful tributary,\n",
        "As love between them like the palm might flourish,\n",
        "As peace should stiff her wheaten garland wear\n",
        "And stand a comma 'tween their amities,\n",
        "And many such-like 'As'es of great charge,\n",
        "That, on the view and knowing of these contents,\n",
        "Without debatement further, more or less,\n",
        "He should the bearers put to sudden death,\n",
        "Not shriving-time allow'd.\n",
        "HORATIO\n",
        "How was this seal'd?\n",
        "HAMLET\n",
        "Why, even in that was heaven ordinant.\n",
        "I had my father's signet in my purse,\n",
        "Which was the model of that Danish seal;\n",
        "Folded the writ up in form of the other,\n",
        "Subscribed it, gave't the impression, placed it safely,\n",
        "The changeling never known. Now, the next day\n",
        "Was our sea-fight; and what to this was sequent\n",
        "Thou know'st already.\n",
        "HORATIO\n",
        "So Guildenstern and Rosencrantz go to't.\n",
        "HAMLET\n",
        "Why, man, they did make love to this employment;\n",
        "They are not near my conscience; their defeat\n",
        "Does by their own insinuation grow:\n",
        "'Tis dangerous when the baser nature comes\n",
        "Between the pass and fell incensed points\n",
        "Of mighty opposites.\n",
        "HORATIO\n",
        "Why, what a king is this!\n",
        "HAMLET\n",
        "Does it not, think'st thee, stand me now upon--\n",
        "He that hath kill'd my king and whored my mother,\n",
        "Popp'd in between the election and my hopes,\n",
        "Thrown out his angle for my proper life,\n",
        "And with such cozenage--is't not perfect conscience,\n",
        "To quit him with this arm? and is't not to be damn'd,\n",
        "To let this canker of our nature come\n",
        "In further evil?\n",
        "HORATIO\n",
        "It must be shortly known to him from England\n",
        "What is the issue of the business there.\n",
        "HAMLET\n",
        "It will be short: the interim is mine;\n",
        "And a man's life's no more than to say 'One.'\n",
        "But I am very sorry, good Horatio,\n",
        "That to Laertes I forgot myself;\n",
        "For, by the image of my cause, I see\n",
        "The portraiture of his: I'll court his favours.\n",
        "But, sure, the bravery of his grief did put me\n",
        "Into a towering passion.\n",
        "HORATIO\n",
        "Peace! who comes here?\n",
        "Enter OSRIC\n",
        "\n",
        "OSRIC\n",
        "Your lordship is right welcome back to Denmark.\n",
        "HAMLET\n",
        "I humbly thank you, sir. Dost know this water-fly?\n",
        "HORATIO\n",
        "No, my good lord.\n",
        "HAMLET\n",
        "Thy state is the more gracious; for 'tis a vice to\n",
        "know him. He hath much land, and fertile: let a\n",
        "beast be lord of beasts, and his crib shall stand at\n",
        "the king's mess: 'tis a chough; but, as I say,\n",
        "spacious in the possession of dirt.\n",
        "OSRIC\n",
        "Sweet lord, if your lordship were at leisure, I\n",
        "should impart a thing to you from his majesty.\n",
        "HAMLET\n",
        "I will receive it, sir, with all diligence of\n",
        "spirit. Put your bonnet to his right use; 'tis for the head.\n",
        "OSRIC\n",
        "I thank your lordship, it is very hot.\n",
        "HAMLET\n",
        "No, believe me, 'tis very cold; the wind is\n",
        "northerly.\n",
        "OSRIC\n",
        "It is indifferent cold, my lord, indeed.\n",
        "HAMLET\n",
        "But yet methinks it is very sultry and hot for my\n",
        "complexion.\n",
        "OSRIC\n",
        "Exceedingly, my lord; it is very sultry,--as\n",
        "'twere,--I cannot tell how. But, my lord, his\n",
        "majesty bade me signify to you that he has laid a\n",
        "great wager on your head: sir, this is the matter,--\n",
        "HAMLET\n",
        "I beseech you, remember--\n",
        "HAMLET moves him to put on his hat\n",
        "\n",
        "OSRIC\n",
        "Nay, good my lord; for mine ease, in good faith.\n",
        "Sir, here is newly come to court Laertes; believe\n",
        "me, an absolute gentleman, full of most excellent\n",
        "differences, of very soft society and great showing:\n",
        "indeed, to speak feelingly of him, he is the card or\n",
        "calendar of gentry, for you shall find in him the\n",
        "continent of what part a gentleman would see.\n",
        "HAMLET\n",
        "Sir, his definement suffers no perdition in you;\n",
        "though, I know, to divide him inventorially would\n",
        "dizzy the arithmetic of memory, and yet but yaw\n",
        "neither, in respect of his quick sail. But, in the\n",
        "verity of extolment, I take him to be a soul of\n",
        "great article; and his infusion of such dearth and\n",
        "rareness, as, to make true diction of him, his\n",
        "semblable is his mirror; and who else would trace\n",
        "him, his umbrage, nothing more.\n",
        "OSRIC\n",
        "Your lordship speaks most infallibly of him.\n",
        "HAMLET\n",
        "The concernancy, sir? why do we wrap the gentleman\n",
        "in our more rawer breath?\n",
        "OSRIC\n",
        "Sir?\n",
        "HORATIO\n",
        "Is't not possible to understand in another tongue?\n",
        "You will do't, sir, really.\n",
        "HAMLET\n",
        "What imports the nomination of this gentleman?\n",
        "OSRIC\n",
        "Of Laertes?\n",
        "HORATIO\n",
        "His purse is empty already; all's golden words are spent.\n",
        "HAMLET\n",
        "Of him, sir.\n",
        "OSRIC\n",
        "I know you are not ignorant--\n",
        "HAMLET\n",
        "I would you did, sir; yet, in faith, if you did,\n",
        "it would not much approve me. Well, sir?\n",
        "OSRIC\n",
        "You are not ignorant of what excellence Laertes is--\n",
        "HAMLET\n",
        "I dare not confess that, lest I should compare with\n",
        "him in excellence; but, to know a man well, were to\n",
        "know himself.\n",
        "OSRIC\n",
        "I mean, sir, for his weapon; but in the imputation\n",
        "laid on him by them, in his meed he's unfellowed.\n",
        "HAMLET\n",
        "What's his weapon?\n",
        "OSRIC\n",
        "Rapier and dagger.\n",
        "HAMLET\n",
        "That's two of his weapons: but, well.\n",
        "OSRIC\n",
        "The king, sir, hath wagered with him six Barbary\n",
        "horses: against the which he has imponed, as I take\n",
        "it, six French rapiers and poniards, with their\n",
        "assigns, as girdle, hangers, and so: three of the\n",
        "carriages, in faith, are very dear to fancy, very\n",
        "responsive to the hilts, most delicate carriages,\n",
        "and of very liberal conceit.\n",
        "HAMLET\n",
        "What call you the carriages?\n",
        "HORATIO\n",
        "I knew you must be edified by the margent ere you had done.\n",
        "OSRIC\n",
        "The carriages, sir, are the hangers.\n",
        "HAMLET\n",
        "The phrase would be more german to the matter, if we\n",
        "could carry cannon by our sides: I would it might\n",
        "be hangers till then. But, on: six Barbary horses\n",
        "against six French swords, their assigns, and three\n",
        "liberal-conceited carriages; that's the French bet\n",
        "against the Danish. Why is this 'imponed,' as you call it?\n",
        "OSRIC\n",
        "The king, sir, hath laid, that in a dozen passes\n",
        "between yourself and him, he shall not exceed you\n",
        "three hits: he hath laid on twelve for nine; and it\n",
        "would come to immediate trial, if your lordship\n",
        "would vouchsafe the answer.\n",
        "HAMLET\n",
        "How if I answer 'no'?\n",
        "OSRIC\n",
        "I mean, my lord, the opposition of your person in trial.\n",
        "HAMLET\n",
        "Sir, I will walk here in the hall: if it please his\n",
        "majesty, 'tis the breathing time of day with me; let\n",
        "the foils be brought, the gentleman willing, and the\n",
        "king hold his purpose, I will win for him an I can;\n",
        "if not, I will gain nothing but my shame and the odd hits.\n",
        "OSRIC\n",
        "Shall I re-deliver you e'en so?\n",
        "HAMLET\n",
        "To this effect, sir; after what flourish your nature will.\n",
        "OSRIC\n",
        "I commend my duty to your lordship.\n",
        "HAMLET\n",
        "Yours, yours.\n",
        "Exit OSRIC\n",
        "\n",
        "He does well to commend it himself; there are no\n",
        "tongues else for's turn.\n",
        "HORATIO\n",
        "This lapwing runs away with the shell on his head.\n",
        "HAMLET\n",
        "He did comply with his dug, before he sucked it.\n",
        "Thus has he--and many more of the same bevy that I\n",
        "know the dressy age dotes on--only got the tune of\n",
        "the time and outward habit of encounter; a kind of\n",
        "yesty collection, which carries them through and\n",
        "through the most fond and winnowed opinions; and do\n",
        "but blow them to their trial, the bubbles are out.\n",
        "Enter a Lord\n",
        "\n",
        "Lord\n",
        "My lord, his majesty commended him to you by young\n",
        "Osric, who brings back to him that you attend him in\n",
        "the hall: he sends to know if your pleasure hold to\n",
        "play with Laertes, or that you will take longer time.\n",
        "HAMLET\n",
        "I am constant to my purpose; they follow the king's\n",
        "pleasure: if his fitness speaks, mine is ready; now\n",
        "or whensoever, provided I be so able as now.\n",
        "Lord\n",
        "The king and queen and all are coming down.\n",
        "HAMLET\n",
        "In happy time.\n",
        "Lord\n",
        "The queen desires you to use some gentle\n",
        "entertainment to Laertes before you fall to play.\n",
        "HAMLET\n",
        "She well instructs me.\n",
        "Exit Lord\n",
        "\n",
        "HORATIO\n",
        "You will lose this wager, my lord.\n",
        "HAMLET\n",
        "I do not think so: since he went into France, I\n",
        "have been in continual practise: I shall win at the\n",
        "odds. But thou wouldst not think how ill all's here\n",
        "about my heart: but it is no matter.\n",
        "HORATIO\n",
        "Nay, good my lord,--\n",
        "HAMLET\n",
        "It is but foolery; but it is such a kind of\n",
        "gain-giving, as would perhaps trouble a woman.\n",
        "HORATIO\n",
        "If your mind dislike any thing, obey it: I will\n",
        "forestall their repair hither, and say you are not\n",
        "fit.\n",
        "HAMLET\n",
        "Not a whit, we defy augury: there's a special\n",
        "providence in the fall of a sparrow. If it be now,\n",
        "'tis not to come; if it be not to come, it will be\n",
        "now; if it be not now, yet it will come: the\n",
        "readiness is all: since no man has aught of what he\n",
        "leaves, what is't to leave betimes?\n",
        "Enter KING CLAUDIUS, QUEEN GERTRUDE, LAERTES, Lords, OSRIC, and Attendants with foils, & c\n",
        "\n",
        "KING CLAUDIUS\n",
        "Come, Hamlet, come, and take this hand from me.\n",
        "KING CLAUDIUS puts LAERTES' hand into HAMLET's\n",
        "\n",
        "HAMLET\n",
        "Give me your pardon, sir: I've done you wrong;\n",
        "But pardon't, as you are a gentleman.\n",
        "This presence knows,\n",
        "And you must needs have heard, how I am punish'd\n",
        "With sore distraction. What I have done,\n",
        "That might your nature, honour and exception\n",
        "Roughly awake, I here proclaim was madness.\n",
        "Was't Hamlet wrong'd Laertes? Never Hamlet:\n",
        "If Hamlet from himself be ta'en away,\n",
        "And when he's not himself does wrong Laertes,\n",
        "Then Hamlet does it not, Hamlet denies it.\n",
        "Who does it, then? His madness: if't be so,\n",
        "Hamlet is of the faction that is wrong'd;\n",
        "His madness is poor Hamlet's enemy.\n",
        "Sir, in this audience,\n",
        "Let my disclaiming from a purposed evil\n",
        "Free me so far in your most generous thoughts,\n",
        "That I have shot mine arrow o'er the house,\n",
        "And hurt my brother.\n",
        "LAERTES\n",
        "I am satisfied in nature,\n",
        "Whose motive, in this case, should stir me most\n",
        "To my revenge: but in my terms of honour\n",
        "I stand aloof; and will no reconcilement,\n",
        "Till by some elder masters, of known honour,\n",
        "I have a voice and precedent of peace,\n",
        "To keep my name ungored. But till that time,\n",
        "I do receive your offer'd love like love,\n",
        "And will not wrong it.\n",
        "HAMLET\n",
        "I embrace it freely;\n",
        "And will this brother's wager frankly play.\n",
        "Give us the foils. Come on.\n",
        "LAERTES\n",
        "Come, one for me.\n",
        "HAMLET\n",
        "I'll be your foil, Laertes: in mine ignorance\n",
        "Your skill shall, like a star i' the darkest night,\n",
        "Stick fiery off indeed.\n",
        "LAERTES\n",
        "You mock me, sir.\n",
        "HAMLET\n",
        "No, by this hand.\n",
        "KING CLAUDIUS\n",
        "Give them the foils, young Osric. Cousin Hamlet,\n",
        "You know the wager?\n",
        "HAMLET\n",
        "Very well, my lord\n",
        "Your grace hath laid the odds o' the weaker side.\n",
        "KING CLAUDIUS\n",
        "I do not fear it; I have seen you both:\n",
        "But since he is better'd, we have therefore odds.\n",
        "LAERTES\n",
        "This is too heavy, let me see another.\n",
        "HAMLET\n",
        "This likes me well. These foils have all a length?\n",
        "They prepare to play\n",
        "\n",
        "OSRIC\n",
        "Ay, my good lord.\n",
        "KING CLAUDIUS\n",
        "Set me the stoops of wine upon that table.\n",
        "If Hamlet give the first or second hit,\n",
        "Or quit in answer of the third exchange,\n",
        "Let all the battlements their ordnance fire:\n",
        "The king shall drink to Hamlet's better breath;\n",
        "And in the cup an union shall he throw,\n",
        "Richer than that which four successive kings\n",
        "In Denmark's crown have worn. Give me the cups;\n",
        "And let the kettle to the trumpet speak,\n",
        "The trumpet to the cannoneer without,\n",
        "The cannons to the heavens, the heavens to earth,\n",
        "'Now the king dunks to Hamlet.' Come, begin:\n",
        "And you, the judges, bear a wary eye.\n",
        "HAMLET\n",
        "Come on, sir.\n",
        "LAERTES\n",
        "Come, my lord.\n",
        "They play\n",
        "\n",
        "HAMLET\n",
        "One.\n",
        "LAERTES\n",
        "No.\n",
        "HAMLET\n",
        "Judgment.\n",
        "OSRIC\n",
        "A hit, a very palpable hit.\n",
        "LAERTES\n",
        "Well; again.\n",
        "KING CLAUDIUS\n",
        "Stay; give me drink. Hamlet, this pearl is thine;\n",
        "Here's to thy health.\n",
        "Trumpets sound, and cannon shot off within\n",
        "\n",
        "Give him the cup.\n",
        "HAMLET\n",
        "I'll play this bout first; set it by awhile. Come.\n",
        "They play\n",
        "\n",
        "Another hit; what say you?\n",
        "LAERTES\n",
        "A touch, a touch, I do confess.\n",
        "KING CLAUDIUS\n",
        "Our son shall win.\n",
        "QUEEN GERTRUDE\n",
        "He's fat, and scant of breath.\n",
        "Here, Hamlet, take my napkin, rub thy brows;\n",
        "The queen carouses to thy fortune, Hamlet.\n",
        "HAMLET\n",
        "Good madam!\n",
        "KING CLAUDIUS\n",
        "Gertrude, do not drink.\n",
        "QUEEN GERTRUDE\n",
        "I will, my lord; I pray you, pardon me.\n",
        "KING CLAUDIUS\n",
        "[Aside] It is the poison'd cup: it is too late.\n",
        "HAMLET\n",
        "I dare not drink yet, madam; by and by.\n",
        "QUEEN GERTRUDE\n",
        "Come, let me wipe thy face.\n",
        "LAERTES\n",
        "My lord, I'll hit him now.\n",
        "KING CLAUDIUS\n",
        "I do not think't.\n",
        "LAERTES\n",
        "[Aside] And yet 'tis almost 'gainst my conscience.\n",
        "HAMLET\n",
        "Come, for the third, Laertes: you but dally;\n",
        "I pray you, pass with your best violence;\n",
        "I am afeard you make a wanton of me.\n",
        "LAERTES\n",
        "Say you so? come on.\n",
        "They play\n",
        "\n",
        "OSRIC\n",
        "Nothing, neither way.\n",
        "LAERTES\n",
        "Have at you now!\n",
        "LAERTES wounds HAMLET; then in scuffling, they change rapiers, and HAMLET wounds LAERTES\n",
        "\n",
        "KING CLAUDIUS\n",
        "Part them; they are incensed.\n",
        "HAMLET\n",
        "Nay, come, again.\n",
        "QUEEN GERTRUDE falls\n",
        "\n",
        "OSRIC\n",
        "Look to the queen there, ho!\n",
        "HORATIO\n",
        "They bleed on both sides. How is it, my lord?\n",
        "OSRIC\n",
        "How is't, Laertes?\n",
        "LAERTES\n",
        "Why, as a woodcock to mine own springe, Osric;\n",
        "I am justly kill'd with mine own treachery.\n",
        "HAMLET\n",
        "How does the queen?\n",
        "KING CLAUDIUS\n",
        "She swounds to see them bleed.\n",
        "QUEEN GERTRUDE\n",
        "No, no, the drink, the drink,--O my dear Hamlet,--\n",
        "The drink, the drink! I am poison'd.\n",
        "Dies\n",
        "\n",
        "HAMLET\n",
        "O villany! Ho! let the door be lock'd:\n",
        "Treachery! Seek it out.\n",
        "LAERTES\n",
        "It is here, Hamlet: Hamlet, thou art slain;\n",
        "No medicine in the world can do thee good;\n",
        "In thee there is not half an hour of life;\n",
        "The treacherous instrument is in thy hand,\n",
        "Unbated and envenom'd: the foul practise\n",
        "Hath turn'd itself on me lo, here I lie,\n",
        "Never to rise again: thy mother's poison'd:\n",
        "I can no more: the king, the king's to blame.\n",
        "HAMLET\n",
        "The point!--envenom'd too!\n",
        "Then, venom, to thy work.\n",
        "Stabs KING CLAUDIUS\n",
        "\n",
        "All\n",
        "Treason! treason!\n",
        "KING CLAUDIUS\n",
        "O, yet defend me, friends; I am but hurt.\n",
        "HAMLET\n",
        "Here, thou incestuous, murderous, damned Dane,\n",
        "Drink off this potion. Is thy union here?\n",
        "Follow my mother.\n",
        "KING CLAUDIUS dies\n",
        "\n",
        "LAERTES\n",
        "He is justly served;\n",
        "It is a poison temper'd by himself.\n",
        "Exchange forgiveness with me, noble Hamlet:\n",
        "Mine and my father's death come not upon thee,\n",
        "Nor thine on me.\n",
        "Dies\n",
        "\n",
        "HAMLET\n",
        "Heaven make thee free of it! I follow thee.\n",
        "I am dead, Horatio. Wretched queen, adieu!\n",
        "You that look pale and tremble at this chance,\n",
        "That are but mutes or audience to this act,\n",
        "Had I but time--as this fell sergeant, death,\n",
        "Is strict in his arrest--O, I could tell you--\n",
        "But let it be. Horatio, I am dead;\n",
        "Thou livest; report me and my cause aright\n",
        "To the unsatisfied.\n",
        "HORATIO\n",
        "Never believe it:\n",
        "I am more an antique Roman than a Dane:\n",
        "Here's yet some liquor left.\n",
        "HAMLET\n",
        "As thou'rt a man,\n",
        "Give me the cup: let go; by heaven, I'll have't.\n",
        "O good Horatio, what a wounded name,\n",
        "Things standing thus unknown, shall live behind me!\n",
        "If thou didst ever hold me in thy heart\n",
        "Absent thee from felicity awhile,\n",
        "And in this harsh world draw thy breath in pain,\n",
        "To tell my story.\n",
        "March afar off, and shot within\n",
        "\n",
        "What warlike noise is this?\n",
        "OSRIC\n",
        "Young Fortinbras, with conquest come from Poland,\n",
        "To the ambassadors of England gives\n",
        "This warlike volley.\n",
        "HAMLET\n",
        "O, I die, Horatio;\n",
        "The potent poison quite o'er-crows my spirit:\n",
        "I cannot live to hear the news from England;\n",
        "But I do prophesy the election lights\n",
        "On Fortinbras: he has my dying voice;\n",
        "So tell him, with the occurrents, more and less,\n",
        "Which have solicited. The rest is silence.\n",
        "Dies\n",
        "\n",
        "HORATIO\n",
        "Now cracks a noble heart. Good night sweet prince:\n",
        "And flights of angels sing thee to thy rest!\n",
        "Why does the drum come hither?\n",
        "March within\n",
        "\n",
        "Enter FORTINBRAS, the English Ambassadors, and others\n",
        "\n",
        "PRINCE FORTINBRAS\n",
        "Where is this sight?\n",
        "HORATIO\n",
        "What is it ye would see?\n",
        "If aught of woe or wonder, cease your search.\n",
        "PRINCE FORTINBRAS\n",
        "This quarry cries on havoc. O proud death,\n",
        "What feast is toward in thine eternal cell,\n",
        "That thou so many princes at a shot\n",
        "So bloodily hast struck?\n",
        "First Ambassador\n",
        "The sight is dismal;\n",
        "And our affairs from England come too late:\n",
        "The ears are senseless that should give us hearing,\n",
        "To tell him his commandment is fulfill'd,\n",
        "That Rosencrantz and Guildenstern are dead:\n",
        "Where should we have our thanks?\n",
        "HORATIO\n",
        "Not from his mouth,\n",
        "Had it the ability of life to thank you:\n",
        "He never gave commandment for their death.\n",
        "But since, so jump upon this bloody question,\n",
        "You from the Polack wars, and you from England,\n",
        "Are here arrived give order that these bodies\n",
        "High on a stage be placed to the view;\n",
        "And let me speak to the yet unknowing world\n",
        "How these things came about: so shall you hear\n",
        "Of carnal, bloody, and unnatural acts,\n",
        "Of accidental judgments, casual slaughters,\n",
        "Of deaths put on by cunning and forced cause,\n",
        "And, in this upshot, purposes mistook\n",
        "Fall'n on the inventors' reads: all this can I\n",
        "Truly deliver.\n",
        "PRINCE FORTINBRAS\n",
        "Let us haste to hear it,\n",
        "And call the noblest to the audience.\n",
        "For me, with sorrow I embrace my fortune:\n",
        "I have some rights of memory in this kingdom,\n",
        "Which now to claim my vantage doth invite me.\n",
        "HORATIO\n",
        "Of that I shall have also cause to speak,\n",
        "And from his mouth whose voice will draw on more;\n",
        "But let this same be presently perform'd,\n",
        "Even while men's minds are wild; lest more mischance\n",
        "On plots and errors, happen.\n",
        "PRINCE FORTINBRAS\n",
        "Let four captains\n",
        "Bear Hamlet, like a soldier, to the stage;\n",
        "For he was likely, had he been put on,\n",
        "To have proved most royally: and, for his passage,\n",
        "The soldiers' music and the rites of war\n",
        "Speak loudly for him.\n",
        "Take up the bodies: such a sight as this\n",
        "Becomes the field, but here shows much amiss.\n",
        "Go, bid the soldiers shoot.\n",
        "A dead march. Exeunt, bearing off the dead bodies; after which a peal of ordnance is shot off\"\"\""
      ],
      "metadata": {
        "id": "aKwA-Nkqa6WK"
      },
      "execution_count": 79,
      "outputs": []
    },
    {
      "cell_type": "code",
      "source": [
        "poem = '''TWO roads diverged in a yellow wood,\n",
        "And sorry I could not travel both\n",
        "And be one traveler, long I stood\n",
        "And looked down one as far as I could\n",
        "To where it bent in the undergrowth;\n",
        "\n",
        "Then took the other, as just as fair,\n",
        "And having perhaps the better claim,\n",
        "Because it was grassy and wanted wear;\n",
        "Though as for that the passing there\n",
        "Had worn them really about the same,\n",
        "\n",
        "And both that morning equally lay\n",
        "In leaves no step had trodden black.\n",
        "Oh, I kept the first for another day!\n",
        "Yet knowing how way leads on to way,\n",
        "I doubted if I should ever come back.\n",
        "\n",
        "I shall be telling this with a sigh\n",
        "Somewhere ages and ages hence:\n",
        "Two roads diverged in a wood, and I—\n",
        "I took the one less traveled by,\n",
        "And that has made all the difference.'''"
      ],
      "metadata": {
        "id": "lv-gsriYjpG9"
      },
      "execution_count": null,
      "outputs": []
    },
    {
      "cell_type": "code",
      "source": [
        "poem.lower().split()"
      ],
      "metadata": {
        "colab": {
          "base_uri": "https://localhost:8080/"
        },
        "id": "7UOAP03wkITd",
        "outputId": "793de5ad-b45b-47e3-f574-8f93e7309d12"
      },
      "execution_count": 80,
      "outputs": [
        {
          "output_type": "execute_result",
          "data": {
            "text/plain": [
              "['two',\n",
              " 'roads',\n",
              " 'diverged',\n",
              " 'in',\n",
              " 'a',\n",
              " 'yellow',\n",
              " 'wood,',\n",
              " 'and',\n",
              " 'sorry',\n",
              " 'i',\n",
              " 'could',\n",
              " 'not',\n",
              " 'travel',\n",
              " 'both',\n",
              " 'and',\n",
              " 'be',\n",
              " 'one',\n",
              " 'traveler,',\n",
              " 'long',\n",
              " 'i',\n",
              " 'stood',\n",
              " 'and',\n",
              " 'looked',\n",
              " 'down',\n",
              " 'one',\n",
              " 'as',\n",
              " 'far',\n",
              " 'as',\n",
              " 'i',\n",
              " 'could',\n",
              " 'to',\n",
              " 'where',\n",
              " 'it',\n",
              " 'bent',\n",
              " 'in',\n",
              " 'the',\n",
              " 'undergrowth;',\n",
              " 'then',\n",
              " 'took',\n",
              " 'the',\n",
              " 'other,',\n",
              " 'as',\n",
              " 'just',\n",
              " 'as',\n",
              " 'fair,',\n",
              " 'and',\n",
              " 'having',\n",
              " 'perhaps',\n",
              " 'the',\n",
              " 'better',\n",
              " 'claim,',\n",
              " 'because',\n",
              " 'it',\n",
              " 'was',\n",
              " 'grassy',\n",
              " 'and',\n",
              " 'wanted',\n",
              " 'wear;',\n",
              " 'though',\n",
              " 'as',\n",
              " 'for',\n",
              " 'that',\n",
              " 'the',\n",
              " 'passing',\n",
              " 'there',\n",
              " 'had',\n",
              " 'worn',\n",
              " 'them',\n",
              " 'really',\n",
              " 'about',\n",
              " 'the',\n",
              " 'same,',\n",
              " 'and',\n",
              " 'both',\n",
              " 'that',\n",
              " 'morning',\n",
              " 'equally',\n",
              " 'lay',\n",
              " 'in',\n",
              " 'leaves',\n",
              " 'no',\n",
              " 'step',\n",
              " 'had',\n",
              " 'trodden',\n",
              " 'black.',\n",
              " 'oh,',\n",
              " 'i',\n",
              " 'kept',\n",
              " 'the',\n",
              " 'first',\n",
              " 'for',\n",
              " 'another',\n",
              " 'day!',\n",
              " 'yet',\n",
              " 'knowing',\n",
              " 'how',\n",
              " 'way',\n",
              " 'leads',\n",
              " 'on',\n",
              " 'to',\n",
              " 'way,',\n",
              " 'i',\n",
              " 'doubted',\n",
              " 'if',\n",
              " 'i',\n",
              " 'should',\n",
              " 'ever',\n",
              " 'come',\n",
              " 'back.',\n",
              " 'i',\n",
              " 'shall',\n",
              " 'be',\n",
              " 'telling',\n",
              " 'this',\n",
              " 'with',\n",
              " 'a',\n",
              " 'sigh',\n",
              " 'somewhere',\n",
              " 'ages',\n",
              " 'and',\n",
              " 'ages',\n",
              " 'hence:',\n",
              " 'two',\n",
              " 'roads',\n",
              " 'diverged',\n",
              " 'in',\n",
              " 'a',\n",
              " 'wood,',\n",
              " 'and',\n",
              " 'i—',\n",
              " 'i',\n",
              " 'took',\n",
              " 'the',\n",
              " 'one',\n",
              " 'less',\n",
              " 'traveled',\n",
              " 'by,',\n",
              " 'and',\n",
              " 'that',\n",
              " 'has',\n",
              " 'made',\n",
              " 'all',\n",
              " 'the',\n",
              " 'difference.']"
            ]
          },
          "metadata": {},
          "execution_count": 80
        }
      ]
    },
    {
      "cell_type": "code",
      "source": [
        "wordcounts = {}\n",
        "\n",
        "for word in poem.lower().split():\n",
        "    if word in wordcounts:\n",
        "        wordcounts[word] += 1\n",
        "    else:\n",
        "        wordcounts[word] = 1"
      ],
      "metadata": {
        "id": "_0Wxwcc7kLi5"
      },
      "execution_count": 81,
      "outputs": []
    },
    {
      "cell_type": "code",
      "source": [
        "for word in sorted(wordcounts):\n",
        "    print(word, wordcounts[word])"
      ],
      "metadata": {
        "colab": {
          "base_uri": "https://localhost:8080/"
        },
        "id": "pCjdjTq6kONG",
        "outputId": "e6b8f691-9a6d-44f2-8132-0c13177998a6"
      },
      "execution_count": 82,
      "outputs": [
        {
          "output_type": "stream",
          "name": "stdout",
          "text": [
            "a 3\n",
            "about 1\n",
            "ages 2\n",
            "all 1\n",
            "and 9\n",
            "another 1\n",
            "as 5\n",
            "back. 1\n",
            "be 2\n",
            "because 1\n",
            "bent 1\n",
            "better 1\n",
            "black. 1\n",
            "both 2\n",
            "by, 1\n",
            "claim, 1\n",
            "come 1\n",
            "could 2\n",
            "day! 1\n",
            "difference. 1\n",
            "diverged 2\n",
            "doubted 1\n",
            "down 1\n",
            "equally 1\n",
            "ever 1\n",
            "fair, 1\n",
            "far 1\n",
            "first 1\n",
            "for 2\n",
            "grassy 1\n",
            "had 2\n",
            "has 1\n",
            "having 1\n",
            "hence: 1\n",
            "how 1\n",
            "i 8\n",
            "if 1\n",
            "in 4\n",
            "it 2\n",
            "i— 1\n",
            "just 1\n",
            "kept 1\n",
            "knowing 1\n",
            "lay 1\n",
            "leads 1\n",
            "leaves 1\n",
            "less 1\n",
            "long 1\n",
            "looked 1\n",
            "made 1\n",
            "morning 1\n",
            "no 1\n",
            "not 1\n",
            "oh, 1\n",
            "on 1\n",
            "one 3\n",
            "other, 1\n",
            "passing 1\n",
            "perhaps 1\n",
            "really 1\n",
            "roads 2\n",
            "same, 1\n",
            "shall 1\n",
            "should 1\n",
            "sigh 1\n",
            "somewhere 1\n",
            "sorry 1\n",
            "step 1\n",
            "stood 1\n",
            "telling 1\n",
            "that 3\n",
            "the 8\n",
            "them 1\n",
            "then 1\n",
            "there 1\n",
            "this 1\n",
            "though 1\n",
            "to 2\n",
            "took 2\n",
            "travel 1\n",
            "traveled 1\n",
            "traveler, 1\n",
            "trodden 1\n",
            "two 2\n",
            "undergrowth; 1\n",
            "wanted 1\n",
            "was 1\n",
            "way 1\n",
            "way, 1\n",
            "wear; 1\n",
            "where 1\n",
            "with 1\n",
            "wood, 2\n",
            "worn 1\n",
            "yellow 1\n",
            "yet 1\n"
          ]
        }
      ]
    },
    {
      "cell_type": "code",
      "source": [
        "for word in sorted(wordcounts, key=wordcounts.get, reverse=True):\n",
        "    print(word, wordcounts[word])"
      ],
      "metadata": {
        "colab": {
          "base_uri": "https://localhost:8080/"
        },
        "id": "5wAjw11BkP1o",
        "outputId": "bcec1270-2f38-4d5d-f219-3be4c1f99d8c"
      },
      "execution_count": 83,
      "outputs": [
        {
          "output_type": "stream",
          "name": "stdout",
          "text": [
            "and 9\n",
            "i 8\n",
            "the 8\n",
            "as 5\n",
            "in 4\n",
            "a 3\n",
            "one 3\n",
            "that 3\n",
            "two 2\n",
            "roads 2\n",
            "diverged 2\n",
            "wood, 2\n",
            "could 2\n",
            "both 2\n",
            "be 2\n",
            "to 2\n",
            "it 2\n",
            "took 2\n",
            "for 2\n",
            "had 2\n",
            "ages 2\n",
            "yellow 1\n",
            "sorry 1\n",
            "not 1\n",
            "travel 1\n",
            "traveler, 1\n",
            "long 1\n",
            "stood 1\n",
            "looked 1\n",
            "down 1\n",
            "far 1\n",
            "where 1\n",
            "bent 1\n",
            "undergrowth; 1\n",
            "then 1\n",
            "other, 1\n",
            "just 1\n",
            "fair, 1\n",
            "having 1\n",
            "perhaps 1\n",
            "better 1\n",
            "claim, 1\n",
            "because 1\n",
            "was 1\n",
            "grassy 1\n",
            "wanted 1\n",
            "wear; 1\n",
            "though 1\n",
            "passing 1\n",
            "there 1\n",
            "worn 1\n",
            "them 1\n",
            "really 1\n",
            "about 1\n",
            "same, 1\n",
            "morning 1\n",
            "equally 1\n",
            "lay 1\n",
            "leaves 1\n",
            "no 1\n",
            "step 1\n",
            "trodden 1\n",
            "black. 1\n",
            "oh, 1\n",
            "kept 1\n",
            "first 1\n",
            "another 1\n",
            "day! 1\n",
            "yet 1\n",
            "knowing 1\n",
            "how 1\n",
            "way 1\n",
            "leads 1\n",
            "on 1\n",
            "way, 1\n",
            "doubted 1\n",
            "if 1\n",
            "should 1\n",
            "ever 1\n",
            "come 1\n",
            "back. 1\n",
            "shall 1\n",
            "telling 1\n",
            "this 1\n",
            "with 1\n",
            "sigh 1\n",
            "somewhere 1\n",
            "hence: 1\n",
            "i— 1\n",
            "less 1\n",
            "traveled 1\n",
            "by, 1\n",
            "has 1\n",
            "made 1\n",
            "all 1\n",
            "difference. 1\n"
          ]
        }
      ]
    },
    {
      "cell_type": "code",
      "source": [
        "import string\n",
        "string.punctuation"
      ],
      "metadata": {
        "colab": {
          "base_uri": "https://localhost:8080/",
          "height": 35
        },
        "id": "9MhAElYfkcDi",
        "outputId": "d1d5a056-00f5-4d74-cb04-febb99076a4e"
      },
      "execution_count": 89,
      "outputs": [
        {
          "output_type": "execute_result",
          "data": {
            "text/plain": [
              "'!\"#$%&\\'()*+,-./:;<=>?@[\\\\]^_`{|}~'"
            ],
            "application/vnd.google.colaboratory.intrinsic+json": {
              "type": "string"
            }
          },
          "metadata": {},
          "execution_count": 89
        }
      ]
    },
    {
      "cell_type": "code",
      "source": [
        "list('!shoot.')"
      ],
      "metadata": {
        "colab": {
          "base_uri": "https://localhost:8080/"
        },
        "id": "thAavdqBkUc2",
        "outputId": "5b3b0723-bb71-4929-bc83-10542cb34f98"
      },
      "execution_count": 84,
      "outputs": [
        {
          "output_type": "execute_result",
          "data": {
            "text/plain": [
              "['!', 's', 'h', 'o', 'o', 't', '.']"
            ]
          },
          "metadata": {},
          "execution_count": 84
        }
      ]
    },
    {
      "cell_type": "code",
      "source": [
        "[char for char in list('!shoot.')\n",
        "                if char not in string.punctuation]"
      ],
      "metadata": {
        "colab": {
          "base_uri": "https://localhost:8080/"
        },
        "id": "OGhKymmMkZEq",
        "outputId": "9102eee8-d114-4cfc-e933-f8a167570ab1"
      },
      "execution_count": 92,
      "outputs": [
        {
          "output_type": "execute_result",
          "data": {
            "text/plain": [
              "['s', 'h', 'o', 'o', 't']"
            ]
          },
          "metadata": {},
          "execution_count": 92
        }
      ]
    },
    {
      "cell_type": "code",
      "source": [
        "'word!'.isalpha() # we can also use isalpha to determine if punctuation is present"
      ],
      "metadata": {
        "colab": {
          "base_uri": "https://localhost:8080/"
        },
        "id": "bT0b0BQwka6v",
        "outputId": "3dc920cb-1a1c-4b82-8145-5bf6b32eb4b4"
      },
      "execution_count": 93,
      "outputs": [
        {
          "output_type": "execute_result",
          "data": {
            "text/plain": [
              "False"
            ]
          },
          "metadata": {},
          "execution_count": 93
        }
      ]
    },
    {
      "cell_type": "code",
      "source": [
        "wordcounts = {}\n",
        "\n",
        "for word in hamlet.lower().split():\n",
        "    word = ''.join([char for char in word\n",
        "                    if char not in string.punctuation])\n",
        "    if word in wordcounts:\n",
        "        wordcounts[word] += 1\n",
        "    else:\n",
        "        wordcounts[word] = 1\n",
        "\n",
        "for word in sorted(wordcounts, key=wordcounts.get, reverse=True)[:10]:\n",
        "    print(word, wordcounts[word])"
      ],
      "metadata": {
        "colab": {
          "base_uri": "https://localhost:8080/"
        },
        "id": "Mj-hLXsOkqWD",
        "outputId": "19841efe-009e-45e7-b6cb-9976cac2f802"
      },
      "execution_count": 94,
      "outputs": [
        {
          "output_type": "stream",
          "name": "stdout",
          "text": [
            "the 1142\n",
            "and 964\n",
            "to 737\n",
            "of 669\n",
            "i 567\n",
            "you 546\n",
            "a 531\n",
            "my 513\n",
            "hamlet 463\n",
            "in 436\n"
          ]
        }
      ]
    },
    {
      "cell_type": "code",
      "source": [],
      "metadata": {
        "id": "lcCbqUREktRJ"
      },
      "execution_count": null,
      "outputs": []
    }
  ]
}